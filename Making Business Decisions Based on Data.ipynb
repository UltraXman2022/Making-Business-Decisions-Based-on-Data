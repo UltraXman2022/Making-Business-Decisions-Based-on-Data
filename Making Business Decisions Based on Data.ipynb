{
 "cells": [
  {
   "cell_type": "markdown",
   "id": "ef1bffd7",
   "metadata": {},
   "source": [
    "<center id='top'><h1>Project VII<br><br>Making Business Decisions Based on Data</h1></center>"
   ]
  },
  {
   "cell_type": "markdown",
   "id": "f131056d",
   "metadata": {},
   "source": [
    "<hr><h3>Description:</h3>\n",
    "\n",
    "You are an analyst in a large online store and together with the company's marketing department you have decided on a step that includes a number of hypotheses tests that should help to give a better picture how to bring the store into it's maximize profits\n",
    "\n",
    "As part of your role in the force you were asked to prepare a list of hypothesis tests and rate their importance including performing an A / B test that you had to analyze its results\n",
    "\n",
    "<hr> <h3>Our To Do list:</h3><br>\n",
    "\n",
    "<b>Part I \"Prioritizing Hypotheses</b>\n",
    "\n",
    "to check our list and prioritizing it we will use ICE and RICE , our list include 9 9 hypotheses , that can bring our Online Store to better , bigger revenue.\n",
    "\n",
    "<br><b>Part II \"A/B Test Analysis\"</b>\n",
    "\n",
    "for the secand part we have to \"orders_us & visits_us\" to do our test <br><br>\n",
    "<hr>"
   ]
  },
  {
   "cell_type": "markdown",
   "id": "f9b193fc",
   "metadata": {},
   "source": [
    "<h2><u>Index:</u></h2><br> \n",
    "<a href=\"#1\">Download the data and prepare it for analysis</a>\n",
    "<p><b><u><a href=\"#2\" style=\"color:darkgreen;\">Part I \"Prioritizing Hypotheses</a></u></b></p>\n",
    "<ol>    \n",
    "<li><a href=\"#p1\">Apply the ICE framework to prioritize hypotheses</a></li> <br>\n",
    "<li><a href=\"#p2\">Apply the RICE framework to prioritize hypotheses</a></li> \n",
    "<br>\n",
    "<li><a href=\"#p3\">Show how the prioritization of hypotheses changes when you use RICE instead of ICE</a></li></ol>\n",
    "\n",
    "<p><b><u><a href=\"#P2\" style=\"color:darkgreen;\">Part II - Analyze the A/B test</a></u></b></p>\n",
    "<ol>    \n",
    "<li><a href=\"#q1\">Graph cumulative revenue by group</a></li> \n",
    "<br>    \n",
    "<li><a href=\"#q2\">Graph cumulative average order size by group</a></li> \n",
    "<br>    \n",
    "<li><a href=\"#q3\">Graph the relative difference in cumulative average order size for group B compared with group A</a></li> \n",
    "<br>    \n",
    "<li><a href=\"#q4\">Calculate each group's conversion rate as the ratio of orders to the number of visits for each day</a></li> \n",
    "<br>    \n",
    "<li><a href=\"#q5\">Plot a scatter chart of the number of orders per user</a></li> \n",
    "<br>    \n",
    "<li><a href=\"#q6\">Calculate the 95th and 99th percentiles for the number of orders per user</a></li> \n",
    "<br>    \n",
    "<li><a href=\"#q7\">Plot a scatter chart of order prices</a></li> \n",
    "<br>   \n",
    "<li><a href=\"#q8\">Calculate the 95th and 99th percentiles of order prices</a></li> \n",
    "<br>\n",
    "<li><a href=\"#q9\">Find the statistical significance of the difference in conversion between the groups using the raw data</a></li>\n",
    "<br>\n",
    "<li><a href=\"#p10\">Find the statistical significance of the difference in average order size between the groups using the raw data</a></li> \n",
    "<br>  \n",
    "<li><a href=\"#p11\">Find the statistical significance of the difference in conversion between the groups using the filtered data</a></li> \n",
    "<br>    \n",
    "<li><a href=\"#p12\">Find the statistical significance of the difference in average order size between the groups using the filtered data</a></li> \n",
    "<br>    \n",
    "<li><a href=\"#q13\">Make a decision based on the test results</a></li>   \n",
    " </ol>       \n",
    "<br>   \n",
    "<a href=\"#general_conclusion\">III - Conclusion</a>\n",
    "</div>"
   ]
  },
  {
   "cell_type": "markdown",
   "id": "9d7b00e1",
   "metadata": {},
   "source": [
    "<hr id=\"1\"><h2>I - Download the data and prepare it for analysis:</h2><br><i>Loading all the libraries:pandas,numpy,matplotlib etc</i>"
   ]
  },
  {
   "cell_type": "code",
   "execution_count": 1,
   "id": "85197b63",
   "metadata": {
    "code_folding": [],
    "run_control": {
     "marked": true
    }
   },
   "outputs": [
    {
     "name": "stdout",
     "output_type": "stream",
     "text": [
      "Project libraries has been successfully been imported!\n"
     ]
    }
   ],
   "source": [
    "# import pandas and numpy for data preprocessing and manipulation\n",
    "import pandas as pd\n",
    "from scipy import stats as st\n",
    "import numpy as np\n",
    "import math\n",
    "import matplotlib.pyplot as plt\n",
    "import matplotlib.ticker as ticker\n",
    "import seaborn as sns\n",
    "import scipy.stats as stats\n",
    "import plotly.express as px \n",
    "import warnings\n",
    "warnings.filterwarnings(\"ignore\")\n",
    "from IPython.display import display_html\n",
    "from itertools import chain,cycle\n",
    "pd.set_option('max_colwidth', 400) \n",
    "sns.set_theme(style=\"darkgrid\", palette=\"pastel\")\n",
    "\n",
    "print('Project libraries has been successfully been imported!')"
   ]
  },
  {
   "cell_type": "markdown",
   "id": "161e7e01",
   "metadata": {},
   "source": [
    "<hr>\n",
    "<i>Loading all the dataset</i>"
   ]
  },
  {
   "cell_type": "code",
   "execution_count": 2,
   "id": "2adda7d2",
   "metadata": {
    "code_folding": [],
    "run_control": {
     "marked": false
    }
   },
   "outputs": [
    {
     "name": "stdout",
     "output_type": "stream",
     "text": [
      "Data has been read correctly!\n"
     ]
    }
   ],
   "source": [
    "# read the data\n",
    "hypotheses = pd.read_csv('/datasets/hypotheses_us.csv' , sep=';')\n",
    "    \n",
    "orders = pd.read_csv('/datasets/orders_us.csv', parse_dates=['date'],dayfirst =True)\n",
    "    \n",
    "visits = pd.read_csv('/datasets/visits_us.csv',parse_dates =['date'],dayfirst =True) \n",
    "\n",
    "print('Data has been read correctly!')"
   ]
  },
  {
   "cell_type": "markdown",
   "id": "e1c3e9ad",
   "metadata": {},
   "source": [
    "<hr><h2>First look at our datasets:</h2><br><i>(*Head*,*Tail*,*Info*,*Describe*,*Zeros*,*Nan*,*Shape*,*Duplicate*,*Dtype etc*,sbs display table)</i><br><br>"
   ]
  },
  {
   "cell_type": "code",
   "execution_count": 3,
   "id": "24e2f356",
   "metadata": {
    "code_folding": [],
    "run_control": {
     "marked": false
    }
   },
   "outputs": [],
   "source": [
    "# function to display tables side by side for analysis\n",
    "def sbs(*args,titles=cycle([''])):\n",
    "    html_str=''\n",
    "    for df,title in zip(args, chain(titles,cycle(['</br>'])) ):\n",
    "        html_str+='<th style=\"text-align:center\"><td style=\"vertical-align:top\">'\n",
    "        html_str+=f'<h6>{title}</h6>'\n",
    "        html_str+=df.to_html().replace('table','table style=\"display:inline\"')\n",
    "        html_str+='</td></th>'\n",
    "    display_html(html_str,raw=True)\n",
    "\n",
    "# Checking 0's\n",
    "def zero_check(df):\n",
    "    for i in df:\n",
    "        print(i,len(df[df[i]==0]))\n",
    "        \n",
    "# function to determine if columns in file have null values        \n",
    "def get_percent_of_na(df, num):\n",
    "    count = 0\n",
    "    df = df.copy()\n",
    "    s = (df.isna().sum() / df.shape[0])\n",
    "    for column, percent in zip(s.index, s.values):\n",
    "        num_of_nulls = df[column].isna().sum()\n",
    "        if num_of_nulls == 0:\n",
    "            continue\n",
    "        else:\n",
    "            count += 1\n",
    "        print('{} has {} nulls, which is {:.{}%} percent of Nulls'.format(column, num_of_nulls, percent, num))\n",
    "    if count != 0:\n",
    "        print(\"\\033[1m\" + 'There are {} columns with NA.'.format(count) + \"\\033[0m\")\n",
    "    else:\n",
    "        print()\n",
    "        print(\"\\033[1m\" + 'There are no columns with NA.' + \"\\033[0m\")       \n",
    "        \n",
    "# function to display general information about the dataset\n",
    "def general_info(df):\n",
    "    print(\"\\033[1m\" + \"\\033[0m\")\n",
    "    display(pd.concat([df.dtypes, df.count(),df.isna().sum(),df.isna().sum()/len(df)], keys=['type','count','na','na%'],\n",
    "                      axis=1))\n",
    "    print()\n",
    "    print(\"\\033[1m\" + 'Head:')  \n",
    "    display(df.head())\n",
    "    print()\n",
    "    print(\"\\033[1m\" + 'Tail:')\n",
    "    display(df.tail())\n",
    "    print()\n",
    "    print(\"\\033[1m\" + 'Info:')\n",
    "    print()\n",
    "    display(df.info())\n",
    "    print()\n",
    "    print(\"\\033[1m\" + 'Describe:')\n",
    "    print()\n",
    "    display(df.describe())\n",
    "    print()\n",
    "    print(\"\\033[1m\" + 'Describe include: all :')\n",
    "    print()\n",
    "    display(df.describe(include='all'))\n",
    "    print()\n",
    "    print(\"\\033[1m\" + 'nulls in the columns:')\n",
    "    print()\n",
    "    display(get_percent_of_na(df, 4))  # check this out\n",
    "    print()\n",
    "    print(\"\\033[1m\" + 'Zeros in the columns:') \n",
    "    print()\n",
    "    display(zero_check(df))\n",
    "    print()\n",
    "    print(\"\\033[1m\" + 'Shape:', df.shape)\n",
    "    print()\n",
    "    print()\n",
    "    print('Duplicated:',\"\\033[1m\" + 'We have {} duplicated rows\\n'.format(df.duplicated().sum()) + \"\\033[0m\")\n",
    "    print()\n",
    "    print(\"\\033[1m\" + 'Dtypes:')  \n",
    "    display(df.dtypes)\n",
    "    print()"
   ]
  },
  {
   "cell_type": "code",
   "execution_count": 4,
   "id": "02d75bf0",
   "metadata": {
    "scrolled": false
   },
   "outputs": [
    {
     "name": "stdout",
     "output_type": "stream",
     "text": [
      "\n",
      "\n",
      "\u001b[1minfo about `hypotheses` dataset\n",
      "\u001b[1m\u001b[0m\n"
     ]
    },
    {
     "data": {
      "text/html": [
       "<div>\n",
       "<style scoped>\n",
       "    .dataframe tbody tr th:only-of-type {\n",
       "        vertical-align: middle;\n",
       "    }\n",
       "\n",
       "    .dataframe tbody tr th {\n",
       "        vertical-align: top;\n",
       "    }\n",
       "\n",
       "    .dataframe thead th {\n",
       "        text-align: right;\n",
       "    }\n",
       "</style>\n",
       "<table border=\"1\" class=\"dataframe\">\n",
       "  <thead>\n",
       "    <tr style=\"text-align: right;\">\n",
       "      <th></th>\n",
       "      <th>type</th>\n",
       "      <th>count</th>\n",
       "      <th>na</th>\n",
       "      <th>na%</th>\n",
       "    </tr>\n",
       "  </thead>\n",
       "  <tbody>\n",
       "    <tr>\n",
       "      <th>Hypothesis</th>\n",
       "      <td>object</td>\n",
       "      <td>9</td>\n",
       "      <td>0</td>\n",
       "      <td>0.0</td>\n",
       "    </tr>\n",
       "    <tr>\n",
       "      <th>Reach</th>\n",
       "      <td>int64</td>\n",
       "      <td>9</td>\n",
       "      <td>0</td>\n",
       "      <td>0.0</td>\n",
       "    </tr>\n",
       "    <tr>\n",
       "      <th>Impact</th>\n",
       "      <td>int64</td>\n",
       "      <td>9</td>\n",
       "      <td>0</td>\n",
       "      <td>0.0</td>\n",
       "    </tr>\n",
       "    <tr>\n",
       "      <th>Confidence</th>\n",
       "      <td>int64</td>\n",
       "      <td>9</td>\n",
       "      <td>0</td>\n",
       "      <td>0.0</td>\n",
       "    </tr>\n",
       "    <tr>\n",
       "      <th>Effort</th>\n",
       "      <td>int64</td>\n",
       "      <td>9</td>\n",
       "      <td>0</td>\n",
       "      <td>0.0</td>\n",
       "    </tr>\n",
       "  </tbody>\n",
       "</table>\n",
       "</div>"
      ],
      "text/plain": [
       "              type  count  na  na%\n",
       "Hypothesis  object      9   0  0.0\n",
       "Reach        int64      9   0  0.0\n",
       "Impact       int64      9   0  0.0\n",
       "Confidence   int64      9   0  0.0\n",
       "Effort       int64      9   0  0.0"
      ]
     },
     "metadata": {},
     "output_type": "display_data"
    },
    {
     "name": "stdout",
     "output_type": "stream",
     "text": [
      "\n",
      "\u001b[1mHead:\n"
     ]
    },
    {
     "data": {
      "text/html": [
       "<div>\n",
       "<style scoped>\n",
       "    .dataframe tbody tr th:only-of-type {\n",
       "        vertical-align: middle;\n",
       "    }\n",
       "\n",
       "    .dataframe tbody tr th {\n",
       "        vertical-align: top;\n",
       "    }\n",
       "\n",
       "    .dataframe thead th {\n",
       "        text-align: right;\n",
       "    }\n",
       "</style>\n",
       "<table border=\"1\" class=\"dataframe\">\n",
       "  <thead>\n",
       "    <tr style=\"text-align: right;\">\n",
       "      <th></th>\n",
       "      <th>Hypothesis</th>\n",
       "      <th>Reach</th>\n",
       "      <th>Impact</th>\n",
       "      <th>Confidence</th>\n",
       "      <th>Effort</th>\n",
       "    </tr>\n",
       "  </thead>\n",
       "  <tbody>\n",
       "    <tr>\n",
       "      <th>0</th>\n",
       "      <td>Add two new channels for attracting traffic. This will bring 30% more users</td>\n",
       "      <td>3</td>\n",
       "      <td>10</td>\n",
       "      <td>8</td>\n",
       "      <td>6</td>\n",
       "    </tr>\n",
       "    <tr>\n",
       "      <th>1</th>\n",
       "      <td>Launch your own delivery service. This will shorten delivery time</td>\n",
       "      <td>2</td>\n",
       "      <td>5</td>\n",
       "      <td>4</td>\n",
       "      <td>10</td>\n",
       "    </tr>\n",
       "    <tr>\n",
       "      <th>2</th>\n",
       "      <td>Add product recommendation blocks to the store's site. This will increase conversion and average purchase size</td>\n",
       "      <td>8</td>\n",
       "      <td>3</td>\n",
       "      <td>7</td>\n",
       "      <td>3</td>\n",
       "    </tr>\n",
       "    <tr>\n",
       "      <th>3</th>\n",
       "      <td>Change the category structure. This will increase conversion since users will find the products they want more quickly</td>\n",
       "      <td>8</td>\n",
       "      <td>3</td>\n",
       "      <td>3</td>\n",
       "      <td>8</td>\n",
       "    </tr>\n",
       "    <tr>\n",
       "      <th>4</th>\n",
       "      <td>Change the background color on the main page. This will increase user engagement</td>\n",
       "      <td>3</td>\n",
       "      <td>1</td>\n",
       "      <td>1</td>\n",
       "      <td>1</td>\n",
       "    </tr>\n",
       "  </tbody>\n",
       "</table>\n",
       "</div>"
      ],
      "text/plain": [
       "                                                                                                               Hypothesis  \\\n",
       "0                                             Add two new channels for attracting traffic. This will bring 30% more users   \n",
       "1                                                       Launch your own delivery service. This will shorten delivery time   \n",
       "2          Add product recommendation blocks to the store's site. This will increase conversion and average purchase size   \n",
       "3  Change the category structure. This will increase conversion since users will find the products they want more quickly   \n",
       "4                                        Change the background color on the main page. This will increase user engagement   \n",
       "\n",
       "   Reach  Impact  Confidence  Effort  \n",
       "0      3      10           8       6  \n",
       "1      2       5           4      10  \n",
       "2      8       3           7       3  \n",
       "3      8       3           3       8  \n",
       "4      3       1           1       1  "
      ]
     },
     "metadata": {},
     "output_type": "display_data"
    },
    {
     "name": "stdout",
     "output_type": "stream",
     "text": [
      "\n",
      "\u001b[1mTail:\n"
     ]
    },
    {
     "data": {
      "text/html": [
       "<div>\n",
       "<style scoped>\n",
       "    .dataframe tbody tr th:only-of-type {\n",
       "        vertical-align: middle;\n",
       "    }\n",
       "\n",
       "    .dataframe tbody tr th {\n",
       "        vertical-align: top;\n",
       "    }\n",
       "\n",
       "    .dataframe thead th {\n",
       "        text-align: right;\n",
       "    }\n",
       "</style>\n",
       "<table border=\"1\" class=\"dataframe\">\n",
       "  <thead>\n",
       "    <tr style=\"text-align: right;\">\n",
       "      <th></th>\n",
       "      <th>Hypothesis</th>\n",
       "      <th>Reach</th>\n",
       "      <th>Impact</th>\n",
       "      <th>Confidence</th>\n",
       "      <th>Effort</th>\n",
       "    </tr>\n",
       "  </thead>\n",
       "  <tbody>\n",
       "    <tr>\n",
       "      <th>4</th>\n",
       "      <td>Change the background color on the main page. This will increase user engagement</td>\n",
       "      <td>3</td>\n",
       "      <td>1</td>\n",
       "      <td>1</td>\n",
       "      <td>1</td>\n",
       "    </tr>\n",
       "    <tr>\n",
       "      <th>5</th>\n",
       "      <td>Add a customer review page. This will increase the number of orders</td>\n",
       "      <td>3</td>\n",
       "      <td>2</td>\n",
       "      <td>2</td>\n",
       "      <td>3</td>\n",
       "    </tr>\n",
       "    <tr>\n",
       "      <th>6</th>\n",
       "      <td>Show banners with current offers and sales on the main page. This will boost conversion</td>\n",
       "      <td>5</td>\n",
       "      <td>3</td>\n",
       "      <td>8</td>\n",
       "      <td>3</td>\n",
       "    </tr>\n",
       "    <tr>\n",
       "      <th>7</th>\n",
       "      <td>Add a subscription form to all the main pages. This will help you compile a mailing list</td>\n",
       "      <td>10</td>\n",
       "      <td>7</td>\n",
       "      <td>8</td>\n",
       "      <td>5</td>\n",
       "    </tr>\n",
       "    <tr>\n",
       "      <th>8</th>\n",
       "      <td>Launch a promotion that gives users discounts on their birthdays</td>\n",
       "      <td>1</td>\n",
       "      <td>9</td>\n",
       "      <td>9</td>\n",
       "      <td>5</td>\n",
       "    </tr>\n",
       "  </tbody>\n",
       "</table>\n",
       "</div>"
      ],
      "text/plain": [
       "                                                                                 Hypothesis  \\\n",
       "4          Change the background color on the main page. This will increase user engagement   \n",
       "5                       Add a customer review page. This will increase the number of orders   \n",
       "6   Show banners with current offers and sales on the main page. This will boost conversion   \n",
       "7  Add a subscription form to all the main pages. This will help you compile a mailing list   \n",
       "8                          Launch a promotion that gives users discounts on their birthdays   \n",
       "\n",
       "   Reach  Impact  Confidence  Effort  \n",
       "4      3       1           1       1  \n",
       "5      3       2           2       3  \n",
       "6      5       3           8       3  \n",
       "7     10       7           8       5  \n",
       "8      1       9           9       5  "
      ]
     },
     "metadata": {},
     "output_type": "display_data"
    },
    {
     "name": "stdout",
     "output_type": "stream",
     "text": [
      "\n",
      "\u001b[1mInfo:\n",
      "\n",
      "<class 'pandas.core.frame.DataFrame'>\n",
      "RangeIndex: 9 entries, 0 to 8\n",
      "Data columns (total 5 columns):\n",
      " #   Column      Non-Null Count  Dtype \n",
      "---  ------      --------------  ----- \n",
      " 0   Hypothesis  9 non-null      object\n",
      " 1   Reach       9 non-null      int64 \n",
      " 2   Impact      9 non-null      int64 \n",
      " 3   Confidence  9 non-null      int64 \n",
      " 4   Effort      9 non-null      int64 \n",
      "dtypes: int64(4), object(1)\n",
      "memory usage: 488.0+ bytes\n"
     ]
    },
    {
     "data": {
      "text/plain": [
       "None"
      ]
     },
     "metadata": {},
     "output_type": "display_data"
    },
    {
     "name": "stdout",
     "output_type": "stream",
     "text": [
      "\n",
      "\u001b[1mDescribe:\n",
      "\n"
     ]
    },
    {
     "data": {
      "text/html": [
       "<div>\n",
       "<style scoped>\n",
       "    .dataframe tbody tr th:only-of-type {\n",
       "        vertical-align: middle;\n",
       "    }\n",
       "\n",
       "    .dataframe tbody tr th {\n",
       "        vertical-align: top;\n",
       "    }\n",
       "\n",
       "    .dataframe thead th {\n",
       "        text-align: right;\n",
       "    }\n",
       "</style>\n",
       "<table border=\"1\" class=\"dataframe\">\n",
       "  <thead>\n",
       "    <tr style=\"text-align: right;\">\n",
       "      <th></th>\n",
       "      <th>Reach</th>\n",
       "      <th>Impact</th>\n",
       "      <th>Confidence</th>\n",
       "      <th>Effort</th>\n",
       "    </tr>\n",
       "  </thead>\n",
       "  <tbody>\n",
       "    <tr>\n",
       "      <th>count</th>\n",
       "      <td>9.000000</td>\n",
       "      <td>9.000000</td>\n",
       "      <td>9.000000</td>\n",
       "      <td>9.000000</td>\n",
       "    </tr>\n",
       "    <tr>\n",
       "      <th>mean</th>\n",
       "      <td>4.777778</td>\n",
       "      <td>4.777778</td>\n",
       "      <td>5.555556</td>\n",
       "      <td>4.888889</td>\n",
       "    </tr>\n",
       "    <tr>\n",
       "      <th>std</th>\n",
       "      <td>3.153481</td>\n",
       "      <td>3.192874</td>\n",
       "      <td>3.045944</td>\n",
       "      <td>2.803767</td>\n",
       "    </tr>\n",
       "    <tr>\n",
       "      <th>min</th>\n",
       "      <td>1.000000</td>\n",
       "      <td>1.000000</td>\n",
       "      <td>1.000000</td>\n",
       "      <td>1.000000</td>\n",
       "    </tr>\n",
       "    <tr>\n",
       "      <th>25%</th>\n",
       "      <td>3.000000</td>\n",
       "      <td>3.000000</td>\n",
       "      <td>3.000000</td>\n",
       "      <td>3.000000</td>\n",
       "    </tr>\n",
       "    <tr>\n",
       "      <th>50%</th>\n",
       "      <td>3.000000</td>\n",
       "      <td>3.000000</td>\n",
       "      <td>7.000000</td>\n",
       "      <td>5.000000</td>\n",
       "    </tr>\n",
       "    <tr>\n",
       "      <th>75%</th>\n",
       "      <td>8.000000</td>\n",
       "      <td>7.000000</td>\n",
       "      <td>8.000000</td>\n",
       "      <td>6.000000</td>\n",
       "    </tr>\n",
       "    <tr>\n",
       "      <th>max</th>\n",
       "      <td>10.000000</td>\n",
       "      <td>10.000000</td>\n",
       "      <td>9.000000</td>\n",
       "      <td>10.000000</td>\n",
       "    </tr>\n",
       "  </tbody>\n",
       "</table>\n",
       "</div>"
      ],
      "text/plain": [
       "           Reach     Impact  Confidence     Effort\n",
       "count   9.000000   9.000000    9.000000   9.000000\n",
       "mean    4.777778   4.777778    5.555556   4.888889\n",
       "std     3.153481   3.192874    3.045944   2.803767\n",
       "min     1.000000   1.000000    1.000000   1.000000\n",
       "25%     3.000000   3.000000    3.000000   3.000000\n",
       "50%     3.000000   3.000000    7.000000   5.000000\n",
       "75%     8.000000   7.000000    8.000000   6.000000\n",
       "max    10.000000  10.000000    9.000000  10.000000"
      ]
     },
     "metadata": {},
     "output_type": "display_data"
    },
    {
     "name": "stdout",
     "output_type": "stream",
     "text": [
      "\n",
      "\u001b[1mDescribe include: all :\n",
      "\n"
     ]
    },
    {
     "data": {
      "text/html": [
       "<div>\n",
       "<style scoped>\n",
       "    .dataframe tbody tr th:only-of-type {\n",
       "        vertical-align: middle;\n",
       "    }\n",
       "\n",
       "    .dataframe tbody tr th {\n",
       "        vertical-align: top;\n",
       "    }\n",
       "\n",
       "    .dataframe thead th {\n",
       "        text-align: right;\n",
       "    }\n",
       "</style>\n",
       "<table border=\"1\" class=\"dataframe\">\n",
       "  <thead>\n",
       "    <tr style=\"text-align: right;\">\n",
       "      <th></th>\n",
       "      <th>Hypothesis</th>\n",
       "      <th>Reach</th>\n",
       "      <th>Impact</th>\n",
       "      <th>Confidence</th>\n",
       "      <th>Effort</th>\n",
       "    </tr>\n",
       "  </thead>\n",
       "  <tbody>\n",
       "    <tr>\n",
       "      <th>count</th>\n",
       "      <td>9</td>\n",
       "      <td>9.000000</td>\n",
       "      <td>9.000000</td>\n",
       "      <td>9.000000</td>\n",
       "      <td>9.000000</td>\n",
       "    </tr>\n",
       "    <tr>\n",
       "      <th>unique</th>\n",
       "      <td>9</td>\n",
       "      <td>NaN</td>\n",
       "      <td>NaN</td>\n",
       "      <td>NaN</td>\n",
       "      <td>NaN</td>\n",
       "    </tr>\n",
       "    <tr>\n",
       "      <th>top</th>\n",
       "      <td>Launch your own delivery service. This will shorten delivery time</td>\n",
       "      <td>NaN</td>\n",
       "      <td>NaN</td>\n",
       "      <td>NaN</td>\n",
       "      <td>NaN</td>\n",
       "    </tr>\n",
       "    <tr>\n",
       "      <th>freq</th>\n",
       "      <td>1</td>\n",
       "      <td>NaN</td>\n",
       "      <td>NaN</td>\n",
       "      <td>NaN</td>\n",
       "      <td>NaN</td>\n",
       "    </tr>\n",
       "    <tr>\n",
       "      <th>mean</th>\n",
       "      <td>NaN</td>\n",
       "      <td>4.777778</td>\n",
       "      <td>4.777778</td>\n",
       "      <td>5.555556</td>\n",
       "      <td>4.888889</td>\n",
       "    </tr>\n",
       "    <tr>\n",
       "      <th>std</th>\n",
       "      <td>NaN</td>\n",
       "      <td>3.153481</td>\n",
       "      <td>3.192874</td>\n",
       "      <td>3.045944</td>\n",
       "      <td>2.803767</td>\n",
       "    </tr>\n",
       "    <tr>\n",
       "      <th>min</th>\n",
       "      <td>NaN</td>\n",
       "      <td>1.000000</td>\n",
       "      <td>1.000000</td>\n",
       "      <td>1.000000</td>\n",
       "      <td>1.000000</td>\n",
       "    </tr>\n",
       "    <tr>\n",
       "      <th>25%</th>\n",
       "      <td>NaN</td>\n",
       "      <td>3.000000</td>\n",
       "      <td>3.000000</td>\n",
       "      <td>3.000000</td>\n",
       "      <td>3.000000</td>\n",
       "    </tr>\n",
       "    <tr>\n",
       "      <th>50%</th>\n",
       "      <td>NaN</td>\n",
       "      <td>3.000000</td>\n",
       "      <td>3.000000</td>\n",
       "      <td>7.000000</td>\n",
       "      <td>5.000000</td>\n",
       "    </tr>\n",
       "    <tr>\n",
       "      <th>75%</th>\n",
       "      <td>NaN</td>\n",
       "      <td>8.000000</td>\n",
       "      <td>7.000000</td>\n",
       "      <td>8.000000</td>\n",
       "      <td>6.000000</td>\n",
       "    </tr>\n",
       "    <tr>\n",
       "      <th>max</th>\n",
       "      <td>NaN</td>\n",
       "      <td>10.000000</td>\n",
       "      <td>10.000000</td>\n",
       "      <td>9.000000</td>\n",
       "      <td>10.000000</td>\n",
       "    </tr>\n",
       "  </tbody>\n",
       "</table>\n",
       "</div>"
      ],
      "text/plain": [
       "                                                               Hypothesis  \\\n",
       "count                                                                   9   \n",
       "unique                                                                  9   \n",
       "top     Launch your own delivery service. This will shorten delivery time   \n",
       "freq                                                                    1   \n",
       "mean                                                                  NaN   \n",
       "std                                                                   NaN   \n",
       "min                                                                   NaN   \n",
       "25%                                                                   NaN   \n",
       "50%                                                                   NaN   \n",
       "75%                                                                   NaN   \n",
       "max                                                                   NaN   \n",
       "\n",
       "            Reach     Impact  Confidence     Effort  \n",
       "count    9.000000   9.000000    9.000000   9.000000  \n",
       "unique        NaN        NaN         NaN        NaN  \n",
       "top           NaN        NaN         NaN        NaN  \n",
       "freq          NaN        NaN         NaN        NaN  \n",
       "mean     4.777778   4.777778    5.555556   4.888889  \n",
       "std      3.153481   3.192874    3.045944   2.803767  \n",
       "min      1.000000   1.000000    1.000000   1.000000  \n",
       "25%      3.000000   3.000000    3.000000   3.000000  \n",
       "50%      3.000000   3.000000    7.000000   5.000000  \n",
       "75%      8.000000   7.000000    8.000000   6.000000  \n",
       "max     10.000000  10.000000    9.000000  10.000000  "
      ]
     },
     "metadata": {},
     "output_type": "display_data"
    },
    {
     "name": "stdout",
     "output_type": "stream",
     "text": [
      "\n",
      "\u001b[1mnulls in the columns:\n",
      "\n",
      "\n",
      "\u001b[1mThere are no columns with NA.\u001b[0m\n"
     ]
    },
    {
     "data": {
      "text/plain": [
       "None"
      ]
     },
     "metadata": {},
     "output_type": "display_data"
    },
    {
     "name": "stdout",
     "output_type": "stream",
     "text": [
      "\n",
      "\u001b[1mZeros in the columns:\n",
      "\n",
      "Hypothesis 0\n",
      "Reach 0\n",
      "Impact 0\n",
      "Confidence 0\n",
      "Effort 0\n"
     ]
    },
    {
     "data": {
      "text/plain": [
       "None"
      ]
     },
     "metadata": {},
     "output_type": "display_data"
    },
    {
     "name": "stdout",
     "output_type": "stream",
     "text": [
      "\n",
      "\u001b[1mShape: (9, 5)\n",
      "\n",
      "\n",
      "Duplicated: \u001b[1mWe have 0 duplicated rows\n",
      "\u001b[0m\n",
      "\n",
      "\u001b[1mDtypes:\n"
     ]
    },
    {
     "data": {
      "text/plain": [
       "Hypothesis    object\n",
       "Reach          int64\n",
       "Impact         int64\n",
       "Confidence     int64\n",
       "Effort         int64\n",
       "dtype: object"
      ]
     },
     "metadata": {},
     "output_type": "display_data"
    },
    {
     "name": "stdout",
     "output_type": "stream",
     "text": [
      "\n",
      "\n",
      "\n",
      "\n",
      "\u001b[1minfo about `orders` dataset\n",
      "\u001b[1m\u001b[0m\n"
     ]
    },
    {
     "data": {
      "text/html": [
       "<div>\n",
       "<style scoped>\n",
       "    .dataframe tbody tr th:only-of-type {\n",
       "        vertical-align: middle;\n",
       "    }\n",
       "\n",
       "    .dataframe tbody tr th {\n",
       "        vertical-align: top;\n",
       "    }\n",
       "\n",
       "    .dataframe thead th {\n",
       "        text-align: right;\n",
       "    }\n",
       "</style>\n",
       "<table border=\"1\" class=\"dataframe\">\n",
       "  <thead>\n",
       "    <tr style=\"text-align: right;\">\n",
       "      <th></th>\n",
       "      <th>type</th>\n",
       "      <th>count</th>\n",
       "      <th>na</th>\n",
       "      <th>na%</th>\n",
       "    </tr>\n",
       "  </thead>\n",
       "  <tbody>\n",
       "    <tr>\n",
       "      <th>transactionId</th>\n",
       "      <td>int64</td>\n",
       "      <td>1197</td>\n",
       "      <td>0</td>\n",
       "      <td>0.0</td>\n",
       "    </tr>\n",
       "    <tr>\n",
       "      <th>visitorId</th>\n",
       "      <td>int64</td>\n",
       "      <td>1197</td>\n",
       "      <td>0</td>\n",
       "      <td>0.0</td>\n",
       "    </tr>\n",
       "    <tr>\n",
       "      <th>date</th>\n",
       "      <td>datetime64[ns]</td>\n",
       "      <td>1197</td>\n",
       "      <td>0</td>\n",
       "      <td>0.0</td>\n",
       "    </tr>\n",
       "    <tr>\n",
       "      <th>revenue</th>\n",
       "      <td>float64</td>\n",
       "      <td>1197</td>\n",
       "      <td>0</td>\n",
       "      <td>0.0</td>\n",
       "    </tr>\n",
       "    <tr>\n",
       "      <th>group</th>\n",
       "      <td>object</td>\n",
       "      <td>1197</td>\n",
       "      <td>0</td>\n",
       "      <td>0.0</td>\n",
       "    </tr>\n",
       "  </tbody>\n",
       "</table>\n",
       "</div>"
      ],
      "text/plain": [
       "                         type  count  na  na%\n",
       "transactionId           int64   1197   0  0.0\n",
       "visitorId               int64   1197   0  0.0\n",
       "date           datetime64[ns]   1197   0  0.0\n",
       "revenue               float64   1197   0  0.0\n",
       "group                  object   1197   0  0.0"
      ]
     },
     "metadata": {},
     "output_type": "display_data"
    },
    {
     "name": "stdout",
     "output_type": "stream",
     "text": [
      "\n",
      "\u001b[1mHead:\n"
     ]
    },
    {
     "data": {
      "text/html": [
       "<div>\n",
       "<style scoped>\n",
       "    .dataframe tbody tr th:only-of-type {\n",
       "        vertical-align: middle;\n",
       "    }\n",
       "\n",
       "    .dataframe tbody tr th {\n",
       "        vertical-align: top;\n",
       "    }\n",
       "\n",
       "    .dataframe thead th {\n",
       "        text-align: right;\n",
       "    }\n",
       "</style>\n",
       "<table border=\"1\" class=\"dataframe\">\n",
       "  <thead>\n",
       "    <tr style=\"text-align: right;\">\n",
       "      <th></th>\n",
       "      <th>transactionId</th>\n",
       "      <th>visitorId</th>\n",
       "      <th>date</th>\n",
       "      <th>revenue</th>\n",
       "      <th>group</th>\n",
       "    </tr>\n",
       "  </thead>\n",
       "  <tbody>\n",
       "    <tr>\n",
       "      <th>0</th>\n",
       "      <td>3667963787</td>\n",
       "      <td>3312258926</td>\n",
       "      <td>2019-08-15</td>\n",
       "      <td>30.4</td>\n",
       "      <td>B</td>\n",
       "    </tr>\n",
       "    <tr>\n",
       "      <th>1</th>\n",
       "      <td>2804400009</td>\n",
       "      <td>3642806036</td>\n",
       "      <td>2019-08-15</td>\n",
       "      <td>15.2</td>\n",
       "      <td>B</td>\n",
       "    </tr>\n",
       "    <tr>\n",
       "      <th>2</th>\n",
       "      <td>2961555356</td>\n",
       "      <td>4069496402</td>\n",
       "      <td>2019-08-15</td>\n",
       "      <td>10.2</td>\n",
       "      <td>A</td>\n",
       "    </tr>\n",
       "    <tr>\n",
       "      <th>3</th>\n",
       "      <td>3797467345</td>\n",
       "      <td>1196621759</td>\n",
       "      <td>2019-08-15</td>\n",
       "      <td>155.1</td>\n",
       "      <td>B</td>\n",
       "    </tr>\n",
       "    <tr>\n",
       "      <th>4</th>\n",
       "      <td>2282983706</td>\n",
       "      <td>2322279887</td>\n",
       "      <td>2019-08-15</td>\n",
       "      <td>40.5</td>\n",
       "      <td>B</td>\n",
       "    </tr>\n",
       "  </tbody>\n",
       "</table>\n",
       "</div>"
      ],
      "text/plain": [
       "   transactionId   visitorId       date  revenue group\n",
       "0     3667963787  3312258926 2019-08-15     30.4     B\n",
       "1     2804400009  3642806036 2019-08-15     15.2     B\n",
       "2     2961555356  4069496402 2019-08-15     10.2     A\n",
       "3     3797467345  1196621759 2019-08-15    155.1     B\n",
       "4     2282983706  2322279887 2019-08-15     40.5     B"
      ]
     },
     "metadata": {},
     "output_type": "display_data"
    },
    {
     "name": "stdout",
     "output_type": "stream",
     "text": [
      "\n",
      "\u001b[1mTail:\n"
     ]
    },
    {
     "data": {
      "text/html": [
       "<div>\n",
       "<style scoped>\n",
       "    .dataframe tbody tr th:only-of-type {\n",
       "        vertical-align: middle;\n",
       "    }\n",
       "\n",
       "    .dataframe tbody tr th {\n",
       "        vertical-align: top;\n",
       "    }\n",
       "\n",
       "    .dataframe thead th {\n",
       "        text-align: right;\n",
       "    }\n",
       "</style>\n",
       "<table border=\"1\" class=\"dataframe\">\n",
       "  <thead>\n",
       "    <tr style=\"text-align: right;\">\n",
       "      <th></th>\n",
       "      <th>transactionId</th>\n",
       "      <th>visitorId</th>\n",
       "      <th>date</th>\n",
       "      <th>revenue</th>\n",
       "      <th>group</th>\n",
       "    </tr>\n",
       "  </thead>\n",
       "  <tbody>\n",
       "    <tr>\n",
       "      <th>1192</th>\n",
       "      <td>2662137336</td>\n",
       "      <td>3733762160</td>\n",
       "      <td>2019-08-14</td>\n",
       "      <td>100.8</td>\n",
       "      <td>B</td>\n",
       "    </tr>\n",
       "    <tr>\n",
       "      <th>1193</th>\n",
       "      <td>2203539145</td>\n",
       "      <td>370388673</td>\n",
       "      <td>2019-08-14</td>\n",
       "      <td>50.1</td>\n",
       "      <td>A</td>\n",
       "    </tr>\n",
       "    <tr>\n",
       "      <th>1194</th>\n",
       "      <td>1807773912</td>\n",
       "      <td>573423106</td>\n",
       "      <td>2019-08-14</td>\n",
       "      <td>165.3</td>\n",
       "      <td>A</td>\n",
       "    </tr>\n",
       "    <tr>\n",
       "      <th>1195</th>\n",
       "      <td>1947021204</td>\n",
       "      <td>1614305549</td>\n",
       "      <td>2019-08-14</td>\n",
       "      <td>5.5</td>\n",
       "      <td>A</td>\n",
       "    </tr>\n",
       "    <tr>\n",
       "      <th>1196</th>\n",
       "      <td>3936777065</td>\n",
       "      <td>2108080724</td>\n",
       "      <td>2019-08-15</td>\n",
       "      <td>3120.1</td>\n",
       "      <td>B</td>\n",
       "    </tr>\n",
       "  </tbody>\n",
       "</table>\n",
       "</div>"
      ],
      "text/plain": [
       "      transactionId   visitorId       date  revenue group\n",
       "1192     2662137336  3733762160 2019-08-14    100.8     B\n",
       "1193     2203539145   370388673 2019-08-14     50.1     A\n",
       "1194     1807773912   573423106 2019-08-14    165.3     A\n",
       "1195     1947021204  1614305549 2019-08-14      5.5     A\n",
       "1196     3936777065  2108080724 2019-08-15   3120.1     B"
      ]
     },
     "metadata": {},
     "output_type": "display_data"
    },
    {
     "name": "stdout",
     "output_type": "stream",
     "text": [
      "\n",
      "\u001b[1mInfo:\n",
      "\n",
      "<class 'pandas.core.frame.DataFrame'>\n",
      "RangeIndex: 1197 entries, 0 to 1196\n",
      "Data columns (total 5 columns):\n",
      " #   Column         Non-Null Count  Dtype         \n",
      "---  ------         --------------  -----         \n",
      " 0   transactionId  1197 non-null   int64         \n",
      " 1   visitorId      1197 non-null   int64         \n",
      " 2   date           1197 non-null   datetime64[ns]\n",
      " 3   revenue        1197 non-null   float64       \n",
      " 4   group          1197 non-null   object        \n",
      "dtypes: datetime64[ns](1), float64(1), int64(2), object(1)\n",
      "memory usage: 46.9+ KB\n"
     ]
    },
    {
     "data": {
      "text/plain": [
       "None"
      ]
     },
     "metadata": {},
     "output_type": "display_data"
    },
    {
     "name": "stdout",
     "output_type": "stream",
     "text": [
      "\n",
      "\u001b[1mDescribe:\n",
      "\n"
     ]
    },
    {
     "data": {
      "text/html": [
       "<div>\n",
       "<style scoped>\n",
       "    .dataframe tbody tr th:only-of-type {\n",
       "        vertical-align: middle;\n",
       "    }\n",
       "\n",
       "    .dataframe tbody tr th {\n",
       "        vertical-align: top;\n",
       "    }\n",
       "\n",
       "    .dataframe thead th {\n",
       "        text-align: right;\n",
       "    }\n",
       "</style>\n",
       "<table border=\"1\" class=\"dataframe\">\n",
       "  <thead>\n",
       "    <tr style=\"text-align: right;\">\n",
       "      <th></th>\n",
       "      <th>transactionId</th>\n",
       "      <th>visitorId</th>\n",
       "      <th>revenue</th>\n",
       "    </tr>\n",
       "  </thead>\n",
       "  <tbody>\n",
       "    <tr>\n",
       "      <th>count</th>\n",
       "      <td>1.197000e+03</td>\n",
       "      <td>1.197000e+03</td>\n",
       "      <td>1197.000000</td>\n",
       "    </tr>\n",
       "    <tr>\n",
       "      <th>mean</th>\n",
       "      <td>2.155621e+09</td>\n",
       "      <td>2.165960e+09</td>\n",
       "      <td>131.491646</td>\n",
       "    </tr>\n",
       "    <tr>\n",
       "      <th>std</th>\n",
       "      <td>1.229085e+09</td>\n",
       "      <td>1.236014e+09</td>\n",
       "      <td>603.004729</td>\n",
       "    </tr>\n",
       "    <tr>\n",
       "      <th>min</th>\n",
       "      <td>1.062393e+06</td>\n",
       "      <td>5.114589e+06</td>\n",
       "      <td>5.000000</td>\n",
       "    </tr>\n",
       "    <tr>\n",
       "      <th>25%</th>\n",
       "      <td>1.166776e+09</td>\n",
       "      <td>1.111826e+09</td>\n",
       "      <td>20.800000</td>\n",
       "    </tr>\n",
       "    <tr>\n",
       "      <th>50%</th>\n",
       "      <td>2.145194e+09</td>\n",
       "      <td>2.217985e+09</td>\n",
       "      <td>50.200000</td>\n",
       "    </tr>\n",
       "    <tr>\n",
       "      <th>75%</th>\n",
       "      <td>3.237740e+09</td>\n",
       "      <td>3.177606e+09</td>\n",
       "      <td>130.400000</td>\n",
       "    </tr>\n",
       "    <tr>\n",
       "      <th>max</th>\n",
       "      <td>4.293856e+09</td>\n",
       "      <td>4.283872e+09</td>\n",
       "      <td>19920.400000</td>\n",
       "    </tr>\n",
       "  </tbody>\n",
       "</table>\n",
       "</div>"
      ],
      "text/plain": [
       "       transactionId     visitorId       revenue\n",
       "count   1.197000e+03  1.197000e+03   1197.000000\n",
       "mean    2.155621e+09  2.165960e+09    131.491646\n",
       "std     1.229085e+09  1.236014e+09    603.004729\n",
       "min     1.062393e+06  5.114589e+06      5.000000\n",
       "25%     1.166776e+09  1.111826e+09     20.800000\n",
       "50%     2.145194e+09  2.217985e+09     50.200000\n",
       "75%     3.237740e+09  3.177606e+09    130.400000\n",
       "max     4.293856e+09  4.283872e+09  19920.400000"
      ]
     },
     "metadata": {},
     "output_type": "display_data"
    },
    {
     "name": "stdout",
     "output_type": "stream",
     "text": [
      "\n",
      "\u001b[1mDescribe include: all :\n",
      "\n"
     ]
    },
    {
     "data": {
      "text/html": [
       "<div>\n",
       "<style scoped>\n",
       "    .dataframe tbody tr th:only-of-type {\n",
       "        vertical-align: middle;\n",
       "    }\n",
       "\n",
       "    .dataframe tbody tr th {\n",
       "        vertical-align: top;\n",
       "    }\n",
       "\n",
       "    .dataframe thead th {\n",
       "        text-align: right;\n",
       "    }\n",
       "</style>\n",
       "<table border=\"1\" class=\"dataframe\">\n",
       "  <thead>\n",
       "    <tr style=\"text-align: right;\">\n",
       "      <th></th>\n",
       "      <th>transactionId</th>\n",
       "      <th>visitorId</th>\n",
       "      <th>date</th>\n",
       "      <th>revenue</th>\n",
       "      <th>group</th>\n",
       "    </tr>\n",
       "  </thead>\n",
       "  <tbody>\n",
       "    <tr>\n",
       "      <th>count</th>\n",
       "      <td>1.197000e+03</td>\n",
       "      <td>1.197000e+03</td>\n",
       "      <td>1197</td>\n",
       "      <td>1197.000000</td>\n",
       "      <td>1197</td>\n",
       "    </tr>\n",
       "    <tr>\n",
       "      <th>unique</th>\n",
       "      <td>NaN</td>\n",
       "      <td>NaN</td>\n",
       "      <td>31</td>\n",
       "      <td>NaN</td>\n",
       "      <td>2</td>\n",
       "    </tr>\n",
       "    <tr>\n",
       "      <th>top</th>\n",
       "      <td>NaN</td>\n",
       "      <td>NaN</td>\n",
       "      <td>2019-08-05 00:00:00</td>\n",
       "      <td>NaN</td>\n",
       "      <td>B</td>\n",
       "    </tr>\n",
       "    <tr>\n",
       "      <th>freq</th>\n",
       "      <td>NaN</td>\n",
       "      <td>NaN</td>\n",
       "      <td>48</td>\n",
       "      <td>NaN</td>\n",
       "      <td>640</td>\n",
       "    </tr>\n",
       "    <tr>\n",
       "      <th>first</th>\n",
       "      <td>NaN</td>\n",
       "      <td>NaN</td>\n",
       "      <td>2019-08-01 00:00:00</td>\n",
       "      <td>NaN</td>\n",
       "      <td>NaN</td>\n",
       "    </tr>\n",
       "    <tr>\n",
       "      <th>last</th>\n",
       "      <td>NaN</td>\n",
       "      <td>NaN</td>\n",
       "      <td>2019-08-31 00:00:00</td>\n",
       "      <td>NaN</td>\n",
       "      <td>NaN</td>\n",
       "    </tr>\n",
       "    <tr>\n",
       "      <th>mean</th>\n",
       "      <td>2.155621e+09</td>\n",
       "      <td>2.165960e+09</td>\n",
       "      <td>NaN</td>\n",
       "      <td>131.491646</td>\n",
       "      <td>NaN</td>\n",
       "    </tr>\n",
       "    <tr>\n",
       "      <th>std</th>\n",
       "      <td>1.229085e+09</td>\n",
       "      <td>1.236014e+09</td>\n",
       "      <td>NaN</td>\n",
       "      <td>603.004729</td>\n",
       "      <td>NaN</td>\n",
       "    </tr>\n",
       "    <tr>\n",
       "      <th>min</th>\n",
       "      <td>1.062393e+06</td>\n",
       "      <td>5.114589e+06</td>\n",
       "      <td>NaN</td>\n",
       "      <td>5.000000</td>\n",
       "      <td>NaN</td>\n",
       "    </tr>\n",
       "    <tr>\n",
       "      <th>25%</th>\n",
       "      <td>1.166776e+09</td>\n",
       "      <td>1.111826e+09</td>\n",
       "      <td>NaN</td>\n",
       "      <td>20.800000</td>\n",
       "      <td>NaN</td>\n",
       "    </tr>\n",
       "    <tr>\n",
       "      <th>50%</th>\n",
       "      <td>2.145194e+09</td>\n",
       "      <td>2.217985e+09</td>\n",
       "      <td>NaN</td>\n",
       "      <td>50.200000</td>\n",
       "      <td>NaN</td>\n",
       "    </tr>\n",
       "    <tr>\n",
       "      <th>75%</th>\n",
       "      <td>3.237740e+09</td>\n",
       "      <td>3.177606e+09</td>\n",
       "      <td>NaN</td>\n",
       "      <td>130.400000</td>\n",
       "      <td>NaN</td>\n",
       "    </tr>\n",
       "    <tr>\n",
       "      <th>max</th>\n",
       "      <td>4.293856e+09</td>\n",
       "      <td>4.283872e+09</td>\n",
       "      <td>NaN</td>\n",
       "      <td>19920.400000</td>\n",
       "      <td>NaN</td>\n",
       "    </tr>\n",
       "  </tbody>\n",
       "</table>\n",
       "</div>"
      ],
      "text/plain": [
       "        transactionId     visitorId                 date       revenue group\n",
       "count    1.197000e+03  1.197000e+03                 1197   1197.000000  1197\n",
       "unique            NaN           NaN                   31           NaN     2\n",
       "top               NaN           NaN  2019-08-05 00:00:00           NaN     B\n",
       "freq              NaN           NaN                   48           NaN   640\n",
       "first             NaN           NaN  2019-08-01 00:00:00           NaN   NaN\n",
       "last              NaN           NaN  2019-08-31 00:00:00           NaN   NaN\n",
       "mean     2.155621e+09  2.165960e+09                  NaN    131.491646   NaN\n",
       "std      1.229085e+09  1.236014e+09                  NaN    603.004729   NaN\n",
       "min      1.062393e+06  5.114589e+06                  NaN      5.000000   NaN\n",
       "25%      1.166776e+09  1.111826e+09                  NaN     20.800000   NaN\n",
       "50%      2.145194e+09  2.217985e+09                  NaN     50.200000   NaN\n",
       "75%      3.237740e+09  3.177606e+09                  NaN    130.400000   NaN\n",
       "max      4.293856e+09  4.283872e+09                  NaN  19920.400000   NaN"
      ]
     },
     "metadata": {},
     "output_type": "display_data"
    },
    {
     "name": "stdout",
     "output_type": "stream",
     "text": [
      "\n",
      "\u001b[1mnulls in the columns:\n",
      "\n",
      "\n",
      "\u001b[1mThere are no columns with NA.\u001b[0m\n"
     ]
    },
    {
     "data": {
      "text/plain": [
       "None"
      ]
     },
     "metadata": {},
     "output_type": "display_data"
    },
    {
     "name": "stdout",
     "output_type": "stream",
     "text": [
      "\n",
      "\u001b[1mZeros in the columns:\n",
      "\n",
      "transactionId 0\n",
      "visitorId 0\n",
      "date 0\n",
      "revenue 0\n",
      "group 0\n"
     ]
    },
    {
     "data": {
      "text/plain": [
       "None"
      ]
     },
     "metadata": {},
     "output_type": "display_data"
    },
    {
     "name": "stdout",
     "output_type": "stream",
     "text": [
      "\n",
      "\u001b[1mShape: (1197, 5)\n",
      "\n",
      "\n",
      "Duplicated: \u001b[1mWe have 0 duplicated rows\n",
      "\u001b[0m\n",
      "\n",
      "\u001b[1mDtypes:\n"
     ]
    },
    {
     "data": {
      "text/plain": [
       "transactionId             int64\n",
       "visitorId                 int64\n",
       "date             datetime64[ns]\n",
       "revenue                 float64\n",
       "group                    object\n",
       "dtype: object"
      ]
     },
     "metadata": {},
     "output_type": "display_data"
    },
    {
     "name": "stdout",
     "output_type": "stream",
     "text": [
      "\n",
      "\n",
      "\n",
      "\u001b[1minfo about `visits` dataset\n",
      "\u001b[1m\u001b[0m\n"
     ]
    },
    {
     "data": {
      "text/html": [
       "<div>\n",
       "<style scoped>\n",
       "    .dataframe tbody tr th:only-of-type {\n",
       "        vertical-align: middle;\n",
       "    }\n",
       "\n",
       "    .dataframe tbody tr th {\n",
       "        vertical-align: top;\n",
       "    }\n",
       "\n",
       "    .dataframe thead th {\n",
       "        text-align: right;\n",
       "    }\n",
       "</style>\n",
       "<table border=\"1\" class=\"dataframe\">\n",
       "  <thead>\n",
       "    <tr style=\"text-align: right;\">\n",
       "      <th></th>\n",
       "      <th>type</th>\n",
       "      <th>count</th>\n",
       "      <th>na</th>\n",
       "      <th>na%</th>\n",
       "    </tr>\n",
       "  </thead>\n",
       "  <tbody>\n",
       "    <tr>\n",
       "      <th>date</th>\n",
       "      <td>datetime64[ns]</td>\n",
       "      <td>62</td>\n",
       "      <td>0</td>\n",
       "      <td>0.0</td>\n",
       "    </tr>\n",
       "    <tr>\n",
       "      <th>group</th>\n",
       "      <td>object</td>\n",
       "      <td>62</td>\n",
       "      <td>0</td>\n",
       "      <td>0.0</td>\n",
       "    </tr>\n",
       "    <tr>\n",
       "      <th>visits</th>\n",
       "      <td>int64</td>\n",
       "      <td>62</td>\n",
       "      <td>0</td>\n",
       "      <td>0.0</td>\n",
       "    </tr>\n",
       "  </tbody>\n",
       "</table>\n",
       "</div>"
      ],
      "text/plain": [
       "                  type  count  na  na%\n",
       "date    datetime64[ns]     62   0  0.0\n",
       "group           object     62   0  0.0\n",
       "visits           int64     62   0  0.0"
      ]
     },
     "metadata": {},
     "output_type": "display_data"
    },
    {
     "name": "stdout",
     "output_type": "stream",
     "text": [
      "\n",
      "\u001b[1mHead:\n"
     ]
    },
    {
     "data": {
      "text/html": [
       "<div>\n",
       "<style scoped>\n",
       "    .dataframe tbody tr th:only-of-type {\n",
       "        vertical-align: middle;\n",
       "    }\n",
       "\n",
       "    .dataframe tbody tr th {\n",
       "        vertical-align: top;\n",
       "    }\n",
       "\n",
       "    .dataframe thead th {\n",
       "        text-align: right;\n",
       "    }\n",
       "</style>\n",
       "<table border=\"1\" class=\"dataframe\">\n",
       "  <thead>\n",
       "    <tr style=\"text-align: right;\">\n",
       "      <th></th>\n",
       "      <th>date</th>\n",
       "      <th>group</th>\n",
       "      <th>visits</th>\n",
       "    </tr>\n",
       "  </thead>\n",
       "  <tbody>\n",
       "    <tr>\n",
       "      <th>0</th>\n",
       "      <td>2019-08-01</td>\n",
       "      <td>A</td>\n",
       "      <td>719</td>\n",
       "    </tr>\n",
       "    <tr>\n",
       "      <th>1</th>\n",
       "      <td>2019-08-02</td>\n",
       "      <td>A</td>\n",
       "      <td>619</td>\n",
       "    </tr>\n",
       "    <tr>\n",
       "      <th>2</th>\n",
       "      <td>2019-08-03</td>\n",
       "      <td>A</td>\n",
       "      <td>507</td>\n",
       "    </tr>\n",
       "    <tr>\n",
       "      <th>3</th>\n",
       "      <td>2019-08-04</td>\n",
       "      <td>A</td>\n",
       "      <td>717</td>\n",
       "    </tr>\n",
       "    <tr>\n",
       "      <th>4</th>\n",
       "      <td>2019-08-05</td>\n",
       "      <td>A</td>\n",
       "      <td>756</td>\n",
       "    </tr>\n",
       "  </tbody>\n",
       "</table>\n",
       "</div>"
      ],
      "text/plain": [
       "        date group  visits\n",
       "0 2019-08-01     A     719\n",
       "1 2019-08-02     A     619\n",
       "2 2019-08-03     A     507\n",
       "3 2019-08-04     A     717\n",
       "4 2019-08-05     A     756"
      ]
     },
     "metadata": {},
     "output_type": "display_data"
    },
    {
     "name": "stdout",
     "output_type": "stream",
     "text": [
      "\n",
      "\u001b[1mTail:\n"
     ]
    },
    {
     "data": {
      "text/html": [
       "<div>\n",
       "<style scoped>\n",
       "    .dataframe tbody tr th:only-of-type {\n",
       "        vertical-align: middle;\n",
       "    }\n",
       "\n",
       "    .dataframe tbody tr th {\n",
       "        vertical-align: top;\n",
       "    }\n",
       "\n",
       "    .dataframe thead th {\n",
       "        text-align: right;\n",
       "    }\n",
       "</style>\n",
       "<table border=\"1\" class=\"dataframe\">\n",
       "  <thead>\n",
       "    <tr style=\"text-align: right;\">\n",
       "      <th></th>\n",
       "      <th>date</th>\n",
       "      <th>group</th>\n",
       "      <th>visits</th>\n",
       "    </tr>\n",
       "  </thead>\n",
       "  <tbody>\n",
       "    <tr>\n",
       "      <th>57</th>\n",
       "      <td>2019-08-27</td>\n",
       "      <td>B</td>\n",
       "      <td>720</td>\n",
       "    </tr>\n",
       "    <tr>\n",
       "      <th>58</th>\n",
       "      <td>2019-08-28</td>\n",
       "      <td>B</td>\n",
       "      <td>654</td>\n",
       "    </tr>\n",
       "    <tr>\n",
       "      <th>59</th>\n",
       "      <td>2019-08-29</td>\n",
       "      <td>B</td>\n",
       "      <td>531</td>\n",
       "    </tr>\n",
       "    <tr>\n",
       "      <th>60</th>\n",
       "      <td>2019-08-30</td>\n",
       "      <td>B</td>\n",
       "      <td>490</td>\n",
       "    </tr>\n",
       "    <tr>\n",
       "      <th>61</th>\n",
       "      <td>2019-08-31</td>\n",
       "      <td>B</td>\n",
       "      <td>718</td>\n",
       "    </tr>\n",
       "  </tbody>\n",
       "</table>\n",
       "</div>"
      ],
      "text/plain": [
       "         date group  visits\n",
       "57 2019-08-27     B     720\n",
       "58 2019-08-28     B     654\n",
       "59 2019-08-29     B     531\n",
       "60 2019-08-30     B     490\n",
       "61 2019-08-31     B     718"
      ]
     },
     "metadata": {},
     "output_type": "display_data"
    },
    {
     "name": "stdout",
     "output_type": "stream",
     "text": [
      "\n",
      "\u001b[1mInfo:\n",
      "\n",
      "<class 'pandas.core.frame.DataFrame'>\n",
      "RangeIndex: 62 entries, 0 to 61\n",
      "Data columns (total 3 columns):\n",
      " #   Column  Non-Null Count  Dtype         \n",
      "---  ------  --------------  -----         \n",
      " 0   date    62 non-null     datetime64[ns]\n",
      " 1   group   62 non-null     object        \n",
      " 2   visits  62 non-null     int64         \n",
      "dtypes: datetime64[ns](1), int64(1), object(1)\n",
      "memory usage: 1.6+ KB\n"
     ]
    },
    {
     "data": {
      "text/plain": [
       "None"
      ]
     },
     "metadata": {},
     "output_type": "display_data"
    },
    {
     "name": "stdout",
     "output_type": "stream",
     "text": [
      "\n",
      "\u001b[1mDescribe:\n",
      "\n"
     ]
    },
    {
     "data": {
      "text/html": [
       "<div>\n",
       "<style scoped>\n",
       "    .dataframe tbody tr th:only-of-type {\n",
       "        vertical-align: middle;\n",
       "    }\n",
       "\n",
       "    .dataframe tbody tr th {\n",
       "        vertical-align: top;\n",
       "    }\n",
       "\n",
       "    .dataframe thead th {\n",
       "        text-align: right;\n",
       "    }\n",
       "</style>\n",
       "<table border=\"1\" class=\"dataframe\">\n",
       "  <thead>\n",
       "    <tr style=\"text-align: right;\">\n",
       "      <th></th>\n",
       "      <th>visits</th>\n",
       "    </tr>\n",
       "  </thead>\n",
       "  <tbody>\n",
       "    <tr>\n",
       "      <th>count</th>\n",
       "      <td>62.000000</td>\n",
       "    </tr>\n",
       "    <tr>\n",
       "      <th>mean</th>\n",
       "      <td>607.290323</td>\n",
       "    </tr>\n",
       "    <tr>\n",
       "      <th>std</th>\n",
       "      <td>114.400560</td>\n",
       "    </tr>\n",
       "    <tr>\n",
       "      <th>min</th>\n",
       "      <td>361.000000</td>\n",
       "    </tr>\n",
       "    <tr>\n",
       "      <th>25%</th>\n",
       "      <td>534.000000</td>\n",
       "    </tr>\n",
       "    <tr>\n",
       "      <th>50%</th>\n",
       "      <td>624.500000</td>\n",
       "    </tr>\n",
       "    <tr>\n",
       "      <th>75%</th>\n",
       "      <td>710.500000</td>\n",
       "    </tr>\n",
       "    <tr>\n",
       "      <th>max</th>\n",
       "      <td>770.000000</td>\n",
       "    </tr>\n",
       "  </tbody>\n",
       "</table>\n",
       "</div>"
      ],
      "text/plain": [
       "           visits\n",
       "count   62.000000\n",
       "mean   607.290323\n",
       "std    114.400560\n",
       "min    361.000000\n",
       "25%    534.000000\n",
       "50%    624.500000\n",
       "75%    710.500000\n",
       "max    770.000000"
      ]
     },
     "metadata": {},
     "output_type": "display_data"
    },
    {
     "name": "stdout",
     "output_type": "stream",
     "text": [
      "\n",
      "\u001b[1mDescribe include: all :\n",
      "\n"
     ]
    },
    {
     "data": {
      "text/html": [
       "<div>\n",
       "<style scoped>\n",
       "    .dataframe tbody tr th:only-of-type {\n",
       "        vertical-align: middle;\n",
       "    }\n",
       "\n",
       "    .dataframe tbody tr th {\n",
       "        vertical-align: top;\n",
       "    }\n",
       "\n",
       "    .dataframe thead th {\n",
       "        text-align: right;\n",
       "    }\n",
       "</style>\n",
       "<table border=\"1\" class=\"dataframe\">\n",
       "  <thead>\n",
       "    <tr style=\"text-align: right;\">\n",
       "      <th></th>\n",
       "      <th>date</th>\n",
       "      <th>group</th>\n",
       "      <th>visits</th>\n",
       "    </tr>\n",
       "  </thead>\n",
       "  <tbody>\n",
       "    <tr>\n",
       "      <th>count</th>\n",
       "      <td>62</td>\n",
       "      <td>62</td>\n",
       "      <td>62.000000</td>\n",
       "    </tr>\n",
       "    <tr>\n",
       "      <th>unique</th>\n",
       "      <td>31</td>\n",
       "      <td>2</td>\n",
       "      <td>NaN</td>\n",
       "    </tr>\n",
       "    <tr>\n",
       "      <th>top</th>\n",
       "      <td>2019-08-27 00:00:00</td>\n",
       "      <td>A</td>\n",
       "      <td>NaN</td>\n",
       "    </tr>\n",
       "    <tr>\n",
       "      <th>freq</th>\n",
       "      <td>2</td>\n",
       "      <td>31</td>\n",
       "      <td>NaN</td>\n",
       "    </tr>\n",
       "    <tr>\n",
       "      <th>first</th>\n",
       "      <td>2019-08-01 00:00:00</td>\n",
       "      <td>NaN</td>\n",
       "      <td>NaN</td>\n",
       "    </tr>\n",
       "    <tr>\n",
       "      <th>last</th>\n",
       "      <td>2019-08-31 00:00:00</td>\n",
       "      <td>NaN</td>\n",
       "      <td>NaN</td>\n",
       "    </tr>\n",
       "    <tr>\n",
       "      <th>mean</th>\n",
       "      <td>NaN</td>\n",
       "      <td>NaN</td>\n",
       "      <td>607.290323</td>\n",
       "    </tr>\n",
       "    <tr>\n",
       "      <th>std</th>\n",
       "      <td>NaN</td>\n",
       "      <td>NaN</td>\n",
       "      <td>114.400560</td>\n",
       "    </tr>\n",
       "    <tr>\n",
       "      <th>min</th>\n",
       "      <td>NaN</td>\n",
       "      <td>NaN</td>\n",
       "      <td>361.000000</td>\n",
       "    </tr>\n",
       "    <tr>\n",
       "      <th>25%</th>\n",
       "      <td>NaN</td>\n",
       "      <td>NaN</td>\n",
       "      <td>534.000000</td>\n",
       "    </tr>\n",
       "    <tr>\n",
       "      <th>50%</th>\n",
       "      <td>NaN</td>\n",
       "      <td>NaN</td>\n",
       "      <td>624.500000</td>\n",
       "    </tr>\n",
       "    <tr>\n",
       "      <th>75%</th>\n",
       "      <td>NaN</td>\n",
       "      <td>NaN</td>\n",
       "      <td>710.500000</td>\n",
       "    </tr>\n",
       "    <tr>\n",
       "      <th>max</th>\n",
       "      <td>NaN</td>\n",
       "      <td>NaN</td>\n",
       "      <td>770.000000</td>\n",
       "    </tr>\n",
       "  </tbody>\n",
       "</table>\n",
       "</div>"
      ],
      "text/plain": [
       "                       date group      visits\n",
       "count                    62    62   62.000000\n",
       "unique                   31     2         NaN\n",
       "top     2019-08-27 00:00:00     A         NaN\n",
       "freq                      2    31         NaN\n",
       "first   2019-08-01 00:00:00   NaN         NaN\n",
       "last    2019-08-31 00:00:00   NaN         NaN\n",
       "mean                    NaN   NaN  607.290323\n",
       "std                     NaN   NaN  114.400560\n",
       "min                     NaN   NaN  361.000000\n",
       "25%                     NaN   NaN  534.000000\n",
       "50%                     NaN   NaN  624.500000\n",
       "75%                     NaN   NaN  710.500000\n",
       "max                     NaN   NaN  770.000000"
      ]
     },
     "metadata": {},
     "output_type": "display_data"
    },
    {
     "name": "stdout",
     "output_type": "stream",
     "text": [
      "\n",
      "\u001b[1mnulls in the columns:\n",
      "\n",
      "\n",
      "\u001b[1mThere are no columns with NA.\u001b[0m\n"
     ]
    },
    {
     "data": {
      "text/plain": [
       "None"
      ]
     },
     "metadata": {},
     "output_type": "display_data"
    },
    {
     "name": "stdout",
     "output_type": "stream",
     "text": [
      "\n",
      "\u001b[1mZeros in the columns:\n",
      "\n",
      "date 0\n",
      "group 0\n",
      "visits 0\n"
     ]
    },
    {
     "data": {
      "text/plain": [
       "None"
      ]
     },
     "metadata": {},
     "output_type": "display_data"
    },
    {
     "name": "stdout",
     "output_type": "stream",
     "text": [
      "\n",
      "\u001b[1mShape: (62, 3)\n",
      "\n",
      "\n",
      "Duplicated: \u001b[1mWe have 0 duplicated rows\n",
      "\u001b[0m\n",
      "\n",
      "\u001b[1mDtypes:\n"
     ]
    },
    {
     "data": {
      "text/plain": [
       "date      datetime64[ns]\n",
       "group             object\n",
       "visits             int64\n",
       "dtype: object"
      ]
     },
     "metadata": {},
     "output_type": "display_data"
    },
    {
     "name": "stdout",
     "output_type": "stream",
     "text": [
      "\n"
     ]
    }
   ],
   "source": [
    "# information about our datasets \n",
    "print()\n",
    "print()\n",
    "print(\"\\033[1m\" + 'info about `hypotheses` dataset')\n",
    "general_info(hypotheses)\n",
    "print()\n",
    "print()\n",
    "print()\n",
    "print(\"\\033[1m\" + 'info about `orders` dataset')\n",
    "general_info(orders)\n",
    "print()\n",
    "print()\n",
    "print(\"\\033[1m\" + 'info about `visits` dataset')\n",
    "general_info(visits)"
   ]
  },
  {
   "cell_type": "markdown",
   "id": "cc885f70",
   "metadata": {},
   "source": [
    "<b style=\"font-size: 17px;\">The `hypotheses` dataset:</b>\n",
    "\n",
    "<b style=\"font-size: 14px;\">`Dataseat rows`: 9</b>\n",
    "\n",
    "`Hypotheses` -  brief descriptions of the hypotheses\n",
    "\n",
    "`Reach` - user reach, on a scale of one to ten\n",
    "\n",
    "`Impact`- impact on users, on a scale of one to ten\n",
    "\n",
    "`Confidence` - confidence in the hypothesis, on a scale of one to ten\n",
    "\n",
    "`Effort` - the resources required to test a hypothesis, on a scale of one to ten. The higher the Effort value, the more resource-intensive the test\n",
    "\n",
    "<br>"
   ]
  },
  {
   "cell_type": "markdown",
   "id": "3e142e87",
   "metadata": {},
   "source": [
    "<b style=\"font-size: 17px;\">The `orders` dataset:</b>\n",
    "\n",
    "<b style=\"font-size: 14px;\">`Dataseat rows`: 1197</b>\n",
    "\n",
    "`transactionId` -  order identifier\n",
    "\n",
    "`visitorId` -  identifier of the user who placed the order\n",
    "\n",
    "`date`-  of the order\n",
    "\n",
    "`revenue` - from the order\n",
    "\n",
    "`group` - A/B test group\n",
    "\n",
    "<br>"
   ]
  },
  {
   "cell_type": "markdown",
   "id": "9998c9fc",
   "metadata": {},
   "source": [
    "<b style=\"font-size: 17px;\">The `visits` dataset:</b>\n",
    "\n",
    "<b style=\"font-size: 14px;\">`Dataseat rows`: 62</b>\n",
    "\n",
    "`date`-  of the order\n",
    "\n",
    "`revenue` - from the order\n",
    "\n",
    "`group` - A/B test group\n",
    "\n",
    "`visits` - the number of visits on the date specified in the A/B test group specified\n",
    "\n",
    "<br>"
   ]
  },
  {
   "cell_type": "markdown",
   "id": "d8a6460d",
   "metadata": {},
   "source": [
    "<b style=\"font-size: 17px;\">Dtypes issues:</b>\n",
    "\n",
    "<b style=\"font-size: 15px;\">`visits`:</b>\n",
    "\n",
    "`date`- 'object' we need to turn it into 'datetime64'\n",
    "\n",
    "\n",
    "\n",
    "<b style=\"font-size: 15px;\">`orders`:</b>\n",
    "\n",
    "`date`- we need to turn it into 'datetime64'"
   ]
  },
  {
   "cell_type": "markdown",
   "id": "6c934850",
   "metadata": {},
   "source": [
    "<b style=\"font-size: 17px;\">uniform the case letters:</b>\n",
    "\n",
    "`hypotheses`: `Hypothesis`, `Reach` , `Impact` , `Confidence`, `Effort`- need to lowercase it<br>\n",
    "\n",
    "`orders`: `transactionId`, `visitorId` -  need to lowercase it<br><br>"
   ]
  },
  {
   "cell_type": "markdown",
   "id": "f031ad4a",
   "metadata": {},
   "source": [
    "<b style=\"font-size: 17px;\">Conclusion:</b>\n",
    "\n",
    "<b>What we found :</b>\n",
    "\n",
    "that we have 3 dataset \n",
    "\n",
    "'hypotheses' : 9 rows of hypotheses\n",
    "\n",
    "'visits' : 62 rows \n",
    "\n",
    "'orders' - 1197\n",
    "\n",
    "- No Missing values\n",
    "\n",
    "- No 0's\n",
    "\n",
    "- No Duplicated\n",
    "\n",
    "- No Nan's\n",
    "\n",
    "\n",
    "**What we already done:\n",
    "\n",
    "we convert our dataset 'visits' and 'orders' date from 'object' to datetime64 (when we load the datasets)\n",
    "\n",
    "\n",
    "<b>What we need to do in the next step :</b>\n",
    "\n",
    "- it's better to uniform our columns name to lowercase\n",
    "\n",
    "- check if there is users that show in both groups and if there is to remove them so our A/B testing will be clean from           duplicated that may change the real result "
   ]
  },
  {
   "cell_type": "markdown",
   "id": "d2ac00a1",
   "metadata": {},
   "source": [
    "<hr><h2>Prepare data:</h2>"
   ]
  },
  {
   "cell_type": "markdown",
   "id": "dd3111c9",
   "metadata": {},
   "source": [
    "<h3>Preprocessing `hypotheses`</h3>"
   ]
  },
  {
   "cell_type": "markdown",
   "id": "6571d0ef",
   "metadata": {},
   "source": [
    "<h4>`hypotheses` lowercase column names</h4>"
   ]
  },
  {
   "cell_type": "code",
   "execution_count": 5,
   "id": "7e788cfd",
   "metadata": {},
   "outputs": [
    {
     "data": {
      "text/plain": [
       "Index(['hypothesis', 'reach', 'impact', 'confidence', 'effort'], dtype='object')"
      ]
     },
     "execution_count": 5,
     "metadata": {},
     "output_type": "execute_result"
    }
   ],
   "source": [
    "hypotheses.columns= hypotheses.columns.str.lower()\n",
    "hypotheses.columns"
   ]
  },
  {
   "cell_type": "code",
   "execution_count": 6,
   "id": "90d7a712",
   "metadata": {},
   "outputs": [
    {
     "name": "stdout",
     "output_type": "stream",
     "text": [
      "<class 'pandas.core.frame.DataFrame'>\n",
      "RangeIndex: 9 entries, 0 to 8\n",
      "Data columns (total 5 columns):\n",
      " #   Column      Non-Null Count  Dtype \n",
      "---  ------      --------------  ----- \n",
      " 0   hypothesis  9 non-null      object\n",
      " 1   reach       9 non-null      int64 \n",
      " 2   impact      9 non-null      int64 \n",
      " 3   confidence  9 non-null      int64 \n",
      " 4   effort      9 non-null      int64 \n",
      "dtypes: int64(4), object(1)\n",
      "memory usage: 488.0+ bytes\n"
     ]
    }
   ],
   "source": [
    "hypotheses.info()"
   ]
  },
  {
   "cell_type": "code",
   "execution_count": 7,
   "id": "550fbd7a",
   "metadata": {},
   "outputs": [
    {
     "data": {
      "text/html": [
       "<th style=\"text-align:center\"><td style=\"vertical-align:top\"><h6>hypotheses head</h6><table style=\"display:inline\" border=\"1\" class=\"dataframe\">\n",
       "  <thead>\n",
       "    <tr style=\"text-align: right;\">\n",
       "      <th></th>\n",
       "      <th>hypothesis</th>\n",
       "      <th>reach</th>\n",
       "      <th>impact</th>\n",
       "      <th>confidence</th>\n",
       "      <th>effort</th>\n",
       "    </tr>\n",
       "  </thead>\n",
       "  <tbody>\n",
       "    <tr>\n",
       "      <th>0</th>\n",
       "      <td>Add two new channels for attracting traffic. This will bring 30% more users</td>\n",
       "      <td>3</td>\n",
       "      <td>10</td>\n",
       "      <td>8</td>\n",
       "      <td>6</td>\n",
       "    </tr>\n",
       "    <tr>\n",
       "      <th>1</th>\n",
       "      <td>Launch your own delivery service. This will shorten delivery time</td>\n",
       "      <td>2</td>\n",
       "      <td>5</td>\n",
       "      <td>4</td>\n",
       "      <td>10</td>\n",
       "    </tr>\n",
       "    <tr>\n",
       "      <th>2</th>\n",
       "      <td>Add product recommendation blocks to the store's site. This will increase conversion and average purchase size</td>\n",
       "      <td>8</td>\n",
       "      <td>3</td>\n",
       "      <td>7</td>\n",
       "      <td>3</td>\n",
       "    </tr>\n",
       "    <tr>\n",
       "      <th>3</th>\n",
       "      <td>Change the category structure. This will increase conversion since users will find the products they want more quickly</td>\n",
       "      <td>8</td>\n",
       "      <td>3</td>\n",
       "      <td>3</td>\n",
       "      <td>8</td>\n",
       "    </tr>\n",
       "    <tr>\n",
       "      <th>4</th>\n",
       "      <td>Change the background color on the main page. This will increase user engagement</td>\n",
       "      <td>3</td>\n",
       "      <td>1</td>\n",
       "      <td>1</td>\n",
       "      <td>1</td>\n",
       "    </tr>\n",
       "    <tr>\n",
       "      <th>5</th>\n",
       "      <td>Add a customer review page. This will increase the number of orders</td>\n",
       "      <td>3</td>\n",
       "      <td>2</td>\n",
       "      <td>2</td>\n",
       "      <td>3</td>\n",
       "    </tr>\n",
       "    <tr>\n",
       "      <th>6</th>\n",
       "      <td>Show banners with current offers and sales on the main page. This will boost conversion</td>\n",
       "      <td>5</td>\n",
       "      <td>3</td>\n",
       "      <td>8</td>\n",
       "      <td>3</td>\n",
       "    </tr>\n",
       "    <tr>\n",
       "      <th>7</th>\n",
       "      <td>Add a subscription form to all the main pages. This will help you compile a mailing list</td>\n",
       "      <td>10</td>\n",
       "      <td>7</td>\n",
       "      <td>8</td>\n",
       "      <td>5</td>\n",
       "    </tr>\n",
       "    <tr>\n",
       "      <th>8</th>\n",
       "      <td>Launch a promotion that gives users discounts on their birthdays</td>\n",
       "      <td>1</td>\n",
       "      <td>9</td>\n",
       "      <td>9</td>\n",
       "      <td>5</td>\n",
       "    </tr>\n",
       "  </tbody>\n",
       "</table style=\"display:inline\"></td></th>"
      ]
     },
     "metadata": {},
     "output_type": "display_data"
    }
   ],
   "source": [
    "sbs(hypotheses.head(10),titles=['hypotheses head'])"
   ]
  },
  {
   "cell_type": "markdown",
   "id": "4ffc5631",
   "metadata": {},
   "source": [
    "<h3>Preprocessing `orders`</h3>\n",
    "<h4>`orders` lowercase column names</h4>"
   ]
  },
  {
   "cell_type": "code",
   "execution_count": 8,
   "id": "66def76f",
   "metadata": {},
   "outputs": [
    {
     "data": {
      "text/plain": [
       "Index(['transactionid', 'visitorid', 'date', 'revenue', 'group'], dtype='object')"
      ]
     },
     "execution_count": 8,
     "metadata": {},
     "output_type": "execute_result"
    }
   ],
   "source": [
    "orders.columns = orders.columns.str.lower()\n",
    "orders.columns"
   ]
  },
  {
   "cell_type": "code",
   "execution_count": 9,
   "id": "80a92aae",
   "metadata": {},
   "outputs": [
    {
     "name": "stdout",
     "output_type": "stream",
     "text": [
      "<class 'pandas.core.frame.DataFrame'>\n",
      "RangeIndex: 1197 entries, 0 to 1196\n",
      "Data columns (total 5 columns):\n",
      " #   Column         Non-Null Count  Dtype         \n",
      "---  ------         --------------  -----         \n",
      " 0   transactionid  1197 non-null   int64         \n",
      " 1   visitorid      1197 non-null   int64         \n",
      " 2   date           1197 non-null   datetime64[ns]\n",
      " 3   revenue        1197 non-null   float64       \n",
      " 4   group          1197 non-null   object        \n",
      "dtypes: datetime64[ns](1), float64(1), int64(2), object(1)\n",
      "memory usage: 46.9+ KB\n"
     ]
    }
   ],
   "source": [
    "orders.info()"
   ]
  },
  {
   "cell_type": "code",
   "execution_count": 10,
   "id": "64522e63",
   "metadata": {},
   "outputs": [
    {
     "data": {
      "text/html": [
       "<th style=\"text-align:center\"><td style=\"vertical-align:top\"><h6>orders head</h6><table style=\"display:inline\" border=\"1\" class=\"dataframe\">\n",
       "  <thead>\n",
       "    <tr style=\"text-align: right;\">\n",
       "      <th></th>\n",
       "      <th>transactionid</th>\n",
       "      <th>visitorid</th>\n",
       "      <th>date</th>\n",
       "      <th>revenue</th>\n",
       "      <th>group</th>\n",
       "    </tr>\n",
       "  </thead>\n",
       "  <tbody>\n",
       "    <tr>\n",
       "      <th>0</th>\n",
       "      <td>3667963787</td>\n",
       "      <td>3312258926</td>\n",
       "      <td>2019-08-15</td>\n",
       "      <td>30.4</td>\n",
       "      <td>B</td>\n",
       "    </tr>\n",
       "    <tr>\n",
       "      <th>1</th>\n",
       "      <td>2804400009</td>\n",
       "      <td>3642806036</td>\n",
       "      <td>2019-08-15</td>\n",
       "      <td>15.2</td>\n",
       "      <td>B</td>\n",
       "    </tr>\n",
       "    <tr>\n",
       "      <th>2</th>\n",
       "      <td>2961555356</td>\n",
       "      <td>4069496402</td>\n",
       "      <td>2019-08-15</td>\n",
       "      <td>10.2</td>\n",
       "      <td>A</td>\n",
       "    </tr>\n",
       "    <tr>\n",
       "      <th>3</th>\n",
       "      <td>3797467345</td>\n",
       "      <td>1196621759</td>\n",
       "      <td>2019-08-15</td>\n",
       "      <td>155.1</td>\n",
       "      <td>B</td>\n",
       "    </tr>\n",
       "    <tr>\n",
       "      <th>4</th>\n",
       "      <td>2282983706</td>\n",
       "      <td>2322279887</td>\n",
       "      <td>2019-08-15</td>\n",
       "      <td>40.5</td>\n",
       "      <td>B</td>\n",
       "    </tr>\n",
       "  </tbody>\n",
       "</table style=\"display:inline\"></td></th><th style=\"text-align:center\"><td style=\"vertical-align:top\"><h6>orders describe</h6><table style=\"display:inline\" border=\"1\" class=\"dataframe\">\n",
       "  <thead>\n",
       "    <tr style=\"text-align: right;\">\n",
       "      <th></th>\n",
       "      <th>transactionid</th>\n",
       "      <th>visitorid</th>\n",
       "      <th>revenue</th>\n",
       "    </tr>\n",
       "  </thead>\n",
       "  <tbody>\n",
       "    <tr>\n",
       "      <th>count</th>\n",
       "      <td>1.197000e+03</td>\n",
       "      <td>1.197000e+03</td>\n",
       "      <td>1197.000000</td>\n",
       "    </tr>\n",
       "    <tr>\n",
       "      <th>mean</th>\n",
       "      <td>2.155621e+09</td>\n",
       "      <td>2.165960e+09</td>\n",
       "      <td>131.491646</td>\n",
       "    </tr>\n",
       "    <tr>\n",
       "      <th>std</th>\n",
       "      <td>1.229085e+09</td>\n",
       "      <td>1.236014e+09</td>\n",
       "      <td>603.004729</td>\n",
       "    </tr>\n",
       "    <tr>\n",
       "      <th>min</th>\n",
       "      <td>1.062393e+06</td>\n",
       "      <td>5.114589e+06</td>\n",
       "      <td>5.000000</td>\n",
       "    </tr>\n",
       "    <tr>\n",
       "      <th>25%</th>\n",
       "      <td>1.166776e+09</td>\n",
       "      <td>1.111826e+09</td>\n",
       "      <td>20.800000</td>\n",
       "    </tr>\n",
       "    <tr>\n",
       "      <th>50%</th>\n",
       "      <td>2.145194e+09</td>\n",
       "      <td>2.217985e+09</td>\n",
       "      <td>50.200000</td>\n",
       "    </tr>\n",
       "    <tr>\n",
       "      <th>75%</th>\n",
       "      <td>3.237740e+09</td>\n",
       "      <td>3.177606e+09</td>\n",
       "      <td>130.400000</td>\n",
       "    </tr>\n",
       "    <tr>\n",
       "      <th>max</th>\n",
       "      <td>4.293856e+09</td>\n",
       "      <td>4.283872e+09</td>\n",
       "      <td>19920.400000</td>\n",
       "    </tr>\n",
       "  </tbody>\n",
       "</table style=\"display:inline\"></td></th>"
      ]
     },
     "metadata": {},
     "output_type": "display_data"
    }
   ],
   "source": [
    "sbs(orders.head(5),orders.describe(), titles=['orders head','orders describe'])"
   ]
  },
  {
   "cell_type": "markdown",
   "id": "a74c812e",
   "metadata": {},
   "source": [
    "<b> Calc the amount for the same id users participated in both groups:</b>"
   ]
  },
  {
   "cell_type": "code",
   "execution_count": 11,
   "id": "10a0ecf7",
   "metadata": {},
   "outputs": [
    {
     "data": {
      "text/plain": [
       "58"
      ]
     },
     "execution_count": 11,
     "metadata": {},
     "output_type": "execute_result"
    }
   ],
   "source": [
    "A_users = orders.query('group == \"A\"').visitorid.unique()\n",
    "B_users = orders.query('group == \"B\"').visitorid.unique()\n",
    "\n",
    "same_buyers = orders.query('visitorid in @A_users and visitorid in @B_users')\n",
    "same_buyers['visitorid'].nunique()"
   ]
  },
  {
   "cell_type": "code",
   "execution_count": 12,
   "id": "af9678ac",
   "metadata": {},
   "outputs": [
    {
     "data": {
      "text/plain": [
       "58"
      ]
     },
     "execution_count": 12,
     "metadata": {},
     "output_type": "execute_result"
    }
   ],
   "source": [
    "orders_new_data = orders.drop(same_buyers.index, axis=0)\n",
    "same_buyers = orders.query('visitorid in @A_users and visitorid in @B_users')\n",
    "same_buyers['visitorid'].nunique()"
   ]
  },
  {
   "cell_type": "markdown",
   "id": "c947b68a",
   "metadata": {},
   "source": [
    "Let's check our groups sizes:"
   ]
  },
  {
   "cell_type": "code",
   "execution_count": 13,
   "id": "ff4e86e6",
   "metadata": {},
   "outputs": [],
   "source": [
    "A_visitors = orders.query('group == \"A\"').visitorid.nunique()\n",
    "B_visitors = orders.query('group == \"B\"').visitorid.nunique()\n",
    "A_orders = orders.query('group == \"A\"').transactionid.count()\n",
    "B_orders = orders.query('group == \"B\"').transactionid.count()"
   ]
  },
  {
   "cell_type": "code",
   "execution_count": 14,
   "id": "446651fe",
   "metadata": {},
   "outputs": [
    {
     "name": "stdout",
     "output_type": "stream",
     "text": [
      "Number of A group visits = 503\n",
      "Number of B group visits = 586\n",
      "\n",
      "Number of A group orders = 557\n",
      "Number of B group orders = 640\n"
     ]
    }
   ],
   "source": [
    "print('Number of A group visits =',A_visitors)\n",
    "print('Number of B group visits =',B_visitors)\n",
    "print()\n",
    "print('Number of A group orders =',A_orders)\n",
    "print('Number of B group orders =',B_orders)"
   ]
  },
  {
   "cell_type": "markdown",
   "id": "c9570d94",
   "metadata": {},
   "source": [
    "In order to make our database its optimal form as well as to maintain a real A/B tests results as possible we decided that the same users (58 of them) who appear in both groups should be removed , also we see that our numbers is still diffrent between the groups which is fine"
   ]
  },
  {
   "cell_type": "markdown",
   "id": "3be25f83",
   "metadata": {},
   "source": [
    "<h3>Preprocessing `visits`</h3>"
   ]
  },
  {
   "cell_type": "code",
   "execution_count": 15,
   "id": "3b50d758",
   "metadata": {},
   "outputs": [
    {
     "name": "stdout",
     "output_type": "stream",
     "text": [
      "<class 'pandas.core.frame.DataFrame'>\n",
      "RangeIndex: 62 entries, 0 to 61\n",
      "Data columns (total 3 columns):\n",
      " #   Column  Non-Null Count  Dtype         \n",
      "---  ------  --------------  -----         \n",
      " 0   date    62 non-null     datetime64[ns]\n",
      " 1   group   62 non-null     object        \n",
      " 2   visits  62 non-null     int64         \n",
      "dtypes: datetime64[ns](1), int64(1), object(1)\n",
      "memory usage: 1.6+ KB\n"
     ]
    }
   ],
   "source": [
    "visits.info()"
   ]
  },
  {
   "cell_type": "code",
   "execution_count": 16,
   "id": "188c188c",
   "metadata": {},
   "outputs": [
    {
     "data": {
      "text/html": [
       "<th style=\"text-align:center\"><td style=\"vertical-align:top\"><h6>visits head</h6><table style=\"display:inline\" border=\"1\" class=\"dataframe\">\n",
       "  <thead>\n",
       "    <tr style=\"text-align: right;\">\n",
       "      <th></th>\n",
       "      <th>date</th>\n",
       "      <th>group</th>\n",
       "      <th>visits</th>\n",
       "    </tr>\n",
       "  </thead>\n",
       "  <tbody>\n",
       "    <tr>\n",
       "      <th>0</th>\n",
       "      <td>2019-08-01</td>\n",
       "      <td>A</td>\n",
       "      <td>719</td>\n",
       "    </tr>\n",
       "    <tr>\n",
       "      <th>1</th>\n",
       "      <td>2019-08-02</td>\n",
       "      <td>A</td>\n",
       "      <td>619</td>\n",
       "    </tr>\n",
       "    <tr>\n",
       "      <th>2</th>\n",
       "      <td>2019-08-03</td>\n",
       "      <td>A</td>\n",
       "      <td>507</td>\n",
       "    </tr>\n",
       "    <tr>\n",
       "      <th>3</th>\n",
       "      <td>2019-08-04</td>\n",
       "      <td>A</td>\n",
       "      <td>717</td>\n",
       "    </tr>\n",
       "    <tr>\n",
       "      <th>4</th>\n",
       "      <td>2019-08-05</td>\n",
       "      <td>A</td>\n",
       "      <td>756</td>\n",
       "    </tr>\n",
       "  </tbody>\n",
       "</table style=\"display:inline\"></td></th><th style=\"text-align:center\"><td style=\"vertical-align:top\"><h6>visits tail</h6><table style=\"display:inline\" border=\"1\" class=\"dataframe\">\n",
       "  <thead>\n",
       "    <tr style=\"text-align: right;\">\n",
       "      <th></th>\n",
       "      <th>date</th>\n",
       "      <th>group</th>\n",
       "      <th>visits</th>\n",
       "    </tr>\n",
       "  </thead>\n",
       "  <tbody>\n",
       "    <tr>\n",
       "      <th>57</th>\n",
       "      <td>2019-08-27</td>\n",
       "      <td>B</td>\n",
       "      <td>720</td>\n",
       "    </tr>\n",
       "    <tr>\n",
       "      <th>58</th>\n",
       "      <td>2019-08-28</td>\n",
       "      <td>B</td>\n",
       "      <td>654</td>\n",
       "    </tr>\n",
       "    <tr>\n",
       "      <th>59</th>\n",
       "      <td>2019-08-29</td>\n",
       "      <td>B</td>\n",
       "      <td>531</td>\n",
       "    </tr>\n",
       "    <tr>\n",
       "      <th>60</th>\n",
       "      <td>2019-08-30</td>\n",
       "      <td>B</td>\n",
       "      <td>490</td>\n",
       "    </tr>\n",
       "    <tr>\n",
       "      <th>61</th>\n",
       "      <td>2019-08-31</td>\n",
       "      <td>B</td>\n",
       "      <td>718</td>\n",
       "    </tr>\n",
       "  </tbody>\n",
       "</table style=\"display:inline\"></td></th><th style=\"text-align:center\"><td style=\"vertical-align:top\"><h6>visits describe</h6><table style=\"display:inline\" border=\"1\" class=\"dataframe\">\n",
       "  <thead>\n",
       "    <tr style=\"text-align: right;\">\n",
       "      <th></th>\n",
       "      <th>visits</th>\n",
       "    </tr>\n",
       "  </thead>\n",
       "  <tbody>\n",
       "    <tr>\n",
       "      <th>count</th>\n",
       "      <td>62.000000</td>\n",
       "    </tr>\n",
       "    <tr>\n",
       "      <th>mean</th>\n",
       "      <td>607.290323</td>\n",
       "    </tr>\n",
       "    <tr>\n",
       "      <th>std</th>\n",
       "      <td>114.400560</td>\n",
       "    </tr>\n",
       "    <tr>\n",
       "      <th>min</th>\n",
       "      <td>361.000000</td>\n",
       "    </tr>\n",
       "    <tr>\n",
       "      <th>25%</th>\n",
       "      <td>534.000000</td>\n",
       "    </tr>\n",
       "    <tr>\n",
       "      <th>50%</th>\n",
       "      <td>624.500000</td>\n",
       "    </tr>\n",
       "    <tr>\n",
       "      <th>75%</th>\n",
       "      <td>710.500000</td>\n",
       "    </tr>\n",
       "    <tr>\n",
       "      <th>max</th>\n",
       "      <td>770.000000</td>\n",
       "    </tr>\n",
       "  </tbody>\n",
       "</table style=\"display:inline\"></td></th>"
      ]
     },
     "metadata": {},
     "output_type": "display_data"
    }
   ],
   "source": [
    "sbs(visits.head(),visits.tail(),visits.describe(), titles=['visits head','visits tail','visits describe'])"
   ]
  },
  {
   "cell_type": "markdown",
   "id": "bf6bd57f",
   "metadata": {},
   "source": [
    "<h2>Conclusion</h2>\n",
    "\n",
    "What we done and found so far:\n",
    "\n",
    "- lowercase our columns name \n",
    "\n",
    "- check that our dataset clean for 0's , nan , missing values and duplicated \n",
    "\n",
    "- when we load the datasets we also convert the 'date' columns in 'visits and orders' to datetime64\n",
    "\n",
    "- we check if there is same users in both groups and we found 58 of them and remove them to keep our test clean and true as       possible result. \n",
    "\n",
    "- we also found that both groups order and visitors is diffrent\n",
    "\n",
    "Now we ready for the next part of our project:"
   ]
  },
  {
   "cell_type": "markdown",
   "id": "ab29c47d",
   "metadata": {},
   "source": [
    "<hr id=\"2\"><h2>Part I \"Prioritizing Hypotheses\"</h2>\n",
    "\n",
    "The file hypotheses_us.csv contains nine hypotheses on boosting an online store's revenue with Reach, Impact, Confidence, and Effort specified for each\n",
    "\n",
    "<h2>ICE:</h2>\n",
    "\n",
    "Reach — how many users will be affected by the update you want to introduce\n",
    "\n",
    "Impact — how strongly this update will affect the users, their experience, and\n",
    "their satisfaction with the product\n",
    "\n",
    "Confidence — how sure you are that your product will affect them in this way\n",
    "\n",
    "Effort — how much will it cost to test the hypothesis"
   ]
  },
  {
   "cell_type": "markdown",
   "id": "d7612c40",
   "metadata": {},
   "source": [
    "<b id=\"p1\"><h3>Apply the `ICE` framework to prioritize `hypotheses`</h3></b><br>\n",
    "Sort them in descending order of priority"
   ]
  },
  {
   "cell_type": "code",
   "execution_count": 17,
   "id": "00cd3511",
   "metadata": {},
   "outputs": [
    {
     "data": {
      "image/png": "[encoded data removed]",
      "text/plain": [
       "<Figure size 432x288 with 1 Axes>"
      ]
     },
     "metadata": {},
     "output_type": "display_data"
    },
    {
     "data": {
      "text/html": [
       "<div>\n",
       "<style scoped>\n",
       "    .dataframe tbody tr th:only-of-type {\n",
       "        vertical-align: middle;\n",
       "    }\n",
       "\n",
       "    .dataframe tbody tr th {\n",
       "        vertical-align: top;\n",
       "    }\n",
       "\n",
       "    .dataframe thead th {\n",
       "        text-align: right;\n",
       "    }\n",
       "</style>\n",
       "<table border=\"1\" class=\"dataframe\">\n",
       "  <thead>\n",
       "    <tr style=\"text-align: right;\">\n",
       "      <th></th>\n",
       "      <th>hypothesis</th>\n",
       "      <th>reach</th>\n",
       "      <th>impact</th>\n",
       "      <th>confidence</th>\n",
       "      <th>effort</th>\n",
       "      <th>ice</th>\n",
       "      <th>priority_ice</th>\n",
       "    </tr>\n",
       "  </thead>\n",
       "  <tbody>\n",
       "    <tr>\n",
       "      <th>8</th>\n",
       "      <td>Launch a promotion that gives users discounts on their birthdays</td>\n",
       "      <td>1</td>\n",
       "      <td>9</td>\n",
       "      <td>9</td>\n",
       "      <td>5</td>\n",
       "      <td>16.200000</td>\n",
       "      <td>1</td>\n",
       "    </tr>\n",
       "    <tr>\n",
       "      <th>0</th>\n",
       "      <td>Add two new channels for attracting traffic. This will bring 30% more users</td>\n",
       "      <td>3</td>\n",
       "      <td>10</td>\n",
       "      <td>8</td>\n",
       "      <td>6</td>\n",
       "      <td>13.333333</td>\n",
       "      <td>9</td>\n",
       "    </tr>\n",
       "    <tr>\n",
       "      <th>7</th>\n",
       "      <td>Add a subscription form to all the main pages. This will help you compile a mailing list</td>\n",
       "      <td>10</td>\n",
       "      <td>7</td>\n",
       "      <td>8</td>\n",
       "      <td>5</td>\n",
       "      <td>11.200000</td>\n",
       "      <td>2</td>\n",
       "    </tr>\n",
       "    <tr>\n",
       "      <th>6</th>\n",
       "      <td>Show banners with current offers and sales on the main page. This will boost conversion</td>\n",
       "      <td>5</td>\n",
       "      <td>3</td>\n",
       "      <td>8</td>\n",
       "      <td>3</td>\n",
       "      <td>8.000000</td>\n",
       "      <td>3</td>\n",
       "    </tr>\n",
       "    <tr>\n",
       "      <th>2</th>\n",
       "      <td>Add product recommendation blocks to the store's site. This will increase conversion and average purchase size</td>\n",
       "      <td>8</td>\n",
       "      <td>3</td>\n",
       "      <td>7</td>\n",
       "      <td>3</td>\n",
       "      <td>7.000000</td>\n",
       "      <td>7</td>\n",
       "    </tr>\n",
       "    <tr>\n",
       "      <th>1</th>\n",
       "      <td>Launch your own delivery service. This will shorten delivery time</td>\n",
       "      <td>2</td>\n",
       "      <td>5</td>\n",
       "      <td>4</td>\n",
       "      <td>10</td>\n",
       "      <td>2.000000</td>\n",
       "      <td>8</td>\n",
       "    </tr>\n",
       "    <tr>\n",
       "      <th>5</th>\n",
       "      <td>Add a customer review page. This will increase the number of orders</td>\n",
       "      <td>3</td>\n",
       "      <td>2</td>\n",
       "      <td>2</td>\n",
       "      <td>3</td>\n",
       "      <td>1.333333</td>\n",
       "      <td>4</td>\n",
       "    </tr>\n",
       "    <tr>\n",
       "      <th>3</th>\n",
       "      <td>Change the category structure. This will increase conversion since users will find the products they want more quickly</td>\n",
       "      <td>8</td>\n",
       "      <td>3</td>\n",
       "      <td>3</td>\n",
       "      <td>8</td>\n",
       "      <td>1.125000</td>\n",
       "      <td>6</td>\n",
       "    </tr>\n",
       "    <tr>\n",
       "      <th>4</th>\n",
       "      <td>Change the background color on the main page. This will increase user engagement</td>\n",
       "      <td>3</td>\n",
       "      <td>1</td>\n",
       "      <td>1</td>\n",
       "      <td>1</td>\n",
       "      <td>1.000000</td>\n",
       "      <td>5</td>\n",
       "    </tr>\n",
       "  </tbody>\n",
       "</table>\n",
       "</div>"
      ],
      "text/plain": [
       "                                                                                                               hypothesis  \\\n",
       "8                                                        Launch a promotion that gives users discounts on their birthdays   \n",
       "0                                             Add two new channels for attracting traffic. This will bring 30% more users   \n",
       "7                                Add a subscription form to all the main pages. This will help you compile a mailing list   \n",
       "6                                 Show banners with current offers and sales on the main page. This will boost conversion   \n",
       "2          Add product recommendation blocks to the store's site. This will increase conversion and average purchase size   \n",
       "1                                                       Launch your own delivery service. This will shorten delivery time   \n",
       "5                                                     Add a customer review page. This will increase the number of orders   \n",
       "3  Change the category structure. This will increase conversion since users will find the products they want more quickly   \n",
       "4                                        Change the background color on the main page. This will increase user engagement   \n",
       "\n",
       "   reach  impact  confidence  effort        ice  priority_ice  \n",
       "8      1       9           9       5  16.200000             1  \n",
       "0      3      10           8       6  13.333333             9  \n",
       "7     10       7           8       5  11.200000             2  \n",
       "6      5       3           8       3   8.000000             3  \n",
       "2      8       3           7       3   7.000000             7  \n",
       "1      2       5           4      10   2.000000             8  \n",
       "5      3       2           2       3   1.333333             4  \n",
       "3      8       3           3       8   1.125000             6  \n",
       "4      3       1           1       1   1.000000             5  "
      ]
     },
     "execution_count": 17,
     "metadata": {},
     "output_type": "execute_result"
    }
   ],
   "source": [
    "# add ice and \"priority_ice\" column to hypotheses and shorting column \n",
    "hypotheses[\"ice\"] = (hypotheses[\"impact\"]*hypotheses[\"confidence\"])/ hypotheses[\"effort\"]\n",
    "hypotheses['priority_ice'] = (\n",
    "    hypotheses.apply(lambda x: hypotheses[hypotheses['hypothesis'] == x['hypothesis']]\n",
    "                   .index.values[0],\n",
    "                     axis=1))\n",
    "hypotheses[['hypothesis','ice','priority_ice']]\n",
    "hypotheses['priority_ice'] = 9 - hypotheses['priority_ice']\n",
    "\n",
    "# plot ice table\n",
    "sns.barplot(y=\"hypothesis\", x=\"ice\", data=hypotheses.head(9),palette=(\"Blues_d\"))\n",
    "plt.title('ICE')\n",
    "plt.show();\n",
    "\n",
    "hypotheses.sort_values(by=\"ice\", ascending=False)"
   ]
  },
  {
   "cell_type": "markdown",
   "id": "4e4c6e3b",
   "metadata": {},
   "source": [
    "<br>Based on the `ICE` framework to prioritize hypotheses, our top three is: \n",
    "\n",
    "1. &nbsp; \"&nbsp;Launch a promotion that gives users discounts on their birthdays&nbsp;\"\n",
    "\n",
    "\n",
    "2. &nbsp;\"&nbsp;Add two new channels for attracting traffic. This will bring 30% more users&nbsp;\"\n",
    "\n",
    "\n",
    "3. &nbsp;\"&nbsp;Add a subscription form to all the main pages. This will help you compile a mailing list&nbsp;\""
   ]
  },
  {
   "cell_type": "markdown",
   "id": "49f23c53",
   "metadata": {},
   "source": [
    "<hr id=\"p2\"><h2>Apply the `RICE` framework to prioritize hypotheses</h2><br>Sort them in descending order of priority\n",
    "\n",
    "<h2>RICE:</h2>\n",
    "\n",
    "Reach — how many users will be affected by the update you want to introduce\n",
    "\n",
    "Impact — how strongly this update will affect the users, their experience, and their satisfaction with the product\n",
    "\n",
    "Confidence — how sure you are that your product will affect them in this way\n",
    "\n",
    "Effort — how much will it cost to test the hypothesis"
   ]
  },
  {
   "cell_type": "code",
   "execution_count": 18,
   "id": "6d2c6826",
   "metadata": {},
   "outputs": [],
   "source": [
    "# add column \"rice\"\n",
    "hypotheses['rice'] = hypotheses.apply(lambda x: x['impact'] * x['confidence'] * x['reach'] / x['effort'], axis=1)"
   ]
  },
  {
   "cell_type": "code",
   "execution_count": 19,
   "id": "323731d8",
   "metadata": {},
   "outputs": [
    {
     "data": {
      "image/png": "[encoded data removed]",
      "text/plain": [
       "<Figure size 432x288 with 1 Axes>"
      ]
     },
     "metadata": {},
     "output_type": "display_data"
    },
    {
     "data": {
      "text/html": [
       "<div>\n",
       "<style scoped>\n",
       "    .dataframe tbody tr th:only-of-type {\n",
       "        vertical-align: middle;\n",
       "    }\n",
       "\n",
       "    .dataframe tbody tr th {\n",
       "        vertical-align: top;\n",
       "    }\n",
       "\n",
       "    .dataframe thead th {\n",
       "        text-align: right;\n",
       "    }\n",
       "</style>\n",
       "<table border=\"1\" class=\"dataframe\">\n",
       "  <thead>\n",
       "    <tr style=\"text-align: right;\">\n",
       "      <th></th>\n",
       "      <th>hypothesis</th>\n",
       "      <th>reach</th>\n",
       "      <th>impact</th>\n",
       "      <th>confidence</th>\n",
       "      <th>effort</th>\n",
       "      <th>ice</th>\n",
       "      <th>priority_ice</th>\n",
       "      <th>rice</th>\n",
       "    </tr>\n",
       "  </thead>\n",
       "  <tbody>\n",
       "    <tr>\n",
       "      <th>0</th>\n",
       "      <td>Add a subscription form to all the main pages. This will help you compile a mailing list</td>\n",
       "      <td>10</td>\n",
       "      <td>7</td>\n",
       "      <td>8</td>\n",
       "      <td>5</td>\n",
       "      <td>11.200000</td>\n",
       "      <td>2</td>\n",
       "      <td>112.0</td>\n",
       "    </tr>\n",
       "    <tr>\n",
       "      <th>1</th>\n",
       "      <td>Add product recommendation blocks to the store's site. This will increase conversion and average purchase size</td>\n",
       "      <td>8</td>\n",
       "      <td>3</td>\n",
       "      <td>7</td>\n",
       "      <td>3</td>\n",
       "      <td>7.000000</td>\n",
       "      <td>7</td>\n",
       "      <td>56.0</td>\n",
       "    </tr>\n",
       "    <tr>\n",
       "      <th>2</th>\n",
       "      <td>Add two new channels for attracting traffic. This will bring 30% more users</td>\n",
       "      <td>3</td>\n",
       "      <td>10</td>\n",
       "      <td>8</td>\n",
       "      <td>6</td>\n",
       "      <td>13.333333</td>\n",
       "      <td>9</td>\n",
       "      <td>40.0</td>\n",
       "    </tr>\n",
       "    <tr>\n",
       "      <th>3</th>\n",
       "      <td>Show banners with current offers and sales on the main page. This will boost conversion</td>\n",
       "      <td>5</td>\n",
       "      <td>3</td>\n",
       "      <td>8</td>\n",
       "      <td>3</td>\n",
       "      <td>8.000000</td>\n",
       "      <td>3</td>\n",
       "      <td>40.0</td>\n",
       "    </tr>\n",
       "    <tr>\n",
       "      <th>4</th>\n",
       "      <td>Launch a promotion that gives users discounts on their birthdays</td>\n",
       "      <td>1</td>\n",
       "      <td>9</td>\n",
       "      <td>9</td>\n",
       "      <td>5</td>\n",
       "      <td>16.200000</td>\n",
       "      <td>1</td>\n",
       "      <td>16.2</td>\n",
       "    </tr>\n",
       "    <tr>\n",
       "      <th>5</th>\n",
       "      <td>Change the category structure. This will increase conversion since users will find the products they want more quickly</td>\n",
       "      <td>8</td>\n",
       "      <td>3</td>\n",
       "      <td>3</td>\n",
       "      <td>8</td>\n",
       "      <td>1.125000</td>\n",
       "      <td>6</td>\n",
       "      <td>9.0</td>\n",
       "    </tr>\n",
       "    <tr>\n",
       "      <th>6</th>\n",
       "      <td>Launch your own delivery service. This will shorten delivery time</td>\n",
       "      <td>2</td>\n",
       "      <td>5</td>\n",
       "      <td>4</td>\n",
       "      <td>10</td>\n",
       "      <td>2.000000</td>\n",
       "      <td>8</td>\n",
       "      <td>4.0</td>\n",
       "    </tr>\n",
       "    <tr>\n",
       "      <th>7</th>\n",
       "      <td>Add a customer review page. This will increase the number of orders</td>\n",
       "      <td>3</td>\n",
       "      <td>2</td>\n",
       "      <td>2</td>\n",
       "      <td>3</td>\n",
       "      <td>1.333333</td>\n",
       "      <td>4</td>\n",
       "      <td>4.0</td>\n",
       "    </tr>\n",
       "    <tr>\n",
       "      <th>8</th>\n",
       "      <td>Change the background color on the main page. This will increase user engagement</td>\n",
       "      <td>3</td>\n",
       "      <td>1</td>\n",
       "      <td>1</td>\n",
       "      <td>1</td>\n",
       "      <td>1.000000</td>\n",
       "      <td>5</td>\n",
       "      <td>3.0</td>\n",
       "    </tr>\n",
       "  </tbody>\n",
       "</table>\n",
       "</div>"
      ],
      "text/plain": [
       "                                                                                                               hypothesis  \\\n",
       "0                                Add a subscription form to all the main pages. This will help you compile a mailing list   \n",
       "1          Add product recommendation blocks to the store's site. This will increase conversion and average purchase size   \n",
       "2                                             Add two new channels for attracting traffic. This will bring 30% more users   \n",
       "3                                 Show banners with current offers and sales on the main page. This will boost conversion   \n",
       "4                                                        Launch a promotion that gives users discounts on their birthdays   \n",
       "5  Change the category structure. This will increase conversion since users will find the products they want more quickly   \n",
       "6                                                       Launch your own delivery service. This will shorten delivery time   \n",
       "7                                                     Add a customer review page. This will increase the number of orders   \n",
       "8                                        Change the background color on the main page. This will increase user engagement   \n",
       "\n",
       "   reach  impact  confidence  effort        ice  priority_ice   rice  \n",
       "0     10       7           8       5  11.200000             2  112.0  \n",
       "1      8       3           7       3   7.000000             7   56.0  \n",
       "2      3      10           8       6  13.333333             9   40.0  \n",
       "3      5       3           8       3   8.000000             3   40.0  \n",
       "4      1       9           9       5  16.200000             1   16.2  \n",
       "5      8       3           3       8   1.125000             6    9.0  \n",
       "6      2       5           4      10   2.000000             8    4.0  \n",
       "7      3       2           2       3   1.333333             4    4.0  \n",
       "8      3       1           1       1   1.000000             5    3.0  "
      ]
     },
     "execution_count": 19,
     "metadata": {},
     "output_type": "execute_result"
    }
   ],
   "source": [
    "# plot the Rice table\n",
    "sns.barplot(y=\"hypothesis\", x=\"rice\", data=hypotheses.head(9),palette=(\"rainbow\"))\n",
    "plt.title('RICE')\n",
    "plt.show();\n",
    "\n",
    "# sorting column \"rice\"\n",
    "hypotheses = hypotheses.sort_values(by='rice', ascending = False).reset_index(drop=True)\n",
    "hypotheses"
   ]
  },
  {
   "cell_type": "code",
   "execution_count": 20,
   "id": "34ea20b7",
   "metadata": {},
   "outputs": [
    {
     "data": {
      "text/html": [
       "<div>\n",
       "<style scoped>\n",
       "    .dataframe tbody tr th:only-of-type {\n",
       "        vertical-align: middle;\n",
       "    }\n",
       "\n",
       "    .dataframe tbody tr th {\n",
       "        vertical-align: top;\n",
       "    }\n",
       "\n",
       "    .dataframe thead th {\n",
       "        text-align: right;\n",
       "    }\n",
       "</style>\n",
       "<table border=\"1\" class=\"dataframe\">\n",
       "  <thead>\n",
       "    <tr style=\"text-align: right;\">\n",
       "      <th></th>\n",
       "      <th>hypothesis</th>\n",
       "      <th>reach</th>\n",
       "      <th>impact</th>\n",
       "      <th>confidence</th>\n",
       "      <th>effort</th>\n",
       "      <th>ice</th>\n",
       "      <th>priority_ice</th>\n",
       "      <th>rice</th>\n",
       "      <th>priority_rice</th>\n",
       "    </tr>\n",
       "  </thead>\n",
       "  <tbody>\n",
       "    <tr>\n",
       "      <th>0</th>\n",
       "      <td>Add a subscription form to all the main pages. This will help you compile a mailing list</td>\n",
       "      <td>10</td>\n",
       "      <td>7</td>\n",
       "      <td>8</td>\n",
       "      <td>5</td>\n",
       "      <td>11.200000</td>\n",
       "      <td>2</td>\n",
       "      <td>112.0</td>\n",
       "      <td>9</td>\n",
       "    </tr>\n",
       "    <tr>\n",
       "      <th>1</th>\n",
       "      <td>Add product recommendation blocks to the store's site. This will increase conversion and average purchase size</td>\n",
       "      <td>8</td>\n",
       "      <td>3</td>\n",
       "      <td>7</td>\n",
       "      <td>3</td>\n",
       "      <td>7.000000</td>\n",
       "      <td>7</td>\n",
       "      <td>56.0</td>\n",
       "      <td>8</td>\n",
       "    </tr>\n",
       "    <tr>\n",
       "      <th>2</th>\n",
       "      <td>Add two new channels for attracting traffic. This will bring 30% more users</td>\n",
       "      <td>3</td>\n",
       "      <td>10</td>\n",
       "      <td>8</td>\n",
       "      <td>6</td>\n",
       "      <td>13.333333</td>\n",
       "      <td>9</td>\n",
       "      <td>40.0</td>\n",
       "      <td>7</td>\n",
       "    </tr>\n",
       "    <tr>\n",
       "      <th>3</th>\n",
       "      <td>Show banners with current offers and sales on the main page. This will boost conversion</td>\n",
       "      <td>5</td>\n",
       "      <td>3</td>\n",
       "      <td>8</td>\n",
       "      <td>3</td>\n",
       "      <td>8.000000</td>\n",
       "      <td>3</td>\n",
       "      <td>40.0</td>\n",
       "      <td>6</td>\n",
       "    </tr>\n",
       "    <tr>\n",
       "      <th>4</th>\n",
       "      <td>Launch a promotion that gives users discounts on their birthdays</td>\n",
       "      <td>1</td>\n",
       "      <td>9</td>\n",
       "      <td>9</td>\n",
       "      <td>5</td>\n",
       "      <td>16.200000</td>\n",
       "      <td>1</td>\n",
       "      <td>16.2</td>\n",
       "      <td>5</td>\n",
       "    </tr>\n",
       "    <tr>\n",
       "      <th>5</th>\n",
       "      <td>Change the category structure. This will increase conversion since users will find the products they want more quickly</td>\n",
       "      <td>8</td>\n",
       "      <td>3</td>\n",
       "      <td>3</td>\n",
       "      <td>8</td>\n",
       "      <td>1.125000</td>\n",
       "      <td>6</td>\n",
       "      <td>9.0</td>\n",
       "      <td>4</td>\n",
       "    </tr>\n",
       "    <tr>\n",
       "      <th>6</th>\n",
       "      <td>Launch your own delivery service. This will shorten delivery time</td>\n",
       "      <td>2</td>\n",
       "      <td>5</td>\n",
       "      <td>4</td>\n",
       "      <td>10</td>\n",
       "      <td>2.000000</td>\n",
       "      <td>8</td>\n",
       "      <td>4.0</td>\n",
       "      <td>3</td>\n",
       "    </tr>\n",
       "    <tr>\n",
       "      <th>7</th>\n",
       "      <td>Add a customer review page. This will increase the number of orders</td>\n",
       "      <td>3</td>\n",
       "      <td>2</td>\n",
       "      <td>2</td>\n",
       "      <td>3</td>\n",
       "      <td>1.333333</td>\n",
       "      <td>4</td>\n",
       "      <td>4.0</td>\n",
       "      <td>2</td>\n",
       "    </tr>\n",
       "    <tr>\n",
       "      <th>8</th>\n",
       "      <td>Change the background color on the main page. This will increase user engagement</td>\n",
       "      <td>3</td>\n",
       "      <td>1</td>\n",
       "      <td>1</td>\n",
       "      <td>1</td>\n",
       "      <td>1.000000</td>\n",
       "      <td>5</td>\n",
       "      <td>3.0</td>\n",
       "      <td>1</td>\n",
       "    </tr>\n",
       "  </tbody>\n",
       "</table>\n",
       "</div>"
      ],
      "text/plain": [
       "                                                                                                               hypothesis  \\\n",
       "0                                Add a subscription form to all the main pages. This will help you compile a mailing list   \n",
       "1          Add product recommendation blocks to the store's site. This will increase conversion and average purchase size   \n",
       "2                                             Add two new channels for attracting traffic. This will bring 30% more users   \n",
       "3                                 Show banners with current offers and sales on the main page. This will boost conversion   \n",
       "4                                                        Launch a promotion that gives users discounts on their birthdays   \n",
       "5  Change the category structure. This will increase conversion since users will find the products they want more quickly   \n",
       "6                                                       Launch your own delivery service. This will shorten delivery time   \n",
       "7                                                     Add a customer review page. This will increase the number of orders   \n",
       "8                                        Change the background color on the main page. This will increase user engagement   \n",
       "\n",
       "   reach  impact  confidence  effort        ice  priority_ice   rice  \\\n",
       "0     10       7           8       5  11.200000             2  112.0   \n",
       "1      8       3           7       3   7.000000             7   56.0   \n",
       "2      3      10           8       6  13.333333             9   40.0   \n",
       "3      5       3           8       3   8.000000             3   40.0   \n",
       "4      1       9           9       5  16.200000             1   16.2   \n",
       "5      8       3           3       8   1.125000             6    9.0   \n",
       "6      2       5           4      10   2.000000             8    4.0   \n",
       "7      3       2           2       3   1.333333             4    4.0   \n",
       "8      3       1           1       1   1.000000             5    3.0   \n",
       "\n",
       "   priority_rice  \n",
       "0              9  \n",
       "1              8  \n",
       "2              7  \n",
       "3              6  \n",
       "4              5  \n",
       "5              4  \n",
       "6              3  \n",
       "7              2  \n",
       "8              1  "
      ]
     },
     "execution_count": 20,
     "metadata": {},
     "output_type": "execute_result"
    }
   ],
   "source": [
    "#add column \"priority_rice\"\n",
    "hypotheses['priority_rice'] = (\n",
    "    hypotheses.apply(lambda x: hypotheses[hypotheses['hypothesis'] == x['hypothesis']].\n",
    "                     index.values[0],\n",
    "                     axis=1))\n",
    "hypotheses[['hypothesis','rice','priority_rice']]\n",
    "hypotheses['priority_rice'] = 9 - hypotheses['priority_rice']\n",
    "hypotheses"
   ]
  },
  {
   "cell_type": "markdown",
   "id": "e53a03cb",
   "metadata": {},
   "source": [
    "<br>Based on the `RICE` framework to prioritize hypotheses, our top three is: \n",
    "\n",
    "1. &nbsp;\"&nbsp;Add a subscription form to all the main pages. This will help you compile a mailing list&nbsp;\"\n",
    "\n",
    "\n",
    "2. &nbsp;\"&nbsp;Add product recommendation blocks to the store's site. This will increase conversion and average purchase size&nbsp;\"\n",
    "\n",
    "\n",
    "3. &nbsp;\"&nbsp;Add two new channels for attracting traffic. This will bring 30% more users&nbsp;\""
   ]
  },
  {
   "cell_type": "markdown",
   "id": "64277bcb",
   "metadata": {},
   "source": [
    "<hr id=\"p3\"><h3>Show how the prioritization of hypotheses changes when you use RICE Vs ICE</h3><br> Provide an explanation for the changes"
   ]
  },
  {
   "cell_type": "code",
   "execution_count": 21,
   "id": "f6ba17e0",
   "metadata": {},
   "outputs": [
    {
     "data": {
      "text/html": [
       "<style  type=\"text/css\" >\n",
       "#T_e7a7a_row0_col3,#T_e7a7a_row1_col3,#T_e7a7a_row3_col3,#T_e7a7a_row4_col3{\n",
       "            color:  green;\n",
       "        }#T_e7a7a_row2_col3,#T_e7a7a_row5_col3,#T_e7a7a_row6_col3,#T_e7a7a_row7_col3,#T_e7a7a_row8_col3{\n",
       "            color:  red;\n",
       "        }</style><table id=\"T_e7a7a_\" ><thead>    <tr>        <th class=\"blank level0\" ></th>        <th class=\"col_heading level0 col0\" >hypothesis</th>        <th class=\"col_heading level0 col1\" >priority_rice</th>        <th class=\"col_heading level0 col2\" >priority_ice</th>        <th class=\"col_heading level0 col3\" >shift</th>    </tr></thead><tbody>\n",
       "                <tr>\n",
       "                        <th id=\"T_e7a7a_level0_row0\" class=\"row_heading level0 row0\" >0</th>\n",
       "                        <td id=\"T_e7a7a_row0_col0\" class=\"data row0 col0\" >Add a subscription form to all the main pages. This will help you compile a mailing list</td>\n",
       "                        <td id=\"T_e7a7a_row0_col1\" class=\"data row0 col1\" >9</td>\n",
       "                        <td id=\"T_e7a7a_row0_col2\" class=\"data row0 col2\" >2</td>\n",
       "                        <td id=\"T_e7a7a_row0_col3\" class=\"data row0 col3\" >7</td>\n",
       "            </tr>\n",
       "            <tr>\n",
       "                        <th id=\"T_e7a7a_level0_row1\" class=\"row_heading level0 row1\" >1</th>\n",
       "                        <td id=\"T_e7a7a_row1_col0\" class=\"data row1 col0\" >Add product recommendation blocks to the store's site. This will increase conversion and average purchase size</td>\n",
       "                        <td id=\"T_e7a7a_row1_col1\" class=\"data row1 col1\" >8</td>\n",
       "                        <td id=\"T_e7a7a_row1_col2\" class=\"data row1 col2\" >7</td>\n",
       "                        <td id=\"T_e7a7a_row1_col3\" class=\"data row1 col3\" >1</td>\n",
       "            </tr>\n",
       "            <tr>\n",
       "                        <th id=\"T_e7a7a_level0_row2\" class=\"row_heading level0 row2\" >2</th>\n",
       "                        <td id=\"T_e7a7a_row2_col0\" class=\"data row2 col0\" >Add two new channels for attracting traffic. This will bring 30% more users</td>\n",
       "                        <td id=\"T_e7a7a_row2_col1\" class=\"data row2 col1\" >7</td>\n",
       "                        <td id=\"T_e7a7a_row2_col2\" class=\"data row2 col2\" >9</td>\n",
       "                        <td id=\"T_e7a7a_row2_col3\" class=\"data row2 col3\" >-2</td>\n",
       "            </tr>\n",
       "            <tr>\n",
       "                        <th id=\"T_e7a7a_level0_row3\" class=\"row_heading level0 row3\" >3</th>\n",
       "                        <td id=\"T_e7a7a_row3_col0\" class=\"data row3 col0\" >Show banners with current offers and sales on the main page. This will boost conversion</td>\n",
       "                        <td id=\"T_e7a7a_row3_col1\" class=\"data row3 col1\" >6</td>\n",
       "                        <td id=\"T_e7a7a_row3_col2\" class=\"data row3 col2\" >3</td>\n",
       "                        <td id=\"T_e7a7a_row3_col3\" class=\"data row3 col3\" >3</td>\n",
       "            </tr>\n",
       "            <tr>\n",
       "                        <th id=\"T_e7a7a_level0_row4\" class=\"row_heading level0 row4\" >4</th>\n",
       "                        <td id=\"T_e7a7a_row4_col0\" class=\"data row4 col0\" >Launch a promotion that gives users discounts on their birthdays</td>\n",
       "                        <td id=\"T_e7a7a_row4_col1\" class=\"data row4 col1\" >5</td>\n",
       "                        <td id=\"T_e7a7a_row4_col2\" class=\"data row4 col2\" >1</td>\n",
       "                        <td id=\"T_e7a7a_row4_col3\" class=\"data row4 col3\" >4</td>\n",
       "            </tr>\n",
       "            <tr>\n",
       "                        <th id=\"T_e7a7a_level0_row5\" class=\"row_heading level0 row5\" >5</th>\n",
       "                        <td id=\"T_e7a7a_row5_col0\" class=\"data row5 col0\" >Change the category structure. This will increase conversion since users will find the products they want more quickly</td>\n",
       "                        <td id=\"T_e7a7a_row5_col1\" class=\"data row5 col1\" >4</td>\n",
       "                        <td id=\"T_e7a7a_row5_col2\" class=\"data row5 col2\" >6</td>\n",
       "                        <td id=\"T_e7a7a_row5_col3\" class=\"data row5 col3\" >-2</td>\n",
       "            </tr>\n",
       "            <tr>\n",
       "                        <th id=\"T_e7a7a_level0_row6\" class=\"row_heading level0 row6\" >6</th>\n",
       "                        <td id=\"T_e7a7a_row6_col0\" class=\"data row6 col0\" >Launch your own delivery service. This will shorten delivery time</td>\n",
       "                        <td id=\"T_e7a7a_row6_col1\" class=\"data row6 col1\" >3</td>\n",
       "                        <td id=\"T_e7a7a_row6_col2\" class=\"data row6 col2\" >8</td>\n",
       "                        <td id=\"T_e7a7a_row6_col3\" class=\"data row6 col3\" >-5</td>\n",
       "            </tr>\n",
       "            <tr>\n",
       "                        <th id=\"T_e7a7a_level0_row7\" class=\"row_heading level0 row7\" >7</th>\n",
       "                        <td id=\"T_e7a7a_row7_col0\" class=\"data row7 col0\" >Add a customer review page. This will increase the number of orders</td>\n",
       "                        <td id=\"T_e7a7a_row7_col1\" class=\"data row7 col1\" >2</td>\n",
       "                        <td id=\"T_e7a7a_row7_col2\" class=\"data row7 col2\" >4</td>\n",
       "                        <td id=\"T_e7a7a_row7_col3\" class=\"data row7 col3\" >-2</td>\n",
       "            </tr>\n",
       "            <tr>\n",
       "                        <th id=\"T_e7a7a_level0_row8\" class=\"row_heading level0 row8\" >8</th>\n",
       "                        <td id=\"T_e7a7a_row8_col0\" class=\"data row8 col0\" >Change the background color on the main page. This will increase user engagement</td>\n",
       "                        <td id=\"T_e7a7a_row8_col1\" class=\"data row8 col1\" >1</td>\n",
       "                        <td id=\"T_e7a7a_row8_col2\" class=\"data row8 col2\" >5</td>\n",
       "                        <td id=\"T_e7a7a_row8_col3\" class=\"data row8 col3\" >-4</td>\n",
       "            </tr>\n",
       "    </tbody></table>"
      ],
      "text/plain": [
       "<pandas.io.formats.style.Styler at 0x7f971fbf1d30>"
      ]
     },
     "execution_count": 21,
     "metadata": {},
     "output_type": "execute_result"
    }
   ],
   "source": [
    "# add shift column \n",
    "hypotheses['shift'] = hypotheses.apply(lambda x: x['priority_rice'] - x['priority_ice'], axis=1)\n",
    "\n",
    "# function to compere the \"ice\" & \"rice\" priority\n",
    "def neg(val):\n",
    "    color = 'red' \n",
    "    if val >= 0:\n",
    "        color = 'green'\n",
    "    return 'color: %s' % color\n",
    "\n",
    "# adding columns and apply the function\n",
    "(hypotheses[['hypothesis','priority_rice','priority_ice','shift']].style.applymap(neg,subset=['shift']))  "
   ]
  },
  {
   "cell_type": "code",
   "execution_count": 22,
   "id": "b0e9cca3",
   "metadata": {},
   "outputs": [
    {
     "data": {
      "image/png": "[encoded data removed]",
      "text/plain": [
       "<Figure size 1080x720 with 1 Axes>"
      ]
     },
     "metadata": {},
     "output_type": "display_data"
    }
   ],
   "source": [
    "#Plot RICE Vs ICE\n",
    "x = hypotheses['rice'].values\n",
    "y = hypotheses['ice'].values\n",
    "types = hypotheses.index.values\n",
    "fig, ax = plt.subplots(figsize=(15,10))\n",
    "ax.scatter(x, y)\n",
    "ax.set_xlabel('RICE', fontsize=17)\n",
    "ax.set_ylabel('ICE', fontsize=17)\n",
    "ax.set_title('RICE Vs ICE', fontsize=17)\n",
    "for i, txt in enumerate(types):\n",
    "    ax.annotate(txt, (x[i], y[i]), xytext=(10,10), textcoords='offset points')\n",
    "    plt.scatter(x, y,color='steelblue')\n",
    "plt.show();"
   ]
  },
  {
   "cell_type": "markdown",
   "id": "e0721771",
   "metadata": {},
   "source": [
    "<h2>Conclusion</h2>\n",
    "\n",
    "<b>ICE = (Impact x Confidence) / Effort</b>\n",
    "\n",
    "<b>RICE score = (Reach x Impact x Confidence)/ Effort</b>\n",
    "\n",
    "Our Top 5 ICE promising hypotheses:\n",
    "\n",
    " - Launch a promotion that gives users discounts on their birthdays\n",
    " \n",
    " - Add two new channels for attracting traffic. This will bring 30% more users\n",
    " \n",
    " - Add a subscription form to all the main pages. This will help you compile a mailing list\n",
    " \n",
    " - Show banners with current offers and sales on the main page. This will boost conversion\n",
    " \n",
    " - Add product recommendation blocks to the store's site. This will increase conversion & average purchase size \n",
    " \n",
    " \n",
    "Our Top 5 RICE promising hypotheses: \n",
    "\n",
    "   - Add a subscription form to all the main pages. This will help you compile a mailing list\n",
    "   \n",
    "   - Add product recommendation blocks to the store's site. This will increase conversion & average purchase size\n",
    "   \n",
    "   - Add two new channels for attracting traffic. This will bring 30% more users\n",
    "   \n",
    "   - Show banners with current offers and sales on the main page. This will boost conversion\n",
    "   \n",
    "   - Launch a promotion that gives users discounts on their birthdays\n",
    "   \n",
    "   \n",
    "We can see that in both calc Top 5 is the same list of hypotheses but in a little bit diffrent order   \n",
    "   \n",
    "Our scatter plot, show that there has been a considerable reshuffling of priorities, this can be due the sensitivity of reach parameter whose ranking differs from each other\n",
    "\n",
    "We assigning a prioritization rating to RICE & ICE, we can see hypotheses have different priorities\n",
    "\n",
    "In the 'shift' column we can see how many positions the priority changed when we prioritized using the RICE method\n",
    "\n",
    "The priority has been increased for those hypotheses for potential audience reach was higher\n",
    "\n",
    "More people innovation affects, more result will be getting"
   ]
  },
  {
   "cell_type": "markdown",
   "id": "ddab41e5",
   "metadata": {},
   "source": [
    "<a href=\"#top\">\n",
    "    <button>&#8593; Back To index</button>\n",
    "  </a> "
   ]
  },
  {
   "cell_type": "markdown",
   "id": "a55916a3",
   "metadata": {},
   "source": [
    "<hr><h1>Part II \"A/B Test Analysis\"</h1>\n",
    "\n",
    "You carried out an A/B test and got the results described in the files orders_us.csv and visits_us.csv"
   ]
  },
  {
   "cell_type": "markdown",
   "id": "3c4b2711",
   "metadata": {},
   "source": [
    "<hr id=\"q1\"><h2>1.Graph cumulative 'Revenue by group'</h2>"
   ]
  },
  {
   "cell_type": "code",
   "execution_count": 23,
   "id": "9ab85a4d",
   "metadata": {},
   "outputs": [
    {
     "data": {
      "image/png": "[encoded data removed]",
      "text/plain": [
       "<Figure size 1080x504 with 1 Axes>"
      ]
     },
     "metadata": {},
     "output_type": "display_data"
    },
    {
     "data": {
      "text/html": [
       "<th style=\"text-align:center\"><td style=\"vertical-align:top\"><h6>cumulative_revenue</h6><table style=\"display:inline\" border=\"1\" class=\"dataframe\">\n",
       "  <thead>\n",
       "    <tr style=\"text-align: right;\">\n",
       "      <th></th>\n",
       "      <th>revenue</th>\n",
       "    </tr>\n",
       "    <tr>\n",
       "      <th>group</th>\n",
       "      <th></th>\n",
       "    </tr>\n",
       "  </thead>\n",
       "  <tbody>\n",
       "    <tr>\n",
       "      <th>A</th>\n",
       "      <td>53212.0</td>\n",
       "    </tr>\n",
       "    <tr>\n",
       "      <th>B</th>\n",
       "      <td>79651.2</td>\n",
       "    </tr>\n",
       "  </tbody>\n",
       "</table style=\"display:inline\"></td></th><th style=\"text-align:center\"><td style=\"vertical-align:top\"><h6>orders head</h6><table style=\"display:inline\" border=\"1\" class=\"dataframe\">\n",
       "  <thead>\n",
       "    <tr style=\"text-align: right;\">\n",
       "      <th></th>\n",
       "      <th>transactionid</th>\n",
       "      <th>visitorid</th>\n",
       "      <th>date</th>\n",
       "      <th>revenue</th>\n",
       "      <th>group</th>\n",
       "    </tr>\n",
       "  </thead>\n",
       "  <tbody>\n",
       "    <tr>\n",
       "      <th>0</th>\n",
       "      <td>3667963787</td>\n",
       "      <td>3312258926</td>\n",
       "      <td>2019-08-15</td>\n",
       "      <td>30.4</td>\n",
       "      <td>B</td>\n",
       "    </tr>\n",
       "    <tr>\n",
       "      <th>1</th>\n",
       "      <td>2804400009</td>\n",
       "      <td>3642806036</td>\n",
       "      <td>2019-08-15</td>\n",
       "      <td>15.2</td>\n",
       "      <td>B</td>\n",
       "    </tr>\n",
       "    <tr>\n",
       "      <th>3</th>\n",
       "      <td>3797467345</td>\n",
       "      <td>1196621759</td>\n",
       "      <td>2019-08-15</td>\n",
       "      <td>155.1</td>\n",
       "      <td>B</td>\n",
       "    </tr>\n",
       "    <tr>\n",
       "      <th>4</th>\n",
       "      <td>2282983706</td>\n",
       "      <td>2322279887</td>\n",
       "      <td>2019-08-15</td>\n",
       "      <td>40.5</td>\n",
       "      <td>B</td>\n",
       "    </tr>\n",
       "    <tr>\n",
       "      <th>5</th>\n",
       "      <td>182168103</td>\n",
       "      <td>935554773</td>\n",
       "      <td>2019-08-15</td>\n",
       "      <td>35.0</td>\n",
       "      <td>B</td>\n",
       "    </tr>\n",
       "  </tbody>\n",
       "</table style=\"display:inline\"></td></th>"
      ]
     },
     "metadata": {},
     "output_type": "display_data"
    }
   ],
   "source": [
    "# avg cumulative revenue by group\n",
    "cumulative_revenue=orders_new_data.groupby('group').agg({'revenue':'sum'})\n",
    "ax=cumulative_revenue.plot(kind='bar',figsize=(15,7),alpha=0.5,label='cumulative revenue',\n",
    "  rot=360,edgecolor = 'black',color='steelblue');\n",
    "ax.spines['top'].set_visible(False)\n",
    "ax.spines['right'].set_visible(False)\n",
    "plt.legend(loc=\"best\")\n",
    "plt.title(\"Cumulative revenue by group\",fontdict={'size':18},weight='bold',color = 'gray');\n",
    "plt.xlabel(\"Group\",fontdict={'size':14});\n",
    "plt.ylabel(\"Revenue\",fontdict={'size':14} );\n",
    "plt.legend(loc=\"best\")\n",
    "plt.legend(['Revenue'],loc=\"upper left\",prop = {'size' : 13}, shadow = True, facecolor = 'lightgray')\n",
    "plt.grid(axis='y', color='black', lw = 0.8, alpha=0.3)\n",
    "for item in ax.patches:\n",
    "    height = item.get_height()\n",
    "    ax.annotate('{:.0f}'.format(height),\n",
    "            xy=(item.get_x() + item.get_width() / 2, height),\n",
    "            xytext=(0, 0),  \n",
    "            textcoords=\"offset points\",\n",
    "            ha='center', va='bottom',size='14',color='gray')\n",
    "plt.show();\n",
    "sbs(cumulative_revenue,orders_new_data.head(5),titles=['cumulative_revenue','orders head'])"
   ]
  },
  {
   "cell_type": "markdown",
   "id": "951ea5eb",
   "metadata": {},
   "source": [
    "We can see that Group 'B' 79651.2 bring more profit than group 'A' 53212 "
   ]
  },
  {
   "cell_type": "code",
   "execution_count": 24,
   "id": "eebfe28d",
   "metadata": {},
   "outputs": [],
   "source": [
    "# compering both groups revenue\n",
    "datesGroups = orders_new_data[['date','group']].drop_duplicates()\n",
    "ordersAggregated = datesGroups.apply(lambda x: orders_new_data[np.logical_and(orders_new_data['date'] <= x['date'], \n",
    "                                                                              orders_new_data['group'] == x['group'])].agg \\\n",
    "                                     ({'date' : 'max', 'group' : 'max', \n",
    "                                           'transactionid' : 'nunique', 'visitorid' : 'nunique', 'revenue' : 'sum'}), \n",
    "                                     axis=1).sort_values(by=['date','group'])\n",
    "visitorsAggregated = datesGroups.apply(lambda x: visits[np.logical_and(visits['date'] <= x['date'], visits['group'] == x \\\n",
    "                                                                       ['group'])].agg({'date' : 'max', 'group' : 'max', \n",
    "                                                                                            'visits' : 'sum'}), \n",
    "                                       axis=1).sort_values(by=['date','group'])\n",
    "cumulativeData = ordersAggregated.merge(visitorsAggregated, left_on=['date', 'group'], right_on=['date', 'group'])\n",
    "cumulativeData.columns = ['date', 'group', 'orders', 'buyers', 'revenue', 'visitors']\n",
    "cumulativeRevenueA = cumulativeData[cumulativeData['group']=='A'][['date','revenue', 'orders']]\n",
    "cumulativeRevenueB = cumulativeData[cumulativeData['group']=='B'][['date','revenue', 'orders']]\n",
    "cumulativeDataA = cumulativeData[cumulativeData['group']=='A']\n",
    "cumulativeDataB = cumulativeData[cumulativeData['group']=='B']"
   ]
  },
  {
   "cell_type": "code",
   "execution_count": 25,
   "id": "65a4a3d3",
   "metadata": {},
   "outputs": [
    {
     "data": {
      "text/html": [
       "<div>\n",
       "<style scoped>\n",
       "    .dataframe tbody tr th:only-of-type {\n",
       "        vertical-align: middle;\n",
       "    }\n",
       "\n",
       "    .dataframe tbody tr th {\n",
       "        vertical-align: top;\n",
       "    }\n",
       "\n",
       "    .dataframe thead th {\n",
       "        text-align: right;\n",
       "    }\n",
       "</style>\n",
       "<table border=\"1\" class=\"dataframe\">\n",
       "  <thead>\n",
       "    <tr style=\"text-align: right;\">\n",
       "      <th></th>\n",
       "      <th>date</th>\n",
       "      <th>group</th>\n",
       "      <th>orders</th>\n",
       "      <th>buyers</th>\n",
       "      <th>revenue</th>\n",
       "      <th>visitors</th>\n",
       "    </tr>\n",
       "  </thead>\n",
       "  <tbody>\n",
       "    <tr>\n",
       "      <th>0</th>\n",
       "      <td>2019-08-01</td>\n",
       "      <td>A</td>\n",
       "      <td>23</td>\n",
       "      <td>19</td>\n",
       "      <td>2266.6</td>\n",
       "      <td>719</td>\n",
       "    </tr>\n",
       "    <tr>\n",
       "      <th>2</th>\n",
       "      <td>2019-08-02</td>\n",
       "      <td>A</td>\n",
       "      <td>42</td>\n",
       "      <td>36</td>\n",
       "      <td>3734.9</td>\n",
       "      <td>1338</td>\n",
       "    </tr>\n",
       "    <tr>\n",
       "      <th>4</th>\n",
       "      <td>2019-08-03</td>\n",
       "      <td>A</td>\n",
       "      <td>66</td>\n",
       "      <td>60</td>\n",
       "      <td>5550.1</td>\n",
       "      <td>1845</td>\n",
       "    </tr>\n",
       "    <tr>\n",
       "      <th>6</th>\n",
       "      <td>2019-08-04</td>\n",
       "      <td>A</td>\n",
       "      <td>77</td>\n",
       "      <td>71</td>\n",
       "      <td>6225.6</td>\n",
       "      <td>2562</td>\n",
       "    </tr>\n",
       "    <tr>\n",
       "      <th>8</th>\n",
       "      <td>2019-08-05</td>\n",
       "      <td>A</td>\n",
       "      <td>99</td>\n",
       "      <td>92</td>\n",
       "      <td>7623.6</td>\n",
       "      <td>3318</td>\n",
       "    </tr>\n",
       "  </tbody>\n",
       "</table>\n",
       "</div>"
      ],
      "text/plain": [
       "        date group  orders  buyers  revenue  visitors\n",
       "0 2019-08-01     A      23      19   2266.6       719\n",
       "2 2019-08-02     A      42      36   3734.9      1338\n",
       "4 2019-08-03     A      66      60   5550.1      1845\n",
       "6 2019-08-04     A      77      71   6225.6      2562\n",
       "8 2019-08-05     A      99      92   7623.6      3318"
      ]
     },
     "execution_count": 25,
     "metadata": {},
     "output_type": "execute_result"
    }
   ],
   "source": [
    "#cumulative revenue by group A\n",
    "cumulativeDataA.head(5)"
   ]
  },
  {
   "cell_type": "code",
   "execution_count": 26,
   "id": "d7367eb7",
   "metadata": {},
   "outputs": [
    {
     "data": {
      "text/html": [
       "<div>\n",
       "<style scoped>\n",
       "    .dataframe tbody tr th:only-of-type {\n",
       "        vertical-align: middle;\n",
       "    }\n",
       "\n",
       "    .dataframe tbody tr th {\n",
       "        vertical-align: top;\n",
       "    }\n",
       "\n",
       "    .dataframe thead th {\n",
       "        text-align: right;\n",
       "    }\n",
       "</style>\n",
       "<table border=\"1\" class=\"dataframe\">\n",
       "  <thead>\n",
       "    <tr style=\"text-align: right;\">\n",
       "      <th></th>\n",
       "      <th>date</th>\n",
       "      <th>group</th>\n",
       "      <th>orders</th>\n",
       "      <th>buyers</th>\n",
       "      <th>revenue</th>\n",
       "      <th>visitors</th>\n",
       "    </tr>\n",
       "  </thead>\n",
       "  <tbody>\n",
       "    <tr>\n",
       "      <th>1</th>\n",
       "      <td>2019-08-01</td>\n",
       "      <td>B</td>\n",
       "      <td>17</td>\n",
       "      <td>17</td>\n",
       "      <td>967.2</td>\n",
       "      <td>713</td>\n",
       "    </tr>\n",
       "    <tr>\n",
       "      <th>3</th>\n",
       "      <td>2019-08-02</td>\n",
       "      <td>B</td>\n",
       "      <td>40</td>\n",
       "      <td>39</td>\n",
       "      <td>3535.3</td>\n",
       "      <td>1294</td>\n",
       "    </tr>\n",
       "    <tr>\n",
       "      <th>5</th>\n",
       "      <td>2019-08-03</td>\n",
       "      <td>B</td>\n",
       "      <td>54</td>\n",
       "      <td>53</td>\n",
       "      <td>4606.9</td>\n",
       "      <td>1803</td>\n",
       "    </tr>\n",
       "    <tr>\n",
       "      <th>7</th>\n",
       "      <td>2019-08-04</td>\n",
       "      <td>B</td>\n",
       "      <td>68</td>\n",
       "      <td>66</td>\n",
       "      <td>6138.5</td>\n",
       "      <td>2573</td>\n",
       "    </tr>\n",
       "    <tr>\n",
       "      <th>9</th>\n",
       "      <td>2019-08-05</td>\n",
       "      <td>B</td>\n",
       "      <td>89</td>\n",
       "      <td>87</td>\n",
       "      <td>7587.8</td>\n",
       "      <td>3280</td>\n",
       "    </tr>\n",
       "  </tbody>\n",
       "</table>\n",
       "</div>"
      ],
      "text/plain": [
       "        date group  orders  buyers  revenue  visitors\n",
       "1 2019-08-01     B      17      17    967.2       713\n",
       "3 2019-08-02     B      40      39   3535.3      1294\n",
       "5 2019-08-03     B      54      53   4606.9      1803\n",
       "7 2019-08-04     B      68      66   6138.5      2573\n",
       "9 2019-08-05     B      89      87   7587.8      3280"
      ]
     },
     "execution_count": 26,
     "metadata": {},
     "output_type": "execute_result"
    }
   ],
   "source": [
    "#cumulative revenue by group B\n",
    "cumulativeDataB.head(5)"
   ]
  },
  {
   "cell_type": "code",
   "execution_count": 27,
   "id": "c1ce735e",
   "metadata": {},
   "outputs": [
    {
     "data": {
      "image/png": "[encoded data removed]",
      "text/plain": [
       "<Figure size 1008x720 with 1 Axes>"
      ]
     },
     "metadata": {},
     "output_type": "display_data"
    }
   ],
   "source": [
    "# cumulative revenue by group over time plot\n",
    "plt.figure(figsize=(14,10))\n",
    "plt.title('Cumulative Revenue By Group', size=24)\n",
    "plt.plot(cumulativeRevenueA['date'], cumulativeRevenueA['revenue'], label='A')\n",
    "plt.plot(cumulativeRevenueB['date'], cumulativeRevenueB['revenue'], label='B')\n",
    "plt.xlabel('Date', size=16)\n",
    "plt.ylabel('Revenue', size=16)\n",
    "plt.xticks(rotation=45)\n",
    "plt.legend()\n",
    "plt.show();"
   ]
  },
  {
   "cell_type": "markdown",
   "id": "b89689f8",
   "metadata": {},
   "source": [
    "\n",
    "- We can see that our revenue is rising steadily throughout the test\n",
    "\n",
    "\n",
    "- Huge increase revenue in group 'B' towards the end of the test (2019-08-17 - 2019-08-21)\n",
    "\n",
    "\n",
    "- Spikes in group B revenue may be result of:\n",
    "\n",
    "\n",
    "  - Rise in the No. of transaction   \n",
    "    \n",
    "  - Rise in the No. of visitors\n",
    "    \n",
    "  - Expensive orders \n",
    "    \n",
    "let's keep going to our next test to see if groub 'B' keep the same way and find if it's anomaly or not   "
   ]
  },
  {
   "cell_type": "markdown",
   "id": "e5121bee",
   "metadata": {},
   "source": [
    "<hr id=\"q2\"><h2>2.Graph cumulative average order size by group</h2>"
   ]
  },
  {
   "cell_type": "code",
   "execution_count": 28,
   "id": "db2ba529",
   "metadata": {},
   "outputs": [
    {
     "data": {
      "image/png": "[encoded data removed]",
      "text/plain": [
       "<Figure size 1080x504 with 1 Axes>"
      ]
     },
     "metadata": {},
     "output_type": "display_data"
    },
    {
     "data": {
      "text/html": [
       "<div>\n",
       "<style scoped>\n",
       "    .dataframe tbody tr th:only-of-type {\n",
       "        vertical-align: middle;\n",
       "    }\n",
       "\n",
       "    .dataframe tbody tr th {\n",
       "        vertical-align: top;\n",
       "    }\n",
       "\n",
       "    .dataframe thead th {\n",
       "        text-align: right;\n",
       "    }\n",
       "</style>\n",
       "<table border=\"1\" class=\"dataframe\">\n",
       "  <thead>\n",
       "    <tr style=\"text-align: right;\">\n",
       "      <th></th>\n",
       "      <th>revenue</th>\n",
       "    </tr>\n",
       "    <tr>\n",
       "      <th>group</th>\n",
       "      <th></th>\n",
       "    </tr>\n",
       "  </thead>\n",
       "  <tbody>\n",
       "    <tr>\n",
       "      <th>A</th>\n",
       "      <td>113.700855</td>\n",
       "    </tr>\n",
       "    <tr>\n",
       "      <th>B</th>\n",
       "      <td>145.348905</td>\n",
       "    </tr>\n",
       "  </tbody>\n",
       "</table>\n",
       "</div>"
      ],
      "text/plain": [
       "          revenue\n",
       "group            \n",
       "A      113.700855\n",
       "B      145.348905"
      ]
     },
     "execution_count": 28,
     "metadata": {},
     "output_type": "execute_result"
    }
   ],
   "source": [
    "average_order_size=orders_new_data.groupby('group').agg({'revenue':'mean'})\n",
    "ax=average_order_size.plot(kind='bar',figsize=(15,7),alpha=0.5,label='cumulative revenue',rot=360\n",
    "  ,edgecolor = 'black',color='steelblue');\n",
    "ax.spines['top'].set_visible(False)\n",
    "ax.spines['right'].set_visible(False)\n",
    "plt.legend(loc=\"best\")\n",
    "plt.title(\"Cumulative average order size by group\",fontdict={'size':18},weight='bold',color = 'gray');\n",
    "plt.xlabel(\"Group\",fontdict={'size':14});\n",
    "plt.ylabel(\"average order size\",fontdict={'size':14});\n",
    "plt.legend(loc=\"best\")\n",
    "plt.legend(loc=\"upper left\",prop = {'size' : 13}, shadow = True, facecolor = 'lightgray')\n",
    "plt.grid(axis='y', color='black', lw = 0.8, alpha=0.3)\n",
    "for item in ax.patches:\n",
    "    height = item.get_height()\n",
    "    ax.annotate('{:.0f}'.format(height),\n",
    "            xy=(item.get_x() + item.get_width() / 2, height),\n",
    "            xytext=(0, 0),  \n",
    "            textcoords=\"offset points\",\n",
    "            ha='center', va='bottom',size='14',color='gray')\n",
    "plt.show();\n",
    "average_order_size"
   ]
  },
  {
   "cell_type": "code",
   "execution_count": 29,
   "id": "518f79b0",
   "metadata": {},
   "outputs": [],
   "source": [
    "#add avg order size column\n",
    "cumulativeData['avgorder_size'] = cumulativeData['revenue']/cumulativeData['orders']\n",
    "cumulativeDataA = cumulativeData[cumulativeData['group']=='A']\n",
    "cumulativeDataB = cumulativeData[cumulativeData['group']=='B']"
   ]
  },
  {
   "cell_type": "code",
   "execution_count": 30,
   "id": "65e5b770",
   "metadata": {},
   "outputs": [
    {
     "data": {
      "text/html": [
       "<div>\n",
       "<style scoped>\n",
       "    .dataframe tbody tr th:only-of-type {\n",
       "        vertical-align: middle;\n",
       "    }\n",
       "\n",
       "    .dataframe tbody tr th {\n",
       "        vertical-align: top;\n",
       "    }\n",
       "\n",
       "    .dataframe thead th {\n",
       "        text-align: right;\n",
       "    }\n",
       "</style>\n",
       "<table border=\"1\" class=\"dataframe\">\n",
       "  <thead>\n",
       "    <tr style=\"text-align: right;\">\n",
       "      <th></th>\n",
       "      <th>date</th>\n",
       "      <th>group</th>\n",
       "      <th>orders</th>\n",
       "      <th>buyers</th>\n",
       "      <th>revenue</th>\n",
       "      <th>visitors</th>\n",
       "      <th>avgorder_size</th>\n",
       "    </tr>\n",
       "  </thead>\n",
       "  <tbody>\n",
       "    <tr>\n",
       "      <th>0</th>\n",
       "      <td>2019-08-01</td>\n",
       "      <td>A</td>\n",
       "      <td>23</td>\n",
       "      <td>19</td>\n",
       "      <td>2266.6</td>\n",
       "      <td>719</td>\n",
       "      <td>98.547826</td>\n",
       "    </tr>\n",
       "    <tr>\n",
       "      <th>2</th>\n",
       "      <td>2019-08-02</td>\n",
       "      <td>A</td>\n",
       "      <td>42</td>\n",
       "      <td>36</td>\n",
       "      <td>3734.9</td>\n",
       "      <td>1338</td>\n",
       "      <td>88.926190</td>\n",
       "    </tr>\n",
       "    <tr>\n",
       "      <th>4</th>\n",
       "      <td>2019-08-03</td>\n",
       "      <td>A</td>\n",
       "      <td>66</td>\n",
       "      <td>60</td>\n",
       "      <td>5550.1</td>\n",
       "      <td>1845</td>\n",
       "      <td>84.092424</td>\n",
       "    </tr>\n",
       "    <tr>\n",
       "      <th>6</th>\n",
       "      <td>2019-08-04</td>\n",
       "      <td>A</td>\n",
       "      <td>77</td>\n",
       "      <td>71</td>\n",
       "      <td>6225.6</td>\n",
       "      <td>2562</td>\n",
       "      <td>80.851948</td>\n",
       "    </tr>\n",
       "    <tr>\n",
       "      <th>8</th>\n",
       "      <td>2019-08-05</td>\n",
       "      <td>A</td>\n",
       "      <td>99</td>\n",
       "      <td>92</td>\n",
       "      <td>7623.6</td>\n",
       "      <td>3318</td>\n",
       "      <td>77.006061</td>\n",
       "    </tr>\n",
       "  </tbody>\n",
       "</table>\n",
       "</div>"
      ],
      "text/plain": [
       "        date group  orders  buyers  revenue  visitors  avgorder_size\n",
       "0 2019-08-01     A      23      19   2266.6       719      98.547826\n",
       "2 2019-08-02     A      42      36   3734.9      1338      88.926190\n",
       "4 2019-08-03     A      66      60   5550.1      1845      84.092424\n",
       "6 2019-08-04     A      77      71   6225.6      2562      80.851948\n",
       "8 2019-08-05     A      99      92   7623.6      3318      77.006061"
      ]
     },
     "execution_count": 30,
     "metadata": {},
     "output_type": "execute_result"
    }
   ],
   "source": [
    "#group A avg size order\n",
    "cumulativeDataA.head(5)"
   ]
  },
  {
   "cell_type": "code",
   "execution_count": 31,
   "id": "b7de1a42",
   "metadata": {},
   "outputs": [
    {
     "data": {
      "text/html": [
       "<div>\n",
       "<style scoped>\n",
       "    .dataframe tbody tr th:only-of-type {\n",
       "        vertical-align: middle;\n",
       "    }\n",
       "\n",
       "    .dataframe tbody tr th {\n",
       "        vertical-align: top;\n",
       "    }\n",
       "\n",
       "    .dataframe thead th {\n",
       "        text-align: right;\n",
       "    }\n",
       "</style>\n",
       "<table border=\"1\" class=\"dataframe\">\n",
       "  <thead>\n",
       "    <tr style=\"text-align: right;\">\n",
       "      <th></th>\n",
       "      <th>date</th>\n",
       "      <th>group</th>\n",
       "      <th>orders</th>\n",
       "      <th>buyers</th>\n",
       "      <th>revenue</th>\n",
       "      <th>visitors</th>\n",
       "      <th>avgorder_size</th>\n",
       "    </tr>\n",
       "  </thead>\n",
       "  <tbody>\n",
       "    <tr>\n",
       "      <th>1</th>\n",
       "      <td>2019-08-01</td>\n",
       "      <td>B</td>\n",
       "      <td>17</td>\n",
       "      <td>17</td>\n",
       "      <td>967.2</td>\n",
       "      <td>713</td>\n",
       "      <td>56.894118</td>\n",
       "    </tr>\n",
       "    <tr>\n",
       "      <th>3</th>\n",
       "      <td>2019-08-02</td>\n",
       "      <td>B</td>\n",
       "      <td>40</td>\n",
       "      <td>39</td>\n",
       "      <td>3535.3</td>\n",
       "      <td>1294</td>\n",
       "      <td>88.382500</td>\n",
       "    </tr>\n",
       "    <tr>\n",
       "      <th>5</th>\n",
       "      <td>2019-08-03</td>\n",
       "      <td>B</td>\n",
       "      <td>54</td>\n",
       "      <td>53</td>\n",
       "      <td>4606.9</td>\n",
       "      <td>1803</td>\n",
       "      <td>85.312963</td>\n",
       "    </tr>\n",
       "    <tr>\n",
       "      <th>7</th>\n",
       "      <td>2019-08-04</td>\n",
       "      <td>B</td>\n",
       "      <td>68</td>\n",
       "      <td>66</td>\n",
       "      <td>6138.5</td>\n",
       "      <td>2573</td>\n",
       "      <td>90.272059</td>\n",
       "    </tr>\n",
       "    <tr>\n",
       "      <th>9</th>\n",
       "      <td>2019-08-05</td>\n",
       "      <td>B</td>\n",
       "      <td>89</td>\n",
       "      <td>87</td>\n",
       "      <td>7587.8</td>\n",
       "      <td>3280</td>\n",
       "      <td>85.256180</td>\n",
       "    </tr>\n",
       "  </tbody>\n",
       "</table>\n",
       "</div>"
      ],
      "text/plain": [
       "        date group  orders  buyers  revenue  visitors  avgorder_size\n",
       "1 2019-08-01     B      17      17    967.2       713      56.894118\n",
       "3 2019-08-02     B      40      39   3535.3      1294      88.382500\n",
       "5 2019-08-03     B      54      53   4606.9      1803      85.312963\n",
       "7 2019-08-04     B      68      66   6138.5      2573      90.272059\n",
       "9 2019-08-05     B      89      87   7587.8      3280      85.256180"
      ]
     },
     "execution_count": 31,
     "metadata": {},
     "output_type": "execute_result"
    }
   ],
   "source": [
    "#group b avg size order\n",
    "cumulativeDataB.head(5)"
   ]
  },
  {
   "cell_type": "markdown",
   "id": "c1214488",
   "metadata": {},
   "source": [
    "We can see that our average order size is very close between the two groups, but still group 'B' is on top like we see in the previous question"
   ]
  },
  {
   "cell_type": "code",
   "execution_count": 32,
   "id": "7f6e85bf",
   "metadata": {},
   "outputs": [
    {
     "data": {
      "image/png": "[encoded data removed]",
      "text/plain": [
       "<Figure size 1008x720 with 1 Axes>"
      ]
     },
     "metadata": {},
     "output_type": "display_data"
    },
    {
     "name": "stdout",
     "output_type": "stream",
     "text": [
      "\n"
     ]
    }
   ],
   "source": [
    "# compering the average in both data groups\n",
    "plt.figure(figsize=(14,10))\n",
    "plt.title('Cumulative Average Order Size By Group', size=24)\n",
    "plt.plot(cumulativeRevenueA['date'], cumulativeRevenueA['revenue']/cumulativeRevenueA['orders'], label='A')\n",
    "plt.plot(cumulativeRevenueB['date'], cumulativeRevenueB['revenue']/cumulativeRevenueB['orders'], label='B')\n",
    "plt.xlabel('Date', size=16)\n",
    "plt.ylabel('Order size', size=16)\n",
    "plt.xticks(rotation=45)\n",
    "plt.legend()\n",
    "plt.show();\n",
    "print()"
   ]
  },
  {
   "cell_type": "markdown",
   "id": "fde3db3f",
   "metadata": {},
   "source": [
    "- Average order size keeps flunctuating throughout the test\n",
    "\n",
    "\n",
    "- The surge in group B is the 2019-08-18 may have been due to the presence of large, expensive orders, we need more data on       this group to find the true average purchase size and establish its level\n",
    "\n",
    "\n",
    "- Group A started with a fall in the average order size but saw a surge at the end of the first half of the test, and becomes     steady from 2019-08-13 till the end of our test\n",
    "\n",
    "\n",
    "- As we can see, the average purchase price in Group B is higher, but the trend is downtrend and it is not clear from the         available data whether the average order price in Group B will fall below Group A\n",
    "\n",
    "\n",
    "- Group B keep rising steadily with a huge surge towards the end of the test"
   ]
  },
  {
   "cell_type": "markdown",
   "id": "70ca3e6b",
   "metadata": {},
   "source": [
    "<hr id=\"q3\"><h2>3.Graph the Relative difference in cumulative average order size for group B compared with group A</h2><br> Make conclusions and conjectures</h4><br>"
   ]
  },
  {
   "cell_type": "code",
   "execution_count": 33,
   "id": "28f7d273",
   "metadata": {},
   "outputs": [
    {
     "data": {
      "image/png": "[encoded data removed]",
      "text/plain": [
       "<Figure size 1008x720 with 1 Axes>"
      ]
     },
     "metadata": {},
     "output_type": "display_data"
    }
   ],
   "source": [
    "# plot of the relative difference in average order sizes \n",
    "mergedCumulativeRevenue = cumulativeRevenueA.merge(cumulativeRevenueB, left_on='date', right_on='date', how='left', \n",
    "                                                   suffixes=['A', 'B'])\n",
    "plt.figure(figsize=(14,10))\n",
    "plt.title('Relative Difference in Cumulative Average Order Size', size=24)\n",
    "plt.plot(mergedCumulativeRevenue['date'],\n",
    "         (mergedCumulativeRevenue['revenueB']/mergedCumulativeRevenue['ordersB'])/(mergedCumulativeRevenue['revenueA']/mergedCumulativeRevenue['ordersA'])-1)\n",
    "plt.xlabel('Date', size=16)\n",
    "plt.ylabel('Relative Difference', size=16)\n",
    "plt.axhline(y=0, color='black', linestyle='--')\n",
    "plt.xticks(rotation=45)\n",
    "plt.show();"
   ]
  },
  {
   "cell_type": "markdown",
   "id": "362923ba",
   "metadata": {},
   "source": [
    "\n",
    "- We see big orders and outliers or abnormally of large buying\n",
    "\n",
    "- The chart is downtrend and we do not have enough data to make an unambiguous conclusion regarding the relative \n",
    "  difference between the average order size\n",
    "  \n",
    "- Several spikes relative difference  \n",
    "\n",
    "- Sharp reversals, which means that there are an abnormally large buying in both groups"
   ]
  },
  {
   "cell_type": "markdown",
   "id": "89c5c27c",
   "metadata": {},
   "source": [
    "<hr id=\"q4\"><h2>4.Calculate each group's conversion rate as the ratio of orders to the number of visits for each day</h2><br> Plot the daily conversion rates of the two groups and describe the difference. Draw conclusions and make conjectures<br>"
   ]
  },
  {
   "cell_type": "code",
   "execution_count": 34,
   "id": "5718b436",
   "metadata": {},
   "outputs": [],
   "source": [
    "# calculate the conversion_rate\n",
    "cumulativeData['conversion'] = cumulativeData['orders']/cumulativeData['visitors']\n",
    "cumulativeDataA = cumulativeData[cumulativeData['group']=='A']\n",
    "cumulativeDataB = cumulativeData[cumulativeData['group']=='B']"
   ]
  },
  {
   "cell_type": "code",
   "execution_count": 35,
   "id": "1b5c6a7b",
   "metadata": {},
   "outputs": [
    {
     "data": {
      "text/html": [
       "<div>\n",
       "<style scoped>\n",
       "    .dataframe tbody tr th:only-of-type {\n",
       "        vertical-align: middle;\n",
       "    }\n",
       "\n",
       "    .dataframe tbody tr th {\n",
       "        vertical-align: top;\n",
       "    }\n",
       "\n",
       "    .dataframe thead th {\n",
       "        text-align: right;\n",
       "    }\n",
       "</style>\n",
       "<table border=\"1\" class=\"dataframe\">\n",
       "  <thead>\n",
       "    <tr style=\"text-align: right;\">\n",
       "      <th></th>\n",
       "      <th>date</th>\n",
       "      <th>group</th>\n",
       "      <th>orders</th>\n",
       "      <th>buyers</th>\n",
       "      <th>revenue</th>\n",
       "      <th>visitors</th>\n",
       "      <th>avgorder_size</th>\n",
       "      <th>conversion</th>\n",
       "    </tr>\n",
       "  </thead>\n",
       "  <tbody>\n",
       "    <tr>\n",
       "      <th>0</th>\n",
       "      <td>2019-08-01</td>\n",
       "      <td>A</td>\n",
       "      <td>23</td>\n",
       "      <td>19</td>\n",
       "      <td>2266.6</td>\n",
       "      <td>719</td>\n",
       "      <td>98.547826</td>\n",
       "      <td>0.031989</td>\n",
       "    </tr>\n",
       "    <tr>\n",
       "      <th>2</th>\n",
       "      <td>2019-08-02</td>\n",
       "      <td>A</td>\n",
       "      <td>42</td>\n",
       "      <td>36</td>\n",
       "      <td>3734.9</td>\n",
       "      <td>1338</td>\n",
       "      <td>88.926190</td>\n",
       "      <td>0.031390</td>\n",
       "    </tr>\n",
       "    <tr>\n",
       "      <th>4</th>\n",
       "      <td>2019-08-03</td>\n",
       "      <td>A</td>\n",
       "      <td>66</td>\n",
       "      <td>60</td>\n",
       "      <td>5550.1</td>\n",
       "      <td>1845</td>\n",
       "      <td>84.092424</td>\n",
       "      <td>0.035772</td>\n",
       "    </tr>\n",
       "    <tr>\n",
       "      <th>6</th>\n",
       "      <td>2019-08-04</td>\n",
       "      <td>A</td>\n",
       "      <td>77</td>\n",
       "      <td>71</td>\n",
       "      <td>6225.6</td>\n",
       "      <td>2562</td>\n",
       "      <td>80.851948</td>\n",
       "      <td>0.030055</td>\n",
       "    </tr>\n",
       "    <tr>\n",
       "      <th>8</th>\n",
       "      <td>2019-08-05</td>\n",
       "      <td>A</td>\n",
       "      <td>99</td>\n",
       "      <td>92</td>\n",
       "      <td>7623.6</td>\n",
       "      <td>3318</td>\n",
       "      <td>77.006061</td>\n",
       "      <td>0.029837</td>\n",
       "    </tr>\n",
       "  </tbody>\n",
       "</table>\n",
       "</div>"
      ],
      "text/plain": [
       "        date group  orders  buyers  revenue  visitors  avgorder_size  \\\n",
       "0 2019-08-01     A      23      19   2266.6       719      98.547826   \n",
       "2 2019-08-02     A      42      36   3734.9      1338      88.926190   \n",
       "4 2019-08-03     A      66      60   5550.1      1845      84.092424   \n",
       "6 2019-08-04     A      77      71   6225.6      2562      80.851948   \n",
       "8 2019-08-05     A      99      92   7623.6      3318      77.006061   \n",
       "\n",
       "   conversion  \n",
       "0    0.031989  \n",
       "2    0.031390  \n",
       "4    0.035772  \n",
       "6    0.030055  \n",
       "8    0.029837  "
      ]
     },
     "execution_count": 35,
     "metadata": {},
     "output_type": "execute_result"
    }
   ],
   "source": [
    "# group A conversion\n",
    "cumulativeDataA.head(5)"
   ]
  },
  {
   "cell_type": "code",
   "execution_count": 36,
   "id": "7964ab1c",
   "metadata": {},
   "outputs": [
    {
     "data": {
      "text/html": [
       "<div>\n",
       "<style scoped>\n",
       "    .dataframe tbody tr th:only-of-type {\n",
       "        vertical-align: middle;\n",
       "    }\n",
       "\n",
       "    .dataframe tbody tr th {\n",
       "        vertical-align: top;\n",
       "    }\n",
       "\n",
       "    .dataframe thead th {\n",
       "        text-align: right;\n",
       "    }\n",
       "</style>\n",
       "<table border=\"1\" class=\"dataframe\">\n",
       "  <thead>\n",
       "    <tr style=\"text-align: right;\">\n",
       "      <th></th>\n",
       "      <th>date</th>\n",
       "      <th>group</th>\n",
       "      <th>orders</th>\n",
       "      <th>buyers</th>\n",
       "      <th>revenue</th>\n",
       "      <th>visitors</th>\n",
       "      <th>avgorder_size</th>\n",
       "      <th>conversion</th>\n",
       "    </tr>\n",
       "  </thead>\n",
       "  <tbody>\n",
       "    <tr>\n",
       "      <th>1</th>\n",
       "      <td>2019-08-01</td>\n",
       "      <td>B</td>\n",
       "      <td>17</td>\n",
       "      <td>17</td>\n",
       "      <td>967.2</td>\n",
       "      <td>713</td>\n",
       "      <td>56.894118</td>\n",
       "      <td>0.023843</td>\n",
       "    </tr>\n",
       "    <tr>\n",
       "      <th>3</th>\n",
       "      <td>2019-08-02</td>\n",
       "      <td>B</td>\n",
       "      <td>40</td>\n",
       "      <td>39</td>\n",
       "      <td>3535.3</td>\n",
       "      <td>1294</td>\n",
       "      <td>88.382500</td>\n",
       "      <td>0.030912</td>\n",
       "    </tr>\n",
       "    <tr>\n",
       "      <th>5</th>\n",
       "      <td>2019-08-03</td>\n",
       "      <td>B</td>\n",
       "      <td>54</td>\n",
       "      <td>53</td>\n",
       "      <td>4606.9</td>\n",
       "      <td>1803</td>\n",
       "      <td>85.312963</td>\n",
       "      <td>0.029950</td>\n",
       "    </tr>\n",
       "    <tr>\n",
       "      <th>7</th>\n",
       "      <td>2019-08-04</td>\n",
       "      <td>B</td>\n",
       "      <td>68</td>\n",
       "      <td>66</td>\n",
       "      <td>6138.5</td>\n",
       "      <td>2573</td>\n",
       "      <td>90.272059</td>\n",
       "      <td>0.026428</td>\n",
       "    </tr>\n",
       "    <tr>\n",
       "      <th>9</th>\n",
       "      <td>2019-08-05</td>\n",
       "      <td>B</td>\n",
       "      <td>89</td>\n",
       "      <td>87</td>\n",
       "      <td>7587.8</td>\n",
       "      <td>3280</td>\n",
       "      <td>85.256180</td>\n",
       "      <td>0.027134</td>\n",
       "    </tr>\n",
       "  </tbody>\n",
       "</table>\n",
       "</div>"
      ],
      "text/plain": [
       "        date group  orders  buyers  revenue  visitors  avgorder_size  \\\n",
       "1 2019-08-01     B      17      17    967.2       713      56.894118   \n",
       "3 2019-08-02     B      40      39   3535.3      1294      88.382500   \n",
       "5 2019-08-03     B      54      53   4606.9      1803      85.312963   \n",
       "7 2019-08-04     B      68      66   6138.5      2573      90.272059   \n",
       "9 2019-08-05     B      89      87   7587.8      3280      85.256180   \n",
       "\n",
       "   conversion  \n",
       "1    0.023843  \n",
       "3    0.030912  \n",
       "5    0.029950  \n",
       "7    0.026428  \n",
       "9    0.027134  "
      ]
     },
     "execution_count": 36,
     "metadata": {},
     "output_type": "execute_result"
    }
   ],
   "source": [
    "# group B conversion\n",
    "cumulativeDataB.head(5)"
   ]
  },
  {
   "cell_type": "code",
   "execution_count": 37,
   "id": "71f5afd2",
   "metadata": {
    "scrolled": false
   },
   "outputs": [
    {
     "data": {
      "image/png": "[encoded data removed]",
      "text/plain": [
       "<Figure size 1008x720 with 1 Axes>"
      ]
     },
     "metadata": {},
     "output_type": "display_data"
    }
   ],
   "source": [
    "# creating a line plot for the conversion rate\n",
    "plt.figure(figsize=(14,10));\n",
    "plt.title('Conversion Rate by Group', size=24);\n",
    "plt.plot(cumulativeDataA['date'], cumulativeDataA['conversion'], label='A');\n",
    "plt.plot(cumulativeDataB['date'], cumulativeDataB['conversion'], label='B');\n",
    "plt.xlabel('Date', size=16)\n",
    "plt.ylabel('Conversion', size=16);\n",
    "plt.legend();\n",
    "plt.xticks(rotation=45);\n",
    "plt.show();"
   ]
  },
  {
   "cell_type": "markdown",
   "id": "f20409b1",
   "metadata": {},
   "source": [
    "- In the end of the period, our conversion charts have stabilized\n",
    "\n",
    "- Our conversion rate for group 'B' rise and fall at the beginning of the test before rising to stay above group 'A' till the end of test\n",
    "\n",
    "- There are flunctuation in the conversion rate for the groups"
   ]
  },
  {
   "cell_type": "markdown",
   "id": "71b3535f",
   "metadata": {},
   "source": [
    "<a href=\"#top\">\n",
    "    <button>&#8593; Back To index</button>\n",
    "  </a> "
   ]
  },
  {
   "cell_type": "markdown",
   "id": "43b10551",
   "metadata": {},
   "source": [
    "<hr id=\"q5\"><h2>5.Plot a scatter chart of the number of orders per user</h2>"
   ]
  },
  {
   "cell_type": "code",
   "execution_count": 38,
   "id": "f935729b",
   "metadata": {},
   "outputs": [],
   "source": [
    "#finding the number of orders per user\n",
    "ordersByUsers = (orders_new_data.drop(['group', 'revenue', 'date'], axis=1).groupby('visitorid', as_index=False)\n",
    "    .agg({'transactionid': \"nunique\"}))\n",
    "ordersByUsers.columns = ['userid', 'orders']"
   ]
  },
  {
   "cell_type": "code",
   "execution_count": 39,
   "id": "135d03a3",
   "metadata": {},
   "outputs": [
    {
     "name": "stdout",
     "output_type": "stream",
     "text": [
      "96.30% of customers make only one order\n"
     ]
    }
   ],
   "source": [
    "# calculate number of customers with one order\n",
    "share_one_order = (\n",
    "    len(ordersByUsers[ordersByUsers['orders'] == 1])\n",
    "    /\n",
    "    len(ordersByUsers)\n",
    ")\n",
    "print('{:.2%} of customers make only one order'.format(share_one_order))"
   ]
  },
  {
   "cell_type": "code",
   "execution_count": 40,
   "id": "ab15fd19",
   "metadata": {},
   "outputs": [
    {
     "data": {
      "text/html": [
       "<th style=\"text-align:center\"><td style=\"vertical-align:top\"><h6>ordersByUsers.describe</h6><table style=\"display:inline\" border=\"1\" class=\"dataframe\">\n",
       "  <thead>\n",
       "    <tr style=\"text-align: right;\">\n",
       "      <th></th>\n",
       "      <th>userid</th>\n",
       "      <th>orders</th>\n",
       "    </tr>\n",
       "  </thead>\n",
       "  <tbody>\n",
       "    <tr>\n",
       "      <th>count</th>\n",
       "      <td>9.730000e+02</td>\n",
       "      <td>973.000000</td>\n",
       "    </tr>\n",
       "    <tr>\n",
       "      <th>mean</th>\n",
       "      <td>2.118387e+09</td>\n",
       "      <td>1.044193</td>\n",
       "    </tr>\n",
       "    <tr>\n",
       "      <th>std</th>\n",
       "      <td>1.221446e+09</td>\n",
       "      <td>0.238090</td>\n",
       "    </tr>\n",
       "    <tr>\n",
       "      <th>min</th>\n",
       "      <td>5.114589e+06</td>\n",
       "      <td>1.000000</td>\n",
       "    </tr>\n",
       "    <tr>\n",
       "      <th>25%</th>\n",
       "      <td>1.028756e+09</td>\n",
       "      <td>1.000000</td>\n",
       "    </tr>\n",
       "    <tr>\n",
       "      <th>50%</th>\n",
       "      <td>2.138109e+09</td>\n",
       "      <td>1.000000</td>\n",
       "    </tr>\n",
       "    <tr>\n",
       "      <th>75%</th>\n",
       "      <td>3.141508e+09</td>\n",
       "      <td>1.000000</td>\n",
       "    </tr>\n",
       "    <tr>\n",
       "      <th>max</th>\n",
       "      <td>4.283872e+09</td>\n",
       "      <td>3.000000</td>\n",
       "    </tr>\n",
       "  </tbody>\n",
       "</table style=\"display:inline\"></td></th>"
      ]
     },
     "metadata": {},
     "output_type": "display_data"
    }
   ],
   "source": [
    "#order by users describe\n",
    "sbs(ordersByUsers.describe(),titles=['ordersByUsers.describe'])"
   ]
  },
  {
   "cell_type": "code",
   "execution_count": 41,
   "id": "91b91177",
   "metadata": {
    "scrolled": false
   },
   "outputs": [
    {
     "data": {
      "image/png": "[encoded data removed]",
      "text/plain": [
       "<Figure size 1008x720 with 1 Axes>"
      ]
     },
     "metadata": {},
     "output_type": "display_data"
    }
   ],
   "source": [
    "#plotting scatter chart\n",
    "plt.figure(figsize=(14,10))\n",
    "plt.title('Orders Per User', size=24)\n",
    "x_values = pd.Series(range(0,len(ordersByUsers)))\n",
    "plt.scatter(x_values, ordersByUsers['orders']) \n",
    "plt.xlabel('Users', size=16)\n",
    "plt.ylabel('Orders', size=16)\n",
    "plt.show();"
   ]
  },
  {
   "cell_type": "markdown",
   "id": "2843d06c",
   "metadata": {},
   "source": [
    "- Users with more than two orders may turn out to be anomalies\n",
    "\n",
    "- We can see that the majority of customers, 96.3% only 1 order\n",
    "\n",
    "- There are very few users with more than two orders"
   ]
  },
  {
   "cell_type": "markdown",
   "id": "b177b3ed",
   "metadata": {},
   "source": [
    "<hr id=\"q6\"><h2>6.Calculate the 95th and 99th percentiles for the number of orders per user</h2>"
   ]
  },
  {
   "cell_type": "code",
   "execution_count": 42,
   "id": "eaaa82c6",
   "metadata": {},
   "outputs": [
    {
     "data": {
      "text/plain": [
       "array([1., 2.])"
      ]
     },
     "metadata": {},
     "output_type": "display_data"
    }
   ],
   "source": [
    "# calculating 95th and 99th percentiles\n",
    "display(np.percentile(ordersByUsers['orders'], [95,99]))"
   ]
  },
  {
   "cell_type": "markdown",
   "id": "68eba518",
   "metadata": {},
   "source": [
    "<h3> Define the point at which a data point becomes an anomaly:</h3>\n",
    "\n",
    "- 95th 1 order\n",
    "\n",
    "\n",
    "- 99th 2 or more orders\n",
    "\n",
    "\n",
    "- So it would be right to put one order per user as the upper limit for No of orders and filter anomalies on that base"
   ]
  },
  {
   "cell_type": "markdown",
   "id": "ba7639b2",
   "metadata": {},
   "source": [
    "<a href=\"#top\">\n",
    "    <button>&#8593; Back To index</button></a> "
   ]
  },
  {
   "cell_type": "markdown",
   "id": "f445d340",
   "metadata": {},
   "source": [
    "<hr id=\"q7\"><h2>7.Plot a scatter chart of order prices</h2>"
   ]
  },
  {
   "cell_type": "code",
   "execution_count": 43,
   "id": "35a05b4b",
   "metadata": {
    "scrolled": false
   },
   "outputs": [
    {
     "data": {
      "image/png": "[encoded data removed]",
      "text/plain": [
       "<Figure size 1440x1080 with 2 Axes>"
      ]
     },
     "metadata": {},
     "output_type": "display_data"
    }
   ],
   "source": [
    "#side by side scatter chart of order prices \n",
    "plt.figure(figsize=(20,15))\n",
    "\n",
    "plt.subplots_adjust(wspace=0.2)\n",
    "ax1 = plt.subplot(2,2,1)\n",
    "ax1_values = pd.Series(range(0, len(orders_new_data['revenue'])));\n",
    "plt.title('Orders Prices', size=24);\n",
    "plt.scatter(ax1_values, orders_new_data['revenue']);\n",
    "plt.xlabel('Orders', size=16);\n",
    "plt.ylabel('Revenue', size=16);\n",
    "\n",
    "ax2 = plt.subplot(2,2,2)\n",
    "ax2_values = pd.Series(range(0, len(orders_new_data.query('revenue < 2000')['revenue'])))\n",
    "plt.title('Orders Prices Up To 2000', size=24)\n",
    "plt.scatter(ax2_values, orders_new_data.query('revenue < 2000')['revenue'])\n",
    "plt.xlabel('Orders', size=16)\n",
    "plt.ylabel('Revenue', size=16)\n",
    "plt.show();"
   ]
  },
  {
   "cell_type": "markdown",
   "id": "e0fa2bec",
   "metadata": {},
   "source": [
    "<h3>Make conclusions and conjectures:</h3>\n",
    "\n",
    "- From our scatter we can see that most orders are less than 2000 dollers revenue\n",
    "\n",
    "\n",
    "- Difficult to say anything about the revenue of smaller orders\n",
    "\n",
    "\n",
    "- Very few orders cost more than 2000 dollers\n",
    "\n",
    "\n",
    "- There are outliers of about 2000 US Dollars and 20k US Dollar, which definitely looks preety anomalous"
   ]
  },
  {
   "cell_type": "markdown",
   "id": "5b26e3cd",
   "metadata": {},
   "source": [
    "<hr id=\"q8\"><h2>8.Calculate the 95th and 99th percentiles of order prices</h2>"
   ]
  },
  {
   "cell_type": "code",
   "execution_count": 44,
   "id": "bc8e0afb",
   "metadata": {},
   "outputs": [
    {
     "data": {
      "text/plain": [
       "array([414.275, 830.3  ])"
      ]
     },
     "metadata": {},
     "output_type": "display_data"
    }
   ],
   "source": [
    "# calculating 95th and 99th percentiles\n",
    "display(np.percentile(orders_new_data['revenue'], [95,99]))"
   ]
  },
  {
   "cell_type": "markdown",
   "id": "9e08c599",
   "metadata": {},
   "source": [
    "<h3>Define the point at which a data point becomes an anomaly:</h3>\n",
    "\n",
    "- No more than 5% of users placed orders over ~414 dollars\n",
    "\n",
    "\n",
    "- No more than 1% of users placed orders over ~830 dollars\n",
    "\n",
    "\n",
    "- Most extreme 1-5% of observed values are filtered out\n",
    "\n",
    "\n",
    "- It would be right to set 414 dollars per order as the higher limit and to filter anomalies on that base"
   ]
  },
  {
   "cell_type": "markdown",
   "id": "6491168b",
   "metadata": {},
   "source": [
    "<hr id=\"q9\"><h2>9.Find the statistical significance of the difference in conversion between the groups using the raw data</h2>"
   ]
  },
  {
   "cell_type": "markdown",
   "id": "9c2c488d",
   "metadata": {},
   "source": [
    "**Hypotheses:**\n",
    "\n",
    "H0: No statistically significant difference in conversion between the groups\n",
    "\n",
    "H1: There is statistically significant difference in conversion between the groups\n",
    "\n",
    "Significance level = 0.05"
   ]
  },
  {
   "cell_type": "code",
   "execution_count": 45,
   "id": "15527df8",
   "metadata": {},
   "outputs": [
    {
     "data": {
      "text/html": [
       "<th style=\"text-align:center\"><td style=\"vertical-align:top\"><h6>orders By Users A</h6><table style=\"display:inline\" border=\"1\" class=\"dataframe\">\n",
       "  <thead>\n",
       "    <tr style=\"text-align: right;\">\n",
       "      <th></th>\n",
       "      <th>visitorid</th>\n",
       "      <th>orders</th>\n",
       "    </tr>\n",
       "  </thead>\n",
       "  <tbody>\n",
       "    <tr>\n",
       "      <th>69</th>\n",
       "      <td>749770631</td>\n",
       "      <td>1</td>\n",
       "    </tr>\n",
       "    <tr>\n",
       "      <th>323</th>\n",
       "      <td>3102053760</td>\n",
       "      <td>1</td>\n",
       "    </tr>\n",
       "    <tr>\n",
       "      <th>288</th>\n",
       "      <td>2761566146</td>\n",
       "      <td>1</td>\n",
       "    </tr>\n",
       "    <tr>\n",
       "      <th>262</th>\n",
       "      <td>2606208134</td>\n",
       "      <td>1</td>\n",
       "    </tr>\n",
       "    <tr>\n",
       "      <th>277</th>\n",
       "      <td>2703178540</td>\n",
       "      <td>1</td>\n",
       "    </tr>\n",
       "    <tr>\n",
       "      <th>304</th>\n",
       "      <td>2912540959</td>\n",
       "      <td>1</td>\n",
       "    </tr>\n",
       "    <tr>\n",
       "      <th>278</th>\n",
       "      <td>2705308997</td>\n",
       "      <td>1</td>\n",
       "    </tr>\n",
       "    <tr>\n",
       "      <th>369</th>\n",
       "      <td>3396460792</td>\n",
       "      <td>1</td>\n",
       "    </tr>\n",
       "    <tr>\n",
       "      <th>162</th>\n",
       "      <td>1539796403</td>\n",
       "      <td>1</td>\n",
       "    </tr>\n",
       "    <tr>\n",
       "      <th>87</th>\n",
       "      <td>888420622</td>\n",
       "      <td>1</td>\n",
       "    </tr>\n",
       "  </tbody>\n",
       "</table style=\"display:inline\"></td></th><th style=\"text-align:center\"><td style=\"vertical-align:top\"><h6>orders By Users B</h6><table style=\"display:inline\" border=\"1\" class=\"dataframe\">\n",
       "  <thead>\n",
       "    <tr style=\"text-align: right;\">\n",
       "      <th></th>\n",
       "      <th>visitorid</th>\n",
       "      <th>orders</th>\n",
       "    </tr>\n",
       "  </thead>\n",
       "  <tbody>\n",
       "    <tr>\n",
       "      <th>524</th>\n",
       "      <td>4258103007</td>\n",
       "      <td>1</td>\n",
       "    </tr>\n",
       "    <tr>\n",
       "      <th>453</th>\n",
       "      <td>3686264987</td>\n",
       "      <td>1</td>\n",
       "    </tr>\n",
       "    <tr>\n",
       "      <th>275</th>\n",
       "      <td>2195309755</td>\n",
       "      <td>1</td>\n",
       "    </tr>\n",
       "    <tr>\n",
       "      <th>97</th>\n",
       "      <td>702994395</td>\n",
       "      <td>1</td>\n",
       "    </tr>\n",
       "    <tr>\n",
       "      <th>404</th>\n",
       "      <td>3239199975</td>\n",
       "      <td>1</td>\n",
       "    </tr>\n",
       "    <tr>\n",
       "      <th>70</th>\n",
       "      <td>544632063</td>\n",
       "      <td>1</td>\n",
       "    </tr>\n",
       "    <tr>\n",
       "      <th>9</th>\n",
       "      <td>102981183</td>\n",
       "      <td>1</td>\n",
       "    </tr>\n",
       "    <tr>\n",
       "      <th>43</th>\n",
       "      <td>318152663</td>\n",
       "      <td>1</td>\n",
       "    </tr>\n",
       "    <tr>\n",
       "      <th>436</th>\n",
       "      <td>3524303171</td>\n",
       "      <td>1</td>\n",
       "    </tr>\n",
       "    <tr>\n",
       "      <th>504</th>\n",
       "      <td>4038181899</td>\n",
       "      <td>1</td>\n",
       "    </tr>\n",
       "  </tbody>\n",
       "</table style=\"display:inline\"></td></th>"
      ]
     },
     "metadata": {},
     "output_type": "display_data"
    }
   ],
   "source": [
    "# creating dataFrame for the number of orders for users in groups\n",
    "\n",
    "ordersByUsersA = orders_new_data[orders_new_data['group'] == 'A'].groupby('visitorid', \n",
    "                                                                          as_index=False).agg({'transactionid':'nunique'})\n",
    "ordersByUsersA.columns = ['visitorid', 'orders']\n",
    "ordersByUsersB = orders_new_data[orders_new_data['group'] == 'B'].groupby('visitorid', \n",
    "                                                                          as_index=False).agg({'transactionid':'nunique'})\n",
    "ordersByUsersB.columns = ['visitorid', 'orders']\n",
    "sampleA = pd.concat([ordersByUsersA['orders'], pd.Series(0, index=np.arange(\n",
    "    visits[visits['group'] == 'A']['visits'].sum() - len(ordersByUsersA['orders'])), name='orders')], axis=0)\n",
    "sampleB = pd.concat([ordersByUsersB['orders'], pd.Series(0, index=np.arange(\n",
    "    visits[visits['group'] == 'B']['visits'].sum() - len(ordersByUsersB['orders'])), name='orders')], axis=0)\n",
    "\n",
    "sbs(ordersByUsersA.sample(10),ordersByUsersB.sample(10),titles=['orders By Users A','orders By Users B'])"
   ]
  },
  {
   "cell_type": "code",
   "execution_count": 46,
   "id": "f71929b9",
   "metadata": {},
   "outputs": [
    {
     "name": "stdout",
     "output_type": "stream",
     "text": [
      "Sample A size: 18736\n",
      "Sample B size: 18916\n"
     ]
    }
   ],
   "source": [
    "# declaring varieble with users who made orders in groups\n",
    "print('Sample A size:', len(sampleA))\n",
    "print('Sample B size:', len(sampleB))"
   ]
  },
  {
   "cell_type": "code",
   "execution_count": 47,
   "id": "85380075",
   "metadata": {},
   "outputs": [
    {
     "data": {
      "text/plain": [
       "'p-value: 0.011'"
      ]
     },
     "metadata": {},
     "output_type": "display_data"
    },
    {
     "data": {
      "text/plain": [
       "'Relative conversion gain: 0.16'"
      ]
     },
     "metadata": {},
     "output_type": "display_data"
    },
    {
     "data": {
      "text/plain": [
       "'We reject the null hypothesis: There is statistically significant difference in conversion between the groups'"
      ]
     },
     "metadata": {},
     "output_type": "display_data"
    }
   ],
   "source": [
    "# Testing hypothesis\n",
    "significance_level = .05 # significance level\n",
    "\n",
    "results = st.mannwhitneyu(sampleA, sampleB)\n",
    "\n",
    "display('p-value: '\"{0:.3f}\".format(st.mannwhitneyu(sampleA, sampleB)[1]))\n",
    "display('Relative conversion gain: '\"{0:.2f}\".format(sampleB.mean() / sampleA.mean() -1))\n",
    "\n",
    "if (results.pvalue < significance_level):\n",
    "    display(\"We reject the null hypothesis: There is statistically significant difference in conversion between the groups\")\n",
    "else:\n",
    "    display(\"We can't reject the null hypothesis: No statistically significant difference in conversion between the groups\")"
   ]
  },
  {
   "cell_type": "markdown",
   "id": "4fc2940d",
   "metadata": {},
   "source": [
    "<h3>Make conclusions and conjectures:</h3>\n",
    "\n",
    "We conduct a test with null hypothesis:\n",
    "\n",
    "\n",
    "  - H0: No statistically significant difference in conversion between the groups\n",
    "  \n",
    "\n",
    "  - H1: There is statistically significant difference in conversion between the groups\n",
    "\n",
    "    \n",
    "- We set the significance_level to .05\n",
    "\n",
    "\n",
    "- We apply the criterion and format the p-value by rounding it to 3 decimal places\n",
    "\n",
    "\n",
    "- SampleA stores a sample where each element is the number of orders made by a certain user, including 0's\n",
    "\n",
    "\n",
    "- SampleB stores a sample where each element is the number of orders made by a certain user, including 0's\n",
    "\n",
    "\n",
    "- We use mannwhitneyu() method because our data contains big (compared to the normal distribution) outliers and algebraic         metrics don't work very well\n",
    "\n",
    "\n",
    "- The p-value is smaller than .05, So I reject the null hypothesis that there isn't a statistically significant difference in   conversion between the groups\n",
    "\n",
    "\n",
    "- The relative difference of group B compere to group A"
   ]
  },
  {
   "cell_type": "markdown",
   "id": "cd29c772",
   "metadata": {},
   "source": [
    "<hr id=\"q10\"><h2>10.Find the statistical significance of the difference in average order size between the groups using the raw data</h2>"
   ]
  },
  {
   "cell_type": "markdown",
   "id": "b20e9521",
   "metadata": {},
   "source": [
    "**Hypotheses:**\n",
    "\n",
    "H0: No statistically significant difference in average order size between the groups\n",
    "\n",
    "H1: There is statistically significant difference in average order size between the groups\n",
    "\n",
    "Significance level = 0.05"
   ]
  },
  {
   "cell_type": "code",
   "execution_count": 48,
   "id": "aadaea28",
   "metadata": {},
   "outputs": [
    {
     "data": {
      "text/plain": [
       "'p-value: 0.862'"
      ]
     },
     "metadata": {},
     "output_type": "display_data"
    },
    {
     "data": {
      "text/plain": [
       "'Relative difference: 27.8345%'"
      ]
     },
     "metadata": {},
     "output_type": "display_data"
    },
    {
     "data": {
      "text/plain": [
       "\"We can't reject the null hypothesis: No statistically significant difference in avg order size between the groups\""
      ]
     },
     "metadata": {},
     "output_type": "display_data"
    }
   ],
   "source": [
    "# creating a dataFrames to gather data\n",
    "orderSizeA = orders_new_data[orders_new_data['group']=='A']['revenue']\n",
    "orderSizeB = orders_new_data[orders_new_data['group']=='B']['revenue']\n",
    "\n",
    "# Testing hypothesis\n",
    "significance_level = .05 # significance level\n",
    "\n",
    "results = st.mannwhitneyu(orderSizeA, orderSizeB)\n",
    "\n",
    "display('p-value: {0:.3f}'.format(st.mannwhitneyu(orderSizeA, orderSizeB)[1]))\n",
    "display('Relative difference: {0:.4%}'.format(orderSizeB.mean()/orderSizeA.mean()-1))\n",
    "\n",
    "if (results.pvalue < significance_level):\n",
    "    display(\"We reject the null hypothesis: There is statistically significant difference in avg order size between the groups\")\n",
    "else:\n",
    "    display(\"We can't reject the null hypothesis: No statistically significant difference in avg order size between the groups\")"
   ]
  },
  {
   "cell_type": "markdown",
   "id": "365f9609",
   "metadata": {},
   "source": [
    "<h3>Make conclusions and conjectures:</h3>\n",
    "\n",
    "We conduct a test with null hypothesis:\n",
    "\n",
    "\n",
    "- H0: No statistically significant difference in average order size between the groups\n",
    "\n",
    "\n",
    "- H1: There is statistically significant difference in average order size between the groups\n",
    "    \n",
    "\n",
    "- We set the significance_level to .05\n",
    "\n",
    "\n",
    "- The average order size for group B is bigger than it is for group A 27.8%\n",
    "\n",
    "\n",
    "- The p-value is greater than 0.05, So I can't reject the null hypothesis that there is no statistically significant             differences between the groups average order sizes\n",
    "\n",
    "\n",
    "- SampleA stores a sample with the average order size\n",
    "\n",
    "\n",
    "- SampleB stores a sample with the average order size\n",
    "\n",
    "\n",
    "- We use mannwhitneyu() method because our data contains big (compared to the normal distribution) outliers and algebraic         metrics don't work very well\n",
    "\n",
    "\n",
    "- We apply the criterion and format the p-value by rounding it to 3 decimal places"
   ]
  },
  {
   "cell_type": "markdown",
   "id": "567da382",
   "metadata": {},
   "source": [
    "<hr id=\"q11\"><h2>11.Find the statistical significance of the difference in conversion between the groups using the filtered data</h2>"
   ]
  },
  {
   "cell_type": "markdown",
   "id": "bfe1d6d8",
   "metadata": {},
   "source": [
    "**null hypothesis and alternative hypothesis:**\n",
    "\n",
    "H0: No statistically significant difference in conversion between the groups filtered data\n",
    "\n",
    "H1: There is statistically significant difference in conversion between the groups filtered data\n",
    "\n",
    " Anomalous users = users who made two or more orders or placed one for more than 414 Dollar\n",
    "\n",
    "Significance level = 0.05"
   ]
  },
  {
   "cell_type": "code",
   "execution_count": 49,
   "id": "c984f626",
   "metadata": {},
   "outputs": [
    {
     "name": "stdout",
     "output_type": "stream",
     "text": [
      "We have 86 anomalous users in total\n"
     ]
    }
   ],
   "source": [
    "usersWithManyOrders = pd.concat([ordersByUsersA[ordersByUsersA['orders'] > 1]['visitorid'], \n",
    "                                 ordersByUsersB[ordersByUsersB['orders'] > 1]['visitorid']], axis=0)\n",
    "\n",
    "usersWithExpensiveOrders = orders_new_data[orders_new_data['revenue'] > 414]['visitorid']\n",
    "abnormalUsers = pd.concat([usersWithManyOrders, usersWithExpensiveOrders], axis=0).drop_duplicates().sort_values()\n",
    "\n",
    "sampleAFiltered = pd.concat([ordersByUsersA[np.logical_not(ordersByUsersA['visitorid'].isin(abnormalUsers))]['orders'], \n",
    "                             pd.Series(0, index=np.arange(visits[visits['group'] == 'A']['visits'].sum() - \n",
    "                                                          len(ordersByUsersA['orders'])), name='orders')], axis=0)\n",
    "\n",
    "sampleBFiltered = pd.concat([ordersByUsersB[np.logical_not(ordersByUsersB['visitorid'].isin(abnormalUsers))]['orders'], \n",
    "                             pd.Series(0, index=np.arange(visits[visits['group'] == 'B']['visits'].sum() - \n",
    "                                                          len(ordersByUsersB['orders'])), name='orders')], axis=0)\n",
    "\n",
    "print('We have {:} anomalous users in total'.format(len(abnormalUsers)))"
   ]
  },
  {
   "cell_type": "code",
   "execution_count": 50,
   "id": "95527fb5",
   "metadata": {},
   "outputs": [
    {
     "name": "stdout",
     "output_type": "stream",
     "text": [
      "Sample A size: 18697\n",
      "Sample B size: 18869\n"
     ]
    }
   ],
   "source": [
    "print('Sample A size:', len(sampleAFiltered))\n",
    "print('Sample B size:', len(sampleBFiltered))"
   ]
  },
  {
   "cell_type": "code",
   "execution_count": 51,
   "id": "14545901",
   "metadata": {},
   "outputs": [
    {
     "data": {
      "text/plain": [
       "'p-value: 0.016'"
      ]
     },
     "metadata": {},
     "output_type": "display_data"
    },
    {
     "data": {
      "text/plain": [
       "'Relative difference: 17.4%'"
      ]
     },
     "metadata": {},
     "output_type": "display_data"
    },
    {
     "data": {
      "text/plain": [
       "'We reject the null hypothesis: There is a statistically significant difference in conversion between the groups filtered data'"
      ]
     },
     "metadata": {},
     "output_type": "display_data"
    }
   ],
   "source": [
    "# Testing hypothesis\n",
    "significance_level = .05 # significance level\n",
    "\n",
    "results = st.mannwhitneyu(sampleAFiltered, sampleBFiltered)\n",
    "\n",
    "display(\"p-value: {0:.3f}\".format(st.mannwhitneyu(sampleAFiltered, sampleBFiltered)[1]))\n",
    "display(\"Relative difference: {0:.1%}\".format(sampleBFiltered.mean()/sampleAFiltered.mean()-1))\n",
    "\n",
    "if (results.pvalue < significance_level):\n",
    "    display(\"We reject the null hypothesis: There is a statistically significant difference in conversion between the groups filtered data\")\n",
    "else:\n",
    "    display(\"We can't reject the null hypothesis: No statistically significant difference in conversion between the groups filtered data\")"
   ]
  },
  {
   "cell_type": "markdown",
   "id": "57f57883",
   "metadata": {},
   "source": [
    "<h3>Make conclusions and conjectures:</h3>\n",
    "\n",
    "We conduct a test with null hypothesis:\n",
    "\n",
    "\n",
    " - H0: There is a statistically significant difference in conversion between the groups filtered data\n",
    "\n",
    "    \n",
    " - H1: No statistically significant difference in conversion between the groups filtered data\n",
    " \n",
    " \n",
    " \n",
    "\n",
    "\n",
    "- We had 86 anomalous users in total\n",
    "\n",
    "    \n",
    "- The relative difference of group B is 17.4%\n",
    "\n",
    "\n",
    "- We set the significance_level = .05\n",
    "\n",
    "\n",
    "- The p-value is smaller than 0.05, So I reject the null hypothesis that there isn't a statistically significant difference in   conversion between the groups\n",
    "\n",
    "\n",
    "- We apply the criterion and format the p-value by rounding it to 3 decimal places\n",
    "\n",
    "\n",
    "- SampleA stores a sample where each element is the number of orders made by a certain user from filterd data\n",
    "\n",
    "\n",
    "- SampleB stores a sample where each element is the number of orders made by a certain user from filterd data\n",
    "\n",
    "\n",
    "- We use mannwhitneyu() method\n",
    "\n",
    "\n",
    "- The ratio of the mean values practically did not change. It turns out that \"anomalous\" users had practically no effect on the   value of this metric\n",
    "\n",
    "- Anomalous users = users who made two or more orders or placed one for more than 414 Dollar"
   ]
  },
  {
   "cell_type": "markdown",
   "id": "ebd2cdf7",
   "metadata": {},
   "source": [
    "<hr id=\"q12\"><h2>12.Find the statistical significance of the difference in average order size between the groups using the filtered data</h2>"
   ]
  },
  {
   "cell_type": "markdown",
   "id": "3aaf41f1",
   "metadata": {},
   "source": [
    "**Hypotheses:**\n",
    "\n",
    "H0: No statistically significant difference in avg order size between the groups\n",
    "\n",
    "H1: There is statistically significant difference in avg order size between the groups\n",
    "\n",
    "Significance level = 0.05"
   ]
  },
  {
   "cell_type": "code",
   "execution_count": 52,
   "id": "a48ee84d",
   "metadata": {},
   "outputs": [],
   "source": [
    "revenue_A_filtered = (\n",
    "    orders_new_data[(np.logical_not(orders_new_data['visitorid'].\n",
    "                                   isin(abnormalUsers)))                \n",
    "                   & (orders_new_data['group'] == 'A')])['revenue']\n",
    "revenue_B_filtered = (\n",
    "   orders_new_data[(np.logical_not(orders_new_data['visitorid'].\n",
    "                                   isin(abnormalUsers)))                \n",
    "                   & (orders_new_data['group'] == 'B')])['revenue']"
   ]
  },
  {
   "cell_type": "code",
   "execution_count": 53,
   "id": "40d52d97",
   "metadata": {},
   "outputs": [
    {
     "data": {
      "text/plain": [
       "'p-value: 0.771'"
      ]
     },
     "metadata": {},
     "output_type": "display_data"
    },
    {
     "data": {
      "text/plain": [
       "'Relative difference: -3.3%'"
      ]
     },
     "metadata": {},
     "output_type": "display_data"
    },
    {
     "data": {
      "text/plain": [
       "\"We can't reject the null hypothesis: No statistically significant difference in avg order size between the groups\""
      ]
     },
     "metadata": {},
     "output_type": "display_data"
    }
   ],
   "source": [
    "# Testing hypothesis\n",
    "significance_level  = .05 # significant level\n",
    "\n",
    "results = st.mannwhitneyu(revenue_A_filtered, revenue_B_filtered)\n",
    "\n",
    "display('p-value: {0:.3f}'.format(st.mannwhitneyu(revenue_A_filtered, revenue_B_filtered)[1]))\n",
    "display('Relative difference: {0:.1%}'.format(revenue_B_filtered.mean()/revenue_A_filtered.mean()-1))\n",
    "\n",
    "if (results.pvalue < significance_level):\n",
    "    display(\"We reject the null hypothesis: There is statistically significant difference in avg order size between the groups\")\n",
    "else:\n",
    "    display(\"We can't reject the null hypothesis: No statistically significant difference in avg order size between the groups\")"
   ]
  },
  {
   "cell_type": "markdown",
   "id": "ba42db57",
   "metadata": {},
   "source": [
    "<h3>Make conclusions and conjectures:</h3>\n",
    "\n",
    "We conduct a test with null hypothesis:\n",
    "\n",
    "- H0: No statistically significant difference in avg order size between the groups\n",
    "\n",
    "    \n",
    "- H1: There is statistically significant difference in avg order size between the groups \n",
    "   \n",
    "\n",
    "- We apply the criterion and format the p-value by rounding it to 3 decimal places\n",
    "\n",
    "    \n",
    "- We set the significance_level = .05\n",
    "\n",
    "\n",
    "- We use mannwhitneyu() method\n",
    "\n",
    "\n",
    "- SampleA stores a sample with the average order size\n",
    "\n",
    "\n",
    "- SampleB stores a sample with the average order size\n",
    "\n",
    "\n",
    "- The p-value is greater than .05, So I can't reject the null hypothesis that there is no statistically significant differences between the groups average order sizes\n",
    "\n",
    "\n",
    "- The relative difference of group B is -3.3%\n",
    "\n",
    "\n",
    "- It turns out that \"anomalous\" users had effect on the value of this metric based on the relative difference of group B"
   ]
  },
  {
   "cell_type": "markdown",
   "id": "9d786d47",
   "metadata": {},
   "source": [
    "<hr id=\"q13\"><h2>13.Make a decision based on the test results</h2><br> \n",
    "\n",
    "**What we found:**\n",
    "\n",
    "* The conversion rate of group 'B' is greater than 'group A'\n",
    "\n",
    "\n",
    "* We see that there isn't significant difference between our groups in term of average order sizes  \n",
    "\n",
    "Following this, we can say that the hypothesis tested will improve the conversion rate, however, it will not affect the average purchase size\n",
    "\n",
    "**We can conclude that:**\n",
    "\n",
    "* Stop the test, result is very clear, group B is the leader and after the anomalies were removed, it was found that there was a statistically significant difference in conversion between the groups \n",
    "\n",
    "\n",
    "* Even though there isn't significant difference between groups 'average order size',there is statistically significant difference in term of conversion rates \n",
    "\n",
    "\n",
    "* Test was success"
   ]
  },
  {
   "cell_type": "markdown",
   "id": "ee547b11",
   "metadata": {},
   "source": [
    "<hr id=\"general_conclusion\"><h2>General conclusion</h2><br>\n",
    "\n",
    "<hr>\n",
    "<b><u>INTRODUCTION</u></b>\n",
    "\n",
    "You are an analyst in a large online store and together with the company's marketing department you have decided on a step that includes a number of hypotheses tests that should help to give a better picture how to bring the store into it's maximize profits\n",
    "\n",
    "As part of your role in the force you were asked to prepare a list of hypothesis tests and rate their importance including performing an A / B test that you had to analyze its results\n",
    "\n",
    "<hr>\n",
    "<b><u>Our datasets:</u></b><br>\n",
    "<br>\n",
    "<b style=\"font-size: 17px;\">The `hypotheses` dataset:</b>\n",
    "\n",
    "<b style=\"font-size: 14px;\">`Dataseat rows`: 9</b>\n",
    "\n",
    "`Hypotheses` -  brief descriptions of the hypotheses\n",
    "\n",
    "`Reach` - user reach, on a scale of one to ten\n",
    "\n",
    "`Impact`- impact on users, on a scale of one to ten\n",
    "\n",
    "`Confidence` - confidence in the hypothesis, on a scale of one to ten\n",
    "\n",
    "`Effort` - the resources required to test a hypothesis, on a scale of one to ten. The higher the Effort value, the more resource-intensive the test\n",
    "<br>\n",
    "<br>\n",
    "<b style=\"font-size: 17px;\">The `orders` dataset:</b>\n",
    "\n",
    "<b style=\"font-size: 14px;\">`Dataseat rows`: 1197</b>\n",
    "\n",
    "`transactionId` -  order identifier\n",
    "\n",
    "`visitorId` -  identifier of the user who placed the order\n",
    "\n",
    "`date`-  of the order\n",
    "\n",
    "`revenue` - from the order\n",
    "\n",
    "`group` - A/B test group\n",
    "<br>\n",
    "<br>\n",
    "<b style=\"font-size: 17px;\">The `visits` dataset:</b>\n",
    "\n",
    "<b style=\"font-size: 14px;\">`Dataseat rows`: 62</b>\n",
    "\n",
    "`date`-  of the order\n",
    "\n",
    "`revenue` - from the order\n",
    "\n",
    "`group` - A/B test group\n",
    "\n",
    "`visits` - the number of visits on the date specified in the A/B test group specified\n",
    "<br>\n",
    "\n",
    "<b><u>Prepare data:</u></b> \n",
    "\n",
    "We didn't find any Missing values or 0's or Duplicated or Nan in our datasets exapct for 58 same users in both groups in order to keep a clean check if users are unique to both groups, we decided to remove them as well in order to name any incorrect data as a result of our findings.\n",
    "\n",
    "We Convert our issue columns from **Object** to **datetime** \n",
    "\n",
    "<b style=\"font-size: 15px;\">`visits`:</b> `date`- 'object' we turn it into 'datetime64'\n",
    "\n",
    "<b style=\"font-size: 15px;\">`orders`:</b> `date`- we turn it into 'datetime64'\n",
    "\n",
    "and uniform the case letters to lowercase: `hypotheses`: `Hypothesis`, `Reach` , `Impact` , `Confidence`, `Effort`<br>\n",
    "\n",
    "`orders`: `transactionId`, `visitorId` <br><br>\n",
    "\n",
    "<b><u>III - Analyze the data</u></b>\n",
    "\n",
    "Analysis of our data is made up of two parts first prioritization of hypotheses using ICE and RICE where we diagnosed list of 9 hypotheses. \n",
    "\n",
    "We found that Top 5 hypotheses are the same in both checking but in slightly different order , this can be due to sensitivity of the 'reach' parameter.\n",
    "\n",
    "in our secand part of which we did A/B test , and after compere , ploting , check hypotheses p-value etc' , We found that our group 'B' is the leader of this test , they bring more profit than Group 'A' and even in our Avg size order when the result is very close still 'B' is leader also there is few big or expansive orders in this group which can be outlier but still this not change it that we can stop our test we see clear diffrent between them.\n",
    "\n",
    "We also found that more than 96% of our users avg  order was only one and in price of 414.3 usd and there is very few users with 3 orders.\n",
    "\n",
    "\n",
    "So our overall conclusion , we can stop the testing , it was success & also  result positive consideration "
   ]
  },
  {
   "cell_type": "markdown",
   "id": "0be2e697",
   "metadata": {},
   "source": [
    "<hr><h2>Overall conclusion</h2><br>\n",
    "\n",
    "In our project 7 we prioritize the hypotheses using ICE & RICE method. presented and interpreted the cumulative revenue by group and compared and interpreted the cumulative mean order by group and cumulative conversion.\n",
    "\n",
    "Compared the conversion rate of the two groups and the number of orders per user, found That is a significant difference in data between the groups, according to our raw data.\n",
    "\n",
    "We set the percentages to 95 and 99 and at the same time the anomalies, made four hypotheses with raw data and with the filtered one.\n",
    "\n",
    "After testing, we drew conclusions for each hypothesis and examined whether they exceeded our significant level and thus make a significant difference between the groups' averages.\n",
    "\n",
    "After removing the anomalies, it turned out that there is a statistically significant difference between groups! and that group 'B' is the leader when it's come to conversion which mean more revenue to our online store."
   ]
  },
  {
   "cell_type": "markdown",
   "id": "7588448c",
   "metadata": {},
   "source": [
    "<a href=\"#top\">\n",
    "    <button>&#8593; Top Page</button>\n",
    "  </a> "
   ]
  }
 ],
 "metadata": {
  "ExecuteTimeLog": [
   {
    "duration": 1461,
    "start_time": "2022-04-03T17:08:16.372Z"
   },
   {
    "duration": 257,
    "start_time": "2022-04-03T17:08:17.835Z"
   },
   {
    "duration": 11,
    "start_time": "2022-04-03T17:08:18.094Z"
   },
   {
    "duration": 353,
    "start_time": "2022-04-03T17:08:18.108Z"
   },
   {
    "duration": 5,
    "start_time": "2022-04-03T17:08:18.462Z"
   },
   {
    "duration": 11,
    "start_time": "2022-04-03T17:08:18.469Z"
   },
   {
    "duration": 7,
    "start_time": "2022-04-03T17:08:18.482Z"
   },
   {
    "duration": 4,
    "start_time": "2022-04-03T17:08:18.534Z"
   },
   {
    "duration": 14,
    "start_time": "2022-04-03T17:08:18.539Z"
   },
   {
    "duration": 17,
    "start_time": "2022-04-03T17:08:18.556Z"
   },
   {
    "duration": 10,
    "start_time": "2022-04-03T17:08:18.574Z"
   },
   {
    "duration": 50,
    "start_time": "2022-04-03T17:08:18.586Z"
   },
   {
    "duration": 9,
    "start_time": "2022-04-03T17:08:18.638Z"
   },
   {
    "duration": 8,
    "start_time": "2022-04-03T17:08:18.649Z"
   },
   {
    "duration": 9,
    "start_time": "2022-04-03T17:08:18.658Z"
   },
   {
    "duration": 10,
    "start_time": "2022-04-03T17:08:18.668Z"
   },
   {
    "duration": 4,
    "start_time": "2022-04-03T17:08:18.680Z"
   },
   {
    "duration": 56,
    "start_time": "2022-04-03T17:08:18.685Z"
   },
   {
    "duration": 19,
    "start_time": "2022-04-03T17:08:18.742Z"
   },
   {
    "duration": 15,
    "start_time": "2022-04-03T17:08:18.762Z"
   },
   {
    "duration": 296,
    "start_time": "2022-04-03T17:08:18.778Z"
   },
   {
    "duration": 179,
    "start_time": "2022-04-03T17:08:19.076Z"
   },
   {
    "duration": 646,
    "start_time": "2022-04-03T17:08:19.257Z"
   },
   {
    "duration": 189,
    "start_time": "2022-04-03T17:08:19.904Z"
   },
   {
    "duration": 311,
    "start_time": "2022-04-03T17:08:20.095Z"
   },
   {
    "duration": 485,
    "start_time": "2022-04-03T17:08:20.407Z"
   },
   {
    "duration": 396,
    "start_time": "2022-04-03T17:08:20.893Z"
   },
   {
    "duration": 213,
    "start_time": "2022-04-03T17:08:21.292Z"
   },
   {
    "duration": 5,
    "start_time": "2022-04-03T17:08:21.507Z"
   },
   {
    "duration": 419,
    "start_time": "2022-04-03T17:08:21.514Z"
   },
   {
    "duration": 6,
    "start_time": "2022-04-03T17:08:21.934Z"
   },
   {
    "duration": 23,
    "start_time": "2022-04-03T17:08:21.941Z"
   },
   {
    "duration": 3,
    "start_time": "2022-04-03T17:08:21.965Z"
   },
   {
    "duration": 25,
    "start_time": "2022-04-03T17:08:21.970Z"
   },
   {
    "duration": 45,
    "start_time": "2022-04-03T17:08:21.997Z"
   },
   {
    "duration": 15,
    "start_time": "2022-04-03T17:08:22.044Z"
   },
   {
    "duration": 4,
    "start_time": "2022-04-03T17:08:22.060Z"
   },
   {
    "duration": 22,
    "start_time": "2022-04-03T17:08:22.066Z"
   },
   {
    "duration": 55,
    "start_time": "2022-04-03T17:08:22.089Z"
   },
   {
    "duration": 38,
    "start_time": "2022-04-03T17:08:51.757Z"
   },
   {
    "duration": 2099,
    "start_time": "2022-04-03T17:10:01.171Z"
   },
   {
    "duration": 1154,
    "start_time": "2022-04-03T17:10:19.289Z"
   },
   {
    "duration": 43,
    "start_time": "2022-04-03T17:10:20.445Z"
   },
   {
    "duration": 10,
    "start_time": "2022-04-03T17:10:20.490Z"
   },
   {
    "duration": 286,
    "start_time": "2022-04-03T17:10:20.502Z"
   },
   {
    "duration": 7,
    "start_time": "2022-04-03T17:10:20.832Z"
   },
   {
    "duration": 12,
    "start_time": "2022-04-03T17:10:20.842Z"
   },
   {
    "duration": 8,
    "start_time": "2022-04-03T17:10:20.857Z"
   },
   {
    "duration": 6,
    "start_time": "2022-04-03T17:10:20.867Z"
   },
   {
    "duration": 61,
    "start_time": "2022-04-03T17:10:20.875Z"
   },
   {
    "duration": 16,
    "start_time": "2022-04-03T17:10:20.940Z"
   },
   {
    "duration": 9,
    "start_time": "2022-04-03T17:10:20.958Z"
   },
   {
    "duration": 16,
    "start_time": "2022-04-03T17:10:20.969Z"
   },
   {
    "duration": 12,
    "start_time": "2022-04-03T17:10:20.987Z"
   },
   {
    "duration": 39,
    "start_time": "2022-04-03T17:10:21.000Z"
   },
   {
    "duration": 12,
    "start_time": "2022-04-03T17:10:21.041Z"
   },
   {
    "duration": 14,
    "start_time": "2022-04-03T17:10:21.055Z"
   },
   {
    "duration": 5,
    "start_time": "2022-04-03T17:10:21.071Z"
   },
   {
    "duration": 61,
    "start_time": "2022-04-03T17:10:21.078Z"
   },
   {
    "duration": 21,
    "start_time": "2022-04-03T17:10:21.142Z"
   },
   {
    "duration": 13,
    "start_time": "2022-04-03T17:10:21.165Z"
   },
   {
    "duration": 312,
    "start_time": "2022-04-03T17:10:21.181Z"
   },
   {
    "duration": 190,
    "start_time": "2022-04-03T17:10:21.495Z"
   },
   {
    "duration": 659,
    "start_time": "2022-04-03T17:10:21.687Z"
   },
   {
    "duration": 187,
    "start_time": "2022-04-03T17:10:22.349Z"
   },
   {
    "duration": 311,
    "start_time": "2022-04-03T17:10:22.538Z"
   },
   {
    "duration": 391,
    "start_time": "2022-04-03T17:10:22.850Z"
   },
   {
    "duration": 393,
    "start_time": "2022-04-03T17:10:23.243Z"
   },
   {
    "duration": 219,
    "start_time": "2022-04-03T17:10:23.641Z"
   },
   {
    "duration": 5,
    "start_time": "2022-04-03T17:10:23.862Z"
   },
   {
    "duration": 354,
    "start_time": "2022-04-03T17:10:23.868Z"
   },
   {
    "duration": 12,
    "start_time": "2022-04-03T17:10:24.224Z"
   },
   {
    "duration": 25,
    "start_time": "2022-04-03T17:10:24.238Z"
   },
   {
    "duration": 4,
    "start_time": "2022-04-03T17:10:24.264Z"
   },
   {
    "duration": 64,
    "start_time": "2022-04-03T17:10:24.270Z"
   },
   {
    "duration": 10,
    "start_time": "2022-04-03T17:10:24.336Z"
   },
   {
    "duration": 13,
    "start_time": "2022-04-03T17:10:24.348Z"
   },
   {
    "duration": 3,
    "start_time": "2022-04-03T17:10:24.363Z"
   },
   {
    "duration": 24,
    "start_time": "2022-04-03T17:10:24.368Z"
   },
   {
    "duration": 48,
    "start_time": "2022-04-03T17:10:24.394Z"
   },
   {
    "duration": 18,
    "start_time": "2022-04-03T17:11:25.686Z"
   },
   {
    "duration": 1265,
    "start_time": "2022-04-03T17:11:48.300Z"
   },
   {
    "duration": 39,
    "start_time": "2022-04-03T17:11:49.567Z"
   },
   {
    "duration": 10,
    "start_time": "2022-04-03T17:11:49.608Z"
   },
   {
    "duration": 314,
    "start_time": "2022-04-03T17:11:49.620Z"
   },
   {
    "duration": 5,
    "start_time": "2022-04-03T17:11:49.935Z"
   },
   {
    "duration": 12,
    "start_time": "2022-04-03T17:11:49.942Z"
   },
   {
    "duration": 8,
    "start_time": "2022-04-03T17:11:49.955Z"
   },
   {
    "duration": 5,
    "start_time": "2022-04-03T17:11:49.964Z"
   },
   {
    "duration": 13,
    "start_time": "2022-04-03T17:11:49.971Z"
   },
   {
    "duration": 58,
    "start_time": "2022-04-03T17:11:49.987Z"
   },
   {
    "duration": 11,
    "start_time": "2022-04-03T17:11:50.047Z"
   },
   {
    "duration": 16,
    "start_time": "2022-04-03T17:11:50.059Z"
   },
   {
    "duration": 11,
    "start_time": "2022-04-03T17:11:50.076Z"
   },
   {
    "duration": 10,
    "start_time": "2022-04-03T17:11:50.089Z"
   },
   {
    "duration": 39,
    "start_time": "2022-04-03T17:11:50.101Z"
   },
   {
    "duration": 14,
    "start_time": "2022-04-03T17:11:50.142Z"
   },
   {
    "duration": 5,
    "start_time": "2022-04-03T17:11:50.157Z"
   },
   {
    "duration": 20,
    "start_time": "2022-04-03T17:11:50.164Z"
   },
   {
    "duration": 58,
    "start_time": "2022-04-03T17:11:50.186Z"
   },
   {
    "duration": 11,
    "start_time": "2022-04-03T17:11:50.247Z"
   },
   {
    "duration": 301,
    "start_time": "2022-04-03T17:11:50.260Z"
   },
   {
    "duration": 173,
    "start_time": "2022-04-03T17:11:50.563Z"
   },
   {
    "duration": 640,
    "start_time": "2022-04-03T17:11:50.737Z"
   },
   {
    "duration": 186,
    "start_time": "2022-04-03T17:11:51.379Z"
   },
   {
    "duration": 312,
    "start_time": "2022-04-03T17:11:51.567Z"
   },
   {
    "duration": 385,
    "start_time": "2022-04-03T17:11:51.881Z"
   },
   {
    "duration": 400,
    "start_time": "2022-04-03T17:11:52.268Z"
   },
   {
    "duration": 216,
    "start_time": "2022-04-03T17:11:52.672Z"
   },
   {
    "duration": 6,
    "start_time": "2022-04-03T17:11:52.890Z"
   },
   {
    "duration": 346,
    "start_time": "2022-04-03T17:11:52.898Z"
   },
   {
    "duration": 6,
    "start_time": "2022-04-03T17:11:53.246Z"
   },
   {
    "duration": 25,
    "start_time": "2022-04-03T17:11:53.254Z"
   },
   {
    "duration": 5,
    "start_time": "2022-04-03T17:11:53.281Z"
   },
   {
    "duration": 66,
    "start_time": "2022-04-03T17:11:53.287Z"
   },
   {
    "duration": 12,
    "start_time": "2022-04-03T17:11:53.355Z"
   },
   {
    "duration": 16,
    "start_time": "2022-04-03T17:11:53.369Z"
   },
   {
    "duration": 10,
    "start_time": "2022-04-03T17:11:53.386Z"
   },
   {
    "duration": 50,
    "start_time": "2022-04-03T17:11:53.398Z"
   },
   {
    "duration": 13,
    "start_time": "2022-04-03T17:11:53.450Z"
   },
   {
    "duration": 180,
    "start_time": "2022-04-03T17:20:22.352Z"
   },
   {
    "duration": 137,
    "start_time": "2022-04-03T17:21:01.289Z"
   },
   {
    "duration": 0,
    "start_time": "2022-04-03T17:21:01.429Z"
   },
   {
    "duration": 0,
    "start_time": "2022-04-03T17:21:01.430Z"
   },
   {
    "duration": 0,
    "start_time": "2022-04-03T17:21:01.432Z"
   },
   {
    "duration": 0,
    "start_time": "2022-04-03T17:21:01.433Z"
   },
   {
    "duration": 0,
    "start_time": "2022-04-03T17:21:01.434Z"
   },
   {
    "duration": 0,
    "start_time": "2022-04-03T17:21:01.435Z"
   },
   {
    "duration": 0,
    "start_time": "2022-04-03T17:21:01.436Z"
   },
   {
    "duration": 0,
    "start_time": "2022-04-03T17:21:01.438Z"
   },
   {
    "duration": 0,
    "start_time": "2022-04-03T17:21:01.439Z"
   },
   {
    "duration": 0,
    "start_time": "2022-04-03T17:21:01.440Z"
   },
   {
    "duration": 0,
    "start_time": "2022-04-03T17:21:01.441Z"
   },
   {
    "duration": 0,
    "start_time": "2022-04-03T17:21:01.442Z"
   },
   {
    "duration": 0,
    "start_time": "2022-04-03T17:21:01.443Z"
   },
   {
    "duration": 0,
    "start_time": "2022-04-03T17:21:01.444Z"
   },
   {
    "duration": 0,
    "start_time": "2022-04-03T17:21:01.445Z"
   },
   {
    "duration": 0,
    "start_time": "2022-04-03T17:21:01.446Z"
   },
   {
    "duration": 0,
    "start_time": "2022-04-03T17:21:01.447Z"
   },
   {
    "duration": 0,
    "start_time": "2022-04-03T17:21:01.449Z"
   },
   {
    "duration": 0,
    "start_time": "2022-04-03T17:21:01.450Z"
   },
   {
    "duration": 0,
    "start_time": "2022-04-03T17:21:01.451Z"
   },
   {
    "duration": 0,
    "start_time": "2022-04-03T17:21:01.452Z"
   },
   {
    "duration": 0,
    "start_time": "2022-04-03T17:21:01.453Z"
   },
   {
    "duration": 0,
    "start_time": "2022-04-03T17:21:01.454Z"
   },
   {
    "duration": 0,
    "start_time": "2022-04-03T17:21:01.455Z"
   },
   {
    "duration": 0,
    "start_time": "2022-04-03T17:21:01.456Z"
   },
   {
    "duration": 107,
    "start_time": "2022-04-03T17:21:01.460Z"
   },
   {
    "duration": 0,
    "start_time": "2022-04-03T17:21:01.568Z"
   },
   {
    "duration": 0,
    "start_time": "2022-04-03T17:21:01.569Z"
   },
   {
    "duration": 0,
    "start_time": "2022-04-03T17:21:01.571Z"
   },
   {
    "duration": 0,
    "start_time": "2022-04-03T17:21:01.572Z"
   },
   {
    "duration": 0,
    "start_time": "2022-04-03T17:21:01.573Z"
   },
   {
    "duration": 0,
    "start_time": "2022-04-03T17:21:01.574Z"
   },
   {
    "duration": 0,
    "start_time": "2022-04-03T17:21:01.575Z"
   },
   {
    "duration": 0,
    "start_time": "2022-04-03T17:21:01.633Z"
   },
   {
    "duration": 0,
    "start_time": "2022-04-03T17:21:01.634Z"
   },
   {
    "duration": 0,
    "start_time": "2022-04-03T17:21:01.635Z"
   },
   {
    "duration": 0,
    "start_time": "2022-04-03T17:21:01.637Z"
   },
   {
    "duration": 0,
    "start_time": "2022-04-03T17:21:01.637Z"
   },
   {
    "duration": 1277,
    "start_time": "2022-04-03T17:21:29.790Z"
   },
   {
    "duration": 5,
    "start_time": "2022-04-03T17:21:42.431Z"
   },
   {
    "duration": 1302,
    "start_time": "2022-04-03T17:22:10.704Z"
   },
   {
    "duration": 40,
    "start_time": "2022-04-03T17:22:12.008Z"
   },
   {
    "duration": 10,
    "start_time": "2022-04-03T17:22:12.050Z"
   },
   {
    "duration": 300,
    "start_time": "2022-04-03T17:22:12.062Z"
   },
   {
    "duration": 5,
    "start_time": "2022-04-03T17:22:12.363Z"
   },
   {
    "duration": 12,
    "start_time": "2022-04-03T17:22:12.370Z"
   },
   {
    "duration": 52,
    "start_time": "2022-04-03T17:22:12.384Z"
   },
   {
    "duration": 6,
    "start_time": "2022-04-03T17:22:12.438Z"
   },
   {
    "duration": 13,
    "start_time": "2022-04-03T17:22:12.446Z"
   },
   {
    "duration": 16,
    "start_time": "2022-04-03T17:22:12.462Z"
   },
   {
    "duration": 9,
    "start_time": "2022-04-03T17:22:12.480Z"
   },
   {
    "duration": 47,
    "start_time": "2022-04-03T17:22:12.490Z"
   },
   {
    "duration": 10,
    "start_time": "2022-04-03T17:22:12.538Z"
   },
   {
    "duration": 8,
    "start_time": "2022-04-03T17:22:12.549Z"
   },
   {
    "duration": 8,
    "start_time": "2022-04-03T17:22:12.559Z"
   },
   {
    "duration": 11,
    "start_time": "2022-04-03T17:22:12.569Z"
   },
   {
    "duration": 4,
    "start_time": "2022-04-03T17:22:12.582Z"
   },
   {
    "duration": 56,
    "start_time": "2022-04-03T17:22:12.588Z"
   },
   {
    "duration": 19,
    "start_time": "2022-04-03T17:22:12.645Z"
   },
   {
    "duration": 13,
    "start_time": "2022-04-03T17:22:12.666Z"
   },
   {
    "duration": 299,
    "start_time": "2022-04-03T17:22:12.681Z"
   },
   {
    "duration": 176,
    "start_time": "2022-04-03T17:22:12.982Z"
   },
   {
    "duration": 672,
    "start_time": "2022-04-03T17:22:13.160Z"
   },
   {
    "duration": 184,
    "start_time": "2022-04-03T17:22:13.833Z"
   },
   {
    "duration": 320,
    "start_time": "2022-04-03T17:22:14.019Z"
   },
   {
    "duration": 394,
    "start_time": "2022-04-03T17:22:14.341Z"
   },
   {
    "duration": 334,
    "start_time": "2022-04-03T17:22:14.737Z"
   },
   {
    "duration": 289,
    "start_time": "2022-04-03T17:22:15.074Z"
   },
   {
    "duration": 5,
    "start_time": "2022-04-03T17:22:15.365Z"
   },
   {
    "duration": 335,
    "start_time": "2022-04-03T17:22:15.372Z"
   },
   {
    "duration": 5,
    "start_time": "2022-04-03T17:22:15.709Z"
   },
   {
    "duration": 25,
    "start_time": "2022-04-03T17:22:15.732Z"
   },
   {
    "duration": 4,
    "start_time": "2022-04-03T17:22:15.758Z"
   },
   {
    "duration": 28,
    "start_time": "2022-04-03T17:22:15.763Z"
   },
   {
    "duration": 10,
    "start_time": "2022-04-03T17:22:15.793Z"
   },
   {
    "duration": 14,
    "start_time": "2022-04-03T17:22:15.832Z"
   },
   {
    "duration": 5,
    "start_time": "2022-04-03T17:22:15.848Z"
   },
   {
    "duration": 23,
    "start_time": "2022-04-03T17:22:15.854Z"
   },
   {
    "duration": 13,
    "start_time": "2022-04-03T17:22:15.878Z"
   },
   {
    "duration": 255,
    "start_time": "2022-04-03T17:26:29.705Z"
   },
   {
    "duration": 258,
    "start_time": "2022-04-03T17:28:31.146Z"
   },
   {
    "duration": 253,
    "start_time": "2022-04-03T17:28:49.484Z"
   },
   {
    "duration": 117,
    "start_time": "2022-04-03T17:29:14.668Z"
   },
   {
    "duration": 255,
    "start_time": "2022-04-03T17:29:43.684Z"
   },
   {
    "duration": 11,
    "start_time": "2022-04-03T17:29:43.941Z"
   },
   {
    "duration": 1210,
    "start_time": "2022-04-03T17:30:52.353Z"
   },
   {
    "duration": 38,
    "start_time": "2022-04-03T17:30:53.565Z"
   },
   {
    "duration": 10,
    "start_time": "2022-04-03T17:30:53.604Z"
   },
   {
    "duration": 272,
    "start_time": "2022-04-03T17:30:53.617Z"
   },
   {
    "duration": 46,
    "start_time": "2022-04-03T17:30:53.890Z"
   },
   {
    "duration": 15,
    "start_time": "2022-04-03T17:30:53.938Z"
   },
   {
    "duration": 7,
    "start_time": "2022-04-03T17:30:53.955Z"
   },
   {
    "duration": 8,
    "start_time": "2022-04-03T17:30:53.964Z"
   },
   {
    "duration": 12,
    "start_time": "2022-04-03T17:30:53.974Z"
   },
   {
    "duration": 17,
    "start_time": "2022-04-03T17:30:54.032Z"
   },
   {
    "duration": 16,
    "start_time": "2022-04-03T17:30:54.050Z"
   },
   {
    "duration": 15,
    "start_time": "2022-04-03T17:30:54.067Z"
   },
   {
    "duration": 10,
    "start_time": "2022-04-03T17:30:54.084Z"
   },
   {
    "duration": 38,
    "start_time": "2022-04-03T17:30:54.096Z"
   },
   {
    "duration": 9,
    "start_time": "2022-04-03T17:30:54.135Z"
   },
   {
    "duration": 15,
    "start_time": "2022-04-03T17:30:54.145Z"
   },
   {
    "duration": 4,
    "start_time": "2022-04-03T17:30:54.162Z"
   },
   {
    "duration": 20,
    "start_time": "2022-04-03T17:30:54.167Z"
   },
   {
    "duration": 298,
    "start_time": "2022-04-03T17:30:54.188Z"
   },
   {
    "duration": 21,
    "start_time": "2022-04-03T17:30:54.488Z"
   },
   {
    "duration": 33,
    "start_time": "2022-04-03T17:30:54.511Z"
   },
   {
    "duration": 274,
    "start_time": "2022-04-03T17:30:54.546Z"
   },
   {
    "duration": 180,
    "start_time": "2022-04-03T17:30:54.821Z"
   },
   {
    "duration": 666,
    "start_time": "2022-04-03T17:30:55.003Z"
   },
   {
    "duration": 189,
    "start_time": "2022-04-03T17:30:55.670Z"
   },
   {
    "duration": 318,
    "start_time": "2022-04-03T17:30:55.861Z"
   },
   {
    "duration": 467,
    "start_time": "2022-04-03T17:30:56.181Z"
   },
   {
    "duration": 319,
    "start_time": "2022-04-03T17:30:56.653Z"
   },
   {
    "duration": 216,
    "start_time": "2022-04-03T17:30:56.974Z"
   },
   {
    "duration": 5,
    "start_time": "2022-04-03T17:30:57.192Z"
   },
   {
    "duration": 344,
    "start_time": "2022-04-03T17:30:57.199Z"
   },
   {
    "duration": 6,
    "start_time": "2022-04-03T17:30:57.544Z"
   },
   {
    "duration": 24,
    "start_time": "2022-04-03T17:30:57.551Z"
   },
   {
    "duration": 3,
    "start_time": "2022-04-03T17:30:57.577Z"
   },
   {
    "duration": 58,
    "start_time": "2022-04-03T17:30:57.582Z"
   },
   {
    "duration": 11,
    "start_time": "2022-04-03T17:30:57.641Z"
   },
   {
    "duration": 15,
    "start_time": "2022-04-03T17:30:57.654Z"
   },
   {
    "duration": 3,
    "start_time": "2022-04-03T17:30:57.671Z"
   },
   {
    "duration": 59,
    "start_time": "2022-04-03T17:30:57.676Z"
   },
   {
    "duration": 16,
    "start_time": "2022-04-03T17:30:57.737Z"
   },
   {
    "duration": 1266,
    "start_time": "2022-04-03T17:32:32.238Z"
   },
   {
    "duration": 45,
    "start_time": "2022-04-03T17:32:33.506Z"
   },
   {
    "duration": 10,
    "start_time": "2022-04-03T17:32:33.553Z"
   },
   {
    "duration": 296,
    "start_time": "2022-04-03T17:32:33.565Z"
   },
   {
    "duration": 4,
    "start_time": "2022-04-03T17:32:33.863Z"
   },
   {
    "duration": 11,
    "start_time": "2022-04-03T17:32:33.869Z"
   },
   {
    "duration": 52,
    "start_time": "2022-04-03T17:32:33.882Z"
   },
   {
    "duration": 4,
    "start_time": "2022-04-03T17:32:33.936Z"
   },
   {
    "duration": 12,
    "start_time": "2022-04-03T17:32:33.942Z"
   },
   {
    "duration": 16,
    "start_time": "2022-04-03T17:32:33.956Z"
   },
   {
    "duration": 9,
    "start_time": "2022-04-03T17:32:33.974Z"
   },
   {
    "duration": 48,
    "start_time": "2022-04-03T17:32:33.985Z"
   },
   {
    "duration": 8,
    "start_time": "2022-04-03T17:32:34.035Z"
   },
   {
    "duration": 9,
    "start_time": "2022-04-03T17:32:34.044Z"
   },
   {
    "duration": 9,
    "start_time": "2022-04-03T17:32:34.055Z"
   },
   {
    "duration": 12,
    "start_time": "2022-04-03T17:32:34.065Z"
   },
   {
    "duration": 4,
    "start_time": "2022-04-03T17:32:34.079Z"
   },
   {
    "duration": 57,
    "start_time": "2022-04-03T17:32:34.085Z"
   },
   {
    "duration": 283,
    "start_time": "2022-04-03T17:32:34.144Z"
   },
   {
    "duration": 21,
    "start_time": "2022-04-03T17:32:34.432Z"
   },
   {
    "duration": 259,
    "start_time": "2022-04-03T17:32:34.454Z"
   },
   {
    "duration": 21,
    "start_time": "2022-04-03T17:32:34.714Z"
   },
   {
    "duration": 317,
    "start_time": "2022-04-03T17:32:34.736Z"
   },
   {
    "duration": 184,
    "start_time": "2022-04-03T17:32:35.054Z"
   },
   {
    "duration": 1012,
    "start_time": "2022-04-03T17:32:35.240Z"
   },
   {
    "duration": 216,
    "start_time": "2022-04-03T17:32:36.253Z"
   },
   {
    "duration": 531,
    "start_time": "2022-04-03T17:32:36.471Z"
   },
   {
    "duration": 441,
    "start_time": "2022-04-03T17:32:37.005Z"
   },
   {
    "duration": 326,
    "start_time": "2022-04-03T17:32:37.447Z"
   },
   {
    "duration": 214,
    "start_time": "2022-04-03T17:32:37.775Z"
   },
   {
    "duration": 7,
    "start_time": "2022-04-03T17:32:37.991Z"
   },
   {
    "duration": 356,
    "start_time": "2022-04-03T17:32:38.000Z"
   },
   {
    "duration": 6,
    "start_time": "2022-04-03T17:32:38.358Z"
   },
   {
    "duration": 25,
    "start_time": "2022-04-03T17:32:38.367Z"
   },
   {
    "duration": 39,
    "start_time": "2022-04-03T17:32:38.394Z"
   },
   {
    "duration": 23,
    "start_time": "2022-04-03T17:32:38.435Z"
   },
   {
    "duration": 12,
    "start_time": "2022-04-03T17:32:38.460Z"
   },
   {
    "duration": 16,
    "start_time": "2022-04-03T17:32:38.474Z"
   },
   {
    "duration": 40,
    "start_time": "2022-04-03T17:32:38.492Z"
   },
   {
    "duration": 24,
    "start_time": "2022-04-03T17:32:38.534Z"
   },
   {
    "duration": 13,
    "start_time": "2022-04-03T17:32:38.560Z"
   },
   {
    "duration": 21,
    "start_time": "2022-04-03T17:33:18.351Z"
   },
   {
    "duration": 226,
    "start_time": "2022-04-03T17:35:51.090Z"
   },
   {
    "duration": 275,
    "start_time": "2022-04-03T17:36:12.430Z"
   },
   {
    "duration": 1200,
    "start_time": "2022-04-03T17:37:20.154Z"
   },
   {
    "duration": 43,
    "start_time": "2022-04-03T17:37:21.356Z"
   },
   {
    "duration": 11,
    "start_time": "2022-04-03T17:37:21.401Z"
   },
   {
    "duration": 330,
    "start_time": "2022-04-03T17:37:21.414Z"
   },
   {
    "duration": 4,
    "start_time": "2022-04-03T17:37:21.745Z"
   },
   {
    "duration": 11,
    "start_time": "2022-04-03T17:37:21.751Z"
   },
   {
    "duration": 8,
    "start_time": "2022-04-03T17:37:21.764Z"
   },
   {
    "duration": 7,
    "start_time": "2022-04-03T17:37:21.773Z"
   },
   {
    "duration": 57,
    "start_time": "2022-04-03T17:37:21.782Z"
   },
   {
    "duration": 16,
    "start_time": "2022-04-03T17:37:21.842Z"
   },
   {
    "duration": 9,
    "start_time": "2022-04-03T17:37:21.860Z"
   },
   {
    "duration": 14,
    "start_time": "2022-04-03T17:37:21.871Z"
   },
   {
    "duration": 51,
    "start_time": "2022-04-03T17:37:21.887Z"
   },
   {
    "duration": 10,
    "start_time": "2022-04-03T17:37:21.940Z"
   },
   {
    "duration": 10,
    "start_time": "2022-04-03T17:37:21.952Z"
   },
   {
    "duration": 13,
    "start_time": "2022-04-03T17:37:21.965Z"
   },
   {
    "duration": 4,
    "start_time": "2022-04-03T17:37:21.980Z"
   },
   {
    "duration": 61,
    "start_time": "2022-04-03T17:37:21.986Z"
   },
   {
    "duration": 313,
    "start_time": "2022-04-03T17:37:22.048Z"
   },
   {
    "duration": 20,
    "start_time": "2022-04-03T17:37:22.362Z"
   },
   {
    "duration": 254,
    "start_time": "2022-04-03T17:37:22.384Z"
   },
   {
    "duration": 45,
    "start_time": "2022-04-03T17:37:22.640Z"
   },
   {
    "duration": 284,
    "start_time": "2022-04-03T17:37:22.687Z"
   },
   {
    "duration": 177,
    "start_time": "2022-04-03T17:37:22.973Z"
   },
   {
    "duration": 863,
    "start_time": "2022-04-03T17:37:23.152Z"
   },
   {
    "duration": 265,
    "start_time": "2022-04-03T17:37:24.017Z"
   },
   {
    "duration": 298,
    "start_time": "2022-04-03T17:37:24.284Z"
   },
   {
    "duration": 447,
    "start_time": "2022-04-03T17:37:24.585Z"
   },
   {
    "duration": 307,
    "start_time": "2022-04-03T17:37:25.034Z"
   },
   {
    "duration": 199,
    "start_time": "2022-04-03T17:37:25.342Z"
   },
   {
    "duration": 6,
    "start_time": "2022-04-03T17:37:25.542Z"
   },
   {
    "duration": 333,
    "start_time": "2022-04-03T17:37:25.549Z"
   },
   {
    "duration": 5,
    "start_time": "2022-04-03T17:37:25.883Z"
   },
   {
    "duration": 44,
    "start_time": "2022-04-03T17:37:25.890Z"
   },
   {
    "duration": 3,
    "start_time": "2022-04-03T17:37:25.936Z"
   },
   {
    "duration": 24,
    "start_time": "2022-04-03T17:37:25.940Z"
   },
   {
    "duration": 10,
    "start_time": "2022-04-03T17:37:25.966Z"
   },
   {
    "duration": 13,
    "start_time": "2022-04-03T17:37:25.977Z"
   },
   {
    "duration": 41,
    "start_time": "2022-04-03T17:37:25.991Z"
   },
   {
    "duration": 23,
    "start_time": "2022-04-03T17:37:26.034Z"
   },
   {
    "duration": 14,
    "start_time": "2022-04-03T17:37:26.059Z"
   },
   {
    "duration": 1247,
    "start_time": "2022-04-03T17:41:17.307Z"
   },
   {
    "duration": 40,
    "start_time": "2022-04-03T17:41:18.557Z"
   },
   {
    "duration": 11,
    "start_time": "2022-04-03T17:41:18.600Z"
   },
   {
    "duration": 327,
    "start_time": "2022-04-03T17:41:18.613Z"
   },
   {
    "duration": 4,
    "start_time": "2022-04-03T17:41:18.942Z"
   },
   {
    "duration": 14,
    "start_time": "2022-04-03T17:41:18.948Z"
   },
   {
    "duration": 7,
    "start_time": "2022-04-03T17:41:18.964Z"
   },
   {
    "duration": 7,
    "start_time": "2022-04-03T17:41:18.973Z"
   },
   {
    "duration": 14,
    "start_time": "2022-04-03T17:41:18.982Z"
   },
   {
    "duration": 16,
    "start_time": "2022-04-03T17:41:19.034Z"
   },
   {
    "duration": 11,
    "start_time": "2022-04-03T17:41:19.052Z"
   },
   {
    "duration": 13,
    "start_time": "2022-04-03T17:41:19.065Z"
   },
   {
    "duration": 12,
    "start_time": "2022-04-03T17:41:19.079Z"
   },
   {
    "duration": 41,
    "start_time": "2022-04-03T17:41:19.093Z"
   },
   {
    "duration": 9,
    "start_time": "2022-04-03T17:41:19.136Z"
   },
   {
    "duration": 13,
    "start_time": "2022-04-03T17:41:19.146Z"
   },
   {
    "duration": 4,
    "start_time": "2022-04-03T17:41:19.161Z"
   },
   {
    "duration": 22,
    "start_time": "2022-04-03T17:41:19.166Z"
   },
   {
    "duration": 306,
    "start_time": "2022-04-03T17:41:19.190Z"
   },
   {
    "duration": 5,
    "start_time": "2022-04-03T17:41:19.498Z"
   },
   {
    "duration": 14,
    "start_time": "2022-04-03T17:41:19.505Z"
   },
   {
    "duration": 258,
    "start_time": "2022-04-03T17:41:19.533Z"
   },
   {
    "duration": 19,
    "start_time": "2022-04-03T17:41:19.792Z"
   },
   {
    "duration": 67,
    "start_time": "2022-04-03T17:41:19.812Z"
   },
   {
    "duration": 298,
    "start_time": "2022-04-03T17:41:19.880Z"
   },
   {
    "duration": 182,
    "start_time": "2022-04-03T17:41:20.180Z"
   },
   {
    "duration": 681,
    "start_time": "2022-04-03T17:41:20.364Z"
   },
   {
    "duration": 279,
    "start_time": "2022-04-03T17:41:21.048Z"
   },
   {
    "duration": 317,
    "start_time": "2022-04-03T17:41:21.334Z"
   },
   {
    "duration": 376,
    "start_time": "2022-04-03T17:41:21.653Z"
   },
   {
    "duration": 307,
    "start_time": "2022-04-03T17:41:22.033Z"
   },
   {
    "duration": 204,
    "start_time": "2022-04-03T17:41:22.341Z"
   },
   {
    "duration": 6,
    "start_time": "2022-04-03T17:41:22.547Z"
   },
   {
    "duration": 342,
    "start_time": "2022-04-03T17:41:22.555Z"
   },
   {
    "duration": 6,
    "start_time": "2022-04-03T17:41:22.899Z"
   },
   {
    "duration": 42,
    "start_time": "2022-04-03T17:41:22.906Z"
   },
   {
    "duration": 4,
    "start_time": "2022-04-03T17:41:22.950Z"
   },
   {
    "duration": 24,
    "start_time": "2022-04-03T17:41:22.955Z"
   },
   {
    "duration": 10,
    "start_time": "2022-04-03T17:41:22.981Z"
   },
   {
    "duration": 49,
    "start_time": "2022-04-03T17:41:22.993Z"
   },
   {
    "duration": 3,
    "start_time": "2022-04-03T17:41:23.044Z"
   },
   {
    "duration": 22,
    "start_time": "2022-04-03T17:41:23.049Z"
   },
   {
    "duration": 13,
    "start_time": "2022-04-03T17:41:23.073Z"
   },
   {
    "duration": 1267,
    "start_time": "2022-04-03T17:48:10.451Z"
   },
   {
    "duration": 45,
    "start_time": "2022-04-03T17:48:11.720Z"
   },
   {
    "duration": 11,
    "start_time": "2022-04-03T17:48:11.766Z"
   },
   {
    "duration": 282,
    "start_time": "2022-04-03T17:48:11.780Z"
   },
   {
    "duration": 4,
    "start_time": "2022-04-03T17:48:12.064Z"
   },
   {
    "duration": 11,
    "start_time": "2022-04-03T17:48:12.070Z"
   },
   {
    "duration": 51,
    "start_time": "2022-04-03T17:48:12.083Z"
   },
   {
    "duration": 6,
    "start_time": "2022-04-03T17:48:12.136Z"
   },
   {
    "duration": 13,
    "start_time": "2022-04-03T17:48:12.143Z"
   },
   {
    "duration": 15,
    "start_time": "2022-04-03T17:48:12.159Z"
   },
   {
    "duration": 9,
    "start_time": "2022-04-03T17:48:12.176Z"
   },
   {
    "duration": 49,
    "start_time": "2022-04-03T17:48:12.187Z"
   },
   {
    "duration": 10,
    "start_time": "2022-04-03T17:48:12.237Z"
   },
   {
    "duration": 7,
    "start_time": "2022-04-03T17:48:12.248Z"
   },
   {
    "duration": 9,
    "start_time": "2022-04-03T17:48:12.256Z"
   },
   {
    "duration": 12,
    "start_time": "2022-04-03T17:48:12.266Z"
   },
   {
    "duration": 4,
    "start_time": "2022-04-03T17:48:12.280Z"
   },
   {
    "duration": 64,
    "start_time": "2022-04-03T17:48:12.285Z"
   },
   {
    "duration": 283,
    "start_time": "2022-04-03T17:48:12.351Z"
   },
   {
    "duration": 4,
    "start_time": "2022-04-03T17:48:12.636Z"
   },
   {
    "duration": 15,
    "start_time": "2022-04-03T17:48:12.642Z"
   },
   {
    "duration": 273,
    "start_time": "2022-04-03T17:48:12.659Z"
   },
   {
    "duration": 17,
    "start_time": "2022-04-03T17:48:12.934Z"
   },
   {
    "duration": 49,
    "start_time": "2022-04-03T17:48:12.953Z"
   },
   {
    "duration": 301,
    "start_time": "2022-04-03T17:48:13.003Z"
   },
   {
    "duration": 173,
    "start_time": "2022-04-03T17:48:13.306Z"
   },
   {
    "duration": 652,
    "start_time": "2022-04-03T17:48:13.481Z"
   },
   {
    "duration": 273,
    "start_time": "2022-04-03T17:48:14.138Z"
   },
   {
    "duration": 307,
    "start_time": "2022-04-03T17:48:14.413Z"
   },
   {
    "duration": 418,
    "start_time": "2022-04-03T17:48:14.722Z"
   },
   {
    "duration": 317,
    "start_time": "2022-04-03T17:48:15.142Z"
   },
   {
    "duration": 226,
    "start_time": "2022-04-03T17:48:15.461Z"
   },
   {
    "duration": 6,
    "start_time": "2022-04-03T17:48:15.689Z"
   },
   {
    "duration": 344,
    "start_time": "2022-04-03T17:48:15.698Z"
   },
   {
    "duration": 6,
    "start_time": "2022-04-03T17:48:16.044Z"
   },
   {
    "duration": 26,
    "start_time": "2022-04-03T17:48:16.052Z"
   },
   {
    "duration": 4,
    "start_time": "2022-04-03T17:48:16.080Z"
   },
   {
    "duration": 64,
    "start_time": "2022-04-03T17:48:16.086Z"
   },
   {
    "duration": 10,
    "start_time": "2022-04-03T17:48:16.152Z"
   },
   {
    "duration": 13,
    "start_time": "2022-04-03T17:48:16.163Z"
   },
   {
    "duration": 3,
    "start_time": "2022-04-03T17:48:16.178Z"
   },
   {
    "duration": 51,
    "start_time": "2022-04-03T17:48:16.183Z"
   },
   {
    "duration": 14,
    "start_time": "2022-04-03T17:48:16.236Z"
   },
   {
    "duration": 263,
    "start_time": "2022-04-03T17:50:35.844Z"
   },
   {
    "duration": 1185,
    "start_time": "2022-04-03T18:13:27.979Z"
   },
   {
    "duration": 39,
    "start_time": "2022-04-03T18:13:29.166Z"
   },
   {
    "duration": 10,
    "start_time": "2022-04-03T18:13:29.206Z"
   },
   {
    "duration": 327,
    "start_time": "2022-04-03T18:13:29.219Z"
   },
   {
    "duration": 4,
    "start_time": "2022-04-03T18:13:29.548Z"
   },
   {
    "duration": 12,
    "start_time": "2022-04-03T18:13:29.554Z"
   },
   {
    "duration": 10,
    "start_time": "2022-04-03T18:13:29.567Z"
   },
   {
    "duration": 5,
    "start_time": "2022-04-03T18:13:29.579Z"
   },
   {
    "duration": 52,
    "start_time": "2022-04-03T18:13:29.586Z"
   },
   {
    "duration": 18,
    "start_time": "2022-04-03T18:13:29.642Z"
   },
   {
    "duration": 13,
    "start_time": "2022-04-03T18:13:29.662Z"
   },
   {
    "duration": 13,
    "start_time": "2022-04-03T18:13:29.677Z"
   },
   {
    "duration": 42,
    "start_time": "2022-04-03T18:13:29.691Z"
   },
   {
    "duration": 7,
    "start_time": "2022-04-03T18:13:29.735Z"
   },
   {
    "duration": 8,
    "start_time": "2022-04-03T18:13:29.744Z"
   },
   {
    "duration": 13,
    "start_time": "2022-04-03T18:13:29.754Z"
   },
   {
    "duration": 4,
    "start_time": "2022-04-03T18:13:29.769Z"
   },
   {
    "duration": 62,
    "start_time": "2022-04-03T18:13:29.775Z"
   },
   {
    "duration": 283,
    "start_time": "2022-04-03T18:13:29.838Z"
   },
   {
    "duration": 5,
    "start_time": "2022-04-03T18:13:30.123Z"
   },
   {
    "duration": 11,
    "start_time": "2022-04-03T18:13:30.133Z"
   },
   {
    "duration": 274,
    "start_time": "2022-04-03T18:13:30.146Z"
   },
   {
    "duration": 20,
    "start_time": "2022-04-03T18:13:30.422Z"
   },
   {
    "duration": 72,
    "start_time": "2022-04-03T18:13:30.444Z"
   },
   {
    "duration": 282,
    "start_time": "2022-04-03T18:13:30.518Z"
   },
   {
    "duration": 179,
    "start_time": "2022-04-03T18:13:30.802Z"
   },
   {
    "duration": 668,
    "start_time": "2022-04-03T18:13:30.982Z"
   },
   {
    "duration": 268,
    "start_time": "2022-04-03T18:13:31.653Z"
   },
   {
    "duration": 303,
    "start_time": "2022-04-03T18:13:31.923Z"
   },
   {
    "duration": 428,
    "start_time": "2022-04-03T18:13:32.227Z"
   },
   {
    "duration": 318,
    "start_time": "2022-04-03T18:13:32.656Z"
   },
   {
    "duration": 212,
    "start_time": "2022-04-03T18:13:32.976Z"
   },
   {
    "duration": 6,
    "start_time": "2022-04-03T18:13:33.189Z"
   },
   {
    "duration": 348,
    "start_time": "2022-04-03T18:13:33.196Z"
   },
   {
    "duration": 5,
    "start_time": "2022-04-03T18:13:33.545Z"
   },
   {
    "duration": 23,
    "start_time": "2022-04-03T18:13:33.552Z"
   },
   {
    "duration": 4,
    "start_time": "2022-04-03T18:13:33.577Z"
   },
   {
    "duration": 57,
    "start_time": "2022-04-03T18:13:33.582Z"
   },
   {
    "duration": 10,
    "start_time": "2022-04-03T18:13:33.641Z"
   },
   {
    "duration": 13,
    "start_time": "2022-04-03T18:13:33.653Z"
   },
   {
    "duration": 4,
    "start_time": "2022-04-03T18:13:33.667Z"
   },
   {
    "duration": 23,
    "start_time": "2022-04-03T18:13:33.673Z"
   },
   {
    "duration": 47,
    "start_time": "2022-04-03T18:13:33.697Z"
   },
   {
    "duration": 161,
    "start_time": "2022-04-03T18:21:07.983Z"
   },
   {
    "duration": 115,
    "start_time": "2022-04-03T18:22:55.309Z"
   },
   {
    "duration": 227,
    "start_time": "2022-04-03T18:23:02.605Z"
   },
   {
    "duration": 225,
    "start_time": "2022-04-03T18:23:23.466Z"
   },
   {
    "duration": 217,
    "start_time": "2022-04-03T18:23:45.604Z"
   },
   {
    "duration": 162,
    "start_time": "2022-04-03T18:24:02.599Z"
   },
   {
    "duration": 9,
    "start_time": "2022-04-03T18:25:10.427Z"
   },
   {
    "duration": 260,
    "start_time": "2022-04-03T18:25:26.686Z"
   },
   {
    "duration": 579,
    "start_time": "2022-04-03T18:29:12.955Z"
   },
   {
    "duration": 292,
    "start_time": "2022-04-03T18:34:34.192Z"
   },
   {
    "duration": 316,
    "start_time": "2022-04-03T18:35:11.447Z"
   },
   {
    "duration": 1286,
    "start_time": "2022-04-03T18:35:48.420Z"
   },
   {
    "duration": 43,
    "start_time": "2022-04-03T18:35:49.708Z"
   },
   {
    "duration": 10,
    "start_time": "2022-04-03T18:35:49.753Z"
   },
   {
    "duration": 369,
    "start_time": "2022-04-03T18:35:49.765Z"
   },
   {
    "duration": 5,
    "start_time": "2022-04-03T18:35:50.136Z"
   },
   {
    "duration": 13,
    "start_time": "2022-04-03T18:35:50.142Z"
   },
   {
    "duration": 8,
    "start_time": "2022-04-03T18:35:50.157Z"
   },
   {
    "duration": 7,
    "start_time": "2022-04-03T18:35:50.167Z"
   },
   {
    "duration": 17,
    "start_time": "2022-04-03T18:35:50.175Z"
   },
   {
    "duration": 49,
    "start_time": "2022-04-03T18:35:50.195Z"
   },
   {
    "duration": 9,
    "start_time": "2022-04-03T18:35:50.246Z"
   },
   {
    "duration": 14,
    "start_time": "2022-04-03T18:35:50.257Z"
   },
   {
    "duration": 9,
    "start_time": "2022-04-03T18:35:50.273Z"
   },
   {
    "duration": 7,
    "start_time": "2022-04-03T18:35:50.284Z"
   },
   {
    "duration": 42,
    "start_time": "2022-04-03T18:35:50.292Z"
   },
   {
    "duration": 12,
    "start_time": "2022-04-03T18:35:50.336Z"
   },
   {
    "duration": 4,
    "start_time": "2022-04-03T18:35:50.350Z"
   },
   {
    "duration": 21,
    "start_time": "2022-04-03T18:35:50.355Z"
   },
   {
    "duration": 293,
    "start_time": "2022-04-03T18:35:50.378Z"
   },
   {
    "duration": 5,
    "start_time": "2022-04-03T18:35:50.672Z"
   },
   {
    "duration": 13,
    "start_time": "2022-04-03T18:35:50.679Z"
   },
   {
    "duration": 266,
    "start_time": "2022-04-03T18:35:50.693Z"
   },
   {
    "duration": 19,
    "start_time": "2022-04-03T18:35:50.961Z"
   },
   {
    "duration": 72,
    "start_time": "2022-04-03T18:35:50.982Z"
   },
   {
    "duration": 283,
    "start_time": "2022-04-03T18:35:51.057Z"
   },
   {
    "duration": 10,
    "start_time": "2022-04-03T18:35:51.342Z"
   },
   {
    "duration": 184,
    "start_time": "2022-04-03T18:35:51.353Z"
   },
   {
    "duration": 655,
    "start_time": "2022-04-03T18:35:51.541Z"
   },
   {
    "duration": 267,
    "start_time": "2022-04-03T18:35:52.197Z"
   },
   {
    "duration": 300,
    "start_time": "2022-04-03T18:35:52.466Z"
   },
   {
    "duration": 379,
    "start_time": "2022-04-03T18:35:52.768Z"
   },
   {
    "duration": 310,
    "start_time": "2022-04-03T18:35:53.149Z"
   },
   {
    "duration": 208,
    "start_time": "2022-04-03T18:35:53.461Z"
   },
   {
    "duration": 5,
    "start_time": "2022-04-03T18:35:53.670Z"
   },
   {
    "duration": 337,
    "start_time": "2022-04-03T18:35:53.677Z"
   },
   {
    "duration": 16,
    "start_time": "2022-04-03T18:35:54.016Z"
   },
   {
    "duration": 24,
    "start_time": "2022-04-03T18:35:54.034Z"
   },
   {
    "duration": 4,
    "start_time": "2022-04-03T18:35:54.059Z"
   },
   {
    "duration": 24,
    "start_time": "2022-04-03T18:35:54.064Z"
   },
   {
    "duration": 47,
    "start_time": "2022-04-03T18:35:54.090Z"
   },
   {
    "duration": 14,
    "start_time": "2022-04-03T18:35:54.138Z"
   },
   {
    "duration": 7,
    "start_time": "2022-04-03T18:35:54.154Z"
   },
   {
    "duration": 27,
    "start_time": "2022-04-03T18:35:54.163Z"
   },
   {
    "duration": 13,
    "start_time": "2022-04-03T18:35:54.192Z"
   },
   {
    "duration": 1297,
    "start_time": "2022-04-03T18:43:27.963Z"
   },
   {
    "duration": 45,
    "start_time": "2022-04-03T18:43:29.263Z"
   },
   {
    "duration": 12,
    "start_time": "2022-04-03T18:43:29.310Z"
   },
   {
    "duration": 357,
    "start_time": "2022-04-03T18:43:29.324Z"
   },
   {
    "duration": 5,
    "start_time": "2022-04-03T18:43:29.682Z"
   },
   {
    "duration": 56,
    "start_time": "2022-04-03T18:43:29.688Z"
   },
   {
    "duration": 8,
    "start_time": "2022-04-03T18:43:29.746Z"
   },
   {
    "duration": 7,
    "start_time": "2022-04-03T18:43:29.756Z"
   },
   {
    "duration": 10,
    "start_time": "2022-04-03T18:43:29.765Z"
   },
   {
    "duration": 60,
    "start_time": "2022-04-03T18:43:29.778Z"
   },
   {
    "duration": 10,
    "start_time": "2022-04-03T18:43:29.840Z"
   },
   {
    "duration": 14,
    "start_time": "2022-04-03T18:43:29.851Z"
   },
   {
    "duration": 8,
    "start_time": "2022-04-03T18:43:29.867Z"
   },
   {
    "duration": 7,
    "start_time": "2022-04-03T18:43:29.877Z"
   },
   {
    "duration": 50,
    "start_time": "2022-04-03T18:43:29.886Z"
   },
   {
    "duration": 13,
    "start_time": "2022-04-03T18:43:29.937Z"
   },
   {
    "duration": 4,
    "start_time": "2022-04-03T18:43:29.952Z"
   },
   {
    "duration": 18,
    "start_time": "2022-04-03T18:43:29.958Z"
   },
   {
    "duration": 309,
    "start_time": "2022-04-03T18:43:29.978Z"
   },
   {
    "duration": 5,
    "start_time": "2022-04-03T18:43:30.289Z"
   },
   {
    "duration": 11,
    "start_time": "2022-04-03T18:43:30.295Z"
   },
   {
    "duration": 308,
    "start_time": "2022-04-03T18:43:30.332Z"
   },
   {
    "duration": 18,
    "start_time": "2022-04-03T18:43:30.642Z"
   },
   {
    "duration": 74,
    "start_time": "2022-04-03T18:43:30.662Z"
   },
   {
    "duration": 287,
    "start_time": "2022-04-03T18:43:30.738Z"
   },
   {
    "duration": 9,
    "start_time": "2022-04-03T18:43:31.027Z"
   },
   {
    "duration": 174,
    "start_time": "2022-04-03T18:43:31.038Z"
   },
   {
    "duration": 653,
    "start_time": "2022-04-03T18:43:31.215Z"
   },
   {
    "duration": 4,
    "start_time": "2022-04-03T18:43:31.870Z"
   },
   {
    "duration": 106,
    "start_time": "2022-04-03T18:43:31.876Z"
   },
   {
    "duration": 0,
    "start_time": "2022-04-03T18:43:31.984Z"
   },
   {
    "duration": 0,
    "start_time": "2022-04-03T18:43:31.985Z"
   },
   {
    "duration": 0,
    "start_time": "2022-04-03T18:43:31.986Z"
   },
   {
    "duration": 0,
    "start_time": "2022-04-03T18:43:31.988Z"
   },
   {
    "duration": 0,
    "start_time": "2022-04-03T18:43:31.990Z"
   },
   {
    "duration": 0,
    "start_time": "2022-04-03T18:43:31.991Z"
   },
   {
    "duration": 0,
    "start_time": "2022-04-03T18:43:31.992Z"
   },
   {
    "duration": 0,
    "start_time": "2022-04-03T18:43:31.993Z"
   },
   {
    "duration": 0,
    "start_time": "2022-04-03T18:43:31.995Z"
   },
   {
    "duration": 0,
    "start_time": "2022-04-03T18:43:31.996Z"
   },
   {
    "duration": 0,
    "start_time": "2022-04-03T18:43:31.997Z"
   },
   {
    "duration": 0,
    "start_time": "2022-04-03T18:43:31.998Z"
   },
   {
    "duration": 0,
    "start_time": "2022-04-03T18:43:31.999Z"
   },
   {
    "duration": 0,
    "start_time": "2022-04-03T18:43:32.000Z"
   },
   {
    "duration": 0,
    "start_time": "2022-04-03T18:43:32.002Z"
   },
   {
    "duration": 0,
    "start_time": "2022-04-03T18:43:32.003Z"
   },
   {
    "duration": 0,
    "start_time": "2022-04-03T18:43:32.004Z"
   },
   {
    "duration": 9,
    "start_time": "2022-04-03T18:44:10.827Z"
   },
   {
    "duration": 9,
    "start_time": "2022-04-03T18:44:25.333Z"
   },
   {
    "duration": 1236,
    "start_time": "2022-04-03T18:47:15.364Z"
   },
   {
    "duration": 45,
    "start_time": "2022-04-03T18:47:16.601Z"
   },
   {
    "duration": 10,
    "start_time": "2022-04-03T18:47:16.648Z"
   },
   {
    "duration": 385,
    "start_time": "2022-04-03T18:47:16.661Z"
   },
   {
    "duration": 6,
    "start_time": "2022-04-03T18:47:17.048Z"
   },
   {
    "duration": 14,
    "start_time": "2022-04-03T18:47:17.055Z"
   },
   {
    "duration": 9,
    "start_time": "2022-04-03T18:47:17.070Z"
   },
   {
    "duration": 53,
    "start_time": "2022-04-03T18:47:17.081Z"
   },
   {
    "duration": 15,
    "start_time": "2022-04-03T18:47:17.136Z"
   },
   {
    "duration": 18,
    "start_time": "2022-04-03T18:47:17.154Z"
   },
   {
    "duration": 10,
    "start_time": "2022-04-03T18:47:17.174Z"
   },
   {
    "duration": 48,
    "start_time": "2022-04-03T18:47:17.186Z"
   },
   {
    "duration": 11,
    "start_time": "2022-04-03T18:47:17.236Z"
   },
   {
    "duration": 8,
    "start_time": "2022-04-03T18:47:17.248Z"
   },
   {
    "duration": 7,
    "start_time": "2022-04-03T18:47:17.258Z"
   },
   {
    "duration": 12,
    "start_time": "2022-04-03T18:47:17.267Z"
   },
   {
    "duration": 4,
    "start_time": "2022-04-03T18:47:17.281Z"
   },
   {
    "duration": 56,
    "start_time": "2022-04-03T18:47:17.287Z"
   },
   {
    "duration": 288,
    "start_time": "2022-04-03T18:47:17.345Z"
   },
   {
    "duration": 5,
    "start_time": "2022-04-03T18:47:17.635Z"
   },
   {
    "duration": 13,
    "start_time": "2022-04-03T18:47:17.642Z"
   },
   {
    "duration": 277,
    "start_time": "2022-04-03T18:47:17.656Z"
   },
   {
    "duration": 17,
    "start_time": "2022-04-03T18:47:17.935Z"
   },
   {
    "duration": 50,
    "start_time": "2022-04-03T18:47:17.953Z"
   },
   {
    "duration": 306,
    "start_time": "2022-04-03T18:47:18.005Z"
   },
   {
    "duration": 9,
    "start_time": "2022-04-03T18:47:18.312Z"
   },
   {
    "duration": 184,
    "start_time": "2022-04-03T18:47:18.333Z"
   },
   {
    "duration": 290,
    "start_time": "2022-04-03T18:47:18.534Z"
   },
   {
    "duration": 6,
    "start_time": "2022-04-03T18:47:18.833Z"
   },
   {
    "duration": 11,
    "start_time": "2022-04-03T18:47:18.841Z"
   },
   {
    "duration": 11,
    "start_time": "2022-04-03T18:47:18.854Z"
   },
   {
    "duration": 433,
    "start_time": "2022-04-03T18:47:18.867Z"
   },
   {
    "duration": 193,
    "start_time": "2022-04-03T18:47:19.303Z"
   },
   {
    "duration": 305,
    "start_time": "2022-04-03T18:47:19.498Z"
   },
   {
    "duration": 415,
    "start_time": "2022-04-03T18:47:19.805Z"
   },
   {
    "duration": 314,
    "start_time": "2022-04-03T18:47:20.222Z"
   },
   {
    "duration": 313,
    "start_time": "2022-04-03T18:47:20.538Z"
   },
   {
    "duration": 7,
    "start_time": "2022-04-03T18:47:20.853Z"
   },
   {
    "duration": 513,
    "start_time": "2022-04-03T18:47:20.862Z"
   },
   {
    "duration": 6,
    "start_time": "2022-04-03T18:47:21.377Z"
   },
   {
    "duration": 53,
    "start_time": "2022-04-03T18:47:21.385Z"
   },
   {
    "duration": 4,
    "start_time": "2022-04-03T18:47:21.440Z"
   },
   {
    "duration": 42,
    "start_time": "2022-04-03T18:47:21.446Z"
   },
   {
    "duration": 15,
    "start_time": "2022-04-03T18:47:21.490Z"
   },
   {
    "duration": 20,
    "start_time": "2022-04-03T18:47:21.532Z"
   },
   {
    "duration": 4,
    "start_time": "2022-04-03T18:47:21.554Z"
   },
   {
    "duration": 37,
    "start_time": "2022-04-03T18:47:21.560Z"
   },
   {
    "duration": 52,
    "start_time": "2022-04-03T18:47:21.599Z"
   },
   {
    "duration": 448,
    "start_time": "2022-04-03T18:48:31.949Z"
   },
   {
    "duration": 403,
    "start_time": "2022-04-03T18:48:40.789Z"
   },
   {
    "duration": 9,
    "start_time": "2022-04-03T18:49:35.130Z"
   },
   {
    "duration": 10,
    "start_time": "2022-04-03T18:49:40.380Z"
   },
   {
    "duration": 1310,
    "start_time": "2022-04-03T18:50:14.006Z"
   },
   {
    "duration": 46,
    "start_time": "2022-04-03T18:50:15.318Z"
   },
   {
    "duration": 12,
    "start_time": "2022-04-03T18:50:15.366Z"
   },
   {
    "duration": 363,
    "start_time": "2022-04-03T18:50:15.381Z"
   },
   {
    "duration": 6,
    "start_time": "2022-04-03T18:50:15.745Z"
   },
   {
    "duration": 18,
    "start_time": "2022-04-03T18:50:15.753Z"
   },
   {
    "duration": 13,
    "start_time": "2022-04-03T18:50:15.773Z"
   },
   {
    "duration": 8,
    "start_time": "2022-04-03T18:50:15.787Z"
   },
   {
    "duration": 45,
    "start_time": "2022-04-03T18:50:15.797Z"
   },
   {
    "duration": 19,
    "start_time": "2022-04-03T18:50:15.844Z"
   },
   {
    "duration": 11,
    "start_time": "2022-04-03T18:50:15.864Z"
   },
   {
    "duration": 14,
    "start_time": "2022-04-03T18:50:15.877Z"
   },
   {
    "duration": 40,
    "start_time": "2022-04-03T18:50:15.893Z"
   },
   {
    "duration": 11,
    "start_time": "2022-04-03T18:50:15.935Z"
   },
   {
    "duration": 11,
    "start_time": "2022-04-03T18:50:15.948Z"
   },
   {
    "duration": 17,
    "start_time": "2022-04-03T18:50:15.961Z"
   },
   {
    "duration": 5,
    "start_time": "2022-04-03T18:50:15.980Z"
   },
   {
    "duration": 54,
    "start_time": "2022-04-03T18:50:15.987Z"
   },
   {
    "duration": 283,
    "start_time": "2022-04-03T18:50:16.043Z"
   },
   {
    "duration": 6,
    "start_time": "2022-04-03T18:50:16.332Z"
   },
   {
    "duration": 21,
    "start_time": "2022-04-03T18:50:16.339Z"
   },
   {
    "duration": 272,
    "start_time": "2022-04-03T18:50:16.361Z"
   },
   {
    "duration": 21,
    "start_time": "2022-04-03T18:50:16.636Z"
   },
   {
    "duration": 48,
    "start_time": "2022-04-03T18:50:16.659Z"
   },
   {
    "duration": 335,
    "start_time": "2022-04-03T18:50:16.708Z"
   },
   {
    "duration": 13,
    "start_time": "2022-04-03T18:50:17.045Z"
   },
   {
    "duration": 194,
    "start_time": "2022-04-03T18:50:17.060Z"
   },
   {
    "duration": 322,
    "start_time": "2022-04-03T18:50:17.259Z"
   },
   {
    "duration": 4,
    "start_time": "2022-04-03T18:50:17.583Z"
   },
   {
    "duration": 17,
    "start_time": "2022-04-03T18:50:17.589Z"
   },
   {
    "duration": 27,
    "start_time": "2022-04-03T18:50:17.608Z"
   },
   {
    "duration": 397,
    "start_time": "2022-04-03T18:50:17.636Z"
   },
   {
    "duration": 257,
    "start_time": "2022-04-03T18:50:18.035Z"
   },
   {
    "duration": 9,
    "start_time": "2022-04-03T18:50:18.293Z"
   },
   {
    "duration": 30,
    "start_time": "2022-04-03T18:50:18.304Z"
   },
   {
    "duration": 288,
    "start_time": "2022-04-03T18:50:18.336Z"
   },
   {
    "duration": 399,
    "start_time": "2022-04-03T18:50:18.626Z"
   },
   {
    "duration": 320,
    "start_time": "2022-04-03T18:50:19.027Z"
   },
   {
    "duration": 210,
    "start_time": "2022-04-03T18:50:19.349Z"
   },
   {
    "duration": 6,
    "start_time": "2022-04-03T18:50:19.561Z"
   },
   {
    "duration": 334,
    "start_time": "2022-04-03T18:50:19.568Z"
   },
   {
    "duration": 5,
    "start_time": "2022-04-03T18:50:19.904Z"
   },
   {
    "duration": 39,
    "start_time": "2022-04-03T18:50:19.911Z"
   },
   {
    "duration": 4,
    "start_time": "2022-04-03T18:50:19.952Z"
   },
   {
    "duration": 24,
    "start_time": "2022-04-03T18:50:19.957Z"
   },
   {
    "duration": 10,
    "start_time": "2022-04-03T18:50:19.983Z"
   },
   {
    "duration": 51,
    "start_time": "2022-04-03T18:50:19.995Z"
   },
   {
    "duration": 16,
    "start_time": "2022-04-03T18:50:20.048Z"
   },
   {
    "duration": 25,
    "start_time": "2022-04-03T18:50:20.066Z"
   },
   {
    "duration": 14,
    "start_time": "2022-04-03T18:50:20.093Z"
   },
   {
    "duration": 1183,
    "start_time": "2022-04-03T18:53:22.881Z"
   },
   {
    "duration": 40,
    "start_time": "2022-04-03T18:53:24.067Z"
   },
   {
    "duration": 10,
    "start_time": "2022-04-03T18:53:24.109Z"
   },
   {
    "duration": 333,
    "start_time": "2022-04-03T18:53:24.122Z"
   },
   {
    "duration": 5,
    "start_time": "2022-04-03T18:53:24.457Z"
   },
   {
    "duration": 12,
    "start_time": "2022-04-03T18:53:24.463Z"
   },
   {
    "duration": 8,
    "start_time": "2022-04-03T18:53:24.476Z"
   },
   {
    "duration": 49,
    "start_time": "2022-04-03T18:53:24.485Z"
   },
   {
    "duration": 11,
    "start_time": "2022-04-03T18:53:24.536Z"
   },
   {
    "duration": 22,
    "start_time": "2022-04-03T18:53:24.549Z"
   },
   {
    "duration": 11,
    "start_time": "2022-04-03T18:53:24.572Z"
   },
   {
    "duration": 13,
    "start_time": "2022-04-03T18:53:24.584Z"
   },
   {
    "duration": 40,
    "start_time": "2022-04-03T18:53:24.599Z"
   },
   {
    "duration": 7,
    "start_time": "2022-04-03T18:53:24.641Z"
   },
   {
    "duration": 8,
    "start_time": "2022-04-03T18:53:24.650Z"
   },
   {
    "duration": 12,
    "start_time": "2022-04-03T18:53:24.660Z"
   },
   {
    "duration": 4,
    "start_time": "2022-04-03T18:53:24.673Z"
   },
   {
    "duration": 56,
    "start_time": "2022-04-03T18:53:24.679Z"
   },
   {
    "duration": 271,
    "start_time": "2022-04-03T18:53:24.736Z"
   },
   {
    "duration": 5,
    "start_time": "2022-04-03T18:53:25.009Z"
   },
   {
    "duration": 27,
    "start_time": "2022-04-03T18:53:25.015Z"
   },
   {
    "duration": 250,
    "start_time": "2022-04-03T18:53:25.044Z"
   },
   {
    "duration": 17,
    "start_time": "2022-04-03T18:53:25.295Z"
   },
   {
    "duration": 62,
    "start_time": "2022-04-03T18:53:25.313Z"
   },
   {
    "duration": 285,
    "start_time": "2022-04-03T18:53:25.377Z"
   },
   {
    "duration": 10,
    "start_time": "2022-04-03T18:53:25.663Z"
   },
   {
    "duration": 180,
    "start_time": "2022-04-03T18:53:25.674Z"
   },
   {
    "duration": 290,
    "start_time": "2022-04-03T18:53:25.857Z"
   },
   {
    "duration": 9,
    "start_time": "2022-04-03T18:53:26.149Z"
   },
   {
    "duration": 13,
    "start_time": "2022-04-03T18:53:26.159Z"
   },
   {
    "duration": 369,
    "start_time": "2022-04-03T18:53:26.174Z"
   },
   {
    "duration": 258,
    "start_time": "2022-04-03T18:53:26.544Z"
   },
   {
    "duration": 9,
    "start_time": "2022-04-03T18:53:26.804Z"
   },
   {
    "duration": 24,
    "start_time": "2022-04-03T18:53:26.814Z"
   },
   {
    "duration": 296,
    "start_time": "2022-04-03T18:53:26.840Z"
   },
   {
    "duration": 380,
    "start_time": "2022-04-03T18:53:27.137Z"
   },
   {
    "duration": 315,
    "start_time": "2022-04-03T18:53:27.519Z"
   },
   {
    "duration": 207,
    "start_time": "2022-04-03T18:53:27.835Z"
   },
   {
    "duration": 5,
    "start_time": "2022-04-03T18:53:28.043Z"
   },
   {
    "duration": 334,
    "start_time": "2022-04-03T18:53:28.050Z"
   },
   {
    "duration": 4,
    "start_time": "2022-04-03T18:53:28.386Z"
   },
   {
    "duration": 55,
    "start_time": "2022-04-03T18:53:28.392Z"
   },
   {
    "duration": 4,
    "start_time": "2022-04-03T18:53:28.448Z"
   },
   {
    "duration": 26,
    "start_time": "2022-04-03T18:53:28.453Z"
   },
   {
    "duration": 10,
    "start_time": "2022-04-03T18:53:28.480Z"
   },
   {
    "duration": 43,
    "start_time": "2022-04-03T18:53:28.493Z"
   },
   {
    "duration": 4,
    "start_time": "2022-04-03T18:53:28.538Z"
   },
   {
    "duration": 33,
    "start_time": "2022-04-03T18:53:28.544Z"
   },
   {
    "duration": 15,
    "start_time": "2022-04-03T18:53:28.579Z"
   },
   {
    "duration": 1268,
    "start_time": "2022-04-03T18:54:03.894Z"
   },
   {
    "duration": 40,
    "start_time": "2022-04-03T18:54:05.164Z"
   },
   {
    "duration": 11,
    "start_time": "2022-04-03T18:54:05.205Z"
   },
   {
    "duration": 322,
    "start_time": "2022-04-03T18:54:05.218Z"
   },
   {
    "duration": 5,
    "start_time": "2022-04-03T18:54:05.542Z"
   },
   {
    "duration": 12,
    "start_time": "2022-04-03T18:54:05.549Z"
   },
   {
    "duration": 7,
    "start_time": "2022-04-03T18:54:05.563Z"
   },
   {
    "duration": 7,
    "start_time": "2022-04-03T18:54:05.572Z"
   },
   {
    "duration": 57,
    "start_time": "2022-04-03T18:54:05.580Z"
   },
   {
    "duration": 17,
    "start_time": "2022-04-03T18:54:05.639Z"
   },
   {
    "duration": 10,
    "start_time": "2022-04-03T18:54:05.657Z"
   },
   {
    "duration": 12,
    "start_time": "2022-04-03T18:54:05.669Z"
   },
   {
    "duration": 9,
    "start_time": "2022-04-03T18:54:05.682Z"
   },
   {
    "duration": 42,
    "start_time": "2022-04-03T18:54:05.692Z"
   },
   {
    "duration": 9,
    "start_time": "2022-04-03T18:54:05.735Z"
   },
   {
    "duration": 12,
    "start_time": "2022-04-03T18:54:05.745Z"
   },
   {
    "duration": 3,
    "start_time": "2022-04-03T18:54:05.759Z"
   },
   {
    "duration": 19,
    "start_time": "2022-04-03T18:54:05.764Z"
   },
   {
    "duration": 312,
    "start_time": "2022-04-03T18:54:05.785Z"
   },
   {
    "duration": 4,
    "start_time": "2022-04-03T18:54:06.099Z"
   },
   {
    "duration": 28,
    "start_time": "2022-04-03T18:54:06.105Z"
   },
   {
    "duration": 254,
    "start_time": "2022-04-03T18:54:06.135Z"
   },
   {
    "duration": 18,
    "start_time": "2022-04-03T18:54:06.391Z"
   },
   {
    "duration": 65,
    "start_time": "2022-04-03T18:54:06.410Z"
   },
   {
    "duration": 280,
    "start_time": "2022-04-03T18:54:06.476Z"
   },
   {
    "duration": 8,
    "start_time": "2022-04-03T18:54:06.758Z"
   },
   {
    "duration": 182,
    "start_time": "2022-04-03T18:54:06.767Z"
   },
   {
    "duration": 308,
    "start_time": "2022-04-03T18:54:06.953Z"
   },
   {
    "duration": 9,
    "start_time": "2022-04-03T18:54:07.263Z"
   },
   {
    "duration": 12,
    "start_time": "2022-04-03T18:54:07.273Z"
   },
   {
    "duration": 397,
    "start_time": "2022-04-03T18:54:07.286Z"
   },
   {
    "duration": 261,
    "start_time": "2022-04-03T18:54:07.684Z"
   },
   {
    "duration": 12,
    "start_time": "2022-04-03T18:54:07.947Z"
   },
   {
    "duration": 12,
    "start_time": "2022-04-03T18:54:07.961Z"
   },
   {
    "duration": 324,
    "start_time": "2022-04-03T18:54:07.975Z"
   },
   {
    "duration": 415,
    "start_time": "2022-04-03T18:54:08.300Z"
   },
   {
    "duration": 321,
    "start_time": "2022-04-03T18:54:08.717Z"
   },
   {
    "duration": 214,
    "start_time": "2022-04-03T18:54:09.040Z"
   },
   {
    "duration": 7,
    "start_time": "2022-04-03T18:54:09.256Z"
   },
   {
    "duration": 343,
    "start_time": "2022-04-03T18:54:09.266Z"
   },
   {
    "duration": 5,
    "start_time": "2022-04-03T18:54:09.611Z"
   },
   {
    "duration": 24,
    "start_time": "2022-04-03T18:54:09.633Z"
   },
   {
    "duration": 3,
    "start_time": "2022-04-03T18:54:09.659Z"
   },
   {
    "duration": 24,
    "start_time": "2022-04-03T18:54:09.664Z"
   },
   {
    "duration": 43,
    "start_time": "2022-04-03T18:54:09.690Z"
   },
   {
    "duration": 14,
    "start_time": "2022-04-03T18:54:09.735Z"
   },
   {
    "duration": 3,
    "start_time": "2022-04-03T18:54:09.751Z"
   },
   {
    "duration": 23,
    "start_time": "2022-04-03T18:54:09.756Z"
   },
   {
    "duration": 14,
    "start_time": "2022-04-03T18:54:09.781Z"
   },
   {
    "duration": 1186,
    "start_time": "2022-04-03T18:57:47.647Z"
   },
   {
    "duration": 43,
    "start_time": "2022-04-03T18:57:48.835Z"
   },
   {
    "duration": 10,
    "start_time": "2022-04-03T18:57:48.879Z"
   },
   {
    "duration": 284,
    "start_time": "2022-04-03T18:57:48.891Z"
   },
   {
    "duration": 4,
    "start_time": "2022-04-03T18:57:49.177Z"
   },
   {
    "duration": 55,
    "start_time": "2022-04-03T18:57:49.183Z"
   },
   {
    "duration": 7,
    "start_time": "2022-04-03T18:57:49.240Z"
   },
   {
    "duration": 7,
    "start_time": "2022-04-03T18:57:49.249Z"
   },
   {
    "duration": 12,
    "start_time": "2022-04-03T18:57:49.258Z"
   },
   {
    "duration": 17,
    "start_time": "2022-04-03T18:57:49.272Z"
   },
   {
    "duration": 52,
    "start_time": "2022-04-03T18:57:49.291Z"
   },
   {
    "duration": 15,
    "start_time": "2022-04-03T18:57:49.344Z"
   },
   {
    "duration": 8,
    "start_time": "2022-04-03T18:57:49.361Z"
   },
   {
    "duration": 6,
    "start_time": "2022-04-03T18:57:49.371Z"
   },
   {
    "duration": 7,
    "start_time": "2022-04-03T18:57:49.378Z"
   },
   {
    "duration": 49,
    "start_time": "2022-04-03T18:57:49.387Z"
   },
   {
    "duration": 4,
    "start_time": "2022-04-03T18:57:49.437Z"
   },
   {
    "duration": 23,
    "start_time": "2022-04-03T18:57:49.443Z"
   },
   {
    "duration": 280,
    "start_time": "2022-04-03T18:57:49.468Z"
   },
   {
    "duration": 5,
    "start_time": "2022-04-03T18:57:49.749Z"
   },
   {
    "duration": 16,
    "start_time": "2022-04-03T18:57:49.755Z"
   },
   {
    "duration": 260,
    "start_time": "2022-04-03T18:57:49.773Z"
   },
   {
    "duration": 18,
    "start_time": "2022-04-03T18:57:50.034Z"
   },
   {
    "duration": 46,
    "start_time": "2022-04-03T18:57:50.054Z"
   },
   {
    "duration": 288,
    "start_time": "2022-04-03T18:57:50.102Z"
   },
   {
    "duration": 8,
    "start_time": "2022-04-03T18:57:50.392Z"
   },
   {
    "duration": 174,
    "start_time": "2022-04-03T18:57:50.402Z"
   },
   {
    "duration": 302,
    "start_time": "2022-04-03T18:57:50.580Z"
   },
   {
    "duration": 9,
    "start_time": "2022-04-03T18:57:50.884Z"
   },
   {
    "duration": 11,
    "start_time": "2022-04-03T18:57:50.894Z"
   },
   {
    "duration": 378,
    "start_time": "2022-04-03T18:57:50.907Z"
   },
   {
    "duration": 255,
    "start_time": "2022-04-03T18:57:51.287Z"
   },
   {
    "duration": 6,
    "start_time": "2022-04-03T18:57:51.544Z"
   },
   {
    "duration": 13,
    "start_time": "2022-04-03T18:57:51.551Z"
   },
   {
    "duration": 16,
    "start_time": "2022-04-03T18:57:51.565Z"
   },
   {
    "duration": 297,
    "start_time": "2022-04-03T18:57:51.583Z"
   },
   {
    "duration": 369,
    "start_time": "2022-04-03T18:57:51.882Z"
   },
   {
    "duration": 307,
    "start_time": "2022-04-03T18:57:52.253Z"
   },
   {
    "duration": 214,
    "start_time": "2022-04-03T18:57:52.561Z"
   },
   {
    "duration": 7,
    "start_time": "2022-04-03T18:57:52.776Z"
   },
   {
    "duration": 336,
    "start_time": "2022-04-03T18:57:52.784Z"
   },
   {
    "duration": 12,
    "start_time": "2022-04-03T18:57:53.122Z"
   },
   {
    "duration": 24,
    "start_time": "2022-04-03T18:57:53.136Z"
   },
   {
    "duration": 3,
    "start_time": "2022-04-03T18:57:53.162Z"
   },
   {
    "duration": 27,
    "start_time": "2022-04-03T18:57:53.167Z"
   },
   {
    "duration": 42,
    "start_time": "2022-04-03T18:57:53.196Z"
   },
   {
    "duration": 13,
    "start_time": "2022-04-03T18:57:53.240Z"
   },
   {
    "duration": 4,
    "start_time": "2022-04-03T18:57:53.255Z"
   },
   {
    "duration": 22,
    "start_time": "2022-04-03T18:57:53.260Z"
   },
   {
    "duration": 49,
    "start_time": "2022-04-03T18:57:53.284Z"
   },
   {
    "duration": 1546,
    "start_time": "2022-04-03T19:07:56.242Z"
   },
   {
    "duration": 39,
    "start_time": "2022-04-03T19:07:57.790Z"
   },
   {
    "duration": 11,
    "start_time": "2022-04-03T19:07:57.831Z"
   },
   {
    "duration": 394,
    "start_time": "2022-04-03T19:07:57.843Z"
   },
   {
    "duration": 5,
    "start_time": "2022-04-03T19:07:58.239Z"
   },
   {
    "duration": 12,
    "start_time": "2022-04-03T19:07:58.246Z"
   },
   {
    "duration": 9,
    "start_time": "2022-04-03T19:07:58.259Z"
   },
   {
    "duration": 6,
    "start_time": "2022-04-03T19:07:58.269Z"
   },
   {
    "duration": 56,
    "start_time": "2022-04-03T19:07:58.277Z"
   },
   {
    "duration": 21,
    "start_time": "2022-04-03T19:07:58.334Z"
   },
   {
    "duration": 12,
    "start_time": "2022-04-03T19:07:58.357Z"
   },
   {
    "duration": 18,
    "start_time": "2022-04-03T19:07:58.371Z"
   },
   {
    "duration": 15,
    "start_time": "2022-04-03T19:07:58.392Z"
   },
   {
    "duration": 8,
    "start_time": "2022-04-03T19:07:58.437Z"
   },
   {
    "duration": 12,
    "start_time": "2022-04-03T19:07:58.446Z"
   },
   {
    "duration": 17,
    "start_time": "2022-04-03T19:07:58.459Z"
   },
   {
    "duration": 4,
    "start_time": "2022-04-03T19:07:58.478Z"
   },
   {
    "duration": 59,
    "start_time": "2022-04-03T19:07:58.485Z"
   },
   {
    "duration": 305,
    "start_time": "2022-04-03T19:07:58.546Z"
   },
   {
    "duration": 8,
    "start_time": "2022-04-03T19:07:58.853Z"
   },
   {
    "duration": 14,
    "start_time": "2022-04-03T19:07:58.862Z"
   },
   {
    "duration": 301,
    "start_time": "2022-04-03T19:07:58.878Z"
   },
   {
    "duration": 20,
    "start_time": "2022-04-03T19:07:59.181Z"
   },
   {
    "duration": 77,
    "start_time": "2022-04-03T19:07:59.203Z"
   },
   {
    "duration": 350,
    "start_time": "2022-04-03T19:07:59.283Z"
   },
   {
    "duration": 13,
    "start_time": "2022-04-03T19:07:59.635Z"
   },
   {
    "duration": 216,
    "start_time": "2022-04-03T19:07:59.650Z"
   },
   {
    "duration": 338,
    "start_time": "2022-04-03T19:07:59.868Z"
   },
   {
    "duration": 14,
    "start_time": "2022-04-03T19:08:00.208Z"
   },
   {
    "duration": 15,
    "start_time": "2022-04-03T19:08:00.233Z"
   },
   {
    "duration": 611,
    "start_time": "2022-04-03T19:08:00.250Z"
   },
   {
    "duration": 349,
    "start_time": "2022-04-03T19:08:00.863Z"
   },
   {
    "duration": 6,
    "start_time": "2022-04-03T19:08:01.216Z"
   },
   {
    "duration": 10,
    "start_time": "2022-04-03T19:08:01.233Z"
   },
   {
    "duration": 17,
    "start_time": "2022-04-03T19:08:01.245Z"
   },
   {
    "duration": 388,
    "start_time": "2022-04-03T19:08:01.264Z"
   },
   {
    "duration": 440,
    "start_time": "2022-04-03T19:08:01.654Z"
   },
   {
    "duration": 9,
    "start_time": "2022-04-03T19:08:02.096Z"
   },
   {
    "duration": 33,
    "start_time": "2022-04-03T19:08:02.107Z"
   },
   {
    "duration": 12,
    "start_time": "2022-04-03T19:08:02.142Z"
   },
   {
    "duration": 390,
    "start_time": "2022-04-03T19:08:02.159Z"
   },
   {
    "duration": 241,
    "start_time": "2022-04-03T19:08:02.551Z"
   },
   {
    "duration": 7,
    "start_time": "2022-04-03T19:08:02.794Z"
   },
   {
    "duration": 389,
    "start_time": "2022-04-03T19:08:02.803Z"
   },
   {
    "duration": 9,
    "start_time": "2022-04-03T19:08:03.194Z"
   },
   {
    "duration": 46,
    "start_time": "2022-04-03T19:08:03.205Z"
   },
   {
    "duration": 4,
    "start_time": "2022-04-03T19:08:03.253Z"
   },
   {
    "duration": 33,
    "start_time": "2022-04-03T19:08:03.259Z"
   },
   {
    "duration": 41,
    "start_time": "2022-04-03T19:08:03.294Z"
   },
   {
    "duration": 15,
    "start_time": "2022-04-03T19:08:03.337Z"
   },
   {
    "duration": 4,
    "start_time": "2022-04-03T19:08:03.353Z"
   },
   {
    "duration": 29,
    "start_time": "2022-04-03T19:08:03.359Z"
   },
   {
    "duration": 44,
    "start_time": "2022-04-03T19:08:03.389Z"
   },
   {
    "duration": 1244,
    "start_time": "2022-04-03T19:12:56.676Z"
   },
   {
    "duration": 45,
    "start_time": "2022-04-03T19:12:57.922Z"
   },
   {
    "duration": 21,
    "start_time": "2022-04-03T19:12:57.969Z"
   },
   {
    "duration": 345,
    "start_time": "2022-04-03T19:12:57.992Z"
   },
   {
    "duration": 5,
    "start_time": "2022-04-03T19:12:58.339Z"
   },
   {
    "duration": 13,
    "start_time": "2022-04-03T19:12:58.346Z"
   },
   {
    "duration": 7,
    "start_time": "2022-04-03T19:12:58.360Z"
   },
   {
    "duration": 7,
    "start_time": "2022-04-03T19:12:58.368Z"
   },
   {
    "duration": 58,
    "start_time": "2022-04-03T19:12:58.377Z"
   },
   {
    "duration": 18,
    "start_time": "2022-04-03T19:12:58.439Z"
   },
   {
    "duration": 12,
    "start_time": "2022-04-03T19:12:58.459Z"
   },
   {
    "duration": 14,
    "start_time": "2022-04-03T19:12:58.473Z"
   },
   {
    "duration": 47,
    "start_time": "2022-04-03T19:12:58.489Z"
   },
   {
    "duration": 9,
    "start_time": "2022-04-03T19:12:58.538Z"
   },
   {
    "duration": 11,
    "start_time": "2022-04-03T19:12:58.549Z"
   },
   {
    "duration": 14,
    "start_time": "2022-04-03T19:12:58.562Z"
   },
   {
    "duration": 7,
    "start_time": "2022-04-03T19:12:58.578Z"
   },
   {
    "duration": 57,
    "start_time": "2022-04-03T19:12:58.587Z"
   },
   {
    "duration": 286,
    "start_time": "2022-04-03T19:12:58.645Z"
   },
   {
    "duration": 4,
    "start_time": "2022-04-03T19:12:58.933Z"
   },
   {
    "duration": 13,
    "start_time": "2022-04-03T19:12:58.939Z"
   },
   {
    "duration": 267,
    "start_time": "2022-04-03T19:12:58.953Z"
   },
   {
    "duration": 21,
    "start_time": "2022-04-03T19:12:59.222Z"
   },
   {
    "duration": 51,
    "start_time": "2022-04-03T19:12:59.244Z"
   },
   {
    "duration": 296,
    "start_time": "2022-04-03T19:12:59.297Z"
   },
   {
    "duration": 10,
    "start_time": "2022-04-03T19:12:59.594Z"
   },
   {
    "duration": 185,
    "start_time": "2022-04-03T19:12:59.605Z"
   },
   {
    "duration": 302,
    "start_time": "2022-04-03T19:12:59.794Z"
   },
   {
    "duration": 8,
    "start_time": "2022-04-03T19:13:00.098Z"
   },
   {
    "duration": 25,
    "start_time": "2022-04-03T19:13:00.108Z"
   },
   {
    "duration": 401,
    "start_time": "2022-04-03T19:13:00.135Z"
   },
   {
    "duration": 394,
    "start_time": "2022-04-03T19:13:00.539Z"
   },
   {
    "duration": 9,
    "start_time": "2022-04-03T19:13:00.935Z"
   },
   {
    "duration": 16,
    "start_time": "2022-04-03T19:13:00.946Z"
   },
   {
    "duration": 16,
    "start_time": "2022-04-03T19:13:00.964Z"
   },
   {
    "duration": 321,
    "start_time": "2022-04-03T19:13:00.982Z"
   },
   {
    "duration": 419,
    "start_time": "2022-04-03T19:13:01.304Z"
   },
   {
    "duration": 6,
    "start_time": "2022-04-03T19:13:01.732Z"
   },
   {
    "duration": 13,
    "start_time": "2022-04-03T19:13:01.740Z"
   },
   {
    "duration": 13,
    "start_time": "2022-04-03T19:13:01.755Z"
   },
   {
    "duration": 321,
    "start_time": "2022-04-03T19:13:01.770Z"
   },
   {
    "duration": 211,
    "start_time": "2022-04-03T19:13:02.093Z"
   },
   {
    "duration": 6,
    "start_time": "2022-04-03T19:13:02.306Z"
   },
   {
    "duration": 551,
    "start_time": "2022-04-03T19:13:02.314Z"
   },
   {
    "duration": 6,
    "start_time": "2022-04-03T19:13:02.867Z"
   },
   {
    "duration": 58,
    "start_time": "2022-04-03T19:13:02.875Z"
   },
   {
    "duration": 5,
    "start_time": "2022-04-03T19:13:02.935Z"
   },
   {
    "duration": 36,
    "start_time": "2022-04-03T19:13:02.942Z"
   },
   {
    "duration": 14,
    "start_time": "2022-04-03T19:13:02.980Z"
   },
   {
    "duration": 49,
    "start_time": "2022-04-03T19:13:02.996Z"
   },
   {
    "duration": 7,
    "start_time": "2022-04-03T19:13:03.047Z"
   },
   {
    "duration": 37,
    "start_time": "2022-04-03T19:13:03.056Z"
   },
   {
    "duration": 43,
    "start_time": "2022-04-03T19:13:03.095Z"
   },
   {
    "duration": 2001,
    "start_time": "2022-04-03T19:24:19.650Z"
   },
   {
    "duration": 5,
    "start_time": "2022-04-03T19:25:03.706Z"
   },
   {
    "duration": 7,
    "start_time": "2022-04-03T19:25:23.377Z"
   },
   {
    "duration": 3,
    "start_time": "2022-04-03T19:25:41.992Z"
   },
   {
    "duration": 14,
    "start_time": "2022-04-03T19:26:25.211Z"
   },
   {
    "duration": 109,
    "start_time": "2022-04-03T19:27:57.743Z"
   },
   {
    "duration": 118,
    "start_time": "2022-04-03T19:28:34.322Z"
   },
   {
    "duration": 13,
    "start_time": "2022-04-03T19:28:57.937Z"
   },
   {
    "duration": 1262,
    "start_time": "2022-04-03T19:29:32.412Z"
   },
   {
    "duration": 43,
    "start_time": "2022-04-03T19:29:33.676Z"
   },
   {
    "duration": 11,
    "start_time": "2022-04-03T19:29:33.721Z"
   },
   {
    "duration": 334,
    "start_time": "2022-04-03T19:29:33.734Z"
   },
   {
    "duration": 5,
    "start_time": "2022-04-03T19:29:34.070Z"
   },
   {
    "duration": 12,
    "start_time": "2022-04-03T19:29:34.076Z"
   },
   {
    "duration": 47,
    "start_time": "2022-04-03T19:29:34.090Z"
   },
   {
    "duration": 5,
    "start_time": "2022-04-03T19:29:34.139Z"
   },
   {
    "duration": 14,
    "start_time": "2022-04-03T19:29:34.146Z"
   },
   {
    "duration": 18,
    "start_time": "2022-04-03T19:29:34.163Z"
   },
   {
    "duration": 10,
    "start_time": "2022-04-03T19:29:34.183Z"
   },
   {
    "duration": 12,
    "start_time": "2022-04-03T19:29:34.233Z"
   },
   {
    "duration": 10,
    "start_time": "2022-04-03T19:29:34.246Z"
   },
   {
    "duration": 7,
    "start_time": "2022-04-03T19:29:34.257Z"
   },
   {
    "duration": 8,
    "start_time": "2022-04-03T19:29:34.265Z"
   },
   {
    "duration": 13,
    "start_time": "2022-04-03T19:29:34.274Z"
   },
   {
    "duration": 44,
    "start_time": "2022-04-03T19:29:34.289Z"
   },
   {
    "duration": 20,
    "start_time": "2022-04-03T19:29:34.336Z"
   },
   {
    "duration": 292,
    "start_time": "2022-04-03T19:29:34.358Z"
   },
   {
    "duration": 6,
    "start_time": "2022-04-03T19:29:34.653Z"
   },
   {
    "duration": 13,
    "start_time": "2022-04-03T19:29:34.661Z"
   },
   {
    "duration": 279,
    "start_time": "2022-04-03T19:29:34.676Z"
   },
   {
    "duration": 21,
    "start_time": "2022-04-03T19:29:34.957Z"
   },
   {
    "duration": 76,
    "start_time": "2022-04-03T19:29:34.980Z"
   },
   {
    "duration": 274,
    "start_time": "2022-04-03T19:29:35.058Z"
   },
   {
    "duration": 9,
    "start_time": "2022-04-03T19:29:35.334Z"
   },
   {
    "duration": 178,
    "start_time": "2022-04-03T19:29:35.345Z"
   },
   {
    "duration": 278,
    "start_time": "2022-04-03T19:29:35.526Z"
   },
   {
    "duration": 9,
    "start_time": "2022-04-03T19:29:35.806Z"
   },
   {
    "duration": 21,
    "start_time": "2022-04-03T19:29:35.817Z"
   },
   {
    "duration": 373,
    "start_time": "2022-04-03T19:29:35.840Z"
   },
   {
    "duration": 262,
    "start_time": "2022-04-03T19:29:36.214Z"
   },
   {
    "duration": 6,
    "start_time": "2022-04-03T19:29:36.478Z"
   },
   {
    "duration": 19,
    "start_time": "2022-04-03T19:29:36.485Z"
   },
   {
    "duration": 28,
    "start_time": "2022-04-03T19:29:36.506Z"
   },
   {
    "duration": 290,
    "start_time": "2022-04-03T19:29:36.536Z"
   },
   {
    "duration": 397,
    "start_time": "2022-04-03T19:29:36.832Z"
   },
   {
    "duration": 6,
    "start_time": "2022-04-03T19:29:37.232Z"
   },
   {
    "duration": 15,
    "start_time": "2022-04-03T19:29:37.240Z"
   },
   {
    "duration": 18,
    "start_time": "2022-04-03T19:29:37.257Z"
   },
   {
    "duration": 304,
    "start_time": "2022-04-03T19:29:37.277Z"
   },
   {
    "duration": 7,
    "start_time": "2022-04-03T19:29:37.583Z"
   },
   {
    "duration": 9,
    "start_time": "2022-04-03T19:29:37.592Z"
   },
   {
    "duration": 4,
    "start_time": "2022-04-03T19:29:37.602Z"
   },
   {
    "duration": 34,
    "start_time": "2022-04-03T19:29:37.608Z"
   },
   {
    "duration": 196,
    "start_time": "2022-04-03T19:29:37.644Z"
   },
   {
    "duration": 5,
    "start_time": "2022-04-03T19:29:37.842Z"
   },
   {
    "duration": 319,
    "start_time": "2022-04-03T19:29:37.848Z"
   },
   {
    "duration": 5,
    "start_time": "2022-04-03T19:29:38.168Z"
   },
   {
    "duration": 24,
    "start_time": "2022-04-03T19:29:38.175Z"
   },
   {
    "duration": 3,
    "start_time": "2022-04-03T19:29:38.200Z"
   },
   {
    "duration": 22,
    "start_time": "2022-04-03T19:29:38.234Z"
   },
   {
    "duration": 11,
    "start_time": "2022-04-03T19:29:38.258Z"
   },
   {
    "duration": 14,
    "start_time": "2022-04-03T19:29:38.271Z"
   },
   {
    "duration": 5,
    "start_time": "2022-04-03T19:29:38.287Z"
   },
   {
    "duration": 59,
    "start_time": "2022-04-03T19:29:38.293Z"
   },
   {
    "duration": 13,
    "start_time": "2022-04-03T19:29:38.354Z"
   },
   {
    "duration": 16,
    "start_time": "2022-04-03T19:31:09.258Z"
   },
   {
    "duration": 230,
    "start_time": "2022-04-03T19:32:27.289Z"
   },
   {
    "duration": 175,
    "start_time": "2022-04-03T19:32:35.754Z"
   },
   {
    "duration": 182,
    "start_time": "2022-04-03T19:33:01.094Z"
   },
   {
    "duration": 183,
    "start_time": "2022-04-03T19:33:11.286Z"
   },
   {
    "duration": 6,
    "start_time": "2022-04-03T19:36:11.398Z"
   },
   {
    "duration": 5,
    "start_time": "2022-04-03T19:36:53.611Z"
   },
   {
    "duration": 6,
    "start_time": "2022-04-03T19:37:21.643Z"
   },
   {
    "duration": 5,
    "start_time": "2022-04-03T19:38:14.405Z"
   },
   {
    "duration": 179,
    "start_time": "2022-04-03T19:40:51.383Z"
   },
   {
    "duration": 15,
    "start_time": "2022-04-03T19:41:26.416Z"
   },
   {
    "duration": 293,
    "start_time": "2022-04-03T19:42:07.018Z"
   },
   {
    "duration": 1163,
    "start_time": "2022-04-03T19:42:53.680Z"
   },
   {
    "duration": 39,
    "start_time": "2022-04-03T19:42:54.845Z"
   },
   {
    "duration": 11,
    "start_time": "2022-04-03T19:42:54.886Z"
   },
   {
    "duration": 335,
    "start_time": "2022-04-03T19:42:54.899Z"
   },
   {
    "duration": 5,
    "start_time": "2022-04-03T19:42:55.236Z"
   },
   {
    "duration": 12,
    "start_time": "2022-04-03T19:42:55.242Z"
   },
   {
    "duration": 8,
    "start_time": "2022-04-03T19:42:55.256Z"
   },
   {
    "duration": 8,
    "start_time": "2022-04-03T19:42:55.266Z"
   },
   {
    "duration": 12,
    "start_time": "2022-04-03T19:42:55.275Z"
   },
   {
    "duration": 18,
    "start_time": "2022-04-03T19:42:55.334Z"
   },
   {
    "duration": 11,
    "start_time": "2022-04-03T19:42:55.354Z"
   },
   {
    "duration": 14,
    "start_time": "2022-04-03T19:42:55.367Z"
   },
   {
    "duration": 9,
    "start_time": "2022-04-03T19:42:55.382Z"
   },
   {
    "duration": 44,
    "start_time": "2022-04-03T19:42:55.393Z"
   },
   {
    "duration": 8,
    "start_time": "2022-04-03T19:42:55.439Z"
   },
   {
    "duration": 12,
    "start_time": "2022-04-03T19:42:55.449Z"
   },
   {
    "duration": 6,
    "start_time": "2022-04-03T19:42:55.463Z"
   },
   {
    "duration": 21,
    "start_time": "2022-04-03T19:42:55.471Z"
   },
   {
    "duration": 300,
    "start_time": "2022-04-03T19:42:55.493Z"
   },
   {
    "duration": 5,
    "start_time": "2022-04-03T19:42:55.795Z"
   },
   {
    "duration": 13,
    "start_time": "2022-04-03T19:42:55.801Z"
   },
   {
    "duration": 254,
    "start_time": "2022-04-03T19:42:55.833Z"
   },
   {
    "duration": 19,
    "start_time": "2022-04-03T19:42:56.089Z"
   },
   {
    "duration": 66,
    "start_time": "2022-04-03T19:42:56.110Z"
   },
   {
    "duration": 290,
    "start_time": "2022-04-03T19:42:56.177Z"
   },
   {
    "duration": 10,
    "start_time": "2022-04-03T19:42:56.469Z"
   },
   {
    "duration": 181,
    "start_time": "2022-04-03T19:42:56.480Z"
   },
   {
    "duration": 283,
    "start_time": "2022-04-03T19:42:56.665Z"
   },
   {
    "duration": 8,
    "start_time": "2022-04-03T19:42:56.950Z"
   },
   {
    "duration": 14,
    "start_time": "2022-04-03T19:42:56.960Z"
   },
   {
    "duration": 378,
    "start_time": "2022-04-03T19:42:56.976Z"
   },
   {
    "duration": 257,
    "start_time": "2022-04-03T19:42:57.356Z"
   },
   {
    "duration": 7,
    "start_time": "2022-04-03T19:42:57.614Z"
   },
   {
    "duration": 13,
    "start_time": "2022-04-03T19:42:57.632Z"
   },
   {
    "duration": 14,
    "start_time": "2022-04-03T19:42:57.647Z"
   },
   {
    "duration": 308,
    "start_time": "2022-04-03T19:42:57.663Z"
   },
   {
    "duration": 366,
    "start_time": "2022-04-03T19:42:57.973Z"
   },
   {
    "duration": 6,
    "start_time": "2022-04-03T19:42:58.341Z"
   },
   {
    "duration": 13,
    "start_time": "2022-04-03T19:42:58.350Z"
   },
   {
    "duration": 12,
    "start_time": "2022-04-03T19:42:58.365Z"
   },
   {
    "duration": 327,
    "start_time": "2022-04-03T19:42:58.379Z"
   },
   {
    "duration": 7,
    "start_time": "2022-04-03T19:42:58.707Z"
   },
   {
    "duration": 18,
    "start_time": "2022-04-03T19:42:58.716Z"
   },
   {
    "duration": 15,
    "start_time": "2022-04-03T19:42:58.736Z"
   },
   {
    "duration": 199,
    "start_time": "2022-04-03T19:42:58.752Z"
   },
   {
    "duration": 196,
    "start_time": "2022-04-03T19:42:58.953Z"
   },
   {
    "duration": 5,
    "start_time": "2022-04-03T19:42:59.151Z"
   },
   {
    "duration": 201,
    "start_time": "2022-04-03T19:42:59.157Z"
   },
   {
    "duration": 314,
    "start_time": "2022-04-03T19:42:59.359Z"
   },
   {
    "duration": 6,
    "start_time": "2022-04-03T19:42:59.674Z"
   },
   {
    "duration": 25,
    "start_time": "2022-04-03T19:42:59.681Z"
   },
   {
    "duration": 27,
    "start_time": "2022-04-03T19:42:59.708Z"
   },
   {
    "duration": 27,
    "start_time": "2022-04-03T19:42:59.737Z"
   },
   {
    "duration": 11,
    "start_time": "2022-04-03T19:42:59.765Z"
   },
   {
    "duration": 13,
    "start_time": "2022-04-03T19:42:59.778Z"
   },
   {
    "duration": 8,
    "start_time": "2022-04-03T19:42:59.793Z"
   },
   {
    "duration": 23,
    "start_time": "2022-04-03T19:42:59.832Z"
   },
   {
    "duration": 13,
    "start_time": "2022-04-03T19:42:59.856Z"
   },
   {
    "duration": 296,
    "start_time": "2022-04-03T19:45:36.352Z"
   },
   {
    "duration": 311,
    "start_time": "2022-04-03T19:45:49.422Z"
   },
   {
    "duration": 395,
    "start_time": "2022-04-03T19:45:58.762Z"
   },
   {
    "duration": 309,
    "start_time": "2022-04-03T19:46:06.881Z"
   },
   {
    "duration": 295,
    "start_time": "2022-04-03T19:46:14.150Z"
   },
   {
    "duration": 301,
    "start_time": "2022-04-03T19:46:29.923Z"
   },
   {
    "duration": 326,
    "start_time": "2022-04-03T19:53:43.444Z"
   },
   {
    "duration": 305,
    "start_time": "2022-04-03T19:53:54.551Z"
   },
   {
    "duration": 309,
    "start_time": "2022-04-03T19:54:03.608Z"
   },
   {
    "duration": 7,
    "start_time": "2022-04-03T19:55:45.682Z"
   },
   {
    "duration": 110,
    "start_time": "2022-04-03T20:02:39.829Z"
   },
   {
    "duration": 131,
    "start_time": "2022-04-03T20:03:13.874Z"
   },
   {
    "duration": 123,
    "start_time": "2022-04-03T20:04:51.523Z"
   },
   {
    "duration": 18,
    "start_time": "2022-04-03T20:07:20.458Z"
   },
   {
    "duration": 19,
    "start_time": "2022-04-03T20:07:42.732Z"
   },
   {
    "duration": 1261,
    "start_time": "2022-04-03T20:09:32.310Z"
   },
   {
    "duration": 37,
    "start_time": "2022-04-03T20:09:33.573Z"
   },
   {
    "duration": 10,
    "start_time": "2022-04-03T20:09:33.612Z"
   },
   {
    "duration": 325,
    "start_time": "2022-04-03T20:09:33.624Z"
   },
   {
    "duration": 6,
    "start_time": "2022-04-03T20:09:33.951Z"
   },
   {
    "duration": 12,
    "start_time": "2022-04-03T20:09:33.958Z"
   },
   {
    "duration": 7,
    "start_time": "2022-04-03T20:09:33.972Z"
   },
   {
    "duration": 52,
    "start_time": "2022-04-03T20:09:33.981Z"
   },
   {
    "duration": 10,
    "start_time": "2022-04-03T20:09:34.035Z"
   },
   {
    "duration": 16,
    "start_time": "2022-04-03T20:09:34.048Z"
   },
   {
    "duration": 9,
    "start_time": "2022-04-03T20:09:34.066Z"
   },
   {
    "duration": 14,
    "start_time": "2022-04-03T20:09:34.076Z"
   },
   {
    "duration": 46,
    "start_time": "2022-04-03T20:09:34.091Z"
   },
   {
    "duration": 8,
    "start_time": "2022-04-03T20:09:34.139Z"
   },
   {
    "duration": 8,
    "start_time": "2022-04-03T20:09:34.149Z"
   },
   {
    "duration": 12,
    "start_time": "2022-04-03T20:09:34.158Z"
   },
   {
    "duration": 3,
    "start_time": "2022-04-03T20:09:34.172Z"
   },
   {
    "duration": 19,
    "start_time": "2022-04-03T20:09:34.177Z"
   },
   {
    "duration": 270,
    "start_time": "2022-04-03T20:09:34.234Z"
   },
   {
    "duration": 5,
    "start_time": "2022-04-03T20:09:34.506Z"
   },
   {
    "duration": 28,
    "start_time": "2022-04-03T20:09:34.512Z"
   },
   {
    "duration": 246,
    "start_time": "2022-04-03T20:09:34.541Z"
   },
   {
    "duration": 18,
    "start_time": "2022-04-03T20:09:34.788Z"
   },
   {
    "duration": 63,
    "start_time": "2022-04-03T20:09:34.808Z"
   },
   {
    "duration": 278,
    "start_time": "2022-04-03T20:09:34.872Z"
   },
   {
    "duration": 9,
    "start_time": "2022-04-03T20:09:35.152Z"
   },
   {
    "duration": 179,
    "start_time": "2022-04-03T20:09:35.162Z"
   },
   {
    "duration": 283,
    "start_time": "2022-04-03T20:09:35.345Z"
   },
   {
    "duration": 8,
    "start_time": "2022-04-03T20:09:35.630Z"
   },
   {
    "duration": 13,
    "start_time": "2022-04-03T20:09:35.640Z"
   },
   {
    "duration": 371,
    "start_time": "2022-04-03T20:09:35.655Z"
   },
   {
    "duration": 254,
    "start_time": "2022-04-03T20:09:36.032Z"
   },
   {
    "duration": 6,
    "start_time": "2022-04-03T20:09:36.287Z"
   },
   {
    "duration": 12,
    "start_time": "2022-04-03T20:09:36.295Z"
   },
   {
    "duration": 28,
    "start_time": "2022-04-03T20:09:36.308Z"
   },
   {
    "duration": 287,
    "start_time": "2022-04-03T20:09:36.337Z"
   },
   {
    "duration": 409,
    "start_time": "2022-04-03T20:09:36.626Z"
   },
   {
    "duration": 6,
    "start_time": "2022-04-03T20:09:37.037Z"
   },
   {
    "duration": 18,
    "start_time": "2022-04-03T20:09:37.045Z"
   },
   {
    "duration": 12,
    "start_time": "2022-04-03T20:09:37.065Z"
   },
   {
    "duration": 311,
    "start_time": "2022-04-03T20:09:37.079Z"
   },
   {
    "duration": 7,
    "start_time": "2022-04-03T20:09:37.392Z"
   },
   {
    "duration": 5,
    "start_time": "2022-04-03T20:09:37.401Z"
   },
   {
    "duration": 33,
    "start_time": "2022-04-03T20:09:37.408Z"
   },
   {
    "duration": 190,
    "start_time": "2022-04-03T20:09:37.443Z"
   },
   {
    "duration": 215,
    "start_time": "2022-04-03T20:09:37.634Z"
   },
   {
    "duration": 5,
    "start_time": "2022-04-03T20:09:37.851Z"
   },
   {
    "duration": 361,
    "start_time": "2022-04-03T20:09:37.858Z"
   },
   {
    "duration": 14,
    "start_time": "2022-04-03T20:09:38.220Z"
   },
   {
    "duration": 24,
    "start_time": "2022-04-03T20:09:38.239Z"
   },
   {
    "duration": 3,
    "start_time": "2022-04-03T20:09:38.265Z"
   },
   {
    "duration": 24,
    "start_time": "2022-04-03T20:09:38.270Z"
   },
   {
    "duration": 42,
    "start_time": "2022-04-03T20:09:38.295Z"
   },
   {
    "duration": 17,
    "start_time": "2022-04-03T20:09:38.340Z"
   },
   {
    "duration": 4,
    "start_time": "2022-04-03T20:09:38.358Z"
   },
   {
    "duration": 24,
    "start_time": "2022-04-03T20:09:38.363Z"
   },
   {
    "duration": 44,
    "start_time": "2022-04-03T20:09:38.389Z"
   },
   {
    "duration": 23,
    "start_time": "2022-04-03T20:11:03.807Z"
   },
   {
    "duration": 1220,
    "start_time": "2022-04-03T20:11:21.962Z"
   },
   {
    "duration": 47,
    "start_time": "2022-04-03T20:11:23.184Z"
   },
   {
    "duration": 18,
    "start_time": "2022-04-03T20:11:23.233Z"
   },
   {
    "duration": 321,
    "start_time": "2022-04-03T20:11:23.253Z"
   },
   {
    "duration": 4,
    "start_time": "2022-04-03T20:11:23.575Z"
   },
   {
    "duration": 55,
    "start_time": "2022-04-03T20:11:23.581Z"
   },
   {
    "duration": 5,
    "start_time": "2022-04-03T20:11:23.638Z"
   },
   {
    "duration": 8,
    "start_time": "2022-04-03T20:11:23.645Z"
   },
   {
    "duration": 10,
    "start_time": "2022-04-03T20:11:23.655Z"
   },
   {
    "duration": 16,
    "start_time": "2022-04-03T20:11:23.668Z"
   },
   {
    "duration": 9,
    "start_time": "2022-04-03T20:11:23.686Z"
   },
   {
    "duration": 12,
    "start_time": "2022-04-03T20:11:23.732Z"
   },
   {
    "duration": 8,
    "start_time": "2022-04-03T20:11:23.746Z"
   },
   {
    "duration": 10,
    "start_time": "2022-04-03T20:11:23.755Z"
   },
   {
    "duration": 12,
    "start_time": "2022-04-03T20:11:23.767Z"
   },
   {
    "duration": 11,
    "start_time": "2022-04-03T20:11:23.781Z"
   },
   {
    "duration": 4,
    "start_time": "2022-04-03T20:11:23.794Z"
   },
   {
    "duration": 20,
    "start_time": "2022-04-03T20:11:23.832Z"
   },
   {
    "duration": 283,
    "start_time": "2022-04-03T20:11:23.854Z"
   },
   {
    "duration": 5,
    "start_time": "2022-04-03T20:11:24.139Z"
   },
   {
    "duration": 14,
    "start_time": "2022-04-03T20:11:24.146Z"
   },
   {
    "duration": 262,
    "start_time": "2022-04-03T20:11:24.161Z"
   },
   {
    "duration": 18,
    "start_time": "2022-04-03T20:11:24.425Z"
   },
   {
    "duration": 45,
    "start_time": "2022-04-03T20:11:24.444Z"
   },
   {
    "duration": 292,
    "start_time": "2022-04-03T20:11:24.491Z"
   },
   {
    "duration": 9,
    "start_time": "2022-04-03T20:11:24.785Z"
   },
   {
    "duration": 179,
    "start_time": "2022-04-03T20:11:24.796Z"
   },
   {
    "duration": 281,
    "start_time": "2022-04-03T20:11:24.978Z"
   },
   {
    "duration": 9,
    "start_time": "2022-04-03T20:11:25.260Z"
   },
   {
    "duration": 11,
    "start_time": "2022-04-03T20:11:25.270Z"
   },
   {
    "duration": 391,
    "start_time": "2022-04-03T20:11:25.283Z"
   },
   {
    "duration": 263,
    "start_time": "2022-04-03T20:11:25.676Z"
   },
   {
    "duration": 6,
    "start_time": "2022-04-03T20:11:25.941Z"
   },
   {
    "duration": 12,
    "start_time": "2022-04-03T20:11:25.949Z"
   },
   {
    "duration": 13,
    "start_time": "2022-04-03T20:11:25.963Z"
   },
   {
    "duration": 307,
    "start_time": "2022-04-03T20:11:25.977Z"
   },
   {
    "duration": 410,
    "start_time": "2022-04-03T20:11:26.286Z"
   },
   {
    "duration": 6,
    "start_time": "2022-04-03T20:11:26.697Z"
   },
   {
    "duration": 29,
    "start_time": "2022-04-03T20:11:26.705Z"
   },
   {
    "duration": 12,
    "start_time": "2022-04-03T20:11:26.735Z"
   },
   {
    "duration": 297,
    "start_time": "2022-04-03T20:11:26.749Z"
   },
   {
    "duration": 7,
    "start_time": "2022-04-03T20:11:27.048Z"
   },
   {
    "duration": 5,
    "start_time": "2022-04-03T20:11:27.057Z"
   },
   {
    "duration": 15,
    "start_time": "2022-04-03T20:11:27.063Z"
   },
   {
    "duration": 212,
    "start_time": "2022-04-03T20:11:27.080Z"
   },
   {
    "duration": 197,
    "start_time": "2022-04-03T20:11:27.294Z"
   },
   {
    "duration": 5,
    "start_time": "2022-04-03T20:11:27.493Z"
   },
   {
    "duration": 337,
    "start_time": "2022-04-03T20:11:27.499Z"
   },
   {
    "duration": 5,
    "start_time": "2022-04-03T20:11:27.838Z"
   },
   {
    "duration": 18,
    "start_time": "2022-04-03T20:11:27.845Z"
   },
   {
    "duration": 3,
    "start_time": "2022-04-03T20:11:27.865Z"
   },
   {
    "duration": 26,
    "start_time": "2022-04-03T20:11:27.870Z"
   },
   {
    "duration": 44,
    "start_time": "2022-04-03T20:11:27.897Z"
   },
   {
    "duration": 14,
    "start_time": "2022-04-03T20:11:27.943Z"
   },
   {
    "duration": 4,
    "start_time": "2022-04-03T20:11:27.958Z"
   },
   {
    "duration": 25,
    "start_time": "2022-04-03T20:11:27.964Z"
   },
   {
    "duration": 51,
    "start_time": "2022-04-03T20:11:27.991Z"
   },
   {
    "duration": 13,
    "start_time": "2022-04-03T20:12:38.113Z"
   },
   {
    "duration": 122,
    "start_time": "2022-04-03T20:14:19.179Z"
   },
   {
    "duration": 41,
    "start_time": "2022-04-03T20:15:33.236Z"
   },
   {
    "duration": 42,
    "start_time": "2022-04-03T20:21:35.490Z"
   },
   {
    "duration": 41,
    "start_time": "2022-04-03T20:21:42.963Z"
   },
   {
    "duration": 1273,
    "start_time": "2022-04-03T20:24:35.353Z"
   },
   {
    "duration": 43,
    "start_time": "2022-04-03T20:24:36.628Z"
   },
   {
    "duration": 10,
    "start_time": "2022-04-03T20:24:36.672Z"
   },
   {
    "duration": 295,
    "start_time": "2022-04-03T20:24:36.684Z"
   },
   {
    "duration": 5,
    "start_time": "2022-04-03T20:24:36.980Z"
   },
   {
    "duration": 54,
    "start_time": "2022-04-03T20:24:36.987Z"
   },
   {
    "duration": 8,
    "start_time": "2022-04-03T20:24:37.043Z"
   },
   {
    "duration": 7,
    "start_time": "2022-04-03T20:24:37.053Z"
   },
   {
    "duration": 12,
    "start_time": "2022-04-03T20:24:37.062Z"
   },
   {
    "duration": 15,
    "start_time": "2022-04-03T20:24:37.077Z"
   },
   {
    "duration": 42,
    "start_time": "2022-04-03T20:24:37.094Z"
   },
   {
    "duration": 14,
    "start_time": "2022-04-03T20:24:37.138Z"
   },
   {
    "duration": 8,
    "start_time": "2022-04-03T20:24:37.154Z"
   },
   {
    "duration": 7,
    "start_time": "2022-04-03T20:24:37.164Z"
   },
   {
    "duration": 9,
    "start_time": "2022-04-03T20:24:37.173Z"
   },
   {
    "duration": 49,
    "start_time": "2022-04-03T20:24:37.184Z"
   },
   {
    "duration": 4,
    "start_time": "2022-04-03T20:24:37.235Z"
   },
   {
    "duration": 19,
    "start_time": "2022-04-03T20:24:37.241Z"
   },
   {
    "duration": 284,
    "start_time": "2022-04-03T20:24:37.261Z"
   },
   {
    "duration": 5,
    "start_time": "2022-04-03T20:24:37.547Z"
   },
   {
    "duration": 15,
    "start_time": "2022-04-03T20:24:37.554Z"
   },
   {
    "duration": 258,
    "start_time": "2022-04-03T20:24:37.570Z"
   },
   {
    "duration": 19,
    "start_time": "2022-04-03T20:24:37.832Z"
   },
   {
    "duration": 46,
    "start_time": "2022-04-03T20:24:37.852Z"
   },
   {
    "duration": 298,
    "start_time": "2022-04-03T20:24:37.900Z"
   },
   {
    "duration": 9,
    "start_time": "2022-04-03T20:24:38.200Z"
   },
   {
    "duration": 185,
    "start_time": "2022-04-03T20:24:38.211Z"
   },
   {
    "duration": 274,
    "start_time": "2022-04-03T20:24:38.399Z"
   },
   {
    "duration": 8,
    "start_time": "2022-04-03T20:24:38.675Z"
   },
   {
    "duration": 12,
    "start_time": "2022-04-03T20:24:38.685Z"
   },
   {
    "duration": 374,
    "start_time": "2022-04-03T20:24:38.699Z"
   },
   {
    "duration": 265,
    "start_time": "2022-04-03T20:24:39.075Z"
   },
   {
    "duration": 6,
    "start_time": "2022-04-03T20:24:39.341Z"
   },
   {
    "duration": 12,
    "start_time": "2022-04-03T20:24:39.349Z"
   },
   {
    "duration": 12,
    "start_time": "2022-04-03T20:24:39.362Z"
   },
   {
    "duration": 298,
    "start_time": "2022-04-03T20:24:39.375Z"
   },
   {
    "duration": 366,
    "start_time": "2022-04-03T20:24:39.675Z"
   },
   {
    "duration": 8,
    "start_time": "2022-04-03T20:24:40.044Z"
   },
   {
    "duration": 23,
    "start_time": "2022-04-03T20:24:40.054Z"
   },
   {
    "duration": 17,
    "start_time": "2022-04-03T20:24:40.079Z"
   },
   {
    "duration": 314,
    "start_time": "2022-04-03T20:24:40.097Z"
   },
   {
    "duration": 7,
    "start_time": "2022-04-03T20:24:40.413Z"
   },
   {
    "duration": 5,
    "start_time": "2022-04-03T20:24:40.432Z"
   },
   {
    "duration": 16,
    "start_time": "2022-04-03T20:24:40.439Z"
   },
   {
    "duration": 211,
    "start_time": "2022-04-03T20:24:40.457Z"
   },
   {
    "duration": 193,
    "start_time": "2022-04-03T20:24:40.670Z"
   },
   {
    "duration": 5,
    "start_time": "2022-04-03T20:24:40.865Z"
   },
   {
    "duration": 343,
    "start_time": "2022-04-03T20:24:40.871Z"
   },
   {
    "duration": 17,
    "start_time": "2022-04-03T20:24:41.216Z"
   },
   {
    "duration": 19,
    "start_time": "2022-04-03T20:24:41.235Z"
   },
   {
    "duration": 5,
    "start_time": "2022-04-03T20:24:41.257Z"
   },
   {
    "duration": 72,
    "start_time": "2022-04-03T20:24:41.264Z"
   },
   {
    "duration": 9,
    "start_time": "2022-04-03T20:24:41.338Z"
   },
   {
    "duration": 12,
    "start_time": "2022-04-03T20:24:41.349Z"
   },
   {
    "duration": 6,
    "start_time": "2022-04-03T20:24:41.363Z"
   },
   {
    "duration": 24,
    "start_time": "2022-04-03T20:24:41.371Z"
   },
   {
    "duration": 47,
    "start_time": "2022-04-03T20:24:41.396Z"
   },
   {
    "duration": 1243,
    "start_time": "2022-04-03T20:26:01.269Z"
   },
   {
    "duration": 40,
    "start_time": "2022-04-03T20:26:02.514Z"
   },
   {
    "duration": 12,
    "start_time": "2022-04-03T20:26:02.557Z"
   },
   {
    "duration": 318,
    "start_time": "2022-04-03T20:26:02.572Z"
   },
   {
    "duration": 42,
    "start_time": "2022-04-03T20:26:02.892Z"
   },
   {
    "duration": 12,
    "start_time": "2022-04-03T20:26:02.936Z"
   },
   {
    "duration": 11,
    "start_time": "2022-04-03T20:26:02.950Z"
   },
   {
    "duration": 7,
    "start_time": "2022-04-03T20:26:02.963Z"
   },
   {
    "duration": 16,
    "start_time": "2022-04-03T20:26:02.972Z"
   },
   {
    "duration": 48,
    "start_time": "2022-04-03T20:26:02.991Z"
   },
   {
    "duration": 9,
    "start_time": "2022-04-03T20:26:03.041Z"
   },
   {
    "duration": 15,
    "start_time": "2022-04-03T20:26:03.052Z"
   },
   {
    "duration": 11,
    "start_time": "2022-04-03T20:26:03.069Z"
   },
   {
    "duration": 9,
    "start_time": "2022-04-03T20:26:03.082Z"
   },
   {
    "duration": 42,
    "start_time": "2022-04-03T20:26:03.092Z"
   },
   {
    "duration": 13,
    "start_time": "2022-04-03T20:26:03.135Z"
   },
   {
    "duration": 4,
    "start_time": "2022-04-03T20:26:03.149Z"
   },
   {
    "duration": 18,
    "start_time": "2022-04-03T20:26:03.155Z"
   },
   {
    "duration": 301,
    "start_time": "2022-04-03T20:26:03.175Z"
   },
   {
    "duration": 5,
    "start_time": "2022-04-03T20:26:03.478Z"
   },
   {
    "duration": 16,
    "start_time": "2022-04-03T20:26:03.484Z"
   },
   {
    "duration": 276,
    "start_time": "2022-04-03T20:26:03.501Z"
   },
   {
    "duration": 18,
    "start_time": "2022-04-03T20:26:03.779Z"
   },
   {
    "duration": 67,
    "start_time": "2022-04-03T20:26:03.799Z"
   },
   {
    "duration": 278,
    "start_time": "2022-04-03T20:26:03.867Z"
   },
   {
    "duration": 10,
    "start_time": "2022-04-03T20:26:04.146Z"
   },
   {
    "duration": 183,
    "start_time": "2022-04-03T20:26:04.158Z"
   },
   {
    "duration": 287,
    "start_time": "2022-04-03T20:26:04.345Z"
   },
   {
    "duration": 9,
    "start_time": "2022-04-03T20:26:04.634Z"
   },
   {
    "duration": 11,
    "start_time": "2022-04-03T20:26:04.644Z"
   },
   {
    "duration": 380,
    "start_time": "2022-04-03T20:26:04.657Z"
   },
   {
    "duration": 271,
    "start_time": "2022-04-03T20:26:05.039Z"
   },
   {
    "duration": 5,
    "start_time": "2022-04-03T20:26:05.312Z"
   },
   {
    "duration": 22,
    "start_time": "2022-04-03T20:26:05.319Z"
   },
   {
    "duration": 14,
    "start_time": "2022-04-03T20:26:05.343Z"
   },
   {
    "duration": 308,
    "start_time": "2022-04-03T20:26:05.359Z"
   },
   {
    "duration": 371,
    "start_time": "2022-04-03T20:26:05.669Z"
   },
   {
    "duration": 9,
    "start_time": "2022-04-03T20:26:06.042Z"
   },
   {
    "duration": 14,
    "start_time": "2022-04-03T20:26:06.053Z"
   },
   {
    "duration": 17,
    "start_time": "2022-04-03T20:26:06.069Z"
   },
   {
    "duration": 318,
    "start_time": "2022-04-03T20:26:06.088Z"
   },
   {
    "duration": 7,
    "start_time": "2022-04-03T20:26:06.408Z"
   },
   {
    "duration": 19,
    "start_time": "2022-04-03T20:26:06.417Z"
   },
   {
    "duration": 14,
    "start_time": "2022-04-03T20:26:06.438Z"
   },
   {
    "duration": 195,
    "start_time": "2022-04-03T20:26:06.454Z"
   },
   {
    "duration": 197,
    "start_time": "2022-04-03T20:26:06.651Z"
   },
   {
    "duration": 4,
    "start_time": "2022-04-03T20:26:06.850Z"
   },
   {
    "duration": 345,
    "start_time": "2022-04-03T20:26:06.857Z"
   },
   {
    "duration": 6,
    "start_time": "2022-04-03T20:26:07.204Z"
   },
   {
    "duration": 40,
    "start_time": "2022-04-03T20:26:07.212Z"
   },
   {
    "duration": 4,
    "start_time": "2022-04-03T20:26:07.254Z"
   },
   {
    "duration": 84,
    "start_time": "2022-04-03T20:26:07.260Z"
   },
   {
    "duration": 13,
    "start_time": "2022-04-03T20:26:07.346Z"
   },
   {
    "duration": 16,
    "start_time": "2022-04-03T20:26:07.361Z"
   },
   {
    "duration": 4,
    "start_time": "2022-04-03T20:26:07.379Z"
   },
   {
    "duration": 68,
    "start_time": "2022-04-03T20:26:07.385Z"
   },
   {
    "duration": 16,
    "start_time": "2022-04-03T20:26:07.455Z"
   },
   {
    "duration": 1293,
    "start_time": "2022-04-03T20:26:41.501Z"
   },
   {
    "duration": 47,
    "start_time": "2022-04-03T20:26:42.797Z"
   },
   {
    "duration": 11,
    "start_time": "2022-04-03T20:26:42.846Z"
   },
   {
    "duration": 316,
    "start_time": "2022-04-03T20:26:42.860Z"
   },
   {
    "duration": 4,
    "start_time": "2022-04-03T20:26:43.178Z"
   },
   {
    "duration": 57,
    "start_time": "2022-04-03T20:26:43.184Z"
   },
   {
    "duration": 7,
    "start_time": "2022-04-03T20:26:43.243Z"
   },
   {
    "duration": 5,
    "start_time": "2022-04-03T20:26:43.252Z"
   },
   {
    "duration": 11,
    "start_time": "2022-04-03T20:26:43.259Z"
   },
   {
    "duration": 17,
    "start_time": "2022-04-03T20:26:43.273Z"
   },
   {
    "duration": 45,
    "start_time": "2022-04-03T20:26:43.291Z"
   },
   {
    "duration": 13,
    "start_time": "2022-04-03T20:26:43.338Z"
   },
   {
    "duration": 11,
    "start_time": "2022-04-03T20:26:43.353Z"
   },
   {
    "duration": 12,
    "start_time": "2022-04-03T20:26:43.366Z"
   },
   {
    "duration": 13,
    "start_time": "2022-04-03T20:26:43.379Z"
   },
   {
    "duration": 40,
    "start_time": "2022-04-03T20:26:43.393Z"
   },
   {
    "duration": 3,
    "start_time": "2022-04-03T20:26:43.435Z"
   },
   {
    "duration": 20,
    "start_time": "2022-04-03T20:26:43.440Z"
   },
   {
    "duration": 284,
    "start_time": "2022-04-03T20:26:43.462Z"
   },
   {
    "duration": 5,
    "start_time": "2022-04-03T20:26:43.747Z"
   },
   {
    "duration": 13,
    "start_time": "2022-04-03T20:26:43.753Z"
   },
   {
    "duration": 260,
    "start_time": "2022-04-03T20:26:43.768Z"
   },
   {
    "duration": 17,
    "start_time": "2022-04-03T20:26:44.032Z"
   },
   {
    "duration": 50,
    "start_time": "2022-04-03T20:26:44.050Z"
   },
   {
    "duration": 310,
    "start_time": "2022-04-03T20:26:44.102Z"
   },
   {
    "duration": 19,
    "start_time": "2022-04-03T20:26:44.414Z"
   },
   {
    "duration": 182,
    "start_time": "2022-04-03T20:26:44.435Z"
   },
   {
    "duration": 327,
    "start_time": "2022-04-03T20:26:44.620Z"
   },
   {
    "duration": 9,
    "start_time": "2022-04-03T20:26:44.949Z"
   },
   {
    "duration": 9,
    "start_time": "2022-04-03T20:26:44.960Z"
   },
   {
    "duration": 381,
    "start_time": "2022-04-03T20:26:44.970Z"
   },
   {
    "duration": 257,
    "start_time": "2022-04-03T20:26:45.353Z"
   },
   {
    "duration": 6,
    "start_time": "2022-04-03T20:26:45.612Z"
   },
   {
    "duration": 22,
    "start_time": "2022-04-03T20:26:45.619Z"
   },
   {
    "duration": 16,
    "start_time": "2022-04-03T20:26:45.642Z"
   },
   {
    "duration": 300,
    "start_time": "2022-04-03T20:26:45.659Z"
   },
   {
    "duration": 371,
    "start_time": "2022-04-03T20:26:45.961Z"
   },
   {
    "duration": 7,
    "start_time": "2022-04-03T20:26:46.335Z"
   },
   {
    "duration": 12,
    "start_time": "2022-04-03T20:26:46.343Z"
   },
   {
    "duration": 12,
    "start_time": "2022-04-03T20:26:46.358Z"
   },
   {
    "duration": 322,
    "start_time": "2022-04-03T20:26:46.372Z"
   },
   {
    "duration": 7,
    "start_time": "2022-04-03T20:26:46.696Z"
   },
   {
    "duration": 9,
    "start_time": "2022-04-03T20:26:46.705Z"
   },
   {
    "duration": 13,
    "start_time": "2022-04-03T20:26:46.732Z"
   },
   {
    "duration": 189,
    "start_time": "2022-04-03T20:26:46.746Z"
   },
   {
    "duration": 198,
    "start_time": "2022-04-03T20:26:46.937Z"
   },
   {
    "duration": 5,
    "start_time": "2022-04-03T20:26:47.137Z"
   },
   {
    "duration": 359,
    "start_time": "2022-04-03T20:26:47.143Z"
   },
   {
    "duration": 4,
    "start_time": "2022-04-03T20:26:47.504Z"
   },
   {
    "duration": 40,
    "start_time": "2022-04-03T20:26:47.510Z"
   },
   {
    "duration": 4,
    "start_time": "2022-04-03T20:26:47.551Z"
   },
   {
    "duration": 43,
    "start_time": "2022-04-03T20:26:47.557Z"
   },
   {
    "duration": 39,
    "start_time": "2022-04-03T20:26:47.602Z"
   },
   {
    "duration": 14,
    "start_time": "2022-04-03T20:26:47.643Z"
   },
   {
    "duration": 7,
    "start_time": "2022-04-03T20:26:47.659Z"
   },
   {
    "duration": 30,
    "start_time": "2022-04-03T20:26:47.668Z"
   },
   {
    "duration": 41,
    "start_time": "2022-04-03T20:26:47.699Z"
   },
   {
    "duration": 21,
    "start_time": "2022-04-03T20:29:01.498Z"
   },
   {
    "duration": 1230,
    "start_time": "2022-04-03T20:30:13.878Z"
   },
   {
    "duration": 44,
    "start_time": "2022-04-03T20:30:15.110Z"
   },
   {
    "duration": 10,
    "start_time": "2022-04-03T20:30:15.156Z"
   },
   {
    "duration": 307,
    "start_time": "2022-04-03T20:30:15.168Z"
   },
   {
    "duration": 5,
    "start_time": "2022-04-03T20:30:15.476Z"
   },
   {
    "duration": 57,
    "start_time": "2022-04-03T20:30:15.482Z"
   },
   {
    "duration": 7,
    "start_time": "2022-04-03T20:30:15.540Z"
   },
   {
    "duration": 7,
    "start_time": "2022-04-03T20:30:15.549Z"
   },
   {
    "duration": 15,
    "start_time": "2022-04-03T20:30:15.558Z"
   },
   {
    "duration": 60,
    "start_time": "2022-04-03T20:30:15.577Z"
   },
   {
    "duration": 13,
    "start_time": "2022-04-03T20:30:15.639Z"
   },
   {
    "duration": 16,
    "start_time": "2022-04-03T20:30:15.654Z"
   },
   {
    "duration": 10,
    "start_time": "2022-04-03T20:30:15.672Z"
   },
   {
    "duration": 8,
    "start_time": "2022-04-03T20:30:15.684Z"
   },
   {
    "duration": 46,
    "start_time": "2022-04-03T20:30:15.694Z"
   },
   {
    "duration": 15,
    "start_time": "2022-04-03T20:30:15.742Z"
   },
   {
    "duration": 4,
    "start_time": "2022-04-03T20:30:15.759Z"
   },
   {
    "duration": 23,
    "start_time": "2022-04-03T20:30:15.764Z"
   },
   {
    "duration": 316,
    "start_time": "2022-04-03T20:30:15.789Z"
   },
   {
    "duration": 5,
    "start_time": "2022-04-03T20:30:16.106Z"
   },
   {
    "duration": 27,
    "start_time": "2022-04-03T20:30:16.113Z"
   },
   {
    "duration": 261,
    "start_time": "2022-04-03T20:30:16.141Z"
   },
   {
    "duration": 30,
    "start_time": "2022-04-03T20:30:16.403Z"
   },
   {
    "duration": 47,
    "start_time": "2022-04-03T20:30:16.435Z"
   },
   {
    "duration": 301,
    "start_time": "2022-04-03T20:30:16.484Z"
   },
   {
    "duration": 10,
    "start_time": "2022-04-03T20:30:16.787Z"
   },
   {
    "duration": 187,
    "start_time": "2022-04-03T20:30:16.799Z"
   },
   {
    "duration": 284,
    "start_time": "2022-04-03T20:30:16.991Z"
   },
   {
    "duration": 10,
    "start_time": "2022-04-03T20:30:17.277Z"
   },
   {
    "duration": 11,
    "start_time": "2022-04-03T20:30:17.289Z"
   },
   {
    "duration": 393,
    "start_time": "2022-04-03T20:30:17.302Z"
   },
   {
    "duration": 270,
    "start_time": "2022-04-03T20:30:17.698Z"
   },
   {
    "duration": 7,
    "start_time": "2022-04-03T20:30:17.970Z"
   },
   {
    "duration": 14,
    "start_time": "2022-04-03T20:30:17.979Z"
   },
   {
    "duration": 12,
    "start_time": "2022-04-03T20:30:17.995Z"
   },
   {
    "duration": 297,
    "start_time": "2022-04-03T20:30:18.032Z"
   },
   {
    "duration": 383,
    "start_time": "2022-04-03T20:30:18.334Z"
   },
   {
    "duration": 13,
    "start_time": "2022-04-03T20:30:18.720Z"
   },
   {
    "duration": 11,
    "start_time": "2022-04-03T20:30:18.734Z"
   },
   {
    "duration": 13,
    "start_time": "2022-04-03T20:30:18.746Z"
   },
   {
    "duration": 307,
    "start_time": "2022-04-03T20:30:18.760Z"
   },
   {
    "duration": 8,
    "start_time": "2022-04-03T20:30:19.069Z"
   },
   {
    "duration": 4,
    "start_time": "2022-04-03T20:30:19.080Z"
   },
   {
    "duration": 13,
    "start_time": "2022-04-03T20:30:19.086Z"
   },
   {
    "duration": 222,
    "start_time": "2022-04-03T20:30:19.101Z"
   },
   {
    "duration": 194,
    "start_time": "2022-04-03T20:30:19.332Z"
   },
   {
    "duration": 7,
    "start_time": "2022-04-03T20:30:19.527Z"
   },
   {
    "duration": 335,
    "start_time": "2022-04-03T20:30:19.536Z"
   },
   {
    "duration": 4,
    "start_time": "2022-04-03T20:30:19.873Z"
   },
   {
    "duration": 19,
    "start_time": "2022-04-03T20:30:19.879Z"
   },
   {
    "duration": 4,
    "start_time": "2022-04-03T20:30:19.900Z"
   },
   {
    "duration": 44,
    "start_time": "2022-04-03T20:30:19.932Z"
   },
   {
    "duration": 14,
    "start_time": "2022-04-03T20:30:19.977Z"
   },
   {
    "duration": 46,
    "start_time": "2022-04-03T20:30:19.993Z"
   },
   {
    "duration": 5,
    "start_time": "2022-04-03T20:30:20.041Z"
   },
   {
    "duration": 26,
    "start_time": "2022-04-03T20:30:20.047Z"
   },
   {
    "duration": 14,
    "start_time": "2022-04-03T20:30:20.074Z"
   },
   {
    "duration": 14,
    "start_time": "2022-04-03T20:40:47.784Z"
   },
   {
    "duration": 15,
    "start_time": "2022-04-03T20:41:33.332Z"
   },
   {
    "duration": 1187,
    "start_time": "2022-04-03T20:42:32.381Z"
   },
   {
    "duration": 39,
    "start_time": "2022-04-03T20:42:33.570Z"
   },
   {
    "duration": 10,
    "start_time": "2022-04-03T20:42:33.611Z"
   },
   {
    "duration": 324,
    "start_time": "2022-04-03T20:42:33.624Z"
   },
   {
    "duration": 5,
    "start_time": "2022-04-03T20:42:33.949Z"
   },
   {
    "duration": 11,
    "start_time": "2022-04-03T20:42:33.955Z"
   },
   {
    "duration": 7,
    "start_time": "2022-04-03T20:42:33.968Z"
   },
   {
    "duration": 7,
    "start_time": "2022-04-03T20:42:33.977Z"
   },
   {
    "duration": 55,
    "start_time": "2022-04-03T20:42:33.985Z"
   },
   {
    "duration": 16,
    "start_time": "2022-04-03T20:42:34.043Z"
   },
   {
    "duration": 11,
    "start_time": "2022-04-03T20:42:34.061Z"
   },
   {
    "duration": 12,
    "start_time": "2022-04-03T20:42:34.074Z"
   },
   {
    "duration": 8,
    "start_time": "2022-04-03T20:42:34.088Z"
   },
   {
    "duration": 36,
    "start_time": "2022-04-03T20:42:34.098Z"
   },
   {
    "duration": 10,
    "start_time": "2022-04-03T20:42:34.136Z"
   },
   {
    "duration": 14,
    "start_time": "2022-04-03T20:42:34.148Z"
   },
   {
    "duration": 5,
    "start_time": "2022-04-03T20:42:34.164Z"
   },
   {
    "duration": 66,
    "start_time": "2022-04-03T20:42:34.171Z"
   },
   {
    "duration": 275,
    "start_time": "2022-04-03T20:42:34.239Z"
   },
   {
    "duration": 18,
    "start_time": "2022-04-03T20:42:34.516Z"
   },
   {
    "duration": 13,
    "start_time": "2022-04-03T20:42:34.536Z"
   },
   {
    "duration": 259,
    "start_time": "2022-04-03T20:42:34.551Z"
   },
   {
    "duration": 31,
    "start_time": "2022-04-03T20:42:34.812Z"
   },
   {
    "duration": 47,
    "start_time": "2022-04-03T20:42:34.845Z"
   },
   {
    "duration": 290,
    "start_time": "2022-04-03T20:42:34.893Z"
   },
   {
    "duration": 8,
    "start_time": "2022-04-03T20:42:35.185Z"
   },
   {
    "duration": 174,
    "start_time": "2022-04-03T20:42:35.195Z"
   },
   {
    "duration": 279,
    "start_time": "2022-04-03T20:42:35.373Z"
   },
   {
    "duration": 8,
    "start_time": "2022-04-03T20:42:35.654Z"
   },
   {
    "duration": 10,
    "start_time": "2022-04-03T20:42:35.664Z"
   },
   {
    "duration": 367,
    "start_time": "2022-04-03T20:42:35.676Z"
   },
   {
    "duration": 260,
    "start_time": "2022-04-03T20:42:36.044Z"
   },
   {
    "duration": 8,
    "start_time": "2022-04-03T20:42:36.306Z"
   },
   {
    "duration": 10,
    "start_time": "2022-04-03T20:42:36.333Z"
   },
   {
    "duration": 12,
    "start_time": "2022-04-03T20:42:36.345Z"
   },
   {
    "duration": 301,
    "start_time": "2022-04-03T20:42:36.359Z"
   },
   {
    "duration": 376,
    "start_time": "2022-04-03T20:42:36.662Z"
   },
   {
    "duration": 7,
    "start_time": "2022-04-03T20:42:37.040Z"
   },
   {
    "duration": 17,
    "start_time": "2022-04-03T20:42:37.049Z"
   },
   {
    "duration": 13,
    "start_time": "2022-04-03T20:42:37.069Z"
   },
   {
    "duration": 310,
    "start_time": "2022-04-03T20:42:37.084Z"
   },
   {
    "duration": 12,
    "start_time": "2022-04-03T20:42:37.396Z"
   },
   {
    "duration": 25,
    "start_time": "2022-04-03T20:42:37.410Z"
   },
   {
    "duration": 20,
    "start_time": "2022-04-03T20:42:37.437Z"
   },
   {
    "duration": 197,
    "start_time": "2022-04-03T20:42:37.459Z"
   },
   {
    "duration": 200,
    "start_time": "2022-04-03T20:42:37.658Z"
   },
   {
    "duration": 5,
    "start_time": "2022-04-03T20:42:37.859Z"
   },
   {
    "duration": 347,
    "start_time": "2022-04-03T20:42:37.866Z"
   },
   {
    "duration": 5,
    "start_time": "2022-04-03T20:42:38.215Z"
   },
   {
    "duration": 20,
    "start_time": "2022-04-03T20:42:38.233Z"
   },
   {
    "duration": 4,
    "start_time": "2022-04-03T20:42:38.254Z"
   },
   {
    "duration": 44,
    "start_time": "2022-04-03T20:42:38.259Z"
   },
   {
    "duration": 38,
    "start_time": "2022-04-03T20:42:38.305Z"
   },
   {
    "duration": 14,
    "start_time": "2022-04-03T20:42:38.345Z"
   },
   {
    "duration": 3,
    "start_time": "2022-04-03T20:42:38.361Z"
   },
   {
    "duration": 26,
    "start_time": "2022-04-03T20:42:38.366Z"
   },
   {
    "duration": 13,
    "start_time": "2022-04-03T20:42:38.434Z"
   },
   {
    "duration": 1230,
    "start_time": "2022-04-03T20:43:35.210Z"
   },
   {
    "duration": 39,
    "start_time": "2022-04-03T20:43:36.442Z"
   },
   {
    "duration": 10,
    "start_time": "2022-04-03T20:43:36.482Z"
   },
   {
    "duration": 281,
    "start_time": "2022-04-03T20:43:36.494Z"
   },
   {
    "duration": 4,
    "start_time": "2022-04-03T20:43:36.777Z"
   },
   {
    "duration": 56,
    "start_time": "2022-04-03T20:43:36.783Z"
   },
   {
    "duration": 6,
    "start_time": "2022-04-03T20:43:36.840Z"
   },
   {
    "duration": 6,
    "start_time": "2022-04-03T20:43:36.848Z"
   },
   {
    "duration": 11,
    "start_time": "2022-04-03T20:43:36.856Z"
   },
   {
    "duration": 15,
    "start_time": "2022-04-03T20:43:36.870Z"
   },
   {
    "duration": 8,
    "start_time": "2022-04-03T20:43:36.887Z"
   },
   {
    "duration": 12,
    "start_time": "2022-04-03T20:43:36.933Z"
   },
   {
    "duration": 8,
    "start_time": "2022-04-03T20:43:36.947Z"
   },
   {
    "duration": 7,
    "start_time": "2022-04-03T20:43:36.957Z"
   },
   {
    "duration": 7,
    "start_time": "2022-04-03T20:43:36.966Z"
   },
   {
    "duration": 11,
    "start_time": "2022-04-03T20:43:36.974Z"
   },
   {
    "duration": 3,
    "start_time": "2022-04-03T20:43:36.987Z"
   },
   {
    "duration": 25,
    "start_time": "2022-04-03T20:43:37.033Z"
   },
   {
    "duration": 279,
    "start_time": "2022-04-03T20:43:37.059Z"
   },
   {
    "duration": 5,
    "start_time": "2022-04-03T20:43:37.339Z"
   },
   {
    "duration": 14,
    "start_time": "2022-04-03T20:43:37.346Z"
   },
   {
    "duration": 271,
    "start_time": "2022-04-03T20:43:37.362Z"
   },
   {
    "duration": 19,
    "start_time": "2022-04-03T20:43:37.634Z"
   },
   {
    "duration": 49,
    "start_time": "2022-04-03T20:43:37.655Z"
   },
   {
    "duration": 294,
    "start_time": "2022-04-03T20:43:37.705Z"
   },
   {
    "duration": 9,
    "start_time": "2022-04-03T20:43:38.001Z"
   },
   {
    "duration": 176,
    "start_time": "2022-04-03T20:43:38.012Z"
   },
   {
    "duration": 285,
    "start_time": "2022-04-03T20:43:38.191Z"
   },
   {
    "duration": 8,
    "start_time": "2022-04-03T20:43:38.478Z"
   },
   {
    "duration": 10,
    "start_time": "2022-04-03T20:43:38.488Z"
   },
   {
    "duration": 369,
    "start_time": "2022-04-03T20:43:38.499Z"
   },
   {
    "duration": 264,
    "start_time": "2022-04-03T20:43:38.870Z"
   },
   {
    "duration": 6,
    "start_time": "2022-04-03T20:43:39.135Z"
   },
   {
    "duration": 13,
    "start_time": "2022-04-03T20:43:39.143Z"
   },
   {
    "duration": 13,
    "start_time": "2022-04-03T20:43:39.157Z"
   },
   {
    "duration": 309,
    "start_time": "2022-04-03T20:43:39.171Z"
   },
   {
    "duration": 357,
    "start_time": "2022-04-03T20:43:39.482Z"
   },
   {
    "duration": 6,
    "start_time": "2022-04-03T20:43:39.841Z"
   },
   {
    "duration": 12,
    "start_time": "2022-04-03T20:43:39.849Z"
   },
   {
    "duration": 11,
    "start_time": "2022-04-03T20:43:39.863Z"
   },
   {
    "duration": 317,
    "start_time": "2022-04-03T20:43:39.876Z"
   },
   {
    "duration": 7,
    "start_time": "2022-04-03T20:43:40.195Z"
   },
   {
    "duration": 5,
    "start_time": "2022-04-03T20:43:40.204Z"
   },
   {
    "duration": 28,
    "start_time": "2022-04-03T20:43:40.211Z"
   },
   {
    "duration": 188,
    "start_time": "2022-04-03T20:43:40.241Z"
   },
   {
    "duration": 193,
    "start_time": "2022-04-03T20:43:40.433Z"
   },
   {
    "duration": 7,
    "start_time": "2022-04-03T20:43:40.627Z"
   },
   {
    "duration": 318,
    "start_time": "2022-04-03T20:43:40.636Z"
   },
   {
    "duration": 4,
    "start_time": "2022-04-03T20:43:40.956Z"
   },
   {
    "duration": 18,
    "start_time": "2022-04-03T20:43:40.961Z"
   },
   {
    "duration": 4,
    "start_time": "2022-04-03T20:43:40.980Z"
   },
   {
    "duration": 77,
    "start_time": "2022-04-03T20:43:40.985Z"
   },
   {
    "duration": 13,
    "start_time": "2022-04-03T20:43:41.064Z"
   },
   {
    "duration": 15,
    "start_time": "2022-04-03T20:43:41.079Z"
   },
   {
    "duration": 4,
    "start_time": "2022-04-03T20:43:41.095Z"
   },
   {
    "duration": 22,
    "start_time": "2022-04-03T20:43:41.134Z"
   },
   {
    "duration": 13,
    "start_time": "2022-04-03T20:43:41.158Z"
   },
   {
    "duration": 15,
    "start_time": "2022-04-03T20:44:40.237Z"
   },
   {
    "duration": 15,
    "start_time": "2022-04-03T20:44:50.503Z"
   },
   {
    "duration": 1177,
    "start_time": "2022-04-03T20:44:59.480Z"
   },
   {
    "duration": 39,
    "start_time": "2022-04-03T20:45:00.658Z"
   },
   {
    "duration": 10,
    "start_time": "2022-04-03T20:45:00.699Z"
   },
   {
    "duration": 349,
    "start_time": "2022-04-03T20:45:00.711Z"
   },
   {
    "duration": 6,
    "start_time": "2022-04-03T20:45:01.062Z"
   },
   {
    "duration": 12,
    "start_time": "2022-04-03T20:45:01.070Z"
   },
   {
    "duration": 52,
    "start_time": "2022-04-03T20:45:01.084Z"
   },
   {
    "duration": 16,
    "start_time": "2022-04-03T20:45:01.137Z"
   },
   {
    "duration": 21,
    "start_time": "2022-04-03T20:45:01.154Z"
   },
   {
    "duration": 27,
    "start_time": "2022-04-03T20:45:01.177Z"
   },
   {
    "duration": 11,
    "start_time": "2022-04-03T20:45:01.206Z"
   },
   {
    "duration": 24,
    "start_time": "2022-04-03T20:45:01.218Z"
   },
   {
    "duration": 9,
    "start_time": "2022-04-03T20:45:01.243Z"
   },
   {
    "duration": 13,
    "start_time": "2022-04-03T20:45:01.254Z"
   },
   {
    "duration": 15,
    "start_time": "2022-04-03T20:45:01.268Z"
   },
   {
    "duration": 14,
    "start_time": "2022-04-03T20:45:01.285Z"
   },
   {
    "duration": 35,
    "start_time": "2022-04-03T20:45:01.300Z"
   },
   {
    "duration": 24,
    "start_time": "2022-04-03T20:45:01.337Z"
   },
   {
    "duration": 291,
    "start_time": "2022-04-03T20:45:01.362Z"
   },
   {
    "duration": 5,
    "start_time": "2022-04-03T20:45:01.655Z"
   },
   {
    "duration": 21,
    "start_time": "2022-04-03T20:45:01.661Z"
   },
   {
    "duration": 263,
    "start_time": "2022-04-03T20:45:01.683Z"
   },
   {
    "duration": 20,
    "start_time": "2022-04-03T20:45:01.947Z"
   },
   {
    "duration": 73,
    "start_time": "2022-04-03T20:45:01.969Z"
   },
   {
    "duration": 283,
    "start_time": "2022-04-03T20:45:02.044Z"
   },
   {
    "duration": 10,
    "start_time": "2022-04-03T20:45:02.329Z"
   },
   {
    "duration": 192,
    "start_time": "2022-04-03T20:45:02.341Z"
   },
   {
    "duration": 288,
    "start_time": "2022-04-03T20:45:02.537Z"
   },
   {
    "duration": 9,
    "start_time": "2022-04-03T20:45:02.827Z"
   },
   {
    "duration": 12,
    "start_time": "2022-04-03T20:45:02.838Z"
   },
   {
    "duration": 385,
    "start_time": "2022-04-03T20:45:02.851Z"
   },
   {
    "duration": 265,
    "start_time": "2022-04-03T20:45:03.237Z"
   },
   {
    "duration": 6,
    "start_time": "2022-04-03T20:45:03.504Z"
   },
   {
    "duration": 24,
    "start_time": "2022-04-03T20:45:03.511Z"
   },
   {
    "duration": 13,
    "start_time": "2022-04-03T20:45:03.537Z"
   },
   {
    "duration": 296,
    "start_time": "2022-04-03T20:45:03.551Z"
   },
   {
    "duration": 390,
    "start_time": "2022-04-03T20:45:03.849Z"
   },
   {
    "duration": 6,
    "start_time": "2022-04-03T20:45:04.241Z"
   },
   {
    "duration": 12,
    "start_time": "2022-04-03T20:45:04.249Z"
   },
   {
    "duration": 11,
    "start_time": "2022-04-03T20:45:04.263Z"
   },
   {
    "duration": 318,
    "start_time": "2022-04-03T20:45:04.276Z"
   },
   {
    "duration": 10,
    "start_time": "2022-04-03T20:45:04.596Z"
   },
   {
    "duration": 27,
    "start_time": "2022-04-03T20:45:04.608Z"
   },
   {
    "duration": 15,
    "start_time": "2022-04-03T20:45:04.637Z"
   },
   {
    "duration": 194,
    "start_time": "2022-04-03T20:45:04.654Z"
   },
   {
    "duration": 204,
    "start_time": "2022-04-03T20:45:04.850Z"
   },
   {
    "duration": 6,
    "start_time": "2022-04-03T20:45:05.056Z"
   },
   {
    "duration": 338,
    "start_time": "2022-04-03T20:45:05.064Z"
   },
   {
    "duration": 6,
    "start_time": "2022-04-03T20:45:05.404Z"
   },
   {
    "duration": 38,
    "start_time": "2022-04-03T20:45:05.412Z"
   },
   {
    "duration": 3,
    "start_time": "2022-04-03T20:45:05.452Z"
   },
   {
    "duration": 76,
    "start_time": "2022-04-03T20:45:05.457Z"
   },
   {
    "duration": 13,
    "start_time": "2022-04-03T20:45:05.535Z"
   },
   {
    "duration": 15,
    "start_time": "2022-04-03T20:45:05.550Z"
   },
   {
    "duration": 4,
    "start_time": "2022-04-03T20:45:05.567Z"
   },
   {
    "duration": 60,
    "start_time": "2022-04-03T20:45:05.573Z"
   },
   {
    "duration": 13,
    "start_time": "2022-04-03T20:45:05.635Z"
   },
   {
    "duration": 104,
    "start_time": "2022-04-03T20:46:28.946Z"
   },
   {
    "duration": 62,
    "start_time": "2022-04-03T20:47:30.538Z"
   },
   {
    "duration": 1767,
    "start_time": "2022-04-03T20:53:38.257Z"
   },
   {
    "duration": 14,
    "start_time": "2022-04-03T20:54:04.970Z"
   },
   {
    "duration": 1190,
    "start_time": "2022-04-03T20:54:39.269Z"
   },
   {
    "duration": 40,
    "start_time": "2022-04-03T20:54:40.461Z"
   },
   {
    "duration": 11,
    "start_time": "2022-04-03T20:54:40.503Z"
   },
   {
    "duration": 343,
    "start_time": "2022-04-03T20:54:40.517Z"
   },
   {
    "duration": 5,
    "start_time": "2022-04-03T20:54:40.861Z"
   },
   {
    "duration": 12,
    "start_time": "2022-04-03T20:54:40.867Z"
   },
   {
    "duration": 52,
    "start_time": "2022-04-03T20:54:40.881Z"
   },
   {
    "duration": 6,
    "start_time": "2022-04-03T20:54:40.935Z"
   },
   {
    "duration": 12,
    "start_time": "2022-04-03T20:54:40.943Z"
   },
   {
    "duration": 17,
    "start_time": "2022-04-03T20:54:40.959Z"
   },
   {
    "duration": 9,
    "start_time": "2022-04-03T20:54:40.978Z"
   },
   {
    "duration": 13,
    "start_time": "2022-04-03T20:54:41.033Z"
   },
   {
    "duration": 9,
    "start_time": "2022-04-03T20:54:41.048Z"
   },
   {
    "duration": 8,
    "start_time": "2022-04-03T20:54:41.058Z"
   },
   {
    "duration": 8,
    "start_time": "2022-04-03T20:54:41.067Z"
   },
   {
    "duration": 13,
    "start_time": "2022-04-03T20:54:41.077Z"
   },
   {
    "duration": 4,
    "start_time": "2022-04-03T20:54:41.133Z"
   },
   {
    "duration": 21,
    "start_time": "2022-04-03T20:54:41.139Z"
   },
   {
    "duration": 290,
    "start_time": "2022-04-03T20:54:41.162Z"
   },
   {
    "duration": 6,
    "start_time": "2022-04-03T20:54:41.454Z"
   },
   {
    "duration": 13,
    "start_time": "2022-04-03T20:54:41.463Z"
   },
   {
    "duration": 270,
    "start_time": "2022-04-03T20:54:41.478Z"
   },
   {
    "duration": 17,
    "start_time": "2022-04-03T20:54:41.750Z"
   },
   {
    "duration": 67,
    "start_time": "2022-04-03T20:54:41.769Z"
   },
   {
    "duration": 275,
    "start_time": "2022-04-03T20:54:41.837Z"
   },
   {
    "duration": 10,
    "start_time": "2022-04-03T20:54:42.113Z"
   },
   {
    "duration": 174,
    "start_time": "2022-04-03T20:54:42.133Z"
   },
   {
    "duration": 277,
    "start_time": "2022-04-03T20:54:42.310Z"
   },
   {
    "duration": 9,
    "start_time": "2022-04-03T20:54:42.589Z"
   },
   {
    "duration": 11,
    "start_time": "2022-04-03T20:54:42.599Z"
   },
   {
    "duration": 381,
    "start_time": "2022-04-03T20:54:42.611Z"
   },
   {
    "duration": 252,
    "start_time": "2022-04-03T20:54:42.993Z"
   },
   {
    "duration": 6,
    "start_time": "2022-04-03T20:54:43.246Z"
   },
   {
    "duration": 13,
    "start_time": "2022-04-03T20:54:43.253Z"
   },
   {
    "duration": 10,
    "start_time": "2022-04-03T20:54:43.267Z"
   },
   {
    "duration": 303,
    "start_time": "2022-04-03T20:54:43.279Z"
   },
   {
    "duration": 358,
    "start_time": "2022-04-03T20:54:43.584Z"
   },
   {
    "duration": 7,
    "start_time": "2022-04-03T20:54:43.943Z"
   },
   {
    "duration": 13,
    "start_time": "2022-04-03T20:54:43.951Z"
   },
   {
    "duration": 12,
    "start_time": "2022-04-03T20:54:43.965Z"
   },
   {
    "duration": 312,
    "start_time": "2022-04-03T20:54:43.979Z"
   },
   {
    "duration": 8,
    "start_time": "2022-04-03T20:54:44.293Z"
   },
   {
    "duration": 9,
    "start_time": "2022-04-03T20:54:44.302Z"
   },
   {
    "duration": 29,
    "start_time": "2022-04-03T20:54:44.312Z"
   },
   {
    "duration": 193,
    "start_time": "2022-04-03T20:54:44.343Z"
   },
   {
    "duration": 199,
    "start_time": "2022-04-03T20:54:44.538Z"
   },
   {
    "duration": 6,
    "start_time": "2022-04-03T20:54:44.738Z"
   },
   {
    "duration": 348,
    "start_time": "2022-04-03T20:54:44.745Z"
   },
   {
    "duration": 5,
    "start_time": "2022-04-03T20:54:45.095Z"
   },
   {
    "duration": 40,
    "start_time": "2022-04-03T20:54:45.101Z"
   },
   {
    "duration": 3,
    "start_time": "2022-04-03T20:54:45.143Z"
   },
   {
    "duration": 48,
    "start_time": "2022-04-03T20:54:45.148Z"
   },
   {
    "duration": 39,
    "start_time": "2022-04-03T20:54:45.198Z"
   },
   {
    "duration": 14,
    "start_time": "2022-04-03T20:54:45.239Z"
   },
   {
    "duration": 4,
    "start_time": "2022-04-03T20:54:45.255Z"
   },
   {
    "duration": 76,
    "start_time": "2022-04-03T20:54:45.261Z"
   },
   {
    "duration": 7,
    "start_time": "2022-04-03T20:54:45.339Z"
   },
   {
    "duration": 12,
    "start_time": "2022-04-03T20:54:45.347Z"
   },
   {
    "duration": 1183,
    "start_time": "2022-04-03T21:12:37.386Z"
   },
   {
    "duration": 39,
    "start_time": "2022-04-03T21:12:38.571Z"
   },
   {
    "duration": 11,
    "start_time": "2022-04-03T21:12:38.611Z"
   },
   {
    "duration": 312,
    "start_time": "2022-04-03T21:12:38.624Z"
   },
   {
    "duration": 4,
    "start_time": "2022-04-03T21:12:38.938Z"
   },
   {
    "duration": 12,
    "start_time": "2022-04-03T21:12:38.943Z"
   },
   {
    "duration": 6,
    "start_time": "2022-04-03T21:12:38.957Z"
   },
   {
    "duration": 6,
    "start_time": "2022-04-03T21:12:38.965Z"
   },
   {
    "duration": 12,
    "start_time": "2022-04-03T21:12:38.972Z"
   },
   {
    "duration": 58,
    "start_time": "2022-04-03T21:12:38.987Z"
   },
   {
    "duration": 9,
    "start_time": "2022-04-03T21:12:39.046Z"
   },
   {
    "duration": 13,
    "start_time": "2022-04-03T21:12:39.057Z"
   },
   {
    "duration": 7,
    "start_time": "2022-04-03T21:12:39.071Z"
   },
   {
    "duration": 10,
    "start_time": "2022-04-03T21:12:39.080Z"
   },
   {
    "duration": 46,
    "start_time": "2022-04-03T21:12:39.092Z"
   },
   {
    "duration": 14,
    "start_time": "2022-04-03T21:12:39.140Z"
   },
   {
    "duration": 7,
    "start_time": "2022-04-03T21:12:39.155Z"
   },
   {
    "duration": 19,
    "start_time": "2022-04-03T21:12:39.164Z"
   },
   {
    "duration": 294,
    "start_time": "2022-04-03T21:12:39.184Z"
   },
   {
    "duration": 4,
    "start_time": "2022-04-03T21:12:39.480Z"
   },
   {
    "duration": 19,
    "start_time": "2022-04-03T21:12:39.486Z"
   },
   {
    "duration": 252,
    "start_time": "2022-04-03T21:12:39.507Z"
   },
   {
    "duration": 18,
    "start_time": "2022-04-03T21:12:39.761Z"
   },
   {
    "duration": 69,
    "start_time": "2022-04-03T21:12:39.781Z"
   },
   {
    "duration": 281,
    "start_time": "2022-04-03T21:12:39.852Z"
   },
   {
    "duration": 9,
    "start_time": "2022-04-03T21:12:40.135Z"
   },
   {
    "duration": 187,
    "start_time": "2022-04-03T21:12:40.146Z"
   },
   {
    "duration": 276,
    "start_time": "2022-04-03T21:12:40.337Z"
   },
   {
    "duration": 8,
    "start_time": "2022-04-03T21:12:40.615Z"
   },
   {
    "duration": 18,
    "start_time": "2022-04-03T21:12:40.625Z"
   },
   {
    "duration": 371,
    "start_time": "2022-04-03T21:12:40.644Z"
   },
   {
    "duration": 257,
    "start_time": "2022-04-03T21:12:41.017Z"
   },
   {
    "duration": 6,
    "start_time": "2022-04-03T21:12:41.276Z"
   },
   {
    "duration": 11,
    "start_time": "2022-04-03T21:12:41.283Z"
   },
   {
    "duration": 12,
    "start_time": "2022-04-03T21:12:41.295Z"
   },
   {
    "duration": 301,
    "start_time": "2022-04-03T21:12:41.308Z"
   },
   {
    "duration": 422,
    "start_time": "2022-04-03T21:12:41.611Z"
   },
   {
    "duration": 6,
    "start_time": "2022-04-03T21:12:42.035Z"
   },
   {
    "duration": 13,
    "start_time": "2022-04-03T21:12:42.042Z"
   },
   {
    "duration": 14,
    "start_time": "2022-04-03T21:12:42.057Z"
   },
   {
    "duration": 310,
    "start_time": "2022-04-03T21:12:42.073Z"
   },
   {
    "duration": 8,
    "start_time": "2022-04-03T21:12:42.384Z"
   },
   {
    "duration": 5,
    "start_time": "2022-04-03T21:12:42.394Z"
   },
   {
    "duration": 34,
    "start_time": "2022-04-03T21:12:42.400Z"
   },
   {
    "duration": 187,
    "start_time": "2022-04-03T21:12:42.436Z"
   },
   {
    "duration": 199,
    "start_time": "2022-04-03T21:12:42.625Z"
   },
   {
    "duration": 10,
    "start_time": "2022-04-03T21:12:42.825Z"
   },
   {
    "duration": 337,
    "start_time": "2022-04-03T21:12:42.837Z"
   },
   {
    "duration": 5,
    "start_time": "2022-04-03T21:12:43.176Z"
   },
   {
    "duration": 18,
    "start_time": "2022-04-03T21:12:43.182Z"
   },
   {
    "duration": 32,
    "start_time": "2022-04-03T21:12:43.202Z"
   },
   {
    "duration": 45,
    "start_time": "2022-04-03T21:12:43.235Z"
   },
   {
    "duration": 13,
    "start_time": "2022-04-03T21:12:43.282Z"
   },
   {
    "duration": 46,
    "start_time": "2022-04-03T21:12:43.297Z"
   },
   {
    "duration": 4,
    "start_time": "2022-04-03T21:12:43.344Z"
   },
   {
    "duration": 47,
    "start_time": "2022-04-03T21:12:43.349Z"
   },
   {
    "duration": 7,
    "start_time": "2022-04-03T21:12:43.397Z"
   },
   {
    "duration": 15,
    "start_time": "2022-04-03T21:12:43.432Z"
   },
   {
    "duration": 72,
    "start_time": "2022-04-04T14:15:44.875Z"
   },
   {
    "duration": 13,
    "start_time": "2022-04-04T14:15:53.979Z"
   },
   {
    "duration": 21,
    "start_time": "2022-04-04T14:18:56.868Z"
   },
   {
    "duration": 1953,
    "start_time": "2022-04-04T14:20:05.230Z"
   },
   {
    "duration": 92,
    "start_time": "2022-04-04T14:20:07.187Z"
   },
   {
    "duration": 18,
    "start_time": "2022-04-04T14:20:07.281Z"
   },
   {
    "duration": 517,
    "start_time": "2022-04-04T14:20:07.303Z"
   },
   {
    "duration": 48,
    "start_time": "2022-04-04T14:20:07.823Z"
   },
   {
    "duration": 21,
    "start_time": "2022-04-04T14:20:07.873Z"
   },
   {
    "duration": 11,
    "start_time": "2022-04-04T14:20:07.897Z"
   },
   {
    "duration": 15,
    "start_time": "2022-04-04T14:20:07.911Z"
   },
   {
    "duration": 50,
    "start_time": "2022-04-04T14:20:07.928Z"
   },
   {
    "duration": 31,
    "start_time": "2022-04-04T14:20:07.984Z"
   },
   {
    "duration": 16,
    "start_time": "2022-04-04T14:20:08.018Z"
   },
   {
    "duration": 19,
    "start_time": "2022-04-04T14:20:08.068Z"
   },
   {
    "duration": 24,
    "start_time": "2022-04-04T14:20:08.090Z"
   },
   {
    "duration": 14,
    "start_time": "2022-04-04T14:20:08.117Z"
   },
   {
    "duration": 40,
    "start_time": "2022-04-04T14:20:08.134Z"
   },
   {
    "duration": 20,
    "start_time": "2022-04-04T14:20:08.177Z"
   },
   {
    "duration": 9,
    "start_time": "2022-04-04T14:20:08.200Z"
   },
   {
    "duration": 63,
    "start_time": "2022-04-04T14:20:08.214Z"
   },
   {
    "duration": 194,
    "start_time": "2022-04-04T14:20:08.283Z"
   },
   {
    "duration": 0,
    "start_time": "2022-04-04T14:20:08.481Z"
   },
   {
    "duration": 0,
    "start_time": "2022-04-04T14:20:08.483Z"
   },
   {
    "duration": 0,
    "start_time": "2022-04-04T14:20:08.485Z"
   },
   {
    "duration": 0,
    "start_time": "2022-04-04T14:20:08.487Z"
   },
   {
    "duration": 0,
    "start_time": "2022-04-04T14:20:08.488Z"
   },
   {
    "duration": 0,
    "start_time": "2022-04-04T14:20:08.491Z"
   },
   {
    "duration": 0,
    "start_time": "2022-04-04T14:20:08.493Z"
   },
   {
    "duration": 0,
    "start_time": "2022-04-04T14:20:08.495Z"
   },
   {
    "duration": 0,
    "start_time": "2022-04-04T14:20:08.497Z"
   },
   {
    "duration": 0,
    "start_time": "2022-04-04T14:20:08.498Z"
   },
   {
    "duration": 0,
    "start_time": "2022-04-04T14:20:08.500Z"
   },
   {
    "duration": 0,
    "start_time": "2022-04-04T14:20:08.501Z"
   },
   {
    "duration": 0,
    "start_time": "2022-04-04T14:20:08.503Z"
   },
   {
    "duration": 0,
    "start_time": "2022-04-04T14:20:08.504Z"
   },
   {
    "duration": 0,
    "start_time": "2022-04-04T14:20:08.506Z"
   },
   {
    "duration": 0,
    "start_time": "2022-04-04T14:20:08.508Z"
   },
   {
    "duration": 0,
    "start_time": "2022-04-04T14:20:08.509Z"
   },
   {
    "duration": 0,
    "start_time": "2022-04-04T14:20:08.510Z"
   },
   {
    "duration": 0,
    "start_time": "2022-04-04T14:20:08.512Z"
   },
   {
    "duration": 0,
    "start_time": "2022-04-04T14:20:08.513Z"
   },
   {
    "duration": 0,
    "start_time": "2022-04-04T14:20:08.515Z"
   },
   {
    "duration": 0,
    "start_time": "2022-04-04T14:20:08.517Z"
   },
   {
    "duration": 0,
    "start_time": "2022-04-04T14:20:08.568Z"
   },
   {
    "duration": 0,
    "start_time": "2022-04-04T14:20:08.570Z"
   },
   {
    "duration": 0,
    "start_time": "2022-04-04T14:20:08.572Z"
   },
   {
    "duration": 0,
    "start_time": "2022-04-04T14:20:08.575Z"
   },
   {
    "duration": 0,
    "start_time": "2022-04-04T14:20:08.576Z"
   },
   {
    "duration": 0,
    "start_time": "2022-04-04T14:20:08.578Z"
   },
   {
    "duration": 0,
    "start_time": "2022-04-04T14:20:08.580Z"
   },
   {
    "duration": 0,
    "start_time": "2022-04-04T14:20:08.581Z"
   },
   {
    "duration": 0,
    "start_time": "2022-04-04T14:20:08.582Z"
   },
   {
    "duration": 0,
    "start_time": "2022-04-04T14:20:08.584Z"
   },
   {
    "duration": 0,
    "start_time": "2022-04-04T14:20:08.586Z"
   },
   {
    "duration": 0,
    "start_time": "2022-04-04T14:20:08.588Z"
   },
   {
    "duration": 0,
    "start_time": "2022-04-04T14:20:08.589Z"
   },
   {
    "duration": 0,
    "start_time": "2022-04-04T14:20:08.590Z"
   },
   {
    "duration": 0,
    "start_time": "2022-04-04T14:20:08.592Z"
   },
   {
    "duration": 0,
    "start_time": "2022-04-04T14:20:08.595Z"
   },
   {
    "duration": 0,
    "start_time": "2022-04-04T14:20:08.599Z"
   },
   {
    "duration": 11,
    "start_time": "2022-04-04T15:11:42.331Z"
   },
   {
    "duration": 11,
    "start_time": "2022-04-04T15:11:50.026Z"
   },
   {
    "duration": 1615,
    "start_time": "2022-04-04T15:11:59.878Z"
   },
   {
    "duration": 49,
    "start_time": "2022-04-04T15:12:01.496Z"
   },
   {
    "duration": 24,
    "start_time": "2022-04-04T15:12:01.548Z"
   },
   {
    "duration": 497,
    "start_time": "2022-04-04T15:12:01.575Z"
   },
   {
    "duration": 9,
    "start_time": "2022-04-04T15:12:02.074Z"
   },
   {
    "duration": 19,
    "start_time": "2022-04-04T15:12:02.085Z"
   },
   {
    "duration": 15,
    "start_time": "2022-04-04T15:12:02.107Z"
   },
   {
    "duration": 45,
    "start_time": "2022-04-04T15:12:02.124Z"
   },
   {
    "duration": 16,
    "start_time": "2022-04-04T15:12:02.171Z"
   },
   {
    "duration": 26,
    "start_time": "2022-04-04T15:12:02.191Z"
   },
   {
    "duration": 14,
    "start_time": "2022-04-04T15:12:02.219Z"
   },
   {
    "duration": 47,
    "start_time": "2022-04-04T15:12:02.235Z"
   },
   {
    "duration": 11,
    "start_time": "2022-04-04T15:12:02.284Z"
   },
   {
    "duration": 15,
    "start_time": "2022-04-04T15:12:02.297Z"
   },
   {
    "duration": 20,
    "start_time": "2022-04-04T15:12:02.315Z"
   },
   {
    "duration": 41,
    "start_time": "2022-04-04T15:12:02.337Z"
   },
   {
    "duration": 6,
    "start_time": "2022-04-04T15:12:02.380Z"
   },
   {
    "duration": 29,
    "start_time": "2022-04-04T15:12:02.388Z"
   },
   {
    "duration": 178,
    "start_time": "2022-04-04T15:12:02.419Z"
   },
   {
    "duration": 0,
    "start_time": "2022-04-04T15:12:02.600Z"
   },
   {
    "duration": 0,
    "start_time": "2022-04-04T15:12:02.603Z"
   },
   {
    "duration": 0,
    "start_time": "2022-04-04T15:12:02.604Z"
   },
   {
    "duration": 0,
    "start_time": "2022-04-04T15:12:02.605Z"
   },
   {
    "duration": 0,
    "start_time": "2022-04-04T15:12:02.607Z"
   },
   {
    "duration": 0,
    "start_time": "2022-04-04T15:12:02.608Z"
   },
   {
    "duration": 0,
    "start_time": "2022-04-04T15:12:02.609Z"
   },
   {
    "duration": 0,
    "start_time": "2022-04-04T15:12:02.611Z"
   },
   {
    "duration": 0,
    "start_time": "2022-04-04T15:12:02.613Z"
   },
   {
    "duration": 0,
    "start_time": "2022-04-04T15:12:02.614Z"
   },
   {
    "duration": 0,
    "start_time": "2022-04-04T15:12:02.615Z"
   },
   {
    "duration": 0,
    "start_time": "2022-04-04T15:12:02.616Z"
   },
   {
    "duration": 0,
    "start_time": "2022-04-04T15:12:02.618Z"
   },
   {
    "duration": 0,
    "start_time": "2022-04-04T15:12:02.619Z"
   },
   {
    "duration": 0,
    "start_time": "2022-04-04T15:12:02.620Z"
   },
   {
    "duration": 0,
    "start_time": "2022-04-04T15:12:02.622Z"
   },
   {
    "duration": 0,
    "start_time": "2022-04-04T15:12:02.623Z"
   },
   {
    "duration": 0,
    "start_time": "2022-04-04T15:12:02.624Z"
   },
   {
    "duration": 0,
    "start_time": "2022-04-04T15:12:02.668Z"
   },
   {
    "duration": 0,
    "start_time": "2022-04-04T15:12:02.670Z"
   },
   {
    "duration": 0,
    "start_time": "2022-04-04T15:12:02.671Z"
   },
   {
    "duration": 0,
    "start_time": "2022-04-04T15:12:02.672Z"
   },
   {
    "duration": 0,
    "start_time": "2022-04-04T15:12:02.674Z"
   },
   {
    "duration": 0,
    "start_time": "2022-04-04T15:12:02.675Z"
   },
   {
    "duration": 0,
    "start_time": "2022-04-04T15:12:02.676Z"
   },
   {
    "duration": 0,
    "start_time": "2022-04-04T15:12:02.677Z"
   },
   {
    "duration": 0,
    "start_time": "2022-04-04T15:12:02.678Z"
   },
   {
    "duration": 0,
    "start_time": "2022-04-04T15:12:02.680Z"
   },
   {
    "duration": 0,
    "start_time": "2022-04-04T15:12:02.681Z"
   },
   {
    "duration": 0,
    "start_time": "2022-04-04T15:12:02.683Z"
   },
   {
    "duration": 0,
    "start_time": "2022-04-04T15:12:02.685Z"
   },
   {
    "duration": 0,
    "start_time": "2022-04-04T15:12:02.686Z"
   },
   {
    "duration": 0,
    "start_time": "2022-04-04T15:12:02.688Z"
   },
   {
    "duration": 0,
    "start_time": "2022-04-04T15:12:02.690Z"
   },
   {
    "duration": 0,
    "start_time": "2022-04-04T15:12:02.691Z"
   },
   {
    "duration": 0,
    "start_time": "2022-04-04T15:12:02.693Z"
   },
   {
    "duration": 0,
    "start_time": "2022-04-04T15:12:02.695Z"
   },
   {
    "duration": 0,
    "start_time": "2022-04-04T15:12:02.696Z"
   },
   {
    "duration": 0,
    "start_time": "2022-04-04T15:12:02.698Z"
   },
   {
    "duration": 292,
    "start_time": "2022-04-04T15:16:37.971Z"
   },
   {
    "duration": 407,
    "start_time": "2022-04-04T15:17:18.437Z"
   },
   {
    "duration": 104,
    "start_time": "2022-04-04T15:18:29.514Z"
   },
   {
    "duration": 403,
    "start_time": "2022-04-04T15:18:37.407Z"
   },
   {
    "duration": 430,
    "start_time": "2022-04-04T15:35:15.281Z"
   },
   {
    "duration": 377,
    "start_time": "2022-04-04T15:35:22.160Z"
   },
   {
    "duration": 22,
    "start_time": "2022-04-04T15:35:32.803Z"
   },
   {
    "duration": 491,
    "start_time": "2022-04-04T15:35:45.341Z"
   },
   {
    "duration": 1771,
    "start_time": "2022-04-04T15:43:16.045Z"
   },
   {
    "duration": 1837,
    "start_time": "2022-04-04T15:43:30.258Z"
   },
   {
    "duration": 1498,
    "start_time": "2022-04-04T15:43:40.398Z"
   },
   {
    "duration": 471,
    "start_time": "2022-04-04T15:44:42.925Z"
   },
   {
    "duration": 523,
    "start_time": "2022-04-04T15:45:00.901Z"
   },
   {
    "duration": 784,
    "start_time": "2022-04-04T15:46:10.853Z"
   },
   {
    "duration": 762,
    "start_time": "2022-04-04T15:46:27.879Z"
   },
   {
    "duration": 559,
    "start_time": "2022-04-04T15:46:46.031Z"
   },
   {
    "duration": 925,
    "start_time": "2022-04-04T15:47:00.101Z"
   },
   {
    "duration": 871,
    "start_time": "2022-04-04T15:47:17.725Z"
   },
   {
    "duration": 901,
    "start_time": "2022-04-04T15:47:29.463Z"
   },
   {
    "duration": 875,
    "start_time": "2022-04-04T15:47:47.481Z"
   },
   {
    "duration": 831,
    "start_time": "2022-04-04T15:47:57.110Z"
   },
   {
    "duration": 702,
    "start_time": "2022-04-04T15:50:09.130Z"
   },
   {
    "duration": 655,
    "start_time": "2022-04-04T15:50:48.881Z"
   },
   {
    "duration": 648,
    "start_time": "2022-04-04T15:51:42.701Z"
   },
   {
    "duration": 646,
    "start_time": "2022-04-04T15:51:58.050Z"
   },
   {
    "duration": 424,
    "start_time": "2022-04-04T15:52:06.750Z"
   },
   {
    "duration": 628,
    "start_time": "2022-04-04T15:52:13.208Z"
   },
   {
    "duration": 687,
    "start_time": "2022-04-04T15:52:27.154Z"
   },
   {
    "duration": 655,
    "start_time": "2022-04-04T15:52:33.083Z"
   },
   {
    "duration": 557,
    "start_time": "2022-04-04T15:52:39.481Z"
   },
   {
    "duration": 761,
    "start_time": "2022-04-04T15:52:52.639Z"
   },
   {
    "duration": 670,
    "start_time": "2022-04-04T15:53:03.335Z"
   },
   {
    "duration": 556,
    "start_time": "2022-04-04T15:53:16.351Z"
   },
   {
    "duration": 404,
    "start_time": "2022-04-04T15:54:20.681Z"
   },
   {
    "duration": 432,
    "start_time": "2022-04-04T15:55:08.753Z"
   },
   {
    "duration": 92,
    "start_time": "2022-04-04T15:57:57.945Z"
   },
   {
    "duration": 101,
    "start_time": "2022-04-04T15:58:16.134Z"
   },
   {
    "duration": 1676,
    "start_time": "2022-04-04T15:58:33.282Z"
   },
   {
    "duration": 47,
    "start_time": "2022-04-04T15:58:34.970Z"
   },
   {
    "duration": 15,
    "start_time": "2022-04-04T15:58:35.019Z"
   },
   {
    "duration": 490,
    "start_time": "2022-04-04T15:58:35.036Z"
   },
   {
    "duration": 6,
    "start_time": "2022-04-04T15:58:35.529Z"
   },
   {
    "duration": 21,
    "start_time": "2022-04-04T15:58:35.573Z"
   },
   {
    "duration": 9,
    "start_time": "2022-04-04T15:58:35.597Z"
   },
   {
    "duration": 8,
    "start_time": "2022-04-04T15:58:35.608Z"
   },
   {
    "duration": 15,
    "start_time": "2022-04-04T15:58:35.618Z"
   },
   {
    "duration": 28,
    "start_time": "2022-04-04T15:58:35.673Z"
   },
   {
    "duration": 20,
    "start_time": "2022-04-04T15:58:35.703Z"
   },
   {
    "duration": 46,
    "start_time": "2022-04-04T15:58:35.725Z"
   },
   {
    "duration": 13,
    "start_time": "2022-04-04T15:58:35.775Z"
   },
   {
    "duration": 30,
    "start_time": "2022-04-04T15:58:35.793Z"
   },
   {
    "duration": 19,
    "start_time": "2022-04-04T15:58:35.826Z"
   },
   {
    "duration": 35,
    "start_time": "2022-04-04T15:58:35.847Z"
   },
   {
    "duration": 7,
    "start_time": "2022-04-04T15:58:35.886Z"
   },
   {
    "duration": 50,
    "start_time": "2022-04-04T15:58:35.895Z"
   },
   {
    "duration": 489,
    "start_time": "2022-04-04T15:58:35.947Z"
   },
   {
    "duration": 8,
    "start_time": "2022-04-04T15:58:36.438Z"
   },
   {
    "duration": 37,
    "start_time": "2022-04-04T15:58:36.448Z"
   },
   {
    "duration": 95,
    "start_time": "2022-04-04T15:58:36.487Z"
   },
   {
    "duration": 0,
    "start_time": "2022-04-04T15:58:36.586Z"
   },
   {
    "duration": 0,
    "start_time": "2022-04-04T15:58:36.588Z"
   },
   {
    "duration": 0,
    "start_time": "2022-04-04T15:58:36.590Z"
   },
   {
    "duration": 0,
    "start_time": "2022-04-04T15:58:36.591Z"
   },
   {
    "duration": 0,
    "start_time": "2022-04-04T15:58:36.593Z"
   },
   {
    "duration": 0,
    "start_time": "2022-04-04T15:58:36.595Z"
   },
   {
    "duration": 0,
    "start_time": "2022-04-04T15:58:36.596Z"
   },
   {
    "duration": 0,
    "start_time": "2022-04-04T15:58:36.597Z"
   },
   {
    "duration": 0,
    "start_time": "2022-04-04T15:58:36.599Z"
   },
   {
    "duration": 0,
    "start_time": "2022-04-04T15:58:36.600Z"
   },
   {
    "duration": 0,
    "start_time": "2022-04-04T15:58:36.601Z"
   },
   {
    "duration": 0,
    "start_time": "2022-04-04T15:58:36.603Z"
   },
   {
    "duration": 0,
    "start_time": "2022-04-04T15:58:36.604Z"
   },
   {
    "duration": 0,
    "start_time": "2022-04-04T15:58:36.605Z"
   },
   {
    "duration": 0,
    "start_time": "2022-04-04T15:58:36.607Z"
   },
   {
    "duration": 0,
    "start_time": "2022-04-04T15:58:36.608Z"
   },
   {
    "duration": 1,
    "start_time": "2022-04-04T15:58:36.610Z"
   },
   {
    "duration": 0,
    "start_time": "2022-04-04T15:58:36.612Z"
   },
   {
    "duration": 0,
    "start_time": "2022-04-04T15:58:36.614Z"
   },
   {
    "duration": 0,
    "start_time": "2022-04-04T15:58:36.615Z"
   },
   {
    "duration": 0,
    "start_time": "2022-04-04T15:58:36.617Z"
   },
   {
    "duration": 0,
    "start_time": "2022-04-04T15:58:36.619Z"
   },
   {
    "duration": 0,
    "start_time": "2022-04-04T15:58:36.621Z"
   },
   {
    "duration": 0,
    "start_time": "2022-04-04T15:58:36.669Z"
   },
   {
    "duration": 0,
    "start_time": "2022-04-04T15:58:36.671Z"
   },
   {
    "duration": 0,
    "start_time": "2022-04-04T15:58:36.678Z"
   },
   {
    "duration": 0,
    "start_time": "2022-04-04T15:58:36.680Z"
   },
   {
    "duration": 0,
    "start_time": "2022-04-04T15:58:36.682Z"
   },
   {
    "duration": 0,
    "start_time": "2022-04-04T15:58:36.684Z"
   },
   {
    "duration": 0,
    "start_time": "2022-04-04T15:58:36.685Z"
   },
   {
    "duration": 0,
    "start_time": "2022-04-04T15:58:36.687Z"
   },
   {
    "duration": 0,
    "start_time": "2022-04-04T15:58:36.688Z"
   },
   {
    "duration": 0,
    "start_time": "2022-04-04T15:58:36.689Z"
   },
   {
    "duration": 0,
    "start_time": "2022-04-04T15:58:36.691Z"
   },
   {
    "duration": 0,
    "start_time": "2022-04-04T15:58:36.693Z"
   },
   {
    "duration": 0,
    "start_time": "2022-04-04T15:58:36.695Z"
   },
   {
    "duration": 425,
    "start_time": "2022-04-04T16:00:56.018Z"
   },
   {
    "duration": 403,
    "start_time": "2022-04-04T16:01:17.429Z"
   },
   {
    "duration": 186,
    "start_time": "2022-04-04T16:02:10.242Z"
   },
   {
    "duration": 401,
    "start_time": "2022-04-04T16:03:01.481Z"
   },
   {
    "duration": 409,
    "start_time": "2022-04-04T16:03:44.804Z"
   },
   {
    "duration": 476,
    "start_time": "2022-04-04T16:04:16.898Z"
   },
   {
    "duration": 1663,
    "start_time": "2022-04-04T16:04:49.439Z"
   },
   {
    "duration": 44,
    "start_time": "2022-04-04T16:04:51.104Z"
   },
   {
    "duration": 15,
    "start_time": "2022-04-04T16:04:51.150Z"
   },
   {
    "duration": 511,
    "start_time": "2022-04-04T16:04:51.171Z"
   },
   {
    "duration": 7,
    "start_time": "2022-04-04T16:04:51.685Z"
   },
   {
    "duration": 17,
    "start_time": "2022-04-04T16:04:51.694Z"
   },
   {
    "duration": 10,
    "start_time": "2022-04-04T16:04:51.713Z"
   },
   {
    "duration": 50,
    "start_time": "2022-04-04T16:04:51.725Z"
   },
   {
    "duration": 23,
    "start_time": "2022-04-04T16:04:51.778Z"
   },
   {
    "duration": 27,
    "start_time": "2022-04-04T16:04:51.805Z"
   },
   {
    "duration": 42,
    "start_time": "2022-04-04T16:04:51.835Z"
   },
   {
    "duration": 25,
    "start_time": "2022-04-04T16:04:51.881Z"
   },
   {
    "duration": 10,
    "start_time": "2022-04-04T16:04:51.909Z"
   },
   {
    "duration": 15,
    "start_time": "2022-04-04T16:04:51.921Z"
   },
   {
    "duration": 42,
    "start_time": "2022-04-04T16:04:51.938Z"
   },
   {
    "duration": 21,
    "start_time": "2022-04-04T16:04:51.983Z"
   },
   {
    "duration": 6,
    "start_time": "2022-04-04T16:04:52.006Z"
   },
   {
    "duration": 209,
    "start_time": "2022-04-04T16:04:52.015Z"
   },
   {
    "duration": 0,
    "start_time": "2022-04-04T16:04:52.228Z"
   },
   {
    "duration": 0,
    "start_time": "2022-04-04T16:04:52.230Z"
   },
   {
    "duration": 0,
    "start_time": "2022-04-04T16:04:52.231Z"
   },
   {
    "duration": 0,
    "start_time": "2022-04-04T16:04:52.233Z"
   },
   {
    "duration": 0,
    "start_time": "2022-04-04T16:04:52.235Z"
   },
   {
    "duration": 0,
    "start_time": "2022-04-04T16:04:52.237Z"
   },
   {
    "duration": 0,
    "start_time": "2022-04-04T16:04:52.239Z"
   },
   {
    "duration": 0,
    "start_time": "2022-04-04T16:04:52.241Z"
   },
   {
    "duration": 0,
    "start_time": "2022-04-04T16:04:52.243Z"
   },
   {
    "duration": 0,
    "start_time": "2022-04-04T16:04:52.245Z"
   },
   {
    "duration": 0,
    "start_time": "2022-04-04T16:04:52.246Z"
   },
   {
    "duration": 0,
    "start_time": "2022-04-04T16:04:52.273Z"
   },
   {
    "duration": 0,
    "start_time": "2022-04-04T16:04:52.275Z"
   },
   {
    "duration": 0,
    "start_time": "2022-04-04T16:04:52.277Z"
   },
   {
    "duration": 0,
    "start_time": "2022-04-04T16:04:52.279Z"
   },
   {
    "duration": 0,
    "start_time": "2022-04-04T16:04:52.282Z"
   },
   {
    "duration": 0,
    "start_time": "2022-04-04T16:04:52.284Z"
   },
   {
    "duration": 0,
    "start_time": "2022-04-04T16:04:52.285Z"
   },
   {
    "duration": 0,
    "start_time": "2022-04-04T16:04:52.286Z"
   },
   {
    "duration": 0,
    "start_time": "2022-04-04T16:04:52.288Z"
   },
   {
    "duration": 0,
    "start_time": "2022-04-04T16:04:52.290Z"
   },
   {
    "duration": 0,
    "start_time": "2022-04-04T16:04:52.293Z"
   },
   {
    "duration": 0,
    "start_time": "2022-04-04T16:04:52.295Z"
   },
   {
    "duration": 0,
    "start_time": "2022-04-04T16:04:52.298Z"
   },
   {
    "duration": 0,
    "start_time": "2022-04-04T16:04:52.300Z"
   },
   {
    "duration": 0,
    "start_time": "2022-04-04T16:04:52.302Z"
   },
   {
    "duration": 0,
    "start_time": "2022-04-04T16:04:52.304Z"
   },
   {
    "duration": 0,
    "start_time": "2022-04-04T16:04:52.306Z"
   },
   {
    "duration": 0,
    "start_time": "2022-04-04T16:04:52.308Z"
   },
   {
    "duration": 0,
    "start_time": "2022-04-04T16:04:52.375Z"
   },
   {
    "duration": 0,
    "start_time": "2022-04-04T16:04:52.378Z"
   },
   {
    "duration": 0,
    "start_time": "2022-04-04T16:04:52.380Z"
   },
   {
    "duration": 0,
    "start_time": "2022-04-04T16:04:52.382Z"
   },
   {
    "duration": 0,
    "start_time": "2022-04-04T16:04:52.383Z"
   },
   {
    "duration": 0,
    "start_time": "2022-04-04T16:04:52.385Z"
   },
   {
    "duration": 0,
    "start_time": "2022-04-04T16:04:52.387Z"
   },
   {
    "duration": 0,
    "start_time": "2022-04-04T16:04:52.388Z"
   },
   {
    "duration": 0,
    "start_time": "2022-04-04T16:04:52.390Z"
   },
   {
    "duration": 581,
    "start_time": "2022-04-04T16:07:20.432Z"
   },
   {
    "duration": 2041,
    "start_time": "2022-04-04T16:07:57.646Z"
   },
   {
    "duration": 63,
    "start_time": "2022-04-04T16:07:59.692Z"
   },
   {
    "duration": 26,
    "start_time": "2022-04-04T16:07:59.766Z"
   },
   {
    "duration": 536,
    "start_time": "2022-04-04T16:07:59.797Z"
   },
   {
    "duration": 14,
    "start_time": "2022-04-04T16:08:00.368Z"
   },
   {
    "duration": 49,
    "start_time": "2022-04-04T16:08:00.386Z"
   },
   {
    "duration": 22,
    "start_time": "2022-04-04T16:08:00.438Z"
   },
   {
    "duration": 34,
    "start_time": "2022-04-04T16:08:00.462Z"
   },
   {
    "duration": 25,
    "start_time": "2022-04-04T16:08:00.499Z"
   },
   {
    "duration": 30,
    "start_time": "2022-04-04T16:08:00.530Z"
   },
   {
    "duration": 37,
    "start_time": "2022-04-04T16:08:00.564Z"
   },
   {
    "duration": 55,
    "start_time": "2022-04-04T16:08:00.606Z"
   },
   {
    "duration": 67,
    "start_time": "2022-04-04T16:08:00.663Z"
   },
   {
    "duration": 18,
    "start_time": "2022-04-04T16:08:00.733Z"
   },
   {
    "duration": 45,
    "start_time": "2022-04-04T16:08:00.755Z"
   },
   {
    "duration": 60,
    "start_time": "2022-04-04T16:08:00.803Z"
   },
   {
    "duration": 22,
    "start_time": "2022-04-04T16:08:00.866Z"
   },
   {
    "duration": 836,
    "start_time": "2022-04-04T16:08:00.892Z"
   },
   {
    "duration": 9,
    "start_time": "2022-04-04T16:08:01.731Z"
   },
   {
    "duration": 592,
    "start_time": "2022-04-04T16:08:01.744Z"
   },
   {
    "duration": 51,
    "start_time": "2022-04-04T16:08:02.339Z"
   },
   {
    "duration": 120,
    "start_time": "2022-04-04T16:08:02.393Z"
   },
   {
    "duration": 679,
    "start_time": "2022-04-04T16:08:02.517Z"
   },
   {
    "duration": 21,
    "start_time": "2022-04-04T16:08:03.199Z"
   },
   {
    "duration": 163,
    "start_time": "2022-04-04T16:08:03.223Z"
   },
   {
    "duration": 0,
    "start_time": "2022-04-04T16:08:03.392Z"
   },
   {
    "duration": 0,
    "start_time": "2022-04-04T16:08:03.395Z"
   },
   {
    "duration": 0,
    "start_time": "2022-04-04T16:08:03.397Z"
   },
   {
    "duration": 0,
    "start_time": "2022-04-04T16:08:03.399Z"
   },
   {
    "duration": 0,
    "start_time": "2022-04-04T16:08:03.401Z"
   },
   {
    "duration": 0,
    "start_time": "2022-04-04T16:08:03.403Z"
   },
   {
    "duration": 0,
    "start_time": "2022-04-04T16:08:03.405Z"
   },
   {
    "duration": 0,
    "start_time": "2022-04-04T16:08:03.407Z"
   },
   {
    "duration": 0,
    "start_time": "2022-04-04T16:08:03.409Z"
   },
   {
    "duration": 0,
    "start_time": "2022-04-04T16:08:03.412Z"
   },
   {
    "duration": 0,
    "start_time": "2022-04-04T16:08:03.414Z"
   },
   {
    "duration": 0,
    "start_time": "2022-04-04T16:08:03.416Z"
   },
   {
    "duration": 0,
    "start_time": "2022-04-04T16:08:03.418Z"
   },
   {
    "duration": 0,
    "start_time": "2022-04-04T16:08:03.420Z"
   },
   {
    "duration": 0,
    "start_time": "2022-04-04T16:08:03.423Z"
   },
   {
    "duration": 0,
    "start_time": "2022-04-04T16:08:03.425Z"
   },
   {
    "duration": 0,
    "start_time": "2022-04-04T16:08:03.431Z"
   },
   {
    "duration": 0,
    "start_time": "2022-04-04T16:08:03.433Z"
   },
   {
    "duration": 0,
    "start_time": "2022-04-04T16:08:03.434Z"
   },
   {
    "duration": 0,
    "start_time": "2022-04-04T16:08:03.436Z"
   },
   {
    "duration": 0,
    "start_time": "2022-04-04T16:08:03.437Z"
   },
   {
    "duration": 0,
    "start_time": "2022-04-04T16:08:03.470Z"
   },
   {
    "duration": 1,
    "start_time": "2022-04-04T16:08:03.472Z"
   },
   {
    "duration": 0,
    "start_time": "2022-04-04T16:08:03.475Z"
   },
   {
    "duration": 0,
    "start_time": "2022-04-04T16:08:03.477Z"
   },
   {
    "duration": 0,
    "start_time": "2022-04-04T16:08:03.479Z"
   },
   {
    "duration": 0,
    "start_time": "2022-04-04T16:08:03.485Z"
   },
   {
    "duration": 0,
    "start_time": "2022-04-04T16:08:03.489Z"
   },
   {
    "duration": 0,
    "start_time": "2022-04-04T16:08:03.498Z"
   },
   {
    "duration": 0,
    "start_time": "2022-04-04T16:08:03.499Z"
   },
   {
    "duration": 0,
    "start_time": "2022-04-04T16:08:03.500Z"
   },
   {
    "duration": 14,
    "start_time": "2022-04-04T16:29:01.981Z"
   },
   {
    "duration": 1676,
    "start_time": "2022-04-04T16:43:54.192Z"
   },
   {
    "duration": 53,
    "start_time": "2022-04-04T16:43:55.871Z"
   },
   {
    "duration": 16,
    "start_time": "2022-04-04T16:43:55.926Z"
   },
   {
    "duration": 468,
    "start_time": "2022-04-04T16:43:55.945Z"
   },
   {
    "duration": 8,
    "start_time": "2022-04-04T16:43:56.415Z"
   },
   {
    "duration": 20,
    "start_time": "2022-04-04T16:43:56.468Z"
   },
   {
    "duration": 8,
    "start_time": "2022-04-04T16:43:56.491Z"
   },
   {
    "duration": 6,
    "start_time": "2022-04-04T16:43:56.501Z"
   },
   {
    "duration": 16,
    "start_time": "2022-04-04T16:43:56.509Z"
   },
   {
    "duration": 64,
    "start_time": "2022-04-04T16:43:56.530Z"
   },
   {
    "duration": 14,
    "start_time": "2022-04-04T16:43:56.597Z"
   },
   {
    "duration": 16,
    "start_time": "2022-04-04T16:43:56.613Z"
   },
   {
    "duration": 52,
    "start_time": "2022-04-04T16:43:56.631Z"
   },
   {
    "duration": 16,
    "start_time": "2022-04-04T16:43:56.686Z"
   },
   {
    "duration": 12,
    "start_time": "2022-04-04T16:43:56.704Z"
   },
   {
    "duration": 18,
    "start_time": "2022-04-04T16:43:56.718Z"
   },
   {
    "duration": 6,
    "start_time": "2022-04-04T16:43:56.738Z"
   },
   {
    "duration": 522,
    "start_time": "2022-04-04T16:43:56.768Z"
   },
   {
    "duration": 7,
    "start_time": "2022-04-04T16:43:57.292Z"
   },
   {
    "duration": 409,
    "start_time": "2022-04-04T16:43:57.301Z"
   },
   {
    "duration": 26,
    "start_time": "2022-04-04T16:43:57.713Z"
   },
   {
    "duration": 90,
    "start_time": "2022-04-04T16:43:57.741Z"
   },
   {
    "duration": 527,
    "start_time": "2022-04-04T16:43:57.834Z"
   },
   {
    "duration": 17,
    "start_time": "2022-04-04T16:43:58.368Z"
   },
   {
    "duration": 111,
    "start_time": "2022-04-04T16:43:58.388Z"
   },
   {
    "duration": 0,
    "start_time": "2022-04-04T16:43:58.502Z"
   },
   {
    "duration": 0,
    "start_time": "2022-04-04T16:43:58.504Z"
   },
   {
    "duration": 0,
    "start_time": "2022-04-04T16:43:58.505Z"
   },
   {
    "duration": 0,
    "start_time": "2022-04-04T16:43:58.506Z"
   },
   {
    "duration": 0,
    "start_time": "2022-04-04T16:43:58.508Z"
   },
   {
    "duration": 0,
    "start_time": "2022-04-04T16:43:58.510Z"
   },
   {
    "duration": 0,
    "start_time": "2022-04-04T16:43:58.511Z"
   },
   {
    "duration": 0,
    "start_time": "2022-04-04T16:43:58.512Z"
   },
   {
    "duration": 0,
    "start_time": "2022-04-04T16:43:58.514Z"
   },
   {
    "duration": 0,
    "start_time": "2022-04-04T16:43:58.516Z"
   },
   {
    "duration": 0,
    "start_time": "2022-04-04T16:43:58.518Z"
   },
   {
    "duration": 0,
    "start_time": "2022-04-04T16:43:58.520Z"
   },
   {
    "duration": 0,
    "start_time": "2022-04-04T16:43:58.521Z"
   },
   {
    "duration": 0,
    "start_time": "2022-04-04T16:43:58.522Z"
   },
   {
    "duration": 1,
    "start_time": "2022-04-04T16:43:58.523Z"
   },
   {
    "duration": 0,
    "start_time": "2022-04-04T16:43:58.525Z"
   },
   {
    "duration": 1,
    "start_time": "2022-04-04T16:43:58.526Z"
   },
   {
    "duration": 0,
    "start_time": "2022-04-04T16:43:58.528Z"
   },
   {
    "duration": 0,
    "start_time": "2022-04-04T16:43:58.529Z"
   },
   {
    "duration": 0,
    "start_time": "2022-04-04T16:43:58.530Z"
   },
   {
    "duration": 0,
    "start_time": "2022-04-04T16:43:58.532Z"
   },
   {
    "duration": 0,
    "start_time": "2022-04-04T16:43:58.534Z"
   },
   {
    "duration": 0,
    "start_time": "2022-04-04T16:43:58.536Z"
   },
   {
    "duration": 0,
    "start_time": "2022-04-04T16:43:58.537Z"
   },
   {
    "duration": 0,
    "start_time": "2022-04-04T16:43:58.539Z"
   },
   {
    "duration": 0,
    "start_time": "2022-04-04T16:43:58.568Z"
   },
   {
    "duration": 0,
    "start_time": "2022-04-04T16:43:58.573Z"
   },
   {
    "duration": 0,
    "start_time": "2022-04-04T16:43:58.574Z"
   },
   {
    "duration": 1,
    "start_time": "2022-04-04T16:43:58.578Z"
   },
   {
    "duration": 0,
    "start_time": "2022-04-04T16:43:58.580Z"
   },
   {
    "duration": 0,
    "start_time": "2022-04-04T16:43:58.583Z"
   },
   {
    "duration": 1595,
    "start_time": "2022-04-04T17:33:25.501Z"
   },
   {
    "duration": 44,
    "start_time": "2022-04-04T17:33:27.099Z"
   },
   {
    "duration": 15,
    "start_time": "2022-04-04T17:33:27.146Z"
   },
   {
    "duration": 468,
    "start_time": "2022-04-04T17:33:27.164Z"
   },
   {
    "duration": 41,
    "start_time": "2022-04-04T17:33:27.634Z"
   },
   {
    "duration": 41,
    "start_time": "2022-04-04T17:33:27.678Z"
   },
   {
    "duration": 22,
    "start_time": "2022-04-04T17:33:27.721Z"
   },
   {
    "duration": 19,
    "start_time": "2022-04-04T17:33:27.745Z"
   },
   {
    "duration": 36,
    "start_time": "2022-04-04T17:33:27.766Z"
   },
   {
    "duration": 31,
    "start_time": "2022-04-04T17:33:27.806Z"
   },
   {
    "duration": 14,
    "start_time": "2022-04-04T17:33:27.839Z"
   },
   {
    "duration": 25,
    "start_time": "2022-04-04T17:33:27.870Z"
   },
   {
    "duration": 23,
    "start_time": "2022-04-04T17:33:27.898Z"
   },
   {
    "duration": 12,
    "start_time": "2022-04-04T17:33:27.923Z"
   },
   {
    "duration": 12,
    "start_time": "2022-04-04T17:33:27.937Z"
   },
   {
    "duration": 41,
    "start_time": "2022-04-04T17:33:27.951Z"
   },
   {
    "duration": 6,
    "start_time": "2022-04-04T17:33:27.994Z"
   },
   {
    "duration": 547,
    "start_time": "2022-04-04T17:33:28.003Z"
   },
   {
    "duration": 7,
    "start_time": "2022-04-04T17:33:28.552Z"
   },
   {
    "duration": 434,
    "start_time": "2022-04-04T17:33:28.561Z"
   },
   {
    "duration": 28,
    "start_time": "2022-04-04T17:33:28.998Z"
   },
   {
    "duration": 103,
    "start_time": "2022-04-04T17:33:29.029Z"
   },
   {
    "duration": 587,
    "start_time": "2022-04-04T17:33:29.135Z"
   },
   {
    "duration": 13,
    "start_time": "2022-04-04T17:33:29.725Z"
   },
   {
    "duration": 116,
    "start_time": "2022-04-04T17:33:29.740Z"
   },
   {
    "duration": 0,
    "start_time": "2022-04-04T17:33:29.861Z"
   },
   {
    "duration": 0,
    "start_time": "2022-04-04T17:33:29.863Z"
   },
   {
    "duration": 0,
    "start_time": "2022-04-04T17:33:29.865Z"
   },
   {
    "duration": 1,
    "start_time": "2022-04-04T17:33:29.872Z"
   },
   {
    "duration": 0,
    "start_time": "2022-04-04T17:33:29.875Z"
   },
   {
    "duration": 0,
    "start_time": "2022-04-04T17:33:29.877Z"
   },
   {
    "duration": 0,
    "start_time": "2022-04-04T17:33:29.880Z"
   },
   {
    "duration": 0,
    "start_time": "2022-04-04T17:33:29.883Z"
   },
   {
    "duration": 0,
    "start_time": "2022-04-04T17:33:29.885Z"
   },
   {
    "duration": 0,
    "start_time": "2022-04-04T17:33:29.887Z"
   },
   {
    "duration": 0,
    "start_time": "2022-04-04T17:33:29.890Z"
   },
   {
    "duration": 0,
    "start_time": "2022-04-04T17:33:29.892Z"
   },
   {
    "duration": 0,
    "start_time": "2022-04-04T17:33:29.895Z"
   },
   {
    "duration": 0,
    "start_time": "2022-04-04T17:33:29.897Z"
   },
   {
    "duration": 0,
    "start_time": "2022-04-04T17:33:29.899Z"
   },
   {
    "duration": 0,
    "start_time": "2022-04-04T17:33:29.902Z"
   },
   {
    "duration": 0,
    "start_time": "2022-04-04T17:33:29.904Z"
   },
   {
    "duration": 0,
    "start_time": "2022-04-04T17:33:29.906Z"
   },
   {
    "duration": 0,
    "start_time": "2022-04-04T17:33:29.908Z"
   },
   {
    "duration": 0,
    "start_time": "2022-04-04T17:33:29.910Z"
   },
   {
    "duration": 0,
    "start_time": "2022-04-04T17:33:29.913Z"
   },
   {
    "duration": 0,
    "start_time": "2022-04-04T17:33:29.972Z"
   },
   {
    "duration": 0,
    "start_time": "2022-04-04T17:33:29.975Z"
   },
   {
    "duration": 0,
    "start_time": "2022-04-04T17:33:29.977Z"
   },
   {
    "duration": 0,
    "start_time": "2022-04-04T17:33:29.980Z"
   },
   {
    "duration": 0,
    "start_time": "2022-04-04T17:33:29.982Z"
   },
   {
    "duration": 0,
    "start_time": "2022-04-04T17:33:29.983Z"
   },
   {
    "duration": 0,
    "start_time": "2022-04-04T17:33:29.992Z"
   },
   {
    "duration": 0,
    "start_time": "2022-04-04T17:33:29.994Z"
   },
   {
    "duration": 0,
    "start_time": "2022-04-04T17:33:29.996Z"
   },
   {
    "duration": 0,
    "start_time": "2022-04-04T17:33:29.999Z"
   },
   {
    "duration": 152,
    "start_time": "2022-04-04T18:28:46.373Z"
   },
   {
    "duration": 320,
    "start_time": "2022-04-04T18:28:52.671Z"
   },
   {
    "duration": 1812,
    "start_time": "2022-04-04T18:56:18.694Z"
   },
   {
    "duration": 43,
    "start_time": "2022-04-04T18:56:20.510Z"
   },
   {
    "duration": 22,
    "start_time": "2022-04-04T18:56:20.556Z"
   },
   {
    "duration": 498,
    "start_time": "2022-04-04T18:56:20.580Z"
   },
   {
    "duration": 10,
    "start_time": "2022-04-04T18:56:21.088Z"
   },
   {
    "duration": 16,
    "start_time": "2022-04-04T18:56:21.100Z"
   },
   {
    "duration": 11,
    "start_time": "2022-04-04T18:56:21.118Z"
   },
   {
    "duration": 43,
    "start_time": "2022-04-04T18:56:21.132Z"
   },
   {
    "duration": 34,
    "start_time": "2022-04-04T18:56:21.179Z"
   },
   {
    "duration": 24,
    "start_time": "2022-04-04T18:56:21.215Z"
   },
   {
    "duration": 14,
    "start_time": "2022-04-04T18:56:21.241Z"
   },
   {
    "duration": 25,
    "start_time": "2022-04-04T18:56:21.272Z"
   },
   {
    "duration": 10,
    "start_time": "2022-04-04T18:56:21.299Z"
   },
   {
    "duration": 9,
    "start_time": "2022-04-04T18:56:21.314Z"
   },
   {
    "duration": 11,
    "start_time": "2022-04-04T18:56:21.325Z"
   },
   {
    "duration": 47,
    "start_time": "2022-04-04T18:56:21.338Z"
   },
   {
    "duration": 13,
    "start_time": "2022-04-04T18:56:21.388Z"
   },
   {
    "duration": 513,
    "start_time": "2022-04-04T18:56:21.403Z"
   },
   {
    "duration": 7,
    "start_time": "2022-04-04T18:56:21.918Z"
   },
   {
    "duration": 443,
    "start_time": "2022-04-04T18:56:21.927Z"
   },
   {
    "duration": 36,
    "start_time": "2022-04-04T18:56:22.372Z"
   },
   {
    "duration": 98,
    "start_time": "2022-04-04T18:56:22.410Z"
   },
   {
    "duration": 528,
    "start_time": "2022-04-04T18:56:22.510Z"
   },
   {
    "duration": 13,
    "start_time": "2022-04-04T18:56:23.040Z"
   },
   {
    "duration": 335,
    "start_time": "2022-04-04T18:56:23.055Z"
   },
   {
    "duration": 507,
    "start_time": "2022-04-04T18:56:23.394Z"
   },
   {
    "duration": 14,
    "start_time": "2022-04-04T18:56:23.903Z"
   },
   {
    "duration": 24,
    "start_time": "2022-04-04T18:56:23.919Z"
   },
   {
    "duration": 731,
    "start_time": "2022-04-04T18:56:23.946Z"
   },
   {
    "duration": 338,
    "start_time": "2022-04-04T18:56:24.679Z"
   },
   {
    "duration": 8,
    "start_time": "2022-04-04T18:56:25.020Z"
   },
   {
    "duration": 16,
    "start_time": "2022-04-04T18:56:25.030Z"
   },
   {
    "duration": 19,
    "start_time": "2022-04-04T18:56:25.070Z"
   },
   {
    "duration": 753,
    "start_time": "2022-04-04T18:56:25.091Z"
   },
   {
    "duration": 668,
    "start_time": "2022-04-04T18:56:25.847Z"
   },
   {
    "duration": 12,
    "start_time": "2022-04-04T18:56:26.518Z"
   },
   {
    "duration": 51,
    "start_time": "2022-04-04T18:56:26.533Z"
   },
   {
    "duration": 36,
    "start_time": "2022-04-04T18:56:26.588Z"
   },
   {
    "duration": 599,
    "start_time": "2022-04-04T18:56:26.628Z"
   },
   {
    "duration": 11,
    "start_time": "2022-04-04T18:56:27.228Z"
   },
   {
    "duration": 31,
    "start_time": "2022-04-04T18:56:27.245Z"
   },
   {
    "duration": 33,
    "start_time": "2022-04-04T18:56:27.278Z"
   },
   {
    "duration": 487,
    "start_time": "2022-04-04T18:56:27.314Z"
   },
   {
    "duration": 512,
    "start_time": "2022-04-04T18:56:27.805Z"
   },
   {
    "duration": 6,
    "start_time": "2022-04-04T18:56:28.320Z"
   },
   {
    "duration": 921,
    "start_time": "2022-04-04T18:56:28.329Z"
   },
   {
    "duration": 29,
    "start_time": "2022-04-04T18:56:29.253Z"
   },
   {
    "duration": 42,
    "start_time": "2022-04-04T18:56:29.288Z"
   },
   {
    "duration": 6,
    "start_time": "2022-04-04T18:56:29.333Z"
   },
   {
    "duration": 97,
    "start_time": "2022-04-04T18:56:29.341Z"
   },
   {
    "duration": 49,
    "start_time": "2022-04-04T18:56:29.440Z"
   },
   {
    "duration": 24,
    "start_time": "2022-04-04T18:56:29.492Z"
   },
   {
    "duration": 6,
    "start_time": "2022-04-04T18:56:29.518Z"
   },
   {
    "duration": 91,
    "start_time": "2022-04-04T18:56:29.527Z"
   },
   {
    "duration": 9,
    "start_time": "2022-04-04T18:56:29.620Z"
   },
   {
    "duration": 19,
    "start_time": "2022-04-04T18:56:29.631Z"
   },
   {
    "duration": 1649,
    "start_time": "2022-04-04T19:05:59.990Z"
   },
   {
    "duration": 66,
    "start_time": "2022-04-04T19:06:01.643Z"
   },
   {
    "duration": 16,
    "start_time": "2022-04-04T19:06:01.712Z"
   },
   {
    "duration": 482,
    "start_time": "2022-04-04T19:06:01.731Z"
   },
   {
    "duration": 6,
    "start_time": "2022-04-04T19:06:02.215Z"
   },
   {
    "duration": 57,
    "start_time": "2022-04-04T19:06:02.223Z"
   },
   {
    "duration": 13,
    "start_time": "2022-04-04T19:06:02.293Z"
   },
   {
    "duration": 8,
    "start_time": "2022-04-04T19:06:02.308Z"
   },
   {
    "duration": 18,
    "start_time": "2022-04-04T19:06:02.318Z"
   },
   {
    "duration": 47,
    "start_time": "2022-04-04T19:06:02.340Z"
   },
   {
    "duration": 29,
    "start_time": "2022-04-04T19:06:02.393Z"
   },
   {
    "duration": 21,
    "start_time": "2022-04-04T19:06:02.425Z"
   },
   {
    "duration": 16,
    "start_time": "2022-04-04T19:06:02.448Z"
   },
   {
    "duration": 29,
    "start_time": "2022-04-04T19:06:02.476Z"
   },
   {
    "duration": 17,
    "start_time": "2022-04-04T19:06:02.508Z"
   },
   {
    "duration": 21,
    "start_time": "2022-04-04T19:06:02.528Z"
   },
   {
    "duration": 8,
    "start_time": "2022-04-04T19:06:02.551Z"
   },
   {
    "duration": 559,
    "start_time": "2022-04-04T19:06:02.567Z"
   },
   {
    "duration": 7,
    "start_time": "2022-04-04T19:06:03.129Z"
   },
   {
    "duration": 449,
    "start_time": "2022-04-04T19:06:03.138Z"
   },
   {
    "duration": 34,
    "start_time": "2022-04-04T19:06:03.592Z"
   },
   {
    "duration": 112,
    "start_time": "2022-04-04T19:06:03.629Z"
   },
   {
    "duration": 561,
    "start_time": "2022-04-04T19:06:03.743Z"
   },
   {
    "duration": 14,
    "start_time": "2022-04-04T19:06:04.306Z"
   },
   {
    "duration": 349,
    "start_time": "2022-04-04T19:06:04.323Z"
   },
   {
    "duration": 225,
    "start_time": "2022-04-04T19:06:04.676Z"
   },
   {
    "duration": 0,
    "start_time": "2022-04-04T19:06:04.904Z"
   },
   {
    "duration": 0,
    "start_time": "2022-04-04T19:06:04.906Z"
   },
   {
    "duration": 0,
    "start_time": "2022-04-04T19:06:04.907Z"
   },
   {
    "duration": 0,
    "start_time": "2022-04-04T19:06:04.908Z"
   },
   {
    "duration": 1,
    "start_time": "2022-04-04T19:06:04.909Z"
   },
   {
    "duration": 0,
    "start_time": "2022-04-04T19:06:04.911Z"
   },
   {
    "duration": 0,
    "start_time": "2022-04-04T19:06:04.912Z"
   },
   {
    "duration": 0,
    "start_time": "2022-04-04T19:06:04.913Z"
   },
   {
    "duration": 0,
    "start_time": "2022-04-04T19:06:04.916Z"
   },
   {
    "duration": 0,
    "start_time": "2022-04-04T19:06:04.917Z"
   },
   {
    "duration": 0,
    "start_time": "2022-04-04T19:06:04.918Z"
   },
   {
    "duration": 0,
    "start_time": "2022-04-04T19:06:04.919Z"
   },
   {
    "duration": 0,
    "start_time": "2022-04-04T19:06:04.920Z"
   },
   {
    "duration": 0,
    "start_time": "2022-04-04T19:06:04.922Z"
   },
   {
    "duration": 0,
    "start_time": "2022-04-04T19:06:04.923Z"
   },
   {
    "duration": 0,
    "start_time": "2022-04-04T19:06:04.924Z"
   },
   {
    "duration": 0,
    "start_time": "2022-04-04T19:06:04.925Z"
   },
   {
    "duration": 1,
    "start_time": "2022-04-04T19:06:04.926Z"
   },
   {
    "duration": 0,
    "start_time": "2022-04-04T19:06:04.928Z"
   },
   {
    "duration": 0,
    "start_time": "2022-04-04T19:06:04.929Z"
   },
   {
    "duration": 0,
    "start_time": "2022-04-04T19:06:04.931Z"
   },
   {
    "duration": 0,
    "start_time": "2022-04-04T19:06:04.967Z"
   },
   {
    "duration": 0,
    "start_time": "2022-04-04T19:06:04.968Z"
   },
   {
    "duration": 0,
    "start_time": "2022-04-04T19:06:04.969Z"
   },
   {
    "duration": 0,
    "start_time": "2022-04-04T19:06:04.970Z"
   },
   {
    "duration": 0,
    "start_time": "2022-04-04T19:06:04.971Z"
   },
   {
    "duration": 0,
    "start_time": "2022-04-04T19:06:04.972Z"
   },
   {
    "duration": 0,
    "start_time": "2022-04-04T19:06:04.973Z"
   },
   {
    "duration": 0,
    "start_time": "2022-04-04T19:06:04.980Z"
   },
   {
    "duration": 0,
    "start_time": "2022-04-04T19:06:04.981Z"
   },
   {
    "duration": 1635,
    "start_time": "2022-04-04T19:07:31.400Z"
   },
   {
    "duration": 58,
    "start_time": "2022-04-04T19:07:33.037Z"
   },
   {
    "duration": 15,
    "start_time": "2022-04-04T19:07:33.097Z"
   },
   {
    "duration": 477,
    "start_time": "2022-04-04T19:07:33.115Z"
   },
   {
    "duration": 7,
    "start_time": "2022-04-04T19:07:33.599Z"
   },
   {
    "duration": 17,
    "start_time": "2022-04-04T19:07:33.608Z"
   },
   {
    "duration": 47,
    "start_time": "2022-04-04T19:07:33.628Z"
   },
   {
    "duration": 24,
    "start_time": "2022-04-04T19:07:33.687Z"
   },
   {
    "duration": 19,
    "start_time": "2022-04-04T19:07:33.713Z"
   },
   {
    "duration": 25,
    "start_time": "2022-04-04T19:07:33.735Z"
   },
   {
    "duration": 33,
    "start_time": "2022-04-04T19:07:33.770Z"
   },
   {
    "duration": 23,
    "start_time": "2022-04-04T19:07:33.805Z"
   },
   {
    "duration": 12,
    "start_time": "2022-04-04T19:07:33.830Z"
   },
   {
    "duration": 45,
    "start_time": "2022-04-04T19:07:33.844Z"
   },
   {
    "duration": 16,
    "start_time": "2022-04-04T19:07:33.892Z"
   },
   {
    "duration": 19,
    "start_time": "2022-04-04T19:07:33.911Z"
   },
   {
    "duration": 6,
    "start_time": "2022-04-04T19:07:33.933Z"
   },
   {
    "duration": 554,
    "start_time": "2022-04-04T19:07:33.942Z"
   },
   {
    "duration": 6,
    "start_time": "2022-04-04T19:07:34.499Z"
   },
   {
    "duration": 452,
    "start_time": "2022-04-04T19:07:34.507Z"
   },
   {
    "duration": 32,
    "start_time": "2022-04-04T19:07:34.962Z"
   },
   {
    "duration": 106,
    "start_time": "2022-04-04T19:07:35.001Z"
   },
   {
    "duration": 545,
    "start_time": "2022-04-04T19:07:35.109Z"
   },
   {
    "duration": 23,
    "start_time": "2022-04-04T19:07:35.656Z"
   },
   {
    "duration": 316,
    "start_time": "2022-04-04T19:07:35.683Z"
   },
   {
    "duration": 516,
    "start_time": "2022-04-04T19:07:36.002Z"
   },
   {
    "duration": 13,
    "start_time": "2022-04-04T19:07:36.520Z"
   },
   {
    "duration": 38,
    "start_time": "2022-04-04T19:07:36.539Z"
   },
   {
    "duration": 692,
    "start_time": "2022-04-04T19:07:36.581Z"
   },
   {
    "duration": 320,
    "start_time": "2022-04-04T19:07:37.278Z"
   },
   {
    "duration": 9,
    "start_time": "2022-04-04T19:07:37.600Z"
   },
   {
    "duration": 34,
    "start_time": "2022-04-04T19:07:37.611Z"
   },
   {
    "duration": 31,
    "start_time": "2022-04-04T19:07:37.647Z"
   },
   {
    "duration": 646,
    "start_time": "2022-04-04T19:07:37.682Z"
   },
   {
    "duration": 671,
    "start_time": "2022-04-04T19:07:38.331Z"
   },
   {
    "duration": 8,
    "start_time": "2022-04-04T19:07:39.005Z"
   },
   {
    "duration": 16,
    "start_time": "2022-04-04T19:07:39.016Z"
   },
   {
    "duration": 42,
    "start_time": "2022-04-04T19:07:39.034Z"
   },
   {
    "duration": 647,
    "start_time": "2022-04-04T19:07:39.081Z"
   },
   {
    "duration": 11,
    "start_time": "2022-04-04T19:07:39.730Z"
   },
   {
    "duration": 32,
    "start_time": "2022-04-04T19:07:39.743Z"
   },
   {
    "duration": 34,
    "start_time": "2022-04-04T19:07:39.778Z"
   },
   {
    "duration": 336,
    "start_time": "2022-04-04T19:07:39.814Z"
   },
   {
    "duration": 377,
    "start_time": "2022-04-04T19:07:40.152Z"
   },
   {
    "duration": 6,
    "start_time": "2022-04-04T19:07:40.532Z"
   },
   {
    "duration": 632,
    "start_time": "2022-04-04T19:07:40.541Z"
   },
   {
    "duration": 9,
    "start_time": "2022-04-04T19:07:41.176Z"
   },
   {
    "duration": 35,
    "start_time": "2022-04-04T19:07:41.188Z"
   },
   {
    "duration": 5,
    "start_time": "2022-04-04T19:07:41.225Z"
   },
   {
    "duration": 90,
    "start_time": "2022-04-04T19:07:41.232Z"
   },
   {
    "duration": 19,
    "start_time": "2022-04-04T19:07:41.324Z"
   },
   {
    "duration": 29,
    "start_time": "2022-04-04T19:07:41.368Z"
   },
   {
    "duration": 7,
    "start_time": "2022-04-04T19:07:41.399Z"
   },
   {
    "duration": 96,
    "start_time": "2022-04-04T19:07:41.408Z"
   },
   {
    "duration": 11,
    "start_time": "2022-04-04T19:07:41.507Z"
   },
   {
    "duration": 52,
    "start_time": "2022-04-04T19:07:41.521Z"
   },
   {
    "duration": 18,
    "start_time": "2022-04-04T19:37:49.499Z"
   },
   {
    "duration": 351,
    "start_time": "2022-04-04T19:56:17.895Z"
   },
   {
    "duration": 422,
    "start_time": "2022-04-04T19:56:27.496Z"
   },
   {
    "duration": 340,
    "start_time": "2022-04-04T19:56:32.415Z"
   },
   {
    "duration": 7,
    "start_time": "2022-04-04T19:58:02.031Z"
   },
   {
    "duration": 6,
    "start_time": "2022-04-04T19:58:09.752Z"
   },
   {
    "duration": 8,
    "start_time": "2022-04-04T19:59:07.770Z"
   },
   {
    "duration": 5,
    "start_time": "2022-04-04T19:59:29.133Z"
   },
   {
    "duration": 7,
    "start_time": "2022-04-04T20:06:59.093Z"
   },
   {
    "duration": 7,
    "start_time": "2022-04-04T20:07:10.022Z"
   },
   {
    "duration": 7,
    "start_time": "2022-04-04T20:07:33.408Z"
   },
   {
    "duration": 12,
    "start_time": "2022-04-04T20:08:30.508Z"
   },
   {
    "duration": 7,
    "start_time": "2022-04-04T20:08:48.234Z"
   },
   {
    "duration": 30,
    "start_time": "2022-04-04T20:11:03.705Z"
   },
   {
    "duration": 29,
    "start_time": "2022-04-04T20:11:09.979Z"
   },
   {
    "duration": 29,
    "start_time": "2022-04-04T20:11:19.028Z"
   },
   {
    "duration": 39,
    "start_time": "2022-04-04T20:11:26.379Z"
   },
   {
    "duration": 58,
    "start_time": "2022-04-04T20:12:17.617Z"
   },
   {
    "duration": 62,
    "start_time": "2022-04-04T20:13:41.643Z"
   },
   {
    "duration": 99,
    "start_time": "2022-04-04T20:14:02.774Z"
   },
   {
    "duration": 65,
    "start_time": "2022-04-04T20:14:13.021Z"
   },
   {
    "duration": 69,
    "start_time": "2022-04-04T20:15:03.626Z"
   },
   {
    "duration": 100,
    "start_time": "2022-04-04T20:15:25.620Z"
   },
   {
    "duration": 1670,
    "start_time": "2022-04-04T20:15:53.155Z"
   },
   {
    "duration": 56,
    "start_time": "2022-04-04T20:15:54.828Z"
   },
   {
    "duration": 15,
    "start_time": "2022-04-04T20:15:54.887Z"
   },
   {
    "duration": 486,
    "start_time": "2022-04-04T20:15:54.905Z"
   },
   {
    "duration": 6,
    "start_time": "2022-04-04T20:15:55.394Z"
   },
   {
    "duration": 15,
    "start_time": "2022-04-04T20:15:55.402Z"
   },
   {
    "duration": 16,
    "start_time": "2022-04-04T20:15:55.471Z"
   },
   {
    "duration": 7,
    "start_time": "2022-04-04T20:15:55.489Z"
   },
   {
    "duration": 23,
    "start_time": "2022-04-04T20:15:55.498Z"
   },
   {
    "duration": 55,
    "start_time": "2022-04-04T20:15:55.525Z"
   },
   {
    "duration": 13,
    "start_time": "2022-04-04T20:15:55.582Z"
   },
   {
    "duration": 201,
    "start_time": "2022-04-04T20:15:55.598Z"
   },
   {
    "duration": 1,
    "start_time": "2022-04-04T20:15:55.804Z"
   },
   {
    "duration": 0,
    "start_time": "2022-04-04T20:15:55.806Z"
   },
   {
    "duration": 0,
    "start_time": "2022-04-04T20:15:55.807Z"
   },
   {
    "duration": 0,
    "start_time": "2022-04-04T20:15:55.809Z"
   },
   {
    "duration": 0,
    "start_time": "2022-04-04T20:15:55.811Z"
   },
   {
    "duration": 0,
    "start_time": "2022-04-04T20:15:55.812Z"
   },
   {
    "duration": 0,
    "start_time": "2022-04-04T20:15:55.814Z"
   },
   {
    "duration": 0,
    "start_time": "2022-04-04T20:15:55.815Z"
   },
   {
    "duration": 0,
    "start_time": "2022-04-04T20:15:55.816Z"
   },
   {
    "duration": 0,
    "start_time": "2022-04-04T20:15:55.818Z"
   },
   {
    "duration": 0,
    "start_time": "2022-04-04T20:15:55.820Z"
   },
   {
    "duration": 0,
    "start_time": "2022-04-04T20:15:55.821Z"
   },
   {
    "duration": 0,
    "start_time": "2022-04-04T20:15:55.823Z"
   },
   {
    "duration": 0,
    "start_time": "2022-04-04T20:15:55.824Z"
   },
   {
    "duration": 0,
    "start_time": "2022-04-04T20:15:55.825Z"
   },
   {
    "duration": 0,
    "start_time": "2022-04-04T20:15:55.827Z"
   },
   {
    "duration": 0,
    "start_time": "2022-04-04T20:15:55.828Z"
   },
   {
    "duration": 0,
    "start_time": "2022-04-04T20:15:55.829Z"
   },
   {
    "duration": 0,
    "start_time": "2022-04-04T20:15:55.867Z"
   },
   {
    "duration": 0,
    "start_time": "2022-04-04T20:15:55.869Z"
   },
   {
    "duration": 0,
    "start_time": "2022-04-04T20:15:55.871Z"
   },
   {
    "duration": 0,
    "start_time": "2022-04-04T20:15:55.873Z"
   },
   {
    "duration": 0,
    "start_time": "2022-04-04T20:15:55.876Z"
   },
   {
    "duration": 0,
    "start_time": "2022-04-04T20:15:55.878Z"
   },
   {
    "duration": 0,
    "start_time": "2022-04-04T20:15:55.879Z"
   },
   {
    "duration": 0,
    "start_time": "2022-04-04T20:15:55.881Z"
   },
   {
    "duration": 0,
    "start_time": "2022-04-04T20:15:55.882Z"
   },
   {
    "duration": 0,
    "start_time": "2022-04-04T20:15:55.893Z"
   },
   {
    "duration": 0,
    "start_time": "2022-04-04T20:15:55.894Z"
   },
   {
    "duration": 0,
    "start_time": "2022-04-04T20:15:55.895Z"
   },
   {
    "duration": 0,
    "start_time": "2022-04-04T20:15:55.897Z"
   },
   {
    "duration": 0,
    "start_time": "2022-04-04T20:15:55.899Z"
   },
   {
    "duration": 0,
    "start_time": "2022-04-04T20:15:55.900Z"
   },
   {
    "duration": 0,
    "start_time": "2022-04-04T20:15:55.902Z"
   },
   {
    "duration": 0,
    "start_time": "2022-04-04T20:15:55.903Z"
   },
   {
    "duration": 0,
    "start_time": "2022-04-04T20:15:55.904Z"
   },
   {
    "duration": 0,
    "start_time": "2022-04-04T20:15:55.906Z"
   },
   {
    "duration": 0,
    "start_time": "2022-04-04T20:15:55.908Z"
   },
   {
    "duration": 0,
    "start_time": "2022-04-04T20:15:55.909Z"
   },
   {
    "duration": 0,
    "start_time": "2022-04-04T20:15:55.911Z"
   },
   {
    "duration": 1,
    "start_time": "2022-04-04T20:15:55.968Z"
   },
   {
    "duration": 0,
    "start_time": "2022-04-04T20:15:55.971Z"
   },
   {
    "duration": 0,
    "start_time": "2022-04-04T20:15:55.972Z"
   },
   {
    "duration": 11,
    "start_time": "2022-04-04T20:18:51.121Z"
   },
   {
    "duration": 2420,
    "start_time": "2022-04-04T20:19:01.099Z"
   },
   {
    "duration": 50,
    "start_time": "2022-04-04T20:19:03.523Z"
   },
   {
    "duration": 21,
    "start_time": "2022-04-04T20:19:03.578Z"
   },
   {
    "duration": 597,
    "start_time": "2022-04-04T20:19:03.602Z"
   },
   {
    "duration": 11,
    "start_time": "2022-04-04T20:19:04.202Z"
   },
   {
    "duration": 70,
    "start_time": "2022-04-04T20:19:04.216Z"
   },
   {
    "duration": 16,
    "start_time": "2022-04-04T20:19:04.289Z"
   },
   {
    "duration": 13,
    "start_time": "2022-04-04T20:19:04.308Z"
   },
   {
    "duration": 17,
    "start_time": "2022-04-04T20:19:04.324Z"
   },
   {
    "duration": 33,
    "start_time": "2022-04-04T20:19:04.376Z"
   },
   {
    "duration": 14,
    "start_time": "2022-04-04T20:19:04.412Z"
   },
   {
    "duration": 51,
    "start_time": "2022-04-04T20:19:04.429Z"
   },
   {
    "duration": 355,
    "start_time": "2022-04-04T20:19:04.483Z"
   },
   {
    "duration": 0,
    "start_time": "2022-04-04T20:19:04.844Z"
   },
   {
    "duration": 0,
    "start_time": "2022-04-04T20:19:04.847Z"
   },
   {
    "duration": 0,
    "start_time": "2022-04-04T20:19:04.849Z"
   },
   {
    "duration": 0,
    "start_time": "2022-04-04T20:19:04.875Z"
   },
   {
    "duration": 0,
    "start_time": "2022-04-04T20:19:04.877Z"
   },
   {
    "duration": 0,
    "start_time": "2022-04-04T20:19:04.880Z"
   },
   {
    "duration": 0,
    "start_time": "2022-04-04T20:19:04.882Z"
   },
   {
    "duration": 0,
    "start_time": "2022-04-04T20:19:04.885Z"
   },
   {
    "duration": 0,
    "start_time": "2022-04-04T20:19:04.888Z"
   },
   {
    "duration": 0,
    "start_time": "2022-04-04T20:19:04.890Z"
   },
   {
    "duration": 0,
    "start_time": "2022-04-04T20:19:04.899Z"
   },
   {
    "duration": 0,
    "start_time": "2022-04-04T20:19:04.901Z"
   },
   {
    "duration": 0,
    "start_time": "2022-04-04T20:19:04.903Z"
   },
   {
    "duration": 0,
    "start_time": "2022-04-04T20:19:04.906Z"
   },
   {
    "duration": 0,
    "start_time": "2022-04-04T20:19:04.910Z"
   },
   {
    "duration": 0,
    "start_time": "2022-04-04T20:19:04.912Z"
   },
   {
    "duration": 0,
    "start_time": "2022-04-04T20:19:04.914Z"
   },
   {
    "duration": 0,
    "start_time": "2022-04-04T20:19:04.917Z"
   },
   {
    "duration": 0,
    "start_time": "2022-04-04T20:19:04.919Z"
   },
   {
    "duration": 0,
    "start_time": "2022-04-04T20:19:04.921Z"
   },
   {
    "duration": 0,
    "start_time": "2022-04-04T20:19:04.969Z"
   },
   {
    "duration": 0,
    "start_time": "2022-04-04T20:19:04.972Z"
   },
   {
    "duration": 0,
    "start_time": "2022-04-04T20:19:04.974Z"
   },
   {
    "duration": 0,
    "start_time": "2022-04-04T20:19:04.976Z"
   },
   {
    "duration": 0,
    "start_time": "2022-04-04T20:19:04.985Z"
   },
   {
    "duration": 0,
    "start_time": "2022-04-04T20:19:04.990Z"
   },
   {
    "duration": 0,
    "start_time": "2022-04-04T20:19:04.991Z"
   },
   {
    "duration": 0,
    "start_time": "2022-04-04T20:19:04.993Z"
   },
   {
    "duration": 1,
    "start_time": "2022-04-04T20:19:04.995Z"
   },
   {
    "duration": 0,
    "start_time": "2022-04-04T20:19:04.998Z"
   },
   {
    "duration": 0,
    "start_time": "2022-04-04T20:19:05.000Z"
   },
   {
    "duration": 0,
    "start_time": "2022-04-04T20:19:05.002Z"
   },
   {
    "duration": 0,
    "start_time": "2022-04-04T20:19:05.004Z"
   },
   {
    "duration": 0,
    "start_time": "2022-04-04T20:19:05.005Z"
   },
   {
    "duration": 0,
    "start_time": "2022-04-04T20:19:05.007Z"
   },
   {
    "duration": 0,
    "start_time": "2022-04-04T20:19:05.009Z"
   },
   {
    "duration": 0,
    "start_time": "2022-04-04T20:19:05.011Z"
   },
   {
    "duration": 0,
    "start_time": "2022-04-04T20:19:05.068Z"
   },
   {
    "duration": 0,
    "start_time": "2022-04-04T20:19:05.071Z"
   },
   {
    "duration": 0,
    "start_time": "2022-04-04T20:19:05.072Z"
   },
   {
    "duration": 1,
    "start_time": "2022-04-04T20:19:05.073Z"
   },
   {
    "duration": 0,
    "start_time": "2022-04-04T20:19:05.077Z"
   },
   {
    "duration": 2083,
    "start_time": "2022-04-04T20:19:52.487Z"
   },
   {
    "duration": 58,
    "start_time": "2022-04-04T20:19:54.573Z"
   },
   {
    "duration": 17,
    "start_time": "2022-04-04T20:19:54.633Z"
   },
   {
    "duration": 532,
    "start_time": "2022-04-04T20:19:54.654Z"
   },
   {
    "duration": 9,
    "start_time": "2022-04-04T20:19:55.189Z"
   },
   {
    "duration": 21,
    "start_time": "2022-04-04T20:19:55.203Z"
   },
   {
    "duration": 54,
    "start_time": "2022-04-04T20:19:55.227Z"
   },
   {
    "duration": 7,
    "start_time": "2022-04-04T20:19:55.284Z"
   },
   {
    "duration": 19,
    "start_time": "2022-04-04T20:19:55.294Z"
   },
   {
    "duration": 51,
    "start_time": "2022-04-04T20:19:55.317Z"
   },
   {
    "duration": 16,
    "start_time": "2022-04-04T20:19:55.371Z"
   },
   {
    "duration": 18,
    "start_time": "2022-04-04T20:19:55.391Z"
   },
   {
    "duration": 12,
    "start_time": "2022-04-04T20:19:55.412Z"
   },
   {
    "duration": 54,
    "start_time": "2022-04-04T20:19:55.427Z"
   },
   {
    "duration": 15,
    "start_time": "2022-04-04T20:19:55.485Z"
   },
   {
    "duration": 14,
    "start_time": "2022-04-04T20:19:55.503Z"
   },
   {
    "duration": 19,
    "start_time": "2022-04-04T20:19:55.519Z"
   },
   {
    "duration": 518,
    "start_time": "2022-04-04T20:19:55.570Z"
   },
   {
    "duration": 6,
    "start_time": "2022-04-04T20:19:56.090Z"
   },
   {
    "duration": 439,
    "start_time": "2022-04-04T20:19:56.099Z"
   },
   {
    "duration": 52,
    "start_time": "2022-04-04T20:19:56.541Z"
   },
   {
    "duration": 93,
    "start_time": "2022-04-04T20:19:56.597Z"
   },
   {
    "duration": 543,
    "start_time": "2022-04-04T20:19:56.693Z"
   },
   {
    "duration": 332,
    "start_time": "2022-04-04T20:19:57.239Z"
   },
   {
    "duration": 503,
    "start_time": "2022-04-04T20:19:57.575Z"
   },
   {
    "duration": 16,
    "start_time": "2022-04-04T20:19:58.081Z"
   },
   {
    "duration": 16,
    "start_time": "2022-04-04T20:19:58.099Z"
   },
   {
    "duration": 994,
    "start_time": "2022-04-04T20:19:58.124Z"
   },
   {
    "duration": 348,
    "start_time": "2022-04-04T20:19:59.121Z"
   },
   {
    "duration": 11,
    "start_time": "2022-04-04T20:19:59.472Z"
   },
   {
    "duration": 24,
    "start_time": "2022-04-04T20:19:59.486Z"
   },
   {
    "duration": 25,
    "start_time": "2022-04-04T20:19:59.512Z"
   },
   {
    "duration": 863,
    "start_time": "2022-04-04T20:19:59.539Z"
   },
   {
    "duration": 714,
    "start_time": "2022-04-04T20:20:00.405Z"
   },
   {
    "duration": 9,
    "start_time": "2022-04-04T20:20:01.121Z"
   },
   {
    "duration": 43,
    "start_time": "2022-04-04T20:20:01.133Z"
   },
   {
    "duration": 32,
    "start_time": "2022-04-04T20:20:01.179Z"
   },
   {
    "duration": 795,
    "start_time": "2022-04-04T20:20:01.214Z"
   },
   {
    "duration": 16,
    "start_time": "2022-04-04T20:20:02.012Z"
   },
   {
    "duration": 37,
    "start_time": "2022-04-04T20:20:02.032Z"
   },
   {
    "duration": 44,
    "start_time": "2022-04-04T20:20:02.075Z"
   },
   {
    "duration": 390,
    "start_time": "2022-04-04T20:20:02.123Z"
   },
   {
    "duration": 395,
    "start_time": "2022-04-04T20:20:02.516Z"
   },
   {
    "duration": 8,
    "start_time": "2022-04-04T20:20:02.913Z"
   },
   {
    "duration": 661,
    "start_time": "2022-04-04T20:20:02.924Z"
   },
   {
    "duration": 7,
    "start_time": "2022-04-04T20:20:03.588Z"
   },
   {
    "duration": 41,
    "start_time": "2022-04-04T20:20:03.598Z"
   },
   {
    "duration": 8,
    "start_time": "2022-04-04T20:20:03.677Z"
   },
   {
    "duration": 116,
    "start_time": "2022-04-04T20:20:03.688Z"
   },
   {
    "duration": 27,
    "start_time": "2022-04-04T20:20:03.807Z"
   },
   {
    "duration": 56,
    "start_time": "2022-04-04T20:20:03.837Z"
   },
   {
    "duration": 15,
    "start_time": "2022-04-04T20:20:03.896Z"
   },
   {
    "duration": 104,
    "start_time": "2022-04-04T20:20:03.914Z"
   },
   {
    "duration": 13,
    "start_time": "2022-04-04T20:20:04.021Z"
   },
   {
    "duration": 50,
    "start_time": "2022-04-04T20:20:04.037Z"
   },
   {
    "duration": 1728,
    "start_time": "2022-04-04T20:23:42.553Z"
   },
   {
    "duration": 47,
    "start_time": "2022-04-04T20:23:44.284Z"
   },
   {
    "duration": 15,
    "start_time": "2022-04-04T20:23:44.334Z"
   },
   {
    "duration": 533,
    "start_time": "2022-04-04T20:23:44.354Z"
   },
   {
    "duration": 7,
    "start_time": "2022-04-04T20:23:44.889Z"
   },
   {
    "duration": 25,
    "start_time": "2022-04-04T20:23:44.899Z"
   },
   {
    "duration": 40,
    "start_time": "2022-04-04T20:23:44.927Z"
   },
   {
    "duration": 21,
    "start_time": "2022-04-04T20:23:44.972Z"
   },
   {
    "duration": 27,
    "start_time": "2022-04-04T20:23:44.995Z"
   },
   {
    "duration": 34,
    "start_time": "2022-04-04T20:23:45.026Z"
   },
   {
    "duration": 17,
    "start_time": "2022-04-04T20:23:45.069Z"
   },
   {
    "duration": 28,
    "start_time": "2022-04-04T20:23:45.088Z"
   },
   {
    "duration": 36,
    "start_time": "2022-04-04T20:23:45.118Z"
   },
   {
    "duration": 26,
    "start_time": "2022-04-04T20:23:45.156Z"
   },
   {
    "duration": 23,
    "start_time": "2022-04-04T20:23:45.185Z"
   },
   {
    "duration": 32,
    "start_time": "2022-04-04T20:23:45.210Z"
   },
   {
    "duration": 36,
    "start_time": "2022-04-04T20:23:45.244Z"
   },
   {
    "duration": 523,
    "start_time": "2022-04-04T20:23:45.283Z"
   },
   {
    "duration": 7,
    "start_time": "2022-04-04T20:23:45.808Z"
   },
   {
    "duration": 427,
    "start_time": "2022-04-04T20:23:45.818Z"
   },
   {
    "duration": 45,
    "start_time": "2022-04-04T20:23:46.247Z"
   },
   {
    "duration": 90,
    "start_time": "2022-04-04T20:23:46.294Z"
   },
   {
    "duration": 536,
    "start_time": "2022-04-04T20:23:46.388Z"
   },
   {
    "duration": 314,
    "start_time": "2022-04-04T20:23:46.928Z"
   },
   {
    "duration": 507,
    "start_time": "2022-04-04T20:23:47.244Z"
   },
   {
    "duration": 29,
    "start_time": "2022-04-04T20:23:47.753Z"
   },
   {
    "duration": 17,
    "start_time": "2022-04-04T20:23:47.785Z"
   },
   {
    "duration": 729,
    "start_time": "2022-04-04T20:23:47.810Z"
   },
   {
    "duration": 332,
    "start_time": "2022-04-04T20:23:48.542Z"
   },
   {
    "duration": 8,
    "start_time": "2022-04-04T20:23:48.877Z"
   },
   {
    "duration": 21,
    "start_time": "2022-04-04T20:23:48.888Z"
   },
   {
    "duration": 15,
    "start_time": "2022-04-04T20:23:48.911Z"
   },
   {
    "duration": 675,
    "start_time": "2022-04-04T20:23:48.929Z"
   },
   {
    "duration": 696,
    "start_time": "2022-04-04T20:23:49.606Z"
   },
   {
    "duration": 10,
    "start_time": "2022-04-04T20:23:50.305Z"
   },
   {
    "duration": 21,
    "start_time": "2022-04-04T20:23:50.317Z"
   },
   {
    "duration": 48,
    "start_time": "2022-04-04T20:23:50.340Z"
   },
   {
    "duration": 586,
    "start_time": "2022-04-04T20:23:50.391Z"
   },
   {
    "duration": 12,
    "start_time": "2022-04-04T20:23:50.980Z"
   },
   {
    "duration": 7,
    "start_time": "2022-04-04T20:23:50.995Z"
   },
   {
    "duration": 62,
    "start_time": "2022-04-04T20:23:51.005Z"
   },
   {
    "duration": 345,
    "start_time": "2022-04-04T20:23:51.072Z"
   },
   {
    "duration": 383,
    "start_time": "2022-04-04T20:23:51.419Z"
   },
   {
    "duration": 8,
    "start_time": "2022-04-04T20:23:51.804Z"
   },
   {
    "duration": 629,
    "start_time": "2022-04-04T20:23:51.815Z"
   },
   {
    "duration": 7,
    "start_time": "2022-04-04T20:23:52.446Z"
   },
   {
    "duration": 35,
    "start_time": "2022-04-04T20:23:52.468Z"
   },
   {
    "duration": 6,
    "start_time": "2022-04-04T20:23:52.506Z"
   },
   {
    "duration": 109,
    "start_time": "2022-04-04T20:23:52.514Z"
   },
   {
    "duration": 44,
    "start_time": "2022-04-04T20:23:52.625Z"
   },
   {
    "duration": 29,
    "start_time": "2022-04-04T20:23:52.672Z"
   },
   {
    "duration": 5,
    "start_time": "2022-04-04T20:23:52.703Z"
   },
   {
    "duration": 133,
    "start_time": "2022-04-04T20:23:52.710Z"
   },
   {
    "duration": 25,
    "start_time": "2022-04-04T20:23:52.846Z"
   },
   {
    "duration": 32,
    "start_time": "2022-04-04T20:23:52.874Z"
   },
   {
    "duration": 110,
    "start_time": "2022-04-04T20:25:25.535Z"
   },
   {
    "duration": 60,
    "start_time": "2022-04-04T20:27:00.294Z"
   },
   {
    "duration": 126,
    "start_time": "2022-04-04T20:30:36.645Z"
   },
   {
    "duration": 32,
    "start_time": "2022-04-04T20:30:50.042Z"
   },
   {
    "duration": 21,
    "start_time": "2022-04-04T20:31:26.511Z"
   },
   {
    "duration": 26,
    "start_time": "2022-04-04T20:35:40.545Z"
   },
   {
    "duration": 22,
    "start_time": "2022-04-04T20:35:48.508Z"
   },
   {
    "duration": 172,
    "start_time": "2022-04-04T20:37:25.835Z"
   },
   {
    "duration": 66,
    "start_time": "2022-04-04T20:37:37.745Z"
   },
   {
    "duration": 21,
    "start_time": "2022-04-04T20:42:56.514Z"
   },
   {
    "duration": 2236,
    "start_time": "2022-04-04T20:47:03.809Z"
   },
   {
    "duration": 50,
    "start_time": "2022-04-04T20:47:06.048Z"
   },
   {
    "duration": 25,
    "start_time": "2022-04-04T20:47:06.101Z"
   },
   {
    "duration": 561,
    "start_time": "2022-04-04T20:47:06.129Z"
   },
   {
    "duration": 12,
    "start_time": "2022-04-04T20:47:06.693Z"
   },
   {
    "duration": 66,
    "start_time": "2022-04-04T20:47:06.708Z"
   },
   {
    "duration": 31,
    "start_time": "2022-04-04T20:47:06.778Z"
   },
   {
    "duration": 36,
    "start_time": "2022-04-04T20:47:06.812Z"
   },
   {
    "duration": 71,
    "start_time": "2022-04-04T20:47:06.851Z"
   },
   {
    "duration": 52,
    "start_time": "2022-04-04T20:47:06.928Z"
   },
   {
    "duration": 33,
    "start_time": "2022-04-04T20:47:06.983Z"
   },
   {
    "duration": 61,
    "start_time": "2022-04-04T20:47:07.018Z"
   },
   {
    "duration": 33,
    "start_time": "2022-04-04T20:47:07.081Z"
   },
   {
    "duration": 62,
    "start_time": "2022-04-04T20:47:07.117Z"
   },
   {
    "duration": 40,
    "start_time": "2022-04-04T20:47:07.184Z"
   },
   {
    "duration": 60,
    "start_time": "2022-04-04T20:47:07.226Z"
   },
   {
    "duration": 54,
    "start_time": "2022-04-04T20:47:07.289Z"
   },
   {
    "duration": 548,
    "start_time": "2022-04-04T20:47:07.346Z"
   },
   {
    "duration": 9,
    "start_time": "2022-04-04T20:47:07.897Z"
   },
   {
    "duration": 561,
    "start_time": "2022-04-04T20:47:07.908Z"
   },
   {
    "duration": 34,
    "start_time": "2022-04-04T20:47:08.472Z"
   },
   {
    "duration": 107,
    "start_time": "2022-04-04T20:47:08.509Z"
   },
   {
    "duration": 570,
    "start_time": "2022-04-04T20:47:08.619Z"
   },
   {
    "duration": 338,
    "start_time": "2022-04-04T20:47:09.192Z"
   },
   {
    "duration": 549,
    "start_time": "2022-04-04T20:47:09.533Z"
   },
   {
    "duration": 16,
    "start_time": "2022-04-04T20:47:10.085Z"
   },
   {
    "duration": 38,
    "start_time": "2022-04-04T20:47:10.104Z"
   },
   {
    "duration": 757,
    "start_time": "2022-04-04T20:47:10.150Z"
   },
   {
    "duration": 360,
    "start_time": "2022-04-04T20:47:10.910Z"
   },
   {
    "duration": 11,
    "start_time": "2022-04-04T20:47:11.273Z"
   },
   {
    "duration": 36,
    "start_time": "2022-04-04T20:47:11.287Z"
   },
   {
    "duration": 30,
    "start_time": "2022-04-04T20:47:11.326Z"
   },
   {
    "duration": 661,
    "start_time": "2022-04-04T20:47:11.373Z"
   },
   {
    "duration": 689,
    "start_time": "2022-04-04T20:47:12.037Z"
   },
   {
    "duration": 9,
    "start_time": "2022-04-04T20:47:12.728Z"
   },
   {
    "duration": 48,
    "start_time": "2022-04-04T20:47:12.740Z"
   },
   {
    "duration": 27,
    "start_time": "2022-04-04T20:47:12.792Z"
   },
   {
    "duration": 777,
    "start_time": "2022-04-04T20:47:12.822Z"
   },
   {
    "duration": 14,
    "start_time": "2022-04-04T20:47:13.601Z"
   },
   {
    "duration": 9,
    "start_time": "2022-04-04T20:47:13.618Z"
   },
   {
    "duration": 58,
    "start_time": "2022-04-04T20:47:13.629Z"
   },
   {
    "duration": 380,
    "start_time": "2022-04-04T20:47:13.690Z"
   },
   {
    "duration": 672,
    "start_time": "2022-04-04T20:47:14.073Z"
   },
   {
    "duration": 7,
    "start_time": "2022-04-04T20:47:14.747Z"
   },
   {
    "duration": 660,
    "start_time": "2022-04-04T20:47:14.756Z"
   },
   {
    "duration": 7,
    "start_time": "2022-04-04T20:47:15.418Z"
   },
   {
    "duration": 58,
    "start_time": "2022-04-04T20:47:15.427Z"
   },
   {
    "duration": 5,
    "start_time": "2022-04-04T20:47:15.488Z"
   },
   {
    "duration": 90,
    "start_time": "2022-04-04T20:47:15.496Z"
   },
   {
    "duration": 22,
    "start_time": "2022-04-04T20:47:15.589Z"
   },
   {
    "duration": 59,
    "start_time": "2022-04-04T20:47:15.613Z"
   },
   {
    "duration": 7,
    "start_time": "2022-04-04T20:47:15.675Z"
   },
   {
    "duration": 80,
    "start_time": "2022-04-04T20:47:15.688Z"
   },
   {
    "duration": 12,
    "start_time": "2022-04-04T20:47:15.771Z"
   },
   {
    "duration": 20,
    "start_time": "2022-04-04T20:47:15.791Z"
   },
   {
    "duration": 23,
    "start_time": "2022-04-04T20:48:38.412Z"
   },
   {
    "duration": 19,
    "start_time": "2022-04-04T20:50:02.895Z"
   },
   {
    "duration": 7,
    "start_time": "2022-04-04T20:50:03.380Z"
   },
   {
    "duration": 527,
    "start_time": "2022-04-04T20:51:04.816Z"
   },
   {
    "duration": 1797,
    "start_time": "2022-04-04T20:51:19.753Z"
   },
   {
    "duration": 60,
    "start_time": "2022-04-04T20:51:21.553Z"
   },
   {
    "duration": 23,
    "start_time": "2022-04-04T20:51:21.616Z"
   },
   {
    "duration": 552,
    "start_time": "2022-04-04T20:51:21.643Z"
   },
   {
    "duration": 7,
    "start_time": "2022-04-04T20:51:22.197Z"
   },
   {
    "duration": 15,
    "start_time": "2022-04-04T20:51:22.207Z"
   },
   {
    "duration": 11,
    "start_time": "2022-04-04T20:51:22.275Z"
   },
   {
    "duration": 10,
    "start_time": "2022-04-04T20:51:22.288Z"
   },
   {
    "duration": 18,
    "start_time": "2022-04-04T20:51:22.301Z"
   },
   {
    "duration": 73,
    "start_time": "2022-04-04T20:51:22.324Z"
   },
   {
    "duration": 21,
    "start_time": "2022-04-04T20:51:22.400Z"
   },
   {
    "duration": 14,
    "start_time": "2022-04-04T20:51:22.423Z"
   },
   {
    "duration": 22,
    "start_time": "2022-04-04T20:51:22.469Z"
   },
   {
    "duration": 8,
    "start_time": "2022-04-04T20:51:22.495Z"
   },
   {
    "duration": 65,
    "start_time": "2022-04-04T20:51:22.506Z"
   },
   {
    "duration": 29,
    "start_time": "2022-04-04T20:51:22.578Z"
   },
   {
    "duration": 704,
    "start_time": "2022-04-04T20:51:22.610Z"
   },
   {
    "duration": 7,
    "start_time": "2022-04-04T20:51:23.316Z"
   },
   {
    "duration": 871,
    "start_time": "2022-04-04T20:51:23.325Z"
   },
   {
    "duration": 76,
    "start_time": "2022-04-04T20:51:24.198Z"
   },
   {
    "duration": 641,
    "start_time": "2022-04-04T20:51:24.276Z"
   },
   {
    "duration": 92,
    "start_time": "2022-04-04T20:51:24.919Z"
   },
   {
    "duration": 316,
    "start_time": "2022-04-04T20:51:25.013Z"
   },
   {
    "duration": 511,
    "start_time": "2022-04-04T20:51:25.331Z"
   },
   {
    "duration": 14,
    "start_time": "2022-04-04T20:51:25.844Z"
   },
   {
    "duration": 29,
    "start_time": "2022-04-04T20:51:25.860Z"
   },
   {
    "duration": 743,
    "start_time": "2022-04-04T20:51:25.892Z"
   },
   {
    "duration": 328,
    "start_time": "2022-04-04T20:51:26.641Z"
   },
   {
    "duration": 14,
    "start_time": "2022-04-04T20:51:26.972Z"
   },
   {
    "duration": 19,
    "start_time": "2022-04-04T20:51:26.988Z"
   },
   {
    "duration": 14,
    "start_time": "2022-04-04T20:51:27.009Z"
   },
   {
    "duration": 657,
    "start_time": "2022-04-04T20:51:27.026Z"
   },
   {
    "duration": 849,
    "start_time": "2022-04-04T20:51:27.686Z"
   },
   {
    "duration": 11,
    "start_time": "2022-04-04T20:51:28.538Z"
   },
   {
    "duration": 23,
    "start_time": "2022-04-04T20:51:28.568Z"
   },
   {
    "duration": 17,
    "start_time": "2022-04-04T20:51:28.593Z"
   },
   {
    "duration": 757,
    "start_time": "2022-04-04T20:51:28.612Z"
   },
   {
    "duration": 12,
    "start_time": "2022-04-04T20:51:29.372Z"
   },
   {
    "duration": 12,
    "start_time": "2022-04-04T20:51:29.387Z"
   },
   {
    "duration": 18,
    "start_time": "2022-04-04T20:51:29.401Z"
   },
   {
    "duration": 382,
    "start_time": "2022-04-04T20:51:29.422Z"
   },
   {
    "duration": 408,
    "start_time": "2022-04-04T20:51:29.807Z"
   },
   {
    "duration": 8,
    "start_time": "2022-04-04T20:51:30.218Z"
   },
   {
    "duration": 644,
    "start_time": "2022-04-04T20:51:30.228Z"
   },
   {
    "duration": 10,
    "start_time": "2022-04-04T20:51:30.880Z"
   },
   {
    "duration": 44,
    "start_time": "2022-04-04T20:51:30.893Z"
   },
   {
    "duration": 36,
    "start_time": "2022-04-04T20:51:30.939Z"
   },
   {
    "duration": 66,
    "start_time": "2022-04-04T20:51:30.979Z"
   },
   {
    "duration": 37,
    "start_time": "2022-04-04T20:51:31.048Z"
   },
   {
    "duration": 22,
    "start_time": "2022-04-04T20:51:31.088Z"
   },
   {
    "duration": 7,
    "start_time": "2022-04-04T20:51:31.113Z"
   },
   {
    "duration": 99,
    "start_time": "2022-04-04T20:51:31.122Z"
   },
   {
    "duration": 10,
    "start_time": "2022-04-04T20:51:31.223Z"
   },
   {
    "duration": 41,
    "start_time": "2022-04-04T20:51:31.235Z"
   },
   {
    "duration": 1679,
    "start_time": "2022-04-04T20:51:58.004Z"
   },
   {
    "duration": 46,
    "start_time": "2022-04-04T20:51:59.687Z"
   },
   {
    "duration": 16,
    "start_time": "2022-04-04T20:51:59.735Z"
   },
   {
    "duration": 517,
    "start_time": "2022-04-04T20:51:59.755Z"
   },
   {
    "duration": 10,
    "start_time": "2022-04-04T20:52:00.275Z"
   },
   {
    "duration": 26,
    "start_time": "2022-04-04T20:52:00.289Z"
   },
   {
    "duration": 14,
    "start_time": "2022-04-04T20:52:00.318Z"
   },
   {
    "duration": 52,
    "start_time": "2022-04-04T20:52:00.335Z"
   },
   {
    "duration": 23,
    "start_time": "2022-04-04T20:52:00.389Z"
   },
   {
    "duration": 25,
    "start_time": "2022-04-04T20:52:00.418Z"
   },
   {
    "duration": 41,
    "start_time": "2022-04-04T20:52:00.446Z"
   },
   {
    "duration": 12,
    "start_time": "2022-04-04T20:52:00.490Z"
   },
   {
    "duration": 24,
    "start_time": "2022-04-04T20:52:00.504Z"
   },
   {
    "duration": 8,
    "start_time": "2022-04-04T20:52:00.530Z"
   },
   {
    "duration": 23,
    "start_time": "2022-04-04T20:52:00.567Z"
   },
   {
    "duration": 32,
    "start_time": "2022-04-04T20:52:00.593Z"
   },
   {
    "duration": 514,
    "start_time": "2022-04-04T20:52:00.628Z"
   },
   {
    "duration": 8,
    "start_time": "2022-04-04T20:52:01.145Z"
   },
   {
    "duration": 426,
    "start_time": "2022-04-04T20:52:01.156Z"
   },
   {
    "duration": 31,
    "start_time": "2022-04-04T20:52:01.585Z"
   },
   {
    "duration": 106,
    "start_time": "2022-04-04T20:52:01.619Z"
   },
   {
    "duration": 541,
    "start_time": "2022-04-04T20:52:01.728Z"
   },
   {
    "duration": 318,
    "start_time": "2022-04-04T20:52:02.272Z"
   },
   {
    "duration": 499,
    "start_time": "2022-04-04T20:52:02.593Z"
   },
   {
    "duration": 13,
    "start_time": "2022-04-04T20:52:03.095Z"
   },
   {
    "duration": 15,
    "start_time": "2022-04-04T20:52:03.110Z"
   },
   {
    "duration": 708,
    "start_time": "2022-04-04T20:52:03.128Z"
   },
   {
    "duration": 469,
    "start_time": "2022-04-04T20:52:03.842Z"
   },
   {
    "duration": 11,
    "start_time": "2022-04-04T20:52:04.315Z"
   },
   {
    "duration": 44,
    "start_time": "2022-04-04T20:52:04.330Z"
   },
   {
    "duration": 18,
    "start_time": "2022-04-04T20:52:04.377Z"
   },
   {
    "duration": 660,
    "start_time": "2022-04-04T20:52:04.397Z"
   },
   {
    "duration": 622,
    "start_time": "2022-04-04T20:52:05.059Z"
   },
   {
    "duration": 9,
    "start_time": "2022-04-04T20:52:05.683Z"
   },
   {
    "duration": 23,
    "start_time": "2022-04-04T20:52:05.695Z"
   },
   {
    "duration": 57,
    "start_time": "2022-04-04T20:52:05.721Z"
   },
   {
    "duration": 766,
    "start_time": "2022-04-04T20:52:05.781Z"
   },
   {
    "duration": 24,
    "start_time": "2022-04-04T20:52:06.550Z"
   },
   {
    "duration": 25,
    "start_time": "2022-04-04T20:52:06.577Z"
   },
   {
    "duration": 37,
    "start_time": "2022-04-04T20:52:06.605Z"
   },
   {
    "duration": 439,
    "start_time": "2022-04-04T20:52:06.645Z"
   },
   {
    "duration": 372,
    "start_time": "2022-04-04T20:52:07.087Z"
   },
   {
    "duration": 17,
    "start_time": "2022-04-04T20:52:07.461Z"
   },
   {
    "duration": 607,
    "start_time": "2022-04-04T20:52:07.481Z"
   },
   {
    "duration": 6,
    "start_time": "2022-04-04T20:52:08.091Z"
   },
   {
    "duration": 29,
    "start_time": "2022-04-04T20:52:08.100Z"
   },
   {
    "duration": 36,
    "start_time": "2022-04-04T20:52:08.131Z"
   },
   {
    "duration": 67,
    "start_time": "2022-04-04T20:52:08.170Z"
   },
   {
    "duration": 54,
    "start_time": "2022-04-04T20:52:08.240Z"
   },
   {
    "duration": 20,
    "start_time": "2022-04-04T20:52:08.296Z"
   },
   {
    "duration": 5,
    "start_time": "2022-04-04T20:52:08.319Z"
   },
   {
    "duration": 103,
    "start_time": "2022-04-04T20:52:08.326Z"
   },
   {
    "duration": 10,
    "start_time": "2022-04-04T20:52:08.431Z"
   },
   {
    "duration": 34,
    "start_time": "2022-04-04T20:52:08.443Z"
   },
   {
    "duration": 1659,
    "start_time": "2022-04-04T20:53:39.265Z"
   },
   {
    "duration": 50,
    "start_time": "2022-04-04T20:53:40.927Z"
   },
   {
    "duration": 16,
    "start_time": "2022-04-04T20:53:40.980Z"
   },
   {
    "duration": 514,
    "start_time": "2022-04-04T20:53:40.999Z"
   },
   {
    "duration": 7,
    "start_time": "2022-04-04T20:53:41.516Z"
   },
   {
    "duration": 55,
    "start_time": "2022-04-04T20:53:41.526Z"
   },
   {
    "duration": 22,
    "start_time": "2022-04-04T20:53:41.583Z"
   },
   {
    "duration": 8,
    "start_time": "2022-04-04T20:53:41.608Z"
   },
   {
    "duration": 26,
    "start_time": "2022-04-04T20:53:41.619Z"
   },
   {
    "duration": 50,
    "start_time": "2022-04-04T20:53:41.649Z"
   },
   {
    "duration": 17,
    "start_time": "2022-04-04T20:53:41.701Z"
   },
   {
    "duration": 11,
    "start_time": "2022-04-04T20:53:41.721Z"
   },
   {
    "duration": 22,
    "start_time": "2022-04-04T20:53:41.771Z"
   },
   {
    "duration": 7,
    "start_time": "2022-04-04T20:53:41.796Z"
   },
   {
    "duration": 18,
    "start_time": "2022-04-04T20:53:41.806Z"
   },
   {
    "duration": 63,
    "start_time": "2022-04-04T20:53:41.825Z"
   },
   {
    "duration": 751,
    "start_time": "2022-04-04T20:53:41.891Z"
   },
   {
    "duration": 7,
    "start_time": "2022-04-04T20:53:42.644Z"
   },
   {
    "duration": 449,
    "start_time": "2022-04-04T20:53:42.654Z"
   },
   {
    "duration": 30,
    "start_time": "2022-04-04T20:53:43.106Z"
   },
   {
    "duration": 150,
    "start_time": "2022-04-04T20:53:43.139Z"
   },
   {
    "duration": 828,
    "start_time": "2022-04-04T20:53:43.292Z"
   },
   {
    "duration": 466,
    "start_time": "2022-04-04T20:53:44.123Z"
   },
   {
    "duration": 521,
    "start_time": "2022-04-04T20:53:44.591Z"
   },
   {
    "duration": 14,
    "start_time": "2022-04-04T20:53:45.115Z"
   },
   {
    "duration": 40,
    "start_time": "2022-04-04T20:53:45.131Z"
   },
   {
    "duration": 694,
    "start_time": "2022-04-04T20:53:45.174Z"
   },
   {
    "duration": 331,
    "start_time": "2022-04-04T20:53:45.874Z"
   },
   {
    "duration": 9,
    "start_time": "2022-04-04T20:53:46.207Z"
   },
   {
    "duration": 20,
    "start_time": "2022-04-04T20:53:46.218Z"
   },
   {
    "duration": 39,
    "start_time": "2022-04-04T20:53:46.240Z"
   },
   {
    "duration": 662,
    "start_time": "2022-04-04T20:53:46.281Z"
   },
   {
    "duration": 665,
    "start_time": "2022-04-04T20:53:46.945Z"
   },
   {
    "duration": 9,
    "start_time": "2022-04-04T20:53:47.613Z"
   },
   {
    "duration": 17,
    "start_time": "2022-04-04T20:53:47.625Z"
   },
   {
    "duration": 21,
    "start_time": "2022-04-04T20:53:47.668Z"
   },
   {
    "duration": 576,
    "start_time": "2022-04-04T20:53:47.691Z"
   },
   {
    "duration": 13,
    "start_time": "2022-04-04T20:53:48.270Z"
   },
   {
    "duration": 14,
    "start_time": "2022-04-04T20:53:48.287Z"
   },
   {
    "duration": 18,
    "start_time": "2022-04-04T20:53:48.303Z"
   },
   {
    "duration": 387,
    "start_time": "2022-04-04T20:53:48.324Z"
   },
   {
    "duration": 384,
    "start_time": "2022-04-04T20:53:48.714Z"
   },
   {
    "duration": 7,
    "start_time": "2022-04-04T20:53:49.100Z"
   },
   {
    "duration": 711,
    "start_time": "2022-04-04T20:53:49.110Z"
   },
   {
    "duration": 8,
    "start_time": "2022-04-04T20:53:49.823Z"
   },
   {
    "duration": 67,
    "start_time": "2022-04-04T20:53:49.833Z"
   },
   {
    "duration": 5,
    "start_time": "2022-04-04T20:53:49.903Z"
   },
   {
    "duration": 89,
    "start_time": "2022-04-04T20:53:49.910Z"
   },
   {
    "duration": 21,
    "start_time": "2022-04-04T20:53:50.001Z"
   },
   {
    "duration": 62,
    "start_time": "2022-04-04T20:53:50.025Z"
   },
   {
    "duration": 6,
    "start_time": "2022-04-04T20:53:50.090Z"
   },
   {
    "duration": 97,
    "start_time": "2022-04-04T20:53:50.098Z"
   },
   {
    "duration": 9,
    "start_time": "2022-04-04T20:53:50.198Z"
   },
   {
    "duration": 15,
    "start_time": "2022-04-04T20:53:50.209Z"
   },
   {
    "duration": 496,
    "start_time": "2022-04-04T20:56:38.339Z"
   },
   {
    "duration": 373,
    "start_time": "2022-04-04T20:56:46.763Z"
   },
   {
    "duration": 525,
    "start_time": "2022-04-04T20:57:17.795Z"
   },
   {
    "duration": 448,
    "start_time": "2022-04-04T20:57:30.315Z"
   },
   {
    "duration": 847,
    "start_time": "2022-04-04T20:58:00.512Z"
   },
   {
    "duration": 680,
    "start_time": "2022-04-04T20:58:24.983Z"
   },
   {
    "duration": 1642,
    "start_time": "2022-04-04T20:58:40.126Z"
   },
   {
    "duration": 48,
    "start_time": "2022-04-04T20:58:41.771Z"
   },
   {
    "duration": 16,
    "start_time": "2022-04-04T20:58:41.821Z"
   },
   {
    "duration": 538,
    "start_time": "2022-04-04T20:58:41.840Z"
   },
   {
    "duration": 8,
    "start_time": "2022-04-04T20:58:42.381Z"
   },
   {
    "duration": 18,
    "start_time": "2022-04-04T20:58:42.393Z"
   },
   {
    "duration": 21,
    "start_time": "2022-04-04T20:58:42.413Z"
   },
   {
    "duration": 20,
    "start_time": "2022-04-04T20:58:42.437Z"
   },
   {
    "duration": 27,
    "start_time": "2022-04-04T20:58:42.459Z"
   },
   {
    "duration": 25,
    "start_time": "2022-04-04T20:58:42.491Z"
   },
   {
    "duration": 17,
    "start_time": "2022-04-04T20:58:42.518Z"
   },
   {
    "duration": 50,
    "start_time": "2022-04-04T20:58:42.537Z"
   },
   {
    "duration": 21,
    "start_time": "2022-04-04T20:58:42.590Z"
   },
   {
    "duration": 9,
    "start_time": "2022-04-04T20:58:42.614Z"
   },
   {
    "duration": 39,
    "start_time": "2022-04-04T20:58:42.625Z"
   },
   {
    "duration": 58,
    "start_time": "2022-04-04T20:58:42.666Z"
   },
   {
    "duration": 519,
    "start_time": "2022-04-04T20:58:42.727Z"
   },
   {
    "duration": 7,
    "start_time": "2022-04-04T20:58:43.248Z"
   },
   {
    "duration": 422,
    "start_time": "2022-04-04T20:58:43.258Z"
   },
   {
    "duration": 29,
    "start_time": "2022-04-04T20:58:43.683Z"
   },
   {
    "duration": 114,
    "start_time": "2022-04-04T20:58:43.714Z"
   },
   {
    "duration": 507,
    "start_time": "2022-04-04T20:58:43.830Z"
   },
   {
    "duration": 304,
    "start_time": "2022-04-04T20:58:44.339Z"
   },
   {
    "duration": 486,
    "start_time": "2022-04-04T20:58:44.645Z"
   },
   {
    "duration": 13,
    "start_time": "2022-04-04T20:58:45.134Z"
   },
   {
    "duration": 38,
    "start_time": "2022-04-04T20:58:45.149Z"
   },
   {
    "duration": 685,
    "start_time": "2022-04-04T20:58:45.190Z"
   },
   {
    "duration": 328,
    "start_time": "2022-04-04T20:58:45.883Z"
   },
   {
    "duration": 8,
    "start_time": "2022-04-04T20:58:46.213Z"
   },
   {
    "duration": 21,
    "start_time": "2022-04-04T20:58:46.223Z"
   },
   {
    "duration": 36,
    "start_time": "2022-04-04T20:58:46.246Z"
   },
   {
    "duration": 641,
    "start_time": "2022-04-04T20:58:46.284Z"
   },
   {
    "duration": 647,
    "start_time": "2022-04-04T20:58:46.927Z"
   },
   {
    "duration": 8,
    "start_time": "2022-04-04T20:58:47.577Z"
   },
   {
    "duration": 21,
    "start_time": "2022-04-04T20:58:47.587Z"
   },
   {
    "duration": 22,
    "start_time": "2022-04-04T20:58:47.610Z"
   },
   {
    "duration": 585,
    "start_time": "2022-04-04T20:58:47.634Z"
   },
   {
    "duration": 10,
    "start_time": "2022-04-04T20:58:48.221Z"
   },
   {
    "duration": 7,
    "start_time": "2022-04-04T20:58:48.233Z"
   },
   {
    "duration": 24,
    "start_time": "2022-04-04T20:58:48.276Z"
   },
   {
    "duration": 725,
    "start_time": "2022-04-04T20:58:48.302Z"
   },
   {
    "duration": 6,
    "start_time": "2022-04-04T20:58:49.030Z"
   },
   {
    "duration": 605,
    "start_time": "2022-04-04T20:58:49.039Z"
   },
   {
    "duration": 23,
    "start_time": "2022-04-04T20:58:49.647Z"
   },
   {
    "duration": 33,
    "start_time": "2022-04-04T20:58:49.674Z"
   },
   {
    "duration": 7,
    "start_time": "2022-04-04T20:58:49.710Z"
   },
   {
    "duration": 101,
    "start_time": "2022-04-04T20:58:49.720Z"
   },
   {
    "duration": 52,
    "start_time": "2022-04-04T20:58:49.824Z"
   },
   {
    "duration": 23,
    "start_time": "2022-04-04T20:58:49.879Z"
   },
   {
    "duration": 7,
    "start_time": "2022-04-04T20:58:49.905Z"
   },
   {
    "duration": 108,
    "start_time": "2022-04-04T20:58:49.915Z"
   },
   {
    "duration": 11,
    "start_time": "2022-04-04T20:58:50.026Z"
   },
   {
    "duration": 35,
    "start_time": "2022-04-04T20:58:50.039Z"
   },
   {
    "duration": 721,
    "start_time": "2022-04-04T20:59:25.261Z"
   },
   {
    "duration": 370,
    "start_time": "2022-04-04T20:59:55.730Z"
   },
   {
    "duration": 1804,
    "start_time": "2022-04-04T21:02:25.882Z"
   },
   {
    "duration": 47,
    "start_time": "2022-04-04T21:02:27.691Z"
   },
   {
    "duration": 16,
    "start_time": "2022-04-04T21:02:27.740Z"
   },
   {
    "duration": 583,
    "start_time": "2022-04-04T21:02:27.760Z"
   },
   {
    "duration": 9,
    "start_time": "2022-04-04T21:02:28.378Z"
   },
   {
    "duration": 23,
    "start_time": "2022-04-04T21:02:28.390Z"
   },
   {
    "duration": 13,
    "start_time": "2022-04-04T21:02:28.416Z"
   },
   {
    "duration": 7,
    "start_time": "2022-04-04T21:02:28.432Z"
   },
   {
    "duration": 52,
    "start_time": "2022-04-04T21:02:28.441Z"
   },
   {
    "duration": 37,
    "start_time": "2022-04-04T21:02:28.500Z"
   },
   {
    "duration": 48,
    "start_time": "2022-04-04T21:02:28.540Z"
   },
   {
    "duration": 12,
    "start_time": "2022-04-04T21:02:28.592Z"
   },
   {
    "duration": 26,
    "start_time": "2022-04-04T21:02:28.608Z"
   },
   {
    "duration": 43,
    "start_time": "2022-04-04T21:02:28.637Z"
   },
   {
    "duration": 24,
    "start_time": "2022-04-04T21:02:28.684Z"
   },
   {
    "duration": 27,
    "start_time": "2022-04-04T21:02:28.711Z"
   },
   {
    "duration": 550,
    "start_time": "2022-04-04T21:02:28.740Z"
   },
   {
    "duration": 6,
    "start_time": "2022-04-04T21:02:29.293Z"
   },
   {
    "duration": 424,
    "start_time": "2022-04-04T21:02:29.302Z"
   },
   {
    "duration": 44,
    "start_time": "2022-04-04T21:02:29.728Z"
   },
   {
    "duration": 120,
    "start_time": "2022-04-04T21:02:29.777Z"
   },
   {
    "duration": 716,
    "start_time": "2022-04-04T21:02:29.900Z"
   },
   {
    "duration": 420,
    "start_time": "2022-04-04T21:02:30.619Z"
   },
   {
    "duration": 554,
    "start_time": "2022-04-04T21:02:31.042Z"
   },
   {
    "duration": 19,
    "start_time": "2022-04-04T21:02:31.599Z"
   },
   {
    "duration": 23,
    "start_time": "2022-04-04T21:02:31.621Z"
   },
   {
    "duration": 732,
    "start_time": "2022-04-04T21:02:31.670Z"
   },
   {
    "duration": 335,
    "start_time": "2022-04-04T21:02:32.410Z"
   },
   {
    "duration": 24,
    "start_time": "2022-04-04T21:02:32.749Z"
   },
   {
    "duration": 27,
    "start_time": "2022-04-04T21:02:32.776Z"
   },
   {
    "duration": 15,
    "start_time": "2022-04-04T21:02:32.805Z"
   },
   {
    "duration": 677,
    "start_time": "2022-04-04T21:02:32.822Z"
   },
   {
    "duration": 857,
    "start_time": "2022-04-04T21:02:33.501Z"
   },
   {
    "duration": 19,
    "start_time": "2022-04-04T21:02:34.360Z"
   },
   {
    "duration": 22,
    "start_time": "2022-04-04T21:02:34.382Z"
   },
   {
    "duration": 21,
    "start_time": "2022-04-04T21:02:34.406Z"
   },
   {
    "duration": 679,
    "start_time": "2022-04-04T21:02:34.429Z"
   },
   {
    "duration": 12,
    "start_time": "2022-04-04T21:02:35.110Z"
   },
   {
    "duration": 7,
    "start_time": "2022-04-04T21:02:35.124Z"
   },
   {
    "duration": 48,
    "start_time": "2022-04-04T21:02:35.134Z"
   },
   {
    "duration": 418,
    "start_time": "2022-04-04T21:02:35.184Z"
   },
   {
    "duration": 11,
    "start_time": "2022-04-04T21:02:35.605Z"
   },
   {
    "duration": 680,
    "start_time": "2022-04-04T21:02:35.619Z"
   },
   {
    "duration": 8,
    "start_time": "2022-04-04T21:02:36.302Z"
   },
   {
    "duration": 63,
    "start_time": "2022-04-04T21:02:36.312Z"
   },
   {
    "duration": 7,
    "start_time": "2022-04-04T21:02:36.378Z"
   },
   {
    "duration": 83,
    "start_time": "2022-04-04T21:02:36.391Z"
   },
   {
    "duration": 26,
    "start_time": "2022-04-04T21:02:36.477Z"
   },
   {
    "duration": 22,
    "start_time": "2022-04-04T21:02:36.507Z"
   },
   {
    "duration": 37,
    "start_time": "2022-04-04T21:02:36.531Z"
   },
   {
    "duration": 77,
    "start_time": "2022-04-04T21:02:36.571Z"
   },
   {
    "duration": 28,
    "start_time": "2022-04-04T21:02:36.650Z"
   },
   {
    "duration": 24,
    "start_time": "2022-04-04T21:02:36.680Z"
   },
   {
    "duration": 325,
    "start_time": "2022-04-04T21:03:50.939Z"
   },
   {
    "duration": 1673,
    "start_time": "2022-04-04T21:04:01.590Z"
   },
   {
    "duration": 50,
    "start_time": "2022-04-04T21:04:03.268Z"
   },
   {
    "duration": 16,
    "start_time": "2022-04-04T21:04:03.320Z"
   },
   {
    "duration": 475,
    "start_time": "2022-04-04T21:04:03.339Z"
   },
   {
    "duration": 8,
    "start_time": "2022-04-04T21:04:03.817Z"
   },
   {
    "duration": 25,
    "start_time": "2022-04-04T21:04:03.867Z"
   },
   {
    "duration": 9,
    "start_time": "2022-04-04T21:04:03.894Z"
   },
   {
    "duration": 10,
    "start_time": "2022-04-04T21:04:03.906Z"
   },
   {
    "duration": 57,
    "start_time": "2022-04-04T21:04:03.918Z"
   },
   {
    "duration": 32,
    "start_time": "2022-04-04T21:04:03.982Z"
   },
   {
    "duration": 24,
    "start_time": "2022-04-04T21:04:04.017Z"
   },
   {
    "duration": 15,
    "start_time": "2022-04-04T21:04:04.072Z"
   },
   {
    "duration": 17,
    "start_time": "2022-04-04T21:04:04.090Z"
   },
   {
    "duration": 7,
    "start_time": "2022-04-04T21:04:04.110Z"
   },
   {
    "duration": 54,
    "start_time": "2022-04-04T21:04:04.119Z"
   },
   {
    "duration": 30,
    "start_time": "2022-04-04T21:04:04.176Z"
   },
   {
    "duration": 518,
    "start_time": "2022-04-04T21:04:04.208Z"
   },
   {
    "duration": 7,
    "start_time": "2022-04-04T21:04:04.729Z"
   },
   {
    "duration": 443,
    "start_time": "2022-04-04T21:04:04.739Z"
   },
   {
    "duration": 27,
    "start_time": "2022-04-04T21:04:05.184Z"
   },
   {
    "duration": 92,
    "start_time": "2022-04-04T21:04:05.213Z"
   },
   {
    "duration": 532,
    "start_time": "2022-04-04T21:04:05.307Z"
   },
   {
    "duration": 347,
    "start_time": "2022-04-04T21:04:05.842Z"
   },
   {
    "duration": 502,
    "start_time": "2022-04-04T21:04:06.191Z"
   },
   {
    "duration": 14,
    "start_time": "2022-04-04T21:04:06.695Z"
   },
   {
    "duration": 15,
    "start_time": "2022-04-04T21:04:06.711Z"
   },
   {
    "duration": 708,
    "start_time": "2022-04-04T21:04:06.729Z"
   },
   {
    "duration": 315,
    "start_time": "2022-04-04T21:04:07.443Z"
   },
   {
    "duration": 12,
    "start_time": "2022-04-04T21:04:07.767Z"
   },
   {
    "duration": 16,
    "start_time": "2022-04-04T21:04:07.781Z"
   },
   {
    "duration": 16,
    "start_time": "2022-04-04T21:04:07.800Z"
   },
   {
    "duration": 650,
    "start_time": "2022-04-04T21:04:07.818Z"
   },
   {
    "duration": 621,
    "start_time": "2022-04-04T21:04:08.471Z"
   },
   {
    "duration": 8,
    "start_time": "2022-04-04T21:04:09.094Z"
   },
   {
    "duration": 17,
    "start_time": "2022-04-04T21:04:09.104Z"
   },
   {
    "duration": 15,
    "start_time": "2022-04-04T21:04:09.123Z"
   },
   {
    "duration": 547,
    "start_time": "2022-04-04T21:04:09.167Z"
   },
   {
    "duration": 11,
    "start_time": "2022-04-04T21:04:09.716Z"
   },
   {
    "duration": 7,
    "start_time": "2022-04-04T21:04:09.729Z"
   },
   {
    "duration": 49,
    "start_time": "2022-04-04T21:04:09.738Z"
   },
   {
    "duration": 395,
    "start_time": "2022-04-04T21:04:09.790Z"
   },
   {
    "duration": 8,
    "start_time": "2022-04-04T21:04:10.187Z"
   },
   {
    "duration": 634,
    "start_time": "2022-04-04T21:04:10.196Z"
   },
   {
    "duration": 6,
    "start_time": "2022-04-04T21:04:10.832Z"
   },
   {
    "duration": 53,
    "start_time": "2022-04-04T21:04:10.840Z"
   },
   {
    "duration": 6,
    "start_time": "2022-04-04T21:04:10.896Z"
   },
   {
    "duration": 92,
    "start_time": "2022-04-04T21:04:10.905Z"
   },
   {
    "duration": 19,
    "start_time": "2022-04-04T21:04:11.000Z"
   },
   {
    "duration": 51,
    "start_time": "2022-04-04T21:04:11.021Z"
   },
   {
    "duration": 7,
    "start_time": "2022-04-04T21:04:11.075Z"
   },
   {
    "duration": 86,
    "start_time": "2022-04-04T21:04:11.085Z"
   },
   {
    "duration": 11,
    "start_time": "2022-04-04T21:04:11.175Z"
   },
   {
    "duration": 15,
    "start_time": "2022-04-04T21:04:11.189Z"
   }
  ],
  "hide_input": false,
  "kernelspec": {
   "display_name": "Python 3 (ipykernel)",
   "language": "python",
   "name": "python3"
  },
  "language_info": {
   "codemirror_mode": {
    "name": "ipython",
    "version": 3
   },
   "file_extension": ".py",
   "mimetype": "text/x-python",
   "name": "python",
   "nbconvert_exporter": "python",
   "pygments_lexer": "ipython3",
   "version": "3.10.4"
  },
  "toc": {
   "base_numbering": 1,
   "nav_menu": {},
   "number_sections": false,
   "sideBar": true,
   "skip_h1_title": false,
   "title_cell": "Table of Contents",
   "title_sidebar": "Contents",
   "toc_cell": false,
   "toc_position": {
    "height": "calc(100% - 180px)",
    "left": "10px",
    "top": "150px",
    "width": "383.984px"
   },
   "toc_section_display": true,
   "toc_window_display": false
  },
  "varInspector": {
   "cols": {
    "lenName": 16,
    "lenType": 16,
    "lenVar": 40
   },
   "kernels_config": {
    "python": {
     "delete_cmd_postfix": "",
     "delete_cmd_prefix": "del ",
     "library": "var_list.py",
     "varRefreshCmd": "print(var_dic_list())"
    },
    "r": {
     "delete_cmd_postfix": ") ",
     "delete_cmd_prefix": "rm(",
     "library": "var_list.r",
     "varRefreshCmd": "cat(var_dic_list()) "
    }
   },
   "types_to_exclude": [
    "module",
    "function",
    "builtin_function_or_method",
    "instance",
    "_Feature"
   ],
   "window_display": false
  }
 },
 "nbformat": 4,
 "nbformat_minor": 5
}
